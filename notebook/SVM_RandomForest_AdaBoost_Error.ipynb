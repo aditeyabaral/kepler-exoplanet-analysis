{
 "cells": [
  {
   "cell_type": "markdown",
   "metadata": {
    "colab_type": "text",
    "id": "view-in-github"
   },
   "source": [
    "<a href=\"https://colab.research.google.com/github/aditeyabaral/kepler-exoplanet-analysis/blob/master/src/Prediction_ML.ipynb\" target=\"_parent\"><img src=\"https://colab.research.google.com/assets/colab-badge.svg\" alt=\"Open In Colab\"/></a>"
   ]
  },
  {
   "cell_type": "markdown",
   "metadata": {
    "id": "w2LFieS3KwCk"
   },
   "source": [
    "# Importing Libraries"
   ]
  },
  {
   "cell_type": "code",
   "execution_count": 1,
   "metadata": {},
   "outputs": [],
   "source": [
    "import warnings\n",
    "warnings.filterwarnings(\"ignore\")"
   ]
  },
  {
   "cell_type": "code",
   "execution_count": 2,
   "metadata": {
    "id": "xn5hXmyKFst3"
   },
   "outputs": [],
   "source": [
    "import joblib\n",
    "import numpy as np\n",
    "import pandas as pd\n",
    "import matplotlib.cm as cm\n",
    "import matplotlib.pyplot as plt\n",
    "from sklearn.preprocessing import StandardScaler\n",
    "from sklearn.decomposition import PCA\n",
    "from sklearn.svm import SVC\n",
    "from sklearn.tree import DecisionTreeClassifier\n",
    "from sklearn.model_selection import train_test_split, GridSearchCV, KFold, StratifiedKFold, cross_val_score\n",
    "from sklearn.metrics import confusion_matrix, balanced_accuracy_score, classification_report, cohen_kappa_score, f1_score\n",
    "from sklearn.ensemble import RandomForestClassifier, AdaBoostClassifier\n",
    "from yellowbrick.target import FeatureCorrelation\n",
    "from yellowbrick.features import rank2d, RadViz\n",
    "from yellowbrick.classifier import DiscriminationThreshold, PrecisionRecallCurve, ROCAUC\n",
    "from yellowbrick.model_selection import feature_importances, CVScores, RFECV\n",
    "from yellowbrick.model_selection import LearningCurve, ValidationCurve\n",
    "from yellowbrick.classifier import ClassificationReport, ClassPredictionError, ConfusionMatrix"
   ]
  },
  {
   "cell_type": "markdown",
   "metadata": {
    "id": "b6Z6S7f2KyaQ"
   },
   "source": [
    "# Loading Dataframe"
   ]
  },
  {
   "cell_type": "code",
   "execution_count": 3,
   "metadata": {
    "colab": {
     "base_uri": "https://localhost:8080/",
     "height": 244
    },
    "id": "lpNWf42RFz67",
    "outputId": "1227cf42-9445-4105-edff-43a81a19b749"
   },
   "outputs": [
    {
     "name": "stdout",
     "output_type": "stream",
     "text": [
      "(9110, 47)\n"
     ]
    },
    {
     "data": {
      "text/html": [
       "<div>\n",
       "<style scoped>\n",
       "    .dataframe tbody tr th:only-of-type {\n",
       "        vertical-align: middle;\n",
       "    }\n",
       "\n",
       "    .dataframe tbody tr th {\n",
       "        vertical-align: top;\n",
       "    }\n",
       "\n",
       "    .dataframe thead th {\n",
       "        text-align: right;\n",
       "    }\n",
       "</style>\n",
       "<table border=\"1\" class=\"dataframe\">\n",
       "  <thead>\n",
       "    <tr style=\"text-align: right;\">\n",
       "      <th></th>\n",
       "      <th>rowid</th>\n",
       "      <th>kepid</th>\n",
       "      <th>kepoi_name</th>\n",
       "      <th>koi_disposition</th>\n",
       "      <th>koi_pdisposition</th>\n",
       "      <th>koi_score</th>\n",
       "      <th>koi_fpflag_nt</th>\n",
       "      <th>koi_fpflag_ss</th>\n",
       "      <th>koi_fpflag_co</th>\n",
       "      <th>koi_fpflag_ec</th>\n",
       "      <th>...</th>\n",
       "      <th>koi_steff_err2</th>\n",
       "      <th>koi_slogg</th>\n",
       "      <th>koi_slogg_err1</th>\n",
       "      <th>koi_slogg_err2</th>\n",
       "      <th>koi_srad</th>\n",
       "      <th>koi_srad_err1</th>\n",
       "      <th>koi_srad_err2</th>\n",
       "      <th>ra</th>\n",
       "      <th>dec</th>\n",
       "      <th>koi_kepmag</th>\n",
       "    </tr>\n",
       "  </thead>\n",
       "  <tbody>\n",
       "    <tr>\n",
       "      <th>0</th>\n",
       "      <td>1</td>\n",
       "      <td>10797460</td>\n",
       "      <td>K00752.01</td>\n",
       "      <td>CONFIRMED</td>\n",
       "      <td>CANDIDATE</td>\n",
       "      <td>1.000</td>\n",
       "      <td>0</td>\n",
       "      <td>0</td>\n",
       "      <td>0</td>\n",
       "      <td>0</td>\n",
       "      <td>...</td>\n",
       "      <td>-81.0</td>\n",
       "      <td>4.467</td>\n",
       "      <td>0.064</td>\n",
       "      <td>-0.096</td>\n",
       "      <td>0.927</td>\n",
       "      <td>0.105</td>\n",
       "      <td>-0.061</td>\n",
       "      <td>291.93423</td>\n",
       "      <td>48.141651</td>\n",
       "      <td>15.347</td>\n",
       "    </tr>\n",
       "    <tr>\n",
       "      <th>1</th>\n",
       "      <td>2</td>\n",
       "      <td>10797460</td>\n",
       "      <td>K00752.02</td>\n",
       "      <td>CONFIRMED</td>\n",
       "      <td>CANDIDATE</td>\n",
       "      <td>0.969</td>\n",
       "      <td>0</td>\n",
       "      <td>0</td>\n",
       "      <td>0</td>\n",
       "      <td>0</td>\n",
       "      <td>...</td>\n",
       "      <td>-81.0</td>\n",
       "      <td>4.467</td>\n",
       "      <td>0.064</td>\n",
       "      <td>-0.096</td>\n",
       "      <td>0.927</td>\n",
       "      <td>0.105</td>\n",
       "      <td>-0.061</td>\n",
       "      <td>291.93423</td>\n",
       "      <td>48.141651</td>\n",
       "      <td>15.347</td>\n",
       "    </tr>\n",
       "    <tr>\n",
       "      <th>2</th>\n",
       "      <td>3</td>\n",
       "      <td>10811496</td>\n",
       "      <td>K00753.01</td>\n",
       "      <td>FALSE POSITIVE</td>\n",
       "      <td>FALSE POSITIVE</td>\n",
       "      <td>0.000</td>\n",
       "      <td>0</td>\n",
       "      <td>1</td>\n",
       "      <td>0</td>\n",
       "      <td>0</td>\n",
       "      <td>...</td>\n",
       "      <td>-176.0</td>\n",
       "      <td>4.544</td>\n",
       "      <td>0.044</td>\n",
       "      <td>-0.176</td>\n",
       "      <td>0.868</td>\n",
       "      <td>0.233</td>\n",
       "      <td>-0.078</td>\n",
       "      <td>297.00482</td>\n",
       "      <td>48.134129</td>\n",
       "      <td>15.436</td>\n",
       "    </tr>\n",
       "    <tr>\n",
       "      <th>3</th>\n",
       "      <td>4</td>\n",
       "      <td>10848459</td>\n",
       "      <td>K00754.01</td>\n",
       "      <td>FALSE POSITIVE</td>\n",
       "      <td>FALSE POSITIVE</td>\n",
       "      <td>0.000</td>\n",
       "      <td>0</td>\n",
       "      <td>1</td>\n",
       "      <td>0</td>\n",
       "      <td>0</td>\n",
       "      <td>...</td>\n",
       "      <td>-174.0</td>\n",
       "      <td>4.564</td>\n",
       "      <td>0.053</td>\n",
       "      <td>-0.168</td>\n",
       "      <td>0.791</td>\n",
       "      <td>0.201</td>\n",
       "      <td>-0.067</td>\n",
       "      <td>285.53461</td>\n",
       "      <td>48.285210</td>\n",
       "      <td>15.597</td>\n",
       "    </tr>\n",
       "    <tr>\n",
       "      <th>4</th>\n",
       "      <td>5</td>\n",
       "      <td>10854555</td>\n",
       "      <td>K00755.01</td>\n",
       "      <td>CONFIRMED</td>\n",
       "      <td>CANDIDATE</td>\n",
       "      <td>1.000</td>\n",
       "      <td>0</td>\n",
       "      <td>0</td>\n",
       "      <td>0</td>\n",
       "      <td>0</td>\n",
       "      <td>...</td>\n",
       "      <td>-211.0</td>\n",
       "      <td>4.438</td>\n",
       "      <td>0.070</td>\n",
       "      <td>-0.210</td>\n",
       "      <td>1.046</td>\n",
       "      <td>0.334</td>\n",
       "      <td>-0.133</td>\n",
       "      <td>288.75488</td>\n",
       "      <td>48.226200</td>\n",
       "      <td>15.509</td>\n",
       "    </tr>\n",
       "  </tbody>\n",
       "</table>\n",
       "<p>5 rows × 47 columns</p>\n",
       "</div>"
      ],
      "text/plain": [
       "   rowid     kepid kepoi_name koi_disposition koi_pdisposition  koi_score  \\\n",
       "0      1  10797460  K00752.01       CONFIRMED        CANDIDATE      1.000   \n",
       "1      2  10797460  K00752.02       CONFIRMED        CANDIDATE      0.969   \n",
       "2      3  10811496  K00753.01  FALSE POSITIVE   FALSE POSITIVE      0.000   \n",
       "3      4  10848459  K00754.01  FALSE POSITIVE   FALSE POSITIVE      0.000   \n",
       "4      5  10854555  K00755.01       CONFIRMED        CANDIDATE      1.000   \n",
       "\n",
       "   koi_fpflag_nt  koi_fpflag_ss  koi_fpflag_co  koi_fpflag_ec  ...  \\\n",
       "0              0              0              0              0  ...   \n",
       "1              0              0              0              0  ...   \n",
       "2              0              1              0              0  ...   \n",
       "3              0              1              0              0  ...   \n",
       "4              0              0              0              0  ...   \n",
       "\n",
       "   koi_steff_err2  koi_slogg  koi_slogg_err1  koi_slogg_err2  koi_srad  \\\n",
       "0           -81.0      4.467           0.064          -0.096     0.927   \n",
       "1           -81.0      4.467           0.064          -0.096     0.927   \n",
       "2          -176.0      4.544           0.044          -0.176     0.868   \n",
       "3          -174.0      4.564           0.053          -0.168     0.791   \n",
       "4          -211.0      4.438           0.070          -0.210     1.046   \n",
       "\n",
       "   koi_srad_err1  koi_srad_err2         ra        dec  koi_kepmag  \n",
       "0          0.105         -0.061  291.93423  48.141651      15.347  \n",
       "1          0.105         -0.061  291.93423  48.141651      15.347  \n",
       "2          0.233         -0.078  297.00482  48.134129      15.436  \n",
       "3          0.201         -0.067  285.53461  48.285210      15.597  \n",
       "4          0.334         -0.133  288.75488  48.226200      15.509  \n",
       "\n",
       "[5 rows x 47 columns]"
      ]
     },
     "execution_count": 3,
     "metadata": {},
     "output_type": "execute_result"
    }
   ],
   "source": [
    "df = pd.read_csv(\"../data/[CLEANED]kepler-data.csv\")\n",
    "df.drop(columns = [\"Unnamed: 0\"], inplace=True)\n",
    "print(df.shape)\n",
    "df.head()"
   ]
  },
  {
   "cell_type": "markdown",
   "metadata": {
    "id": "xURWVKqlK0EE"
   },
   "source": [
    "# Selecting Columns for Prediction"
   ]
  },
  {
   "cell_type": "markdown",
   "metadata": {},
   "source": [
    "We eliminate all the columns that are either of the following\n",
    "* Assigned after other values are measured from readings\n",
    "* Contain ID or name attributes\n",
    "* Are error attributes"
   ]
  },
  {
   "cell_type": "code",
   "execution_count": 4,
   "metadata": {
    "id": "QhMEJHHKGGyf"
   },
   "outputs": [],
   "source": [
    "ALL_COLUMNS = df.columns\n",
    "ERROR_COLUMNS = [col for col in ALL_COLUMNS if \"err\" in col]\n",
    "EXCLUDE = [\"rowid\", \"kepid\", \"kepoi_name\", \"koi_score\", \"koi_disposition\", \"koi_pdisposition\", \"koi_tce_delivname\", \"koi_tce_plnt_num\"]# + ERROR_COLUMNS\n",
    "TO_USE = list(set(ALL_COLUMNS) - set(EXCLUDE))"
   ]
  },
  {
   "cell_type": "code",
   "execution_count": 5,
   "metadata": {
    "colab": {
     "base_uri": "https://localhost:8080/",
     "height": 244
    },
    "id": "HE8RuNd1Hq2_",
    "outputId": "517533aa-41c8-459f-aa1b-fe02f5e0a959"
   },
   "outputs": [
    {
     "name": "stdout",
     "output_type": "stream",
     "text": [
      "Columns being analysed: 39\n"
     ]
    },
    {
     "data": {
      "text/html": [
       "<div>\n",
       "<style scoped>\n",
       "    .dataframe tbody tr th:only-of-type {\n",
       "        vertical-align: middle;\n",
       "    }\n",
       "\n",
       "    .dataframe tbody tr th {\n",
       "        vertical-align: top;\n",
       "    }\n",
       "\n",
       "    .dataframe thead th {\n",
       "        text-align: right;\n",
       "    }\n",
       "</style>\n",
       "<table border=\"1\" class=\"dataframe\">\n",
       "  <thead>\n",
       "    <tr style=\"text-align: right;\">\n",
       "      <th></th>\n",
       "      <th>koi_teq</th>\n",
       "      <th>koi_impact_err1</th>\n",
       "      <th>koi_time0bk_err2</th>\n",
       "      <th>koi_insol_err2</th>\n",
       "      <th>koi_slogg</th>\n",
       "      <th>koi_prad</th>\n",
       "      <th>koi_slogg_err2</th>\n",
       "      <th>koi_srad</th>\n",
       "      <th>koi_insol_err1</th>\n",
       "      <th>koi_steff</th>\n",
       "      <th>...</th>\n",
       "      <th>koi_depth_err2</th>\n",
       "      <th>koi_depth</th>\n",
       "      <th>koi_duration_err1</th>\n",
       "      <th>koi_duration_err2</th>\n",
       "      <th>koi_depth_err1</th>\n",
       "      <th>koi_model_snr</th>\n",
       "      <th>koi_time0bk_err1</th>\n",
       "      <th>koi_impact_err2</th>\n",
       "      <th>koi_prad_err2</th>\n",
       "      <th>koi_period_err1</th>\n",
       "    </tr>\n",
       "  </thead>\n",
       "  <tbody>\n",
       "    <tr>\n",
       "      <th>0</th>\n",
       "      <td>793.0</td>\n",
       "      <td>0.318</td>\n",
       "      <td>-0.002160</td>\n",
       "      <td>-16.65</td>\n",
       "      <td>4.467</td>\n",
       "      <td>2.26</td>\n",
       "      <td>-0.096</td>\n",
       "      <td>0.927</td>\n",
       "      <td>29.45</td>\n",
       "      <td>5455.0</td>\n",
       "      <td>...</td>\n",
       "      <td>-19.5</td>\n",
       "      <td>615.8</td>\n",
       "      <td>0.08190</td>\n",
       "      <td>-0.08190</td>\n",
       "      <td>19.5</td>\n",
       "      <td>35.8</td>\n",
       "      <td>0.002160</td>\n",
       "      <td>-0.146</td>\n",
       "      <td>-0.15</td>\n",
       "      <td>2.775000e-05</td>\n",
       "    </tr>\n",
       "    <tr>\n",
       "      <th>1</th>\n",
       "      <td>443.0</td>\n",
       "      <td>0.059</td>\n",
       "      <td>-0.003520</td>\n",
       "      <td>-1.62</td>\n",
       "      <td>4.467</td>\n",
       "      <td>2.83</td>\n",
       "      <td>-0.096</td>\n",
       "      <td>0.927</td>\n",
       "      <td>2.87</td>\n",
       "      <td>5455.0</td>\n",
       "      <td>...</td>\n",
       "      <td>-35.5</td>\n",
       "      <td>874.8</td>\n",
       "      <td>0.11600</td>\n",
       "      <td>-0.11600</td>\n",
       "      <td>35.5</td>\n",
       "      <td>25.8</td>\n",
       "      <td>0.003520</td>\n",
       "      <td>-0.443</td>\n",
       "      <td>-0.19</td>\n",
       "      <td>2.479000e-04</td>\n",
       "    </tr>\n",
       "    <tr>\n",
       "      <th>2</th>\n",
       "      <td>638.0</td>\n",
       "      <td>5.126</td>\n",
       "      <td>-0.000581</td>\n",
       "      <td>-10.49</td>\n",
       "      <td>4.544</td>\n",
       "      <td>14.60</td>\n",
       "      <td>-0.176</td>\n",
       "      <td>0.868</td>\n",
       "      <td>31.04</td>\n",
       "      <td>5853.0</td>\n",
       "      <td>...</td>\n",
       "      <td>-171.0</td>\n",
       "      <td>10829.0</td>\n",
       "      <td>0.03410</td>\n",
       "      <td>-0.03410</td>\n",
       "      <td>171.0</td>\n",
       "      <td>76.3</td>\n",
       "      <td>0.000581</td>\n",
       "      <td>-0.077</td>\n",
       "      <td>-1.31</td>\n",
       "      <td>1.494000e-05</td>\n",
       "    </tr>\n",
       "    <tr>\n",
       "      <th>3</th>\n",
       "      <td>1395.0</td>\n",
       "      <td>0.115</td>\n",
       "      <td>-0.000115</td>\n",
       "      <td>-230.35</td>\n",
       "      <td>4.564</td>\n",
       "      <td>33.46</td>\n",
       "      <td>-0.168</td>\n",
       "      <td>0.791</td>\n",
       "      <td>668.95</td>\n",
       "      <td>5805.0</td>\n",
       "      <td>...</td>\n",
       "      <td>-12.8</td>\n",
       "      <td>8079.2</td>\n",
       "      <td>0.00537</td>\n",
       "      <td>-0.00537</td>\n",
       "      <td>12.8</td>\n",
       "      <td>505.6</td>\n",
       "      <td>0.000115</td>\n",
       "      <td>-0.092</td>\n",
       "      <td>-2.83</td>\n",
       "      <td>2.630000e-07</td>\n",
       "    </tr>\n",
       "    <tr>\n",
       "      <th>4</th>\n",
       "      <td>1406.0</td>\n",
       "      <td>0.235</td>\n",
       "      <td>-0.001130</td>\n",
       "      <td>-314.24</td>\n",
       "      <td>4.438</td>\n",
       "      <td>2.75</td>\n",
       "      <td>-0.210</td>\n",
       "      <td>1.046</td>\n",
       "      <td>874.33</td>\n",
       "      <td>6031.0</td>\n",
       "      <td>...</td>\n",
       "      <td>-16.9</td>\n",
       "      <td>603.3</td>\n",
       "      <td>0.04200</td>\n",
       "      <td>-0.04200</td>\n",
       "      <td>16.9</td>\n",
       "      <td>40.9</td>\n",
       "      <td>0.001130</td>\n",
       "      <td>-0.478</td>\n",
       "      <td>-0.35</td>\n",
       "      <td>3.761000e-06</td>\n",
       "    </tr>\n",
       "  </tbody>\n",
       "</table>\n",
       "<p>5 rows × 39 columns</p>\n",
       "</div>"
      ],
      "text/plain": [
       "   koi_teq  koi_impact_err1  koi_time0bk_err2  koi_insol_err2  koi_slogg  \\\n",
       "0    793.0            0.318         -0.002160          -16.65      4.467   \n",
       "1    443.0            0.059         -0.003520           -1.62      4.467   \n",
       "2    638.0            5.126         -0.000581          -10.49      4.544   \n",
       "3   1395.0            0.115         -0.000115         -230.35      4.564   \n",
       "4   1406.0            0.235         -0.001130         -314.24      4.438   \n",
       "\n",
       "   koi_prad  koi_slogg_err2  koi_srad  koi_insol_err1  koi_steff  ...  \\\n",
       "0      2.26          -0.096     0.927           29.45     5455.0  ...   \n",
       "1      2.83          -0.096     0.927            2.87     5455.0  ...   \n",
       "2     14.60          -0.176     0.868           31.04     5853.0  ...   \n",
       "3     33.46          -0.168     0.791          668.95     5805.0  ...   \n",
       "4      2.75          -0.210     1.046          874.33     6031.0  ...   \n",
       "\n",
       "   koi_depth_err2  koi_depth  koi_duration_err1  koi_duration_err2  \\\n",
       "0           -19.5      615.8            0.08190           -0.08190   \n",
       "1           -35.5      874.8            0.11600           -0.11600   \n",
       "2          -171.0    10829.0            0.03410           -0.03410   \n",
       "3           -12.8     8079.2            0.00537           -0.00537   \n",
       "4           -16.9      603.3            0.04200           -0.04200   \n",
       "\n",
       "   koi_depth_err1  koi_model_snr  koi_time0bk_err1  koi_impact_err2  \\\n",
       "0            19.5           35.8          0.002160           -0.146   \n",
       "1            35.5           25.8          0.003520           -0.443   \n",
       "2           171.0           76.3          0.000581           -0.077   \n",
       "3            12.8          505.6          0.000115           -0.092   \n",
       "4            16.9           40.9          0.001130           -0.478   \n",
       "\n",
       "   koi_prad_err2  koi_period_err1  \n",
       "0          -0.15     2.775000e-05  \n",
       "1          -0.19     2.479000e-04  \n",
       "2          -1.31     1.494000e-05  \n",
       "3          -2.83     2.630000e-07  \n",
       "4          -0.35     3.761000e-06  \n",
       "\n",
       "[5 rows x 39 columns]"
      ]
     },
     "execution_count": 5,
     "metadata": {},
     "output_type": "execute_result"
    }
   ],
   "source": [
    "print(f\"Columns being analysed: {len(TO_USE)}\")\n",
    "df[TO_USE].head()"
   ]
  },
  {
   "cell_type": "markdown",
   "metadata": {
    "id": "WeRowrdgK5KY"
   },
   "source": [
    "# Extracting Dataframe Subset"
   ]
  },
  {
   "cell_type": "markdown",
   "metadata": {
    "id": "Y9WAiguDKvDt"
   },
   "source": [
    "We extract only those rows which are either positive or negative examples i.e. the `disposition value` is *not* `CANDIDATE`. This is because `CANDIDATE` is the **default value** for all obects of interest picked up by Kepler. The labels `CONFIRMED` and `FALSE POSITIVE` serve as our positive and negative labels"
   ]
  },
  {
   "cell_type": "markdown",
   "metadata": {},
   "source": [
    "#### Difference between disposition and pdisposition?\n",
    "\n",
    "We can use either of the two columns as our target variable, since both of them contain the target labels we desire. While `pdisposition` gives us the **most probable labels based on the physical explanation given by the readings**, `disposition` values are based on **the NASA Exoplanet Archive Data**.  "
   ]
  },
  {
   "cell_type": "code",
   "execution_count": 6,
   "metadata": {},
   "outputs": [
    {
     "data": {
      "text/plain": [
       "array(['CANDIDATE', 'CONFIRMED', 'FALSE POSITIVE'], dtype=object)"
      ]
     },
     "execution_count": 6,
     "metadata": {},
     "output_type": "execute_result"
    }
   ],
   "source": [
    "np.unique(df[\"koi_disposition\"].values)"
   ]
  },
  {
   "cell_type": "code",
   "execution_count": 7,
   "metadata": {
    "colab": {
     "base_uri": "https://localhost:8080/",
     "height": 244
    },
    "id": "f9oJkJ8-KKL9",
    "outputId": "b6f16395-f433-4e5b-ece9-7ddb2dab3d37"
   },
   "outputs": [
    {
     "name": "stdout",
     "output_type": "stream",
     "text": [
      "(6939, 47)\n"
     ]
    },
    {
     "data": {
      "text/html": [
       "<div>\n",
       "<style scoped>\n",
       "    .dataframe tbody tr th:only-of-type {\n",
       "        vertical-align: middle;\n",
       "    }\n",
       "\n",
       "    .dataframe tbody tr th {\n",
       "        vertical-align: top;\n",
       "    }\n",
       "\n",
       "    .dataframe thead th {\n",
       "        text-align: right;\n",
       "    }\n",
       "</style>\n",
       "<table border=\"1\" class=\"dataframe\">\n",
       "  <thead>\n",
       "    <tr style=\"text-align: right;\">\n",
       "      <th></th>\n",
       "      <th>rowid</th>\n",
       "      <th>kepid</th>\n",
       "      <th>kepoi_name</th>\n",
       "      <th>koi_disposition</th>\n",
       "      <th>koi_pdisposition</th>\n",
       "      <th>koi_score</th>\n",
       "      <th>koi_fpflag_nt</th>\n",
       "      <th>koi_fpflag_ss</th>\n",
       "      <th>koi_fpflag_co</th>\n",
       "      <th>koi_fpflag_ec</th>\n",
       "      <th>...</th>\n",
       "      <th>koi_steff_err2</th>\n",
       "      <th>koi_slogg</th>\n",
       "      <th>koi_slogg_err1</th>\n",
       "      <th>koi_slogg_err2</th>\n",
       "      <th>koi_srad</th>\n",
       "      <th>koi_srad_err1</th>\n",
       "      <th>koi_srad_err2</th>\n",
       "      <th>ra</th>\n",
       "      <th>dec</th>\n",
       "      <th>koi_kepmag</th>\n",
       "    </tr>\n",
       "  </thead>\n",
       "  <tbody>\n",
       "    <tr>\n",
       "      <th>0</th>\n",
       "      <td>1</td>\n",
       "      <td>10797460</td>\n",
       "      <td>K00752.01</td>\n",
       "      <td>CONFIRMED</td>\n",
       "      <td>CANDIDATE</td>\n",
       "      <td>1.000</td>\n",
       "      <td>0</td>\n",
       "      <td>0</td>\n",
       "      <td>0</td>\n",
       "      <td>0</td>\n",
       "      <td>...</td>\n",
       "      <td>-81.0</td>\n",
       "      <td>4.467</td>\n",
       "      <td>0.064</td>\n",
       "      <td>-0.096</td>\n",
       "      <td>0.927</td>\n",
       "      <td>0.105</td>\n",
       "      <td>-0.061</td>\n",
       "      <td>291.93423</td>\n",
       "      <td>48.141651</td>\n",
       "      <td>15.347</td>\n",
       "    </tr>\n",
       "    <tr>\n",
       "      <th>1</th>\n",
       "      <td>2</td>\n",
       "      <td>10797460</td>\n",
       "      <td>K00752.02</td>\n",
       "      <td>CONFIRMED</td>\n",
       "      <td>CANDIDATE</td>\n",
       "      <td>0.969</td>\n",
       "      <td>0</td>\n",
       "      <td>0</td>\n",
       "      <td>0</td>\n",
       "      <td>0</td>\n",
       "      <td>...</td>\n",
       "      <td>-81.0</td>\n",
       "      <td>4.467</td>\n",
       "      <td>0.064</td>\n",
       "      <td>-0.096</td>\n",
       "      <td>0.927</td>\n",
       "      <td>0.105</td>\n",
       "      <td>-0.061</td>\n",
       "      <td>291.93423</td>\n",
       "      <td>48.141651</td>\n",
       "      <td>15.347</td>\n",
       "    </tr>\n",
       "    <tr>\n",
       "      <th>2</th>\n",
       "      <td>3</td>\n",
       "      <td>10811496</td>\n",
       "      <td>K00753.01</td>\n",
       "      <td>FALSE POSITIVE</td>\n",
       "      <td>FALSE POSITIVE</td>\n",
       "      <td>0.000</td>\n",
       "      <td>0</td>\n",
       "      <td>1</td>\n",
       "      <td>0</td>\n",
       "      <td>0</td>\n",
       "      <td>...</td>\n",
       "      <td>-176.0</td>\n",
       "      <td>4.544</td>\n",
       "      <td>0.044</td>\n",
       "      <td>-0.176</td>\n",
       "      <td>0.868</td>\n",
       "      <td>0.233</td>\n",
       "      <td>-0.078</td>\n",
       "      <td>297.00482</td>\n",
       "      <td>48.134129</td>\n",
       "      <td>15.436</td>\n",
       "    </tr>\n",
       "    <tr>\n",
       "      <th>3</th>\n",
       "      <td>4</td>\n",
       "      <td>10848459</td>\n",
       "      <td>K00754.01</td>\n",
       "      <td>FALSE POSITIVE</td>\n",
       "      <td>FALSE POSITIVE</td>\n",
       "      <td>0.000</td>\n",
       "      <td>0</td>\n",
       "      <td>1</td>\n",
       "      <td>0</td>\n",
       "      <td>0</td>\n",
       "      <td>...</td>\n",
       "      <td>-174.0</td>\n",
       "      <td>4.564</td>\n",
       "      <td>0.053</td>\n",
       "      <td>-0.168</td>\n",
       "      <td>0.791</td>\n",
       "      <td>0.201</td>\n",
       "      <td>-0.067</td>\n",
       "      <td>285.53461</td>\n",
       "      <td>48.285210</td>\n",
       "      <td>15.597</td>\n",
       "    </tr>\n",
       "    <tr>\n",
       "      <th>4</th>\n",
       "      <td>5</td>\n",
       "      <td>10854555</td>\n",
       "      <td>K00755.01</td>\n",
       "      <td>CONFIRMED</td>\n",
       "      <td>CANDIDATE</td>\n",
       "      <td>1.000</td>\n",
       "      <td>0</td>\n",
       "      <td>0</td>\n",
       "      <td>0</td>\n",
       "      <td>0</td>\n",
       "      <td>...</td>\n",
       "      <td>-211.0</td>\n",
       "      <td>4.438</td>\n",
       "      <td>0.070</td>\n",
       "      <td>-0.210</td>\n",
       "      <td>1.046</td>\n",
       "      <td>0.334</td>\n",
       "      <td>-0.133</td>\n",
       "      <td>288.75488</td>\n",
       "      <td>48.226200</td>\n",
       "      <td>15.509</td>\n",
       "    </tr>\n",
       "  </tbody>\n",
       "</table>\n",
       "<p>5 rows × 47 columns</p>\n",
       "</div>"
      ],
      "text/plain": [
       "   rowid     kepid kepoi_name koi_disposition koi_pdisposition  koi_score  \\\n",
       "0      1  10797460  K00752.01       CONFIRMED        CANDIDATE      1.000   \n",
       "1      2  10797460  K00752.02       CONFIRMED        CANDIDATE      0.969   \n",
       "2      3  10811496  K00753.01  FALSE POSITIVE   FALSE POSITIVE      0.000   \n",
       "3      4  10848459  K00754.01  FALSE POSITIVE   FALSE POSITIVE      0.000   \n",
       "4      5  10854555  K00755.01       CONFIRMED        CANDIDATE      1.000   \n",
       "\n",
       "   koi_fpflag_nt  koi_fpflag_ss  koi_fpflag_co  koi_fpflag_ec  ...  \\\n",
       "0              0              0              0              0  ...   \n",
       "1              0              0              0              0  ...   \n",
       "2              0              1              0              0  ...   \n",
       "3              0              1              0              0  ...   \n",
       "4              0              0              0              0  ...   \n",
       "\n",
       "   koi_steff_err2  koi_slogg  koi_slogg_err1  koi_slogg_err2  koi_srad  \\\n",
       "0           -81.0      4.467           0.064          -0.096     0.927   \n",
       "1           -81.0      4.467           0.064          -0.096     0.927   \n",
       "2          -176.0      4.544           0.044          -0.176     0.868   \n",
       "3          -174.0      4.564           0.053          -0.168     0.791   \n",
       "4          -211.0      4.438           0.070          -0.210     1.046   \n",
       "\n",
       "   koi_srad_err1  koi_srad_err2         ra        dec  koi_kepmag  \n",
       "0          0.105         -0.061  291.93423  48.141651      15.347  \n",
       "1          0.105         -0.061  291.93423  48.141651      15.347  \n",
       "2          0.233         -0.078  297.00482  48.134129      15.436  \n",
       "3          0.201         -0.067  285.53461  48.285210      15.597  \n",
       "4          0.334         -0.133  288.75488  48.226200      15.509  \n",
       "\n",
       "[5 rows x 47 columns]"
      ]
     },
     "execution_count": 7,
     "metadata": {},
     "output_type": "execute_result"
    }
   ],
   "source": [
    "subset_df = df[df[\"koi_disposition\"] != \"CANDIDATE\"]\n",
    "print(subset_df.shape)\n",
    "subset_df.head()"
   ]
  },
  {
   "cell_type": "markdown",
   "metadata": {
    "id": "H3J5IFV1LMLe"
   },
   "source": [
    "# Obtaining X and y"
   ]
  },
  {
   "cell_type": "markdown",
   "metadata": {
    "id": "B4wmtdEaLhBB"
   },
   "source": [
    "We can encode the categorical labels to 1 and 0 for easier comparison\n",
    "```\n",
    "CONFIRMED - 1\n",
    "FALSE POSITIVE - 0\n",
    "```"
   ]
  },
  {
   "cell_type": "code",
   "execution_count": 8,
   "metadata": {
    "id": "58FQu6EQI77h"
   },
   "outputs": [],
   "source": [
    "X = subset_df[TO_USE].values\n",
    "y = subset_df[\"koi_disposition\"].apply(lambda x: x=='CONFIRMED').astype(int).values"
   ]
  },
  {
   "cell_type": "code",
   "execution_count": 9,
   "metadata": {
    "colab": {
     "base_uri": "https://localhost:8080/",
     "height": 72
    },
    "id": "8-bTrk-GgGmk",
    "outputId": "e4906013-eefa-4c00-fc87-f1e4ba79b6f8"
   },
   "outputs": [
    {
     "data": {
      "text/plain": [
       "FALSE POSITIVE    4647\n",
       "CONFIRMED         2292\n",
       "Name: koi_disposition, dtype: int64"
      ]
     },
     "execution_count": 9,
     "metadata": {},
     "output_type": "execute_result"
    }
   ],
   "source": [
    "subset_df[\"koi_disposition\"].value_counts()"
   ]
  },
  {
   "cell_type": "markdown",
   "metadata": {
    "id": "V92lgWMJggpY"
   },
   "source": [
    "# Data Visualisation"
   ]
  },
  {
   "cell_type": "code",
   "execution_count": 10,
   "metadata": {
    "colab": {
     "base_uri": "https://localhost:8080/",
     "height": 523
    },
    "id": "o_UmtwdLeX7y",
    "outputId": "eb44c0cc-286b-4ba3-a727-ee422ab73ce5"
   },
   "outputs": [],
   "source": [
    "def getVisualisationPCA(X, y):\n",
    "    x = StandardScaler().fit_transform(X)\n",
    "    pca = PCA(n_components=2)\n",
    "    principal_components = pca.fit_transform(x)\n",
    "    \n",
    "    pca_df = pd.DataFrame(\n",
    "        data = principal_components,\n",
    "        columns = ['principal component 1', 'principal component 2']\n",
    "    )\n",
    "    \n",
    "    pca_df[\"TARGET\"] = y\n",
    "    labels = np.unique(y)\n",
    "    labels = [\"CONFIRMED\" if i ==1 else \"FALSE POSITIVE\" for i in labels]\n",
    "    plt.grid()\n",
    "    colors = cm.rainbow(np.linspace(0, 1, len(labels)))\n",
    "    for label, color in zip(labels, colors):\n",
    "        indicesToKeep = pca_df['TARGET'] == label\n",
    "        plt.scatter(\n",
    "            pca_df.loc[indicesToKeep, 'principal component 1'],\n",
    "            pca_df.loc[indicesToKeep, 'principal component 2'],\n",
    "            c = color,\n",
    "            label=label\n",
    "        )\n",
    "        \n",
    "    plt.legend()\n",
    "    plt.grid()\n",
    "    plt.show()\n",
    "    plt.savefig(\"pca_error.png\", dpi=600)\n",
    "    \n",
    "    \n",
    "def getVarianceContribution(X, y):\n",
    "    cols = X.shape[1]\n",
    "    x = StandardScaler().fit_transform(X)\n",
    "    pca = PCA().fit(x)\n",
    "    variance = pca.explained_variance_ratio_\n",
    "    s = np.sum(variance)\n",
    "    p = variance/s\n",
    "    #print(variance)\n",
    "    plt.grid()\n",
    "    plt.bar(list(range(1, cols+1)), p)\n",
    "    plt.xlabel('number of components')\n",
    "    plt.ylabel('cumulative explained variance')\n",
    "    plt.grid()\n",
    "    plt.show()\n",
    "    plt.savefig(\"variance_error.png\", dpi=600)\n",
    "    \n",
    "    \n",
    "def getFeatureCorrelation(X, y):\n",
    "    visualizer = FeatureCorrelation(labels=TO_USE)\n",
    "    visualizer.fit(X, y)\n",
    "    visualizer.show(\"correlation_error.png\", dpi=600)\n",
    "    \n",
    "    \n",
    "def getPearsonRanking(X):\n",
    "    visualizer = rank2d(X, features=TO_USE)\n",
    "    visualizer.show(\"pearson_ranking_error.png\", dpi=600)\n",
    "    \n",
    "\n",
    "def getRadialViz(X, y):\n",
    "    visualizer = RadViz(classes=[0, 1], features = TO_USE)\n",
    "    visualizer.fit(X, y)           \n",
    "    visualizer.transform(X)        \n",
    "    visualizer.show(\"radial_error.png\", dpi=600)"
   ]
  },
  {
   "cell_type": "code",
   "execution_count": 11,
   "metadata": {},
   "outputs": [
    {
     "name": "stderr",
     "output_type": "stream",
     "text": [
      "*c* argument looks like a single numeric RGB or RGBA sequence, which should be avoided as value-mapping will have precedence in case its length matches with *x* & *y*.  Please use the *color* keyword-argument or provide a 2-D array with a single row if you intend to specify the same RGB or RGBA value for all points.\n",
      "*c* argument looks like a single numeric RGB or RGBA sequence, which should be avoided as value-mapping will have precedence in case its length matches with *x* & *y*.  Please use the *color* keyword-argument or provide a 2-D array with a single row if you intend to specify the same RGB or RGBA value for all points.\n"
     ]
    },
    {
     "data": {
      "image/png": "[encoded data removed]",
      "text/plain": [
       "<Figure size 576x396 with 1 Axes>"
      ]
     },
     "metadata": {},
     "output_type": "display_data"
    },
    {
     "data": {
      "text/plain": [
       "<Figure size 576x396 with 0 Axes>"
      ]
     },
     "metadata": {},
     "output_type": "display_data"
    }
   ],
   "source": [
    "getVisualisationPCA(X, y)"
   ]
  },
  {
   "cell_type": "code",
   "execution_count": 12,
   "metadata": {},
   "outputs": [
    {
     "data": {
      "image/png": "[encoded data removed]",
      "text/plain": [
       "<Figure size 576x396 with 1 Axes>"
      ]
     },
     "metadata": {},
     "output_type": "display_data"
    },
    {
     "data": {
      "text/plain": [
       "<Figure size 576x396 with 0 Axes>"
      ]
     },
     "metadata": {},
     "output_type": "display_data"
    }
   ],
   "source": [
    "getVarianceContribution(X, y)"
   ]
  },
  {
   "cell_type": "code",
   "execution_count": 13,
   "metadata": {},
   "outputs": [
    {
     "data": {
      "image/png": "[encoded data removed]",
      "text/plain": [
       "<Figure size 576x396 with 1 Axes>"
      ]
     },
     "metadata": {},
     "output_type": "display_data"
    }
   ],
   "source": [
    "getFeatureCorrelation(X, y)"
   ]
  },
  {
   "cell_type": "code",
   "execution_count": 14,
   "metadata": {},
   "outputs": [
    {
     "data": {
      "image/png": "[encoded data removed]",
      "text/plain": [
       "<Figure size 576x396 with 2 Axes>"
      ]
     },
     "metadata": {},
     "output_type": "display_data"
    },
    {
     "data": {
      "text/plain": [
       "<Figure size 576x396 with 0 Axes>"
      ]
     },
     "metadata": {},
     "output_type": "display_data"
    }
   ],
   "source": [
    "getPearsonRanking(X)"
   ]
  },
  {
   "cell_type": "code",
   "execution_count": 15,
   "metadata": {},
   "outputs": [
    {
     "data": {
      "image/png": "[encoded data removed]",
      "text/plain": [
       "<Figure size 576x396 with 1 Axes>"
      ]
     },
     "metadata": {},
     "output_type": "display_data"
    }
   ],
   "source": [
    "getRadialViz(X, y)"
   ]
  },
  {
   "cell_type": "markdown",
   "metadata": {},
   "source": [
    "* We can see that our columns are not interdependent and we can use all our columns\n",
    "* We observe that the two classes are **not** linearly separable, hence a simple Logistic Regression classifier will not do well.\n",
    "* Most important, we see there is a **class imbalance** present, hence we cannot go on accuracy scores and will need to compare scores for prediction across both classes - F1 scores and balanced accuracy scores\n",
    "\n",
    "We need to hence using different techniques of non-linear classification, which can handle the non-linearity issue as well as class imbalance. We can employ Bagging or Boosting Techniques such as \n",
    "* SVM\n",
    "* Random Forests\n",
    "* AdaBoost"
   ]
  },
  {
   "cell_type": "markdown",
   "metadata": {},
   "source": [
    "# Splitting into Train and Test sets"
   ]
  },
  {
   "cell_type": "markdown",
   "metadata": {},
   "source": [
    "* Scale the values to make the models less computationally expensive and convert all the values to the same range\n",
    "* Split into train and test sets"
   ]
  },
  {
   "cell_type": "code",
   "execution_count": 16,
   "metadata": {},
   "outputs": [],
   "source": [
    "X = StandardScaler().fit_transform(X)\n",
    "X = PCA(n_components=30).fit_transform(X)"
   ]
  },
  {
   "cell_type": "code",
   "execution_count": 17,
   "metadata": {},
   "outputs": [],
   "source": [
    "X_train, X_test, y_train, y_test = train_test_split(X, y, test_size=0.33, random_state=0, stratify=y)"
   ]
  },
  {
   "cell_type": "code",
   "execution_count": 18,
   "metadata": {},
   "outputs": [
    {
     "data": {
      "text/plain": [
       "((4649, 30), (2290, 30), (4649,), (2290,))"
      ]
     },
     "execution_count": 18,
     "metadata": {},
     "output_type": "execute_result"
    }
   ],
   "source": [
    "X_train.shape, X_test.shape, y_train.shape, y_test.shape"
   ]
  },
  {
   "cell_type": "markdown",
   "metadata": {},
   "source": [
    "# Evaluation Metric "
   ]
  },
  {
   "cell_type": "markdown",
   "metadata": {},
   "source": [
    "Since the dataset is imbalanced, we cannot use accuracy, hence we opt for the following -\n",
    "* Confusion Matrix\n",
    "* F1 Score\n",
    "* Cohen Kappa Score\n",
    "* Balanced Accuracy Score"
   ]
  },
  {
   "cell_type": "code",
   "execution_count": 19,
   "metadata": {},
   "outputs": [],
   "source": [
    "def performance(test, pred):\n",
    "    conf_matrix = confusion_matrix(test, pred)\n",
    "    f1 = f1_score(test, pred)\n",
    "    report = classification_report(test, pred)\n",
    "    accuracy = balanced_accuracy_score(test, pred)\n",
    "    kappa = cohen_kappa_score(test, pred)\n",
    "    print(f\"F1 Score: {f1}\")\n",
    "    print(f\"Kappa Score: {kappa}\")\n",
    "    print(f\"Accuracy Score: {accuracy}\")\n",
    "    print(f\"Confusion Matrix:\\n{conf_matrix}\")\n",
    "    print(report)"
   ]
  },
  {
   "cell_type": "markdown",
   "metadata": {},
   "source": [
    "# Cross Validation Score"
   ]
  },
  {
   "cell_type": "code",
   "execution_count": 20,
   "metadata": {},
   "outputs": [],
   "source": [
    "def crossValidationCheck(classifier, X, y, K=10):\n",
    "\n",
    "    cv = KFold(n_splits=K, random_state=1, shuffle=True)\n",
    "    scores = cross_val_score(classifier, X, y, scoring='f1', cv=cv, n_jobs=-1)\n",
    "    print(f\"Average F1 score over {K}-Folds: {scores.mean()}\")\n",
    "    \n",
    "    visualizer = CVScores(classifier, cv=cv, scoring='f1')\n",
    "    visualizer.fit(X, y)\n",
    "    visualizer.show(f\"{classifier}_cv_error.png\", dpi=600)\n",
    "    \n",
    "    visualizer = LearningCurve(classifier, cv=cv, scoring='f1', n_jobs=-1)\n",
    "    visualizer.fit(X, y)\n",
    "    visualizer.show(f\"{classifier}_learn_curve_error.png\", dpi=600)\n",
    "    \n",
    "    cv = StratifiedKFold(n_splits=K, random_state=1, shuffle=True)\n",
    "    scores = cross_val_score(classifier, X, y, scoring='f1', cv=cv, n_jobs=-1)\n",
    "    print(f\"Average F1 score over Stratified {K}-Folds: {scores.mean()}\")\n",
    "    \n",
    "    visualizer = CVScores(classifier, cv=cv, scoring='f1')\n",
    "    visualizer.fit(X, y)\n",
    "    visualizer.show(f\"{classifier}_cv_strat_error.png\", dpi=600)\n",
    "    \n",
    "    visualizer = LearningCurve(classifier, cv=cv, scoring='f1', n_jobs=-1)\n",
    "    visualizer.fit(X, y)\n",
    "    visualizer.show(f\"{classifier}_learn_curve_strat_error.png\", dpi=600)"
   ]
  },
  {
   "cell_type": "markdown",
   "metadata": {},
   "source": [
    "# Feature Importance"
   ]
  },
  {
   "cell_type": "code",
   "execution_count": 21,
   "metadata": {},
   "outputs": [],
   "source": [
    "def getFeatureImportance(model, X, y):\n",
    "    viz = feature_importances(model, X, y, labels=TO_USE)\n",
    "    viz.fit(X, y)\n",
    "    viz.show(f\"{model}_imp_error.png\", dpi=600)"
   ]
  },
  {
   "cell_type": "markdown",
   "metadata": {},
   "source": [
    "# Class Predictions"
   ]
  },
  {
   "cell_type": "code",
   "execution_count": 22,
   "metadata": {},
   "outputs": [],
   "source": [
    "def getClassPredictionError(classifier):\n",
    "    visualizer = ClassPredictionError(classifier, classes=[0, 1])\n",
    "    visualizer.fit(X_train, y_train)\n",
    "    visualizer.score(X_test, y_test)\n",
    "    visualizer.show(f\"{classifier}_pred_error_error.png\", dpi=600)\n",
    "    \n",
    "def getClassificationReport(classifier):\n",
    "    visualizer = ClassificationReport(classifier, classes=[0, 1])\n",
    "    visualizer.fit(X_train, y_train)\n",
    "    visualizer.score(X_test, y_test)\n",
    "    visualizer.show(f\"{classifier}_report_error.png\", dpi=600)\n",
    "    \n",
    "def getDiscriminationThreshold(classifier):\n",
    "    visualizer = DiscriminationThreshold(classifier, exclude=[\"queue_rate\"])\n",
    "    visualizer.fit(X, y)        \n",
    "    visualizer.show(f\"{classifier}_disc_thresh_error.png\", dpi=600)\n",
    "    \n",
    "def getPrecisionRecall(classifier):\n",
    "    visualizer = PrecisionRecallCurve(classifier)\n",
    "    visualizer.fit(X_train, y_train)\n",
    "    visualizer.score(X_test, y_test)\n",
    "    visualizer.show(f\"{classifier}_pr_error.png\", dpi=600)\n",
    "    \n",
    "def rocCurve(classifier):\n",
    "    visualizer = ROCAUC(classifier, classes=[0, 1])\n",
    "    visualizer.fit(X_train, y_train)\n",
    "    visualizer.score(X_test, y_test)\n",
    "    visualizer.show(f\"{classifier}_roc_error.png\", dpi=600)"
   ]
  },
  {
   "cell_type": "markdown",
   "metadata": {},
   "source": [
    "# Recursive Feature Elimination"
   ]
  },
  {
   "cell_type": "code",
   "execution_count": 23,
   "metadata": {},
   "outputs": [],
   "source": [
    "def getFeatureElimination(classifier, X, y):\n",
    "    visualizer = RFECV(classifier)\n",
    "    visualizer.fit(X, y)\n",
    "    visualizer.show(f\"{classifier}_feat_elim_error.png\", dpi=600)           "
   ]
  },
  {
   "cell_type": "markdown",
   "metadata": {},
   "source": [
    "# Saving and Loading Model"
   ]
  },
  {
   "cell_type": "code",
   "execution_count": 24,
   "metadata": {},
   "outputs": [],
   "source": [
    "def saveModel(model, filename):\n",
    "    joblib.dump(model, filename)\n",
    "\n",
    "def loadModel(filename):\n",
    "    model = joblib.load(filename)\n",
    "    return model"
   ]
  },
  {
   "cell_type": "markdown",
   "metadata": {},
   "source": [
    "# SVM"
   ]
  },
  {
   "cell_type": "code",
   "execution_count": 25,
   "metadata": {},
   "outputs": [],
   "source": [
    "classifier = SVC(kernel='rbf', random_state=0)\n",
    "classifier.fit(X_train, y_train)\n",
    "pred = classifier.predict(X_test)"
   ]
  },
  {
   "cell_type": "code",
   "execution_count": 26,
   "metadata": {},
   "outputs": [
    {
     "name": "stdout",
     "output_type": "stream",
     "text": [
      "F1 Score: 0.9846564376250834\n",
      "Kappa Score: 0.977192163492392\n",
      "Accuracy Score: 0.9864655118892407\n",
      "Confusion Matrix:\n",
      "[[1529    5]\n",
      " [  18  738]]\n",
      "              precision    recall  f1-score   support\n",
      "\n",
      "           0       0.99      1.00      0.99      1534\n",
      "           1       0.99      0.98      0.98       756\n",
      "\n",
      "    accuracy                           0.99      2290\n",
      "   macro avg       0.99      0.99      0.99      2290\n",
      "weighted avg       0.99      0.99      0.99      2290\n",
      "\n"
     ]
    }
   ],
   "source": [
    "performance(y_test, pred)"
   ]
  },
  {
   "cell_type": "code",
   "execution_count": 27,
   "metadata": {},
   "outputs": [
    {
     "data": {
      "image/png": "[encoded data removed]",
      "text/plain": [
       "<Figure size 576x396 with 2 Axes>"
      ]
     },
     "metadata": {},
     "output_type": "display_data"
    }
   ],
   "source": [
    "getClassificationReport(classifier)"
   ]
  },
  {
   "cell_type": "code",
   "execution_count": 28,
   "metadata": {},
   "outputs": [
    {
     "data": {
      "image/png": "[encoded data removed]",
      "text/plain": [
       "<Figure size 576x396 with 1 Axes>"
      ]
     },
     "metadata": {},
     "output_type": "display_data"
    }
   ],
   "source": [
    "getDiscriminationThreshold(classifier)"
   ]
  },
  {
   "cell_type": "code",
   "execution_count": 29,
   "metadata": {},
   "outputs": [
    {
     "data": {
      "image/png": "[encoded data removed]",
      "text/plain": [
       "<Figure size 576x396 with 1 Axes>"
      ]
     },
     "metadata": {},
     "output_type": "display_data"
    }
   ],
   "source": [
    "getPrecisionRecall(classifier)"
   ]
  },
  {
   "cell_type": "markdown",
   "metadata": {},
   "source": [
    "## Checking Cross Validation Score"
   ]
  },
  {
   "cell_type": "code",
   "execution_count": null,
   "metadata": {},
   "outputs": [
    {
     "name": "stdout",
     "output_type": "stream",
     "text": [
      "Average F1 score over 10-Folds: 0.9804332668598331\n"
     ]
    },
    {
     "name": "stderr",
     "output_type": "stream",
     "text": [
      "Locator attempting to generate 6871 ticks ([-312.0, ..., 6558.0]), which exceeds Locator.MAXTICKS (1000).\n",
      "Locator attempting to generate 6871 ticks ([-312.0, ..., 6558.0]), which exceeds Locator.MAXTICKS (1000).\n",
      "Locator attempting to generate 6871 ticks ([-312.0, ..., 6558.0]), which exceeds Locator.MAXTICKS (1000).\n",
      "Locator attempting to generate 6871 ticks ([-312.0, ..., 6558.0]), which exceeds Locator.MAXTICKS (1000).\n",
      "Locator attempting to generate 6871 ticks ([-312.0, ..., 6558.0]), which exceeds Locator.MAXTICKS (1000).\n",
      "Locator attempting to generate 6871 ticks ([-312.0, ..., 6558.0]), which exceeds Locator.MAXTICKS (1000).\n",
      "Locator attempting to generate 6871 ticks ([-312.0, ..., 6558.0]), which exceeds Locator.MAXTICKS (1000).\n",
      "Locator attempting to generate 6871 ticks ([-312.0, ..., 6558.0]), which exceeds Locator.MAXTICKS (1000).\n"
     ]
    },
    {
     "name": "stdout",
     "output_type": "stream",
     "text": [
      "Average F1 score over Stratified 10-Folds: 0.9804111927737281\n"
     ]
    },
    {
     "name": "stderr",
     "output_type": "stream",
     "text": [
      "Locator attempting to generate 6871 ticks ([-312.0, ..., 6558.0]), which exceeds Locator.MAXTICKS (1000).\n",
      "Locator attempting to generate 6871 ticks ([-312.0, ..., 6558.0]), which exceeds Locator.MAXTICKS (1000).\n",
      "Locator attempting to generate 6871 ticks ([-312.0, ..., 6558.0]), which exceeds Locator.MAXTICKS (1000).\n",
      "Locator attempting to generate 6871 ticks ([-312.0, ..., 6558.0]), which exceeds Locator.MAXTICKS (1000).\n",
      "Locator attempting to generate 6871 ticks ([-312.0, ..., 6558.0]), which exceeds Locator.MAXTICKS (1000).\n",
      "Locator attempting to generate 6871 ticks ([-312.0, ..., 6558.0]), which exceeds Locator.MAXTICKS (1000).\n",
      "Locator attempting to generate 6871 ticks ([-312.0, ..., 6558.0]), which exceeds Locator.MAXTICKS (1000).\n",
      "Locator attempting to generate 6871 ticks ([-312.0, ..., 6558.0]), which exceeds Locator.MAXTICKS (1000).\n",
      "Locator attempting to generate 6871 ticks ([-312.0, ..., 6558.0]), which exceeds Locator.MAXTICKS (1000).\n",
      "Locator attempting to generate 6871 ticks ([-312.0, ..., 6558.0]), which exceeds Locator.MAXTICKS (1000).\n",
      "Locator attempting to generate 6871 ticks ([-312.0, ..., 6558.0]), which exceeds Locator.MAXTICKS (1000).\n",
      "Locator attempting to generate 6871 ticks ([-312.0, ..., 6558.0]), which exceeds Locator.MAXTICKS (1000).\n",
      "Locator attempting to generate 6871 ticks ([-312.0, ..., 6558.0]), which exceeds Locator.MAXTICKS (1000).\n",
      "Locator attempting to generate 6871 ticks ([-312.0, ..., 6558.0]), which exceeds Locator.MAXTICKS (1000).\n",
      "Locator attempting to generate 6871 ticks ([-312.0, ..., 6558.0]), which exceeds Locator.MAXTICKS (1000).\n",
      "Locator attempting to generate 6871 ticks ([-312.0, ..., 6558.0]), which exceeds Locator.MAXTICKS (1000).\n",
      "Locator attempting to generate 6871 ticks ([-312.0, ..., 6558.0]), which exceeds Locator.MAXTICKS (1000).\n",
      "Locator attempting to generate 6871 ticks ([-312.0, ..., 6558.0]), which exceeds Locator.MAXTICKS (1000).\n",
      "Locator attempting to generate 6871 ticks ([-312.0, ..., 6558.0]), which exceeds Locator.MAXTICKS (1000).\n",
      "Locator attempting to generate 6871 ticks ([-312.0, ..., 6558.0]), which exceeds Locator.MAXTICKS (1000).\n",
      "Locator attempting to generate 6871 ticks ([-312.0, ..., 6558.0]), which exceeds Locator.MAXTICKS (1000).\n",
      "Locator attempting to generate 6871 ticks ([-312.0, ..., 6558.0]), which exceeds Locator.MAXTICKS (1000).\n",
      "Locator attempting to generate 6871 ticks ([-312.0, ..., 6558.0]), which exceeds Locator.MAXTICKS (1000).\n",
      "Locator attempting to generate 6871 ticks ([-312.0, ..., 6558.0]), which exceeds Locator.MAXTICKS (1000).\n"
     ]
    }
   ],
   "source": [
    "crossValidationCheck(classifier, X, y, K=10)"
   ]
  },
  {
   "cell_type": "markdown",
   "metadata": {},
   "source": [
    "## Hyperparameter Tuning for SVM"
   ]
  },
  {
   "cell_type": "code",
   "execution_count": null,
   "metadata": {},
   "outputs": [],
   "source": [
    "parameters = {\n",
    "    \"C\":np.arange(1, 5.05, 0.05),\n",
    "    \"gamma\":[\"scale\", \"auto\"],\n",
    "    \"shrinking\":[True, False],\n",
    "    \"tol\":[1e-3, 1e-2, 1e-1, 1, 1e1, 1e2, 1e3],\n",
    "    \"class_weight\":[None, \"balanced\"]\n",
    "}\n",
    "\n",
    "scores = [\"f1\", \"balanced_accuracy\"]"
   ]
  },
  {
   "cell_type": "code",
   "execution_count": null,
   "metadata": {},
   "outputs": [],
   "source": [
    "classifier = GridSearchCV(\n",
    "    SVC(kernel=\"rbf\", random_state=0),\n",
    "    param_grid=parameters,\n",
    "    scoring=scores,\n",
    "    refit=\"f1\",\n",
    "    verbose=1,\n",
    "    n_jobs=-1\n",
    ")\n",
    "\n",
    "classifier.fit(X_train, y_train)"
   ]
  },
  {
   "cell_type": "code",
   "execution_count": null,
   "metadata": {},
   "outputs": [],
   "source": [
    "classifier.best_score_"
   ]
  },
  {
   "cell_type": "code",
   "execution_count": null,
   "metadata": {},
   "outputs": [],
   "source": [
    "classifier.best_params_"
   ]
  },
  {
   "cell_type": "code",
   "execution_count": null,
   "metadata": {},
   "outputs": [],
   "source": [
    "performance(y_test, classifier.best_estimator_.predict(X_test))"
   ]
  },
  {
   "cell_type": "code",
   "execution_count": null,
   "metadata": {},
   "outputs": [],
   "source": [
    "crossValidationCheck(classifier.best_estimator_, X, y, K=10)"
   ]
  },
  {
   "cell_type": "code",
   "execution_count": null,
   "metadata": {},
   "outputs": [],
   "source": [
    "saveModel(classifier.best_estimator_, \"../model/svm-error.model\")"
   ]
  },
  {
   "cell_type": "markdown",
   "metadata": {},
   "source": [
    "# Random Forest"
   ]
  },
  {
   "cell_type": "code",
   "execution_count": null,
   "metadata": {},
   "outputs": [],
   "source": [
    "classifier = RandomForestClassifier(random_state=0, n_jobs=-1)#, max_depth=8, n_estimators=400, min_samples_leaf=5)\n",
    "classifier.fit(X_train, y_train)\n",
    "pred = classifier.predict(X_test)"
   ]
  },
  {
   "cell_type": "code",
   "execution_count": null,
   "metadata": {
    "scrolled": true
   },
   "outputs": [],
   "source": [
    "performance(y_test, pred)"
   ]
  },
  {
   "cell_type": "code",
   "execution_count": null,
   "metadata": {},
   "outputs": [],
   "source": [
    "getClassificationReport(classifier)"
   ]
  },
  {
   "cell_type": "code",
   "execution_count": null,
   "metadata": {},
   "outputs": [],
   "source": [
    "getDiscriminationThreshold(classifier)"
   ]
  },
  {
   "cell_type": "code",
   "execution_count": null,
   "metadata": {},
   "outputs": [],
   "source": [
    "getPrecisionRecall(classifier)"
   ]
  },
  {
   "cell_type": "code",
   "execution_count": null,
   "metadata": {},
   "outputs": [],
   "source": [
    "rocCurve(classifier)"
   ]
  },
  {
   "cell_type": "markdown",
   "metadata": {},
   "source": [
    "## Checking Cross Validation Score"
   ]
  },
  {
   "cell_type": "code",
   "execution_count": null,
   "metadata": {
    "scrolled": false
   },
   "outputs": [],
   "source": [
    "crossValidationCheck(classifier, X, y, K=10)"
   ]
  },
  {
   "cell_type": "code",
   "execution_count": null,
   "metadata": {},
   "outputs": [],
   "source": [
    "getFeatureElimination(classifier, X, y)"
   ]
  },
  {
   "cell_type": "markdown",
   "metadata": {},
   "source": [
    "## Feature Importance"
   ]
  },
  {
   "cell_type": "code",
   "execution_count": null,
   "metadata": {},
   "outputs": [],
   "source": [
    "getFeatureImportance(classifier, X, y)"
   ]
  },
  {
   "cell_type": "markdown",
   "metadata": {},
   "source": [
    "## Hyperparameter Tuning for Random Forest"
   ]
  },
  {
   "cell_type": "code",
   "execution_count": null,
   "metadata": {},
   "outputs": [],
   "source": [
    "\"\"\"parameters = {\n",
    "    \"n_estimators\":np.arange(100,700,100),\n",
    "    \"max_depth\":[None] + np.arange(1, 10, 1).tolist(),\n",
    "    #\"min_samples_split\":np.arange(0, 1.1, 0.1),\n",
    "    \"min_samples_leaf\":np.arange(0, 1.1, 0.2),\n",
    "    \"max_features\":[None ,\"sqrt\", \"log2\"], #+ np.arange(1, 1.1, 0.1).tolist(),\n",
    "    #\"min_weight_fraction_leaf\":np.arange(0, 11, 1),\n",
    "    #\"min_impurity_decrease\":np.arange(1, 11, 1),\n",
    "    \"class_weight\":[None, \"balanced\", \"balanced_subsample\"],\n",
    "    #\"max_leaf_nodes\":[None] + np.arange(1, 11, 1).tolist(),\n",
    "    #\"ccp_alpha\":np.arange(0, 1.1, 0.1)\n",
    "}\n",
    "\n",
    "scores = [\"f1\", \"balanced_accuracy\"]\"\"\""
   ]
  },
  {
   "cell_type": "code",
   "execution_count": null,
   "metadata": {},
   "outputs": [],
   "source": [
    "saveModel(classifier, \"../model/random-forest-error.model\")"
   ]
  },
  {
   "cell_type": "markdown",
   "metadata": {},
   "source": [
    "# Adaboost"
   ]
  },
  {
   "cell_type": "code",
   "execution_count": null,
   "metadata": {},
   "outputs": [],
   "source": [
    "classifier = AdaBoostClassifier(random_state=0)\n",
    "classifier.fit(X_train, y_train)"
   ]
  },
  {
   "cell_type": "code",
   "execution_count": null,
   "metadata": {},
   "outputs": [],
   "source": [
    "pred = classifier.predict(X_test)\n",
    "performance(y_test, pred)"
   ]
  },
  {
   "cell_type": "code",
   "execution_count": null,
   "metadata": {},
   "outputs": [],
   "source": [
    "getClassificationReport(classifier)"
   ]
  },
  {
   "cell_type": "code",
   "execution_count": null,
   "metadata": {},
   "outputs": [],
   "source": [
    "getDiscriminationThreshold(classifier)"
   ]
  },
  {
   "cell_type": "code",
   "execution_count": null,
   "metadata": {},
   "outputs": [],
   "source": [
    "getPrecisionRecall(classifier)"
   ]
  },
  {
   "cell_type": "code",
   "execution_count": null,
   "metadata": {},
   "outputs": [],
   "source": [
    "rocCurve(classifier)"
   ]
  },
  {
   "cell_type": "markdown",
   "metadata": {},
   "source": [
    "## Checking Cross Validation Score"
   ]
  },
  {
   "cell_type": "code",
   "execution_count": null,
   "metadata": {},
   "outputs": [],
   "source": [
    "crossValidationCheck(classifier, X, y, K=10)"
   ]
  },
  {
   "cell_type": "markdown",
   "metadata": {},
   "source": [
    "## Feature Elimination"
   ]
  },
  {
   "cell_type": "code",
   "execution_count": null,
   "metadata": {},
   "outputs": [],
   "source": [
    "getFeatureElimination(classifier, X, y)"
   ]
  },
  {
   "cell_type": "markdown",
   "metadata": {},
   "source": [
    "## Feature Importance"
   ]
  },
  {
   "cell_type": "code",
   "execution_count": null,
   "metadata": {},
   "outputs": [],
   "source": [
    "getFeatureImportance(classifier, X, y)"
   ]
  },
  {
   "cell_type": "markdown",
   "metadata": {},
   "source": [
    "## Hyperparameter Tuning for AdaBoost"
   ]
  },
  {
   "cell_type": "code",
   "execution_count": null,
   "metadata": {},
   "outputs": [],
   "source": [
    "parameters = {\n",
    "    \"n_estimators\":np.arange(50,150,10),\n",
    "    \"learning_rate\":np.arange(0.5,1.5,0.05),\n",
    "    \"algorithm\":[\"SAMME\", \"SAMME.R\"],\n",
    "    \"base_estimator\":[\n",
    "        DecisionTreeClassifier(max_depth=1),\n",
    "        DecisionTreeClassifier(max_depth=2),\n",
    "        DecisionTreeClassifier(max_depth=3),\n",
    "        DecisionTreeClassifier(max_depth=None)\n",
    "    ]\n",
    "}\n",
    "\n",
    "scores = [\"f1\", \"balanced_accuracy\"]"
   ]
  },
  {
   "cell_type": "code",
   "execution_count": null,
   "metadata": {},
   "outputs": [],
   "source": [
    "classifier = GridSearchCV(\n",
    "    AdaBoostClassifier(random_state=0),\n",
    "    param_grid=parameters,\n",
    "    scoring=scores,\n",
    "    refit=\"f1\",\n",
    "    verbose=1,\n",
    "    n_jobs=-1\n",
    ")\n",
    "\n",
    "classifier.fit(X_train, y_train)"
   ]
  },
  {
   "cell_type": "code",
   "execution_count": null,
   "metadata": {},
   "outputs": [],
   "source": [
    "classifier.best_score_"
   ]
  },
  {
   "cell_type": "code",
   "execution_count": null,
   "metadata": {},
   "outputs": [],
   "source": [
    "classifier.best_params_"
   ]
  },
  {
   "cell_type": "code",
   "execution_count": null,
   "metadata": {},
   "outputs": [],
   "source": [
    "crossValidationCheck(classifier.best_estimator_, X, y, K=10)"
   ]
  },
  {
   "cell_type": "code",
   "execution_count": null,
   "metadata": {},
   "outputs": [],
   "source": [
    "performance(y_test, classifier.best_estimator_.predict(X_test))"
   ]
  },
  {
   "cell_type": "code",
   "execution_count": null,
   "metadata": {},
   "outputs": [],
   "source": [
    "saveModel(classifier.best_estimator_, \"../model/adaboost-error.model\")"
   ]
  }
 ],
 "metadata": {
  "colab": {
   "authorship_tag": "ABX9TyMbsS5xY6DgufDT++EgW7hD",
   "collapsed_sections": [],
   "include_colab_link": true,
   "name": "Prediction - ML",
   "provenance": []
  },
  "kernelspec": {
   "display_name": "Python 3",
   "language": "python",
   "name": "python3"
  },
  "language_info": {
   "codemirror_mode": {
    "name": "ipython",
    "version": 3
   },
   "file_extension": ".py",
   "mimetype": "text/x-python",
   "name": "python",
   "nbconvert_exporter": "python",
   "pygments_lexer": "ipython3",
   "version": "3.8.3"
  }
 },
 "nbformat": 4,
 "nbformat_minor": 1
}
