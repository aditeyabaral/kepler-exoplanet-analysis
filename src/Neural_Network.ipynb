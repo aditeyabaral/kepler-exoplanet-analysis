{
 "cells": [
  {
   "cell_type": "code",
   "execution_count": 1,
   "metadata": {
    "id": "Tfhq9Cc2uEfd",
    "tags": []
   },
   "outputs": [],
   "source": [
    "import warnings\n",
    "warnings.filterwarnings(\"ignore\")"
   ]
  },
  {
   "cell_type": "code",
   "execution_count": 58,
   "metadata": {},
   "outputs": [],
   "source": [
    "import joblib\n",
    "import numpy as np\n",
    "import pandas as pd\n",
    "from sklearn.metrics import confusion_matrix, f1_score, classification_report, balanced_accuracy_score, cohen_kappa_score\n",
    "from sklearn.preprocessing import StandardScaler\n",
    "from sklearn.model_selection import train_test_split, StratifiedKFold, KFold\n",
    "from sklearn.decomposition import PCA\n",
    "import tensorflow as tf\n",
    "from tensorflow import keras \n",
    "from keras import Sequential\n",
    "from keras.layers import Dense\n",
    "from keras.wrappers.scikit_learn import KerasClassifier\n",
    "import eli5\n",
    "from eli5.sklearn import PermutationImportance\n",
    "import matplotlib.pyplot as plt\n",
    "from sklearn.metrics import mean_absolute_error"
   ]
  },
  {
   "cell_type": "code",
   "execution_count": 3,
   "metadata": {
    "id": "wAJIdZ9euEfp"
   },
   "outputs": [],
   "source": [
    "def saveModel(model, filename):\n",
    "    model.save(filename)\n",
    "\n",
    "def loadModel(filename):\n",
    "    model = joblib.load(filename)\n",
    "    return model"
   ]
  },
  {
   "cell_type": "code",
   "execution_count": 108,
   "metadata": {
    "id": "jOxsJWu6uEgC",
    "tags": []
   },
   "outputs": [],
   "source": [
    "df = pd.read_csv(\"../data/[CLEANED]kepler-data.csv\")\n",
    "df.drop(columns = [\"Unnamed: 0\"], inplace=True)"
   ]
  },
  {
   "cell_type": "code",
   "execution_count": 5,
   "metadata": {
    "id": "WhX_TnO_uEgJ"
   },
   "outputs": [],
   "source": [
    "ALL_COLUMNS = df.columns\n",
    "ERROR_COLUMNS = [col for col in ALL_COLUMNS if \"err\" in col]\n",
    "EXCLUDE = [\"rowid\", \"kepid\", \"kepoi_name\", \"koi_score\", \"koi_disposition\", \"koi_pdisposition\", \"koi_tce_delivname\", \"koi_tce_plnt_num\"] + ERROR_COLUMNS\n",
    "TO_USE = list(set(ALL_COLUMNS) - set(EXCLUDE))"
   ]
  },
  {
   "cell_type": "code",
   "execution_count": 6,
   "metadata": {
    "id": "4XOHBGoRuEgP",
    "tags": []
   },
   "outputs": [],
   "source": [
    "subset_df = df[df[\"koi_disposition\"] != \"CANDIDATE\"]"
   ]
  },
  {
   "cell_type": "code",
   "execution_count": 7,
   "metadata": {
    "id": "Wres19PvuEgW"
   },
   "outputs": [],
   "source": [
    "X = subset_df[TO_USE].values\n",
    "y = subset_df[\"koi_disposition\"].apply(lambda x: x=='CONFIRMED').astype(int).values"
   ]
  },
  {
   "cell_type": "code",
   "execution_count": 8,
   "metadata": {
    "id": "qzlI6_9iuEgc"
   },
   "outputs": [],
   "source": [
    "X = StandardScaler().fit_transform(X)\n",
    "#X = PCA().fit_transform(X)"
   ]
  },
  {
   "cell_type": "code",
   "execution_count": 9,
   "metadata": {
    "id": "O-fgCEufuEgh"
   },
   "outputs": [],
   "source": [
    "X_train, X_test, y_train, y_test = train_test_split(X, y, test_size = 0.33, random_state = 0, stratify=y)"
   ]
  },
  {
   "cell_type": "code",
   "execution_count": 10,
   "metadata": {},
   "outputs": [],
   "source": [
    "def createModel():\n",
    "    model = Sequential([\n",
    "                    Dense(256, input_dim=X.shape[1], activation = 'relu'),\n",
    "                    Dense(128, activation = 'relu'),\n",
    "                    Dense(128, activation = 'relu'),\n",
    "                    Dense(1, activation = 'sigmoid')\n",
    "                   ])\n",
    "    model.compile(optimizer = 'adam', loss = 'binary_crossentropy', metrics = ['accuracy'])\n",
    "    return model"
   ]
  },
  {
   "cell_type": "code",
   "execution_count": 11,
   "metadata": {
    "id": "4KBWWHO6uEg7"
   },
   "outputs": [],
   "source": [
    "def performance(test, pred):\n",
    "    conf_matrix = confusion_matrix(test, pred)\n",
    "    f1 = f1_score(test, pred)\n",
    "    report = classification_report(test, pred)\n",
    "    accuracy = balanced_accuracy_score(test, pred)\n",
    "    kappa = cohen_kappa_score(test, pred)\n",
    "    print(f\"F1 Score: {f1}\")\n",
    "    print(f\"Kappa Score: {kappa}\")\n",
    "    print(f\"Accuracy Score: {accuracy}\")\n",
    "    print(f\"Confusion Matrix:\\n{conf_matrix}\")\n",
    "    print(report)"
   ]
  },
  {
   "cell_type": "code",
   "execution_count": 12,
   "metadata": {
    "id": "q4jU9ktQuEgl",
    "tags": []
   },
   "outputs": [],
   "source": [
    "def trainEvaluate(model, fold, X_train, y_train, X_test, y_test):\n",
    "    model.fit(X_train, y_train, epochs=20, verbose=0)\n",
    "    pred = model.predict(X_test)\n",
    "    pred = pred >= 0.5\n",
    "    f1 = f1_score(y_test, pred)\n",
    "    print(f\"F1 Score in fold {fold} = {f1}\")\n",
    "    return f1\n",
    "\n",
    "def crossValidation(K=10):\n",
    "    kFold = KFold(n_splits=K, shuffle=True, random_state=0)\n",
    "    f1_scores = list()\n",
    "    k_ctr = 1\n",
    "    for train, test in kFold.split(X, y):\n",
    "        model = None\n",
    "        model = createModel()\n",
    "        current_f1 = trainEvaluate(model, k_ctr, X[train], y[train], X[test], y[test])\n",
    "        f1_scores.append(current_f1)\n",
    "        k_ctr+=1\n",
    "    print(f\"Average {K}-Fold F1 Score = {np.mean(f1_scores)}\\n\")\n",
    "    \n",
    "    k_ctr = 1\n",
    "    kFold = StratifiedKFold(n_splits=K, shuffle=True, random_state=0)\n",
    "    f1_scores = list()\n",
    "    for train, test in kFold.split(X, y):\n",
    "        model = None\n",
    "        model = createModel()\n",
    "        current_f1 = trainEvaluate(model, k_ctr, X[train], y[train], X[test], y[test])\n",
    "        f1_scores.append(current_f1)\n",
    "        k_ctr+=1\n",
    "    print(f\"Average Stratified {K}-Fold F1 Score = {np.mean(f1_scores)}\")"
   ]
  },
  {
   "cell_type": "code",
   "execution_count": 13,
   "metadata": {
    "id": "YB2ej2IGuEgr",
    "tags": []
   },
   "outputs": [
    {
     "output_type": "stream",
     "name": "stderr",
     "text": [
      "WARNING: Logging before flag parsing goes to stderr.\n",
      "W1111 14:04:49.072748 39984 deprecation_wrapper.py:119] From C:\\Users\\91974\\Anaconda3\\lib\\site-packages\\keras\\backend\\tensorflow_backend.py:74: The name tf.get_default_graph is deprecated. Please use tf.compat.v1.get_default_graph instead.\n",
      "\n",
      "W1111 14:04:49.097243 39984 deprecation_wrapper.py:119] From C:\\Users\\91974\\Anaconda3\\lib\\site-packages\\keras\\backend\\tensorflow_backend.py:517: The name tf.placeholder is deprecated. Please use tf.compat.v1.placeholder instead.\n",
      "\n",
      "W1111 14:04:49.101231 39984 deprecation_wrapper.py:119] From C:\\Users\\91974\\Anaconda3\\lib\\site-packages\\keras\\backend\\tensorflow_backend.py:4138: The name tf.random_uniform is deprecated. Please use tf.random.uniform instead.\n",
      "\n",
      "W1111 14:04:49.212929 39984 deprecation_wrapper.py:119] From C:\\Users\\91974\\Anaconda3\\lib\\site-packages\\keras\\optimizers.py:790: The name tf.train.Optimizer is deprecated. Please use tf.compat.v1.train.Optimizer instead.\n",
      "\n",
      "W1111 14:04:49.247839 39984 deprecation_wrapper.py:119] From C:\\Users\\91974\\Anaconda3\\lib\\site-packages\\keras\\backend\\tensorflow_backend.py:3376: The name tf.log is deprecated. Please use tf.math.log instead.\n",
      "\n",
      "W1111 14:04:49.255817 39984 deprecation.py:323] From C:\\Users\\91974\\Anaconda3\\lib\\site-packages\\tensorflow\\python\\ops\\nn_impl.py:180: add_dispatch_support.<locals>.wrapper (from tensorflow.python.ops.array_ops) is deprecated and will be removed in a future version.\n",
      "Instructions for updating:\n",
      "Use tf.where in 2.0, which has the same broadcast rule as np.where\n",
      "W1111 14:04:49.533339 39984 deprecation_wrapper.py:119] From C:\\Users\\91974\\Anaconda3\\lib\\site-packages\\keras\\backend\\tensorflow_backend.py:986: The name tf.assign_add is deprecated. Please use tf.compat.v1.assign_add instead.\n",
      "\n",
      "F1 Score in fold 1 = 0.9727272727272727\n",
      "F1 Score in fold 2 = 0.9766355140186916\n",
      "F1 Score in fold 3 = 0.9686098654708519\n",
      "F1 Score in fold 4 = 0.9734513274336283\n",
      "F1 Score in fold 5 = 0.9739952718676123\n",
      "F1 Score in fold 6 = 0.9812889812889813\n",
      "F1 Score in fold 7 = 0.9855072463768116\n",
      "F1 Score in fold 8 = 0.9743589743589745\n",
      "F1 Score in fold 9 = 0.9856850715746422\n",
      "F1 Score in fold 10 = 0.9753914988814317\n",
      "Average 10-Fold F1 Score = 0.9767651023998898\n",
      "\n",
      "F1 Score in fold 1 = 0.9694323144104805\n",
      "F1 Score in fold 2 = 0.9782608695652174\n",
      "F1 Score in fold 3 = 0.9646017699115046\n",
      "F1 Score in fold 4 = 0.9736842105263158\n",
      "F1 Score in fold 5 = 0.9890590809628008\n",
      "F1 Score in fold 6 = 0.975609756097561\n",
      "F1 Score in fold 7 = 0.9715536105032824\n",
      "F1 Score in fold 8 = 0.9848156182212581\n",
      "F1 Score in fold 9 = 0.9759299781181621\n",
      "F1 Score in fold 10 = 0.9714285714285714\n",
      "Average Stratified 10-Fold F1 Score = 0.9754375779745154\n"
     ]
    }
   ],
   "source": [
    "crossValidation(K=10)"
   ]
  },
  {
   "cell_type": "code",
   "execution_count": 85,
   "metadata": {},
   "outputs": [],
   "source": [
    "model = createModel()\n",
    "model.fit(X_train, y_train, epochs=20, verbose=0)\n",
    "pred = model.predict(X_test)\n",
    "pred = pred >= 0.5"
   ]
  },
  {
   "cell_type": "code",
   "execution_count": 86,
   "metadata": {
    "colab": {
     "base_uri": "https://localhost:8080/"
    },
    "id": "5EMl1avnuEhB",
    "outputId": "6bb1a996-92cf-42fc-9626-93bdc7ac36ab",
    "tags": []
   },
   "outputs": [
    {
     "output_type": "stream",
     "name": "stdout",
     "text": [
      "F1 Score: 0.9774834437086093\n",
      "Kappa Score: 0.9664085541268381\n",
      "Accuracy Score: 0.9828801142360464\n",
      "Confusion Matrix:\n",
      "[[1518   16]\n",
      " [  18  738]]\n",
      "              precision    recall  f1-score   support\n",
      "\n",
      "           0       0.99      0.99      0.99      1534\n",
      "           1       0.98      0.98      0.98       756\n",
      "\n",
      "   micro avg       0.99      0.99      0.99      2290\n",
      "   macro avg       0.98      0.98      0.98      2290\n",
      "weighted avg       0.99      0.99      0.99      2290\n",
      "\n"
     ]
    }
   ],
   "source": [
    "performance(y_test, pred)"
   ]
  },
  {
   "cell_type": "code",
   "execution_count": 16,
   "metadata": {
    "id": "n2TFkQXGuEhF"
   },
   "outputs": [],
   "source": [
    "saveModel(model, \"../model/nn-model.h5\")"
   ]
  },
  {
   "cell_type": "code",
   "execution_count": 87,
   "metadata": {},
   "outputs": [],
   "source": [
    "model_perm = KerasClassifier(build_fn=createModel, epochs=20, verbose=0)\n",
    "model_perm.fit(X, y)\n",
    "perm = PermutationImportance(model_perm, random_state=0).fit(X,y)"
   ]
  },
  {
   "cell_type": "code",
   "execution_count": 88,
   "metadata": {},
   "outputs": [
    {
     "output_type": "execute_result",
     "data": {
      "text/plain": [
       "Explanation(estimator=\"PermutationImportance(cv='prefit',\\n           estimator=<keras.wrappers.scikit_learn.KerasClassifier object at 0x0000020E41A9C208>,\\n           n_iter=5, random_state=0, refit=True, scoring=None)\", description=\"\\nFeature importances, computed as a decrease in score when feature\\nvalues are permuted (i.e. become noise). This is also known as \\npermutation importance.\\n\\nIf feature importances are computed on the same data as used for training, \\nthey don't reflect importance of features for generalization. Use a held-out\\ndataset if you want generalization feature importances.\\n\", error=None, method='feature importances', is_regression=False, targets=None, feature_importances=FeatureImportances(importances=[FeatureWeight(feature='koi_fpflag_ss', weight=0.13439976939689122, std=0.0031250926595303707, value=None), FeatureWeight(feature='koi_fpflag_co', weight=0.12800115286436356, std=0.0016791482432536892, value=None), FeatureWeight(feature='koi_fpflag_nt', weight=0.115492145771904, std=0.001559086687264257, value=None), FeatureWeight(feature='koi_fpflag_ec', weight=0.065513762850156, std=0.001341412454615377, value=None), FeatureWeight(feature='koi_depth', weight=0.05245712638708751, std=0.0013426504912929223, value=None), FeatureWeight(feature='koi_duration', weight=0.04199452362068794, std=0.0009628645677180861, value=None), FeatureWeight(feature='koi_period', weight=0.037325263066325484, std=0.0023993838176414547, value=None), FeatureWeight(feature='koi_teq', weight=0.02913964548205792, std=0.002105036418678198, value=None), FeatureWeight(feature='koi_steff', weight=0.021588125079762866, std=0.0009087120799711751, value=None), FeatureWeight(feature='koi_slogg', weight=0.020204640420923868, std=0.001331466714776378, value=None), FeatureWeight(feature='koi_model_snr', weight=0.009424989157166963, std=0.0010455890846568863, value=None), FeatureWeight(feature='koi_kepmag', weight=0.006773310275255828, std=0.000427508199284953, value=None), FeatureWeight(feature='koi_impact', weight=0.005274535235624755, std=0.0005878679364280362, value=None), FeatureWeight(feature='ra', weight=0.005245712621529152, std=0.0008864998881277176, value=None), FeatureWeight(feature='dec', weight=0.0037469375990777155, std=0.0005074741853771176, value=None), FeatureWeight(feature='koi_time0bk', weight=0.002853437094682243, std=0.0005267521799249982, value=None), FeatureWeight(feature='koi_srad', weight=0.0015564202334630516, std=0.0006004515537109215, value=None), FeatureWeight(feature='koi_prad', weight=0.0008935005043954281, std=0.00030774112269869435, value=None), FeatureWeight(feature='koi_insol', weight=0.0006340971321515898, std=0.0003713531842261265, value=None)], remaining=0), decision_tree=None, highlight_spaces=None, transition_features=None, image=None)"
      ],
      "text/html": "\n    <style>\n    table.eli5-weights tr:hover {\n        filter: brightness(85%);\n    }\n</style>\n\n\n\n    \n\n    \n\n    \n\n    \n\n    \n\n    \n\n\n    \n\n    \n\n    \n\n    \n\n    \n\n    \n\n\n    \n\n    \n\n    \n\n    \n\n    \n        <table class=\"eli5-weights eli5-feature-importances\" style=\"border-collapse: collapse; border: none; margin-top: 0em; table-layout: auto;\">\n    <thead>\n    <tr style=\"border: none;\">\n        <th style=\"padding: 0 1em 0 0.5em; text-align: right; border: none;\">Weight</th>\n        <th style=\"padding: 0 0.5em 0 0.5em; text-align: left; border: none;\">Feature</th>\n    </tr>\n    </thead>\n    <tbody>\n    \n        <tr style=\"background-color: hsl(120, 100.00%, 80.00%); border: none;\">\n            <td style=\"padding: 0 1em 0 0.5em; text-align: right; border: none;\">\n                0.1344\n                \n                    &plusmn; 0.0063\n                \n            </td>\n            <td style=\"padding: 0 0.5em 0 0.5em; text-align: left; border: none;\">\n                koi_fpflag_ss\n            </td>\n        </tr>\n    \n        <tr style=\"background-color: hsl(120, 100.00%, 80.67%); border: none;\">\n            <td style=\"padding: 0 1em 0 0.5em; text-align: right; border: none;\">\n                0.1280\n                \n                    &plusmn; 0.0034\n                \n            </td>\n            <td style=\"padding: 0 0.5em 0 0.5em; text-align: left; border: none;\">\n                koi_fpflag_co\n            </td>\n        </tr>\n    \n        <tr style=\"background-color: hsl(120, 100.00%, 82.01%); border: none;\">\n            <td style=\"padding: 0 1em 0 0.5em; text-align: right; border: none;\">\n                0.1155\n                \n                    &plusmn; 0.0031\n                \n            </td>\n            <td style=\"padding: 0 0.5em 0 0.5em; text-align: left; border: none;\">\n                koi_fpflag_nt\n            </td>\n        </tr>\n    \n        <tr style=\"background-color: hsl(120, 100.00%, 87.91%); border: none;\">\n            <td style=\"padding: 0 1em 0 0.5em; text-align: right; border: none;\">\n                0.0655\n                \n                    &plusmn; 0.0027\n                \n            </td>\n            <td style=\"padding: 0 0.5em 0 0.5em; text-align: left; border: none;\">\n                koi_fpflag_ec\n            </td>\n        </tr>\n    \n        <tr style=\"background-color: hsl(120, 100.00%, 89.65%); border: none;\">\n            <td style=\"padding: 0 1em 0 0.5em; text-align: right; border: none;\">\n                0.0525\n                \n                    &plusmn; 0.0027\n                \n            </td>\n            <td style=\"padding: 0 0.5em 0 0.5em; text-align: left; border: none;\">\n                koi_depth\n            </td>\n        </tr>\n    \n        <tr style=\"background-color: hsl(120, 100.00%, 91.14%); border: none;\">\n            <td style=\"padding: 0 1em 0 0.5em; text-align: right; border: none;\">\n                0.0420\n                \n                    &plusmn; 0.0019\n                \n            </td>\n            <td style=\"padding: 0 0.5em 0 0.5em; text-align: left; border: none;\">\n                koi_duration\n            </td>\n        </tr>\n    \n        <tr style=\"background-color: hsl(120, 100.00%, 91.84%); border: none;\">\n            <td style=\"padding: 0 1em 0 0.5em; text-align: right; border: none;\">\n                0.0373\n                \n                    &plusmn; 0.0048\n                \n            </td>\n            <td style=\"padding: 0 0.5em 0 0.5em; text-align: left; border: none;\">\n                koi_period\n            </td>\n        </tr>\n    \n        <tr style=\"background-color: hsl(120, 100.00%, 93.14%); border: none;\">\n            <td style=\"padding: 0 1em 0 0.5em; text-align: right; border: none;\">\n                0.0291\n                \n                    &plusmn; 0.0042\n                \n            </td>\n            <td style=\"padding: 0 0.5em 0 0.5em; text-align: left; border: none;\">\n                koi_teq\n            </td>\n        </tr>\n    \n        <tr style=\"background-color: hsl(120, 100.00%, 94.44%); border: none;\">\n            <td style=\"padding: 0 1em 0 0.5em; text-align: right; border: none;\">\n                0.0216\n                \n                    &plusmn; 0.0018\n                \n            </td>\n            <td style=\"padding: 0 0.5em 0 0.5em; text-align: left; border: none;\">\n                koi_steff\n            </td>\n        </tr>\n    \n        <tr style=\"background-color: hsl(120, 100.00%, 94.69%); border: none;\">\n            <td style=\"padding: 0 1em 0 0.5em; text-align: right; border: none;\">\n                0.0202\n                \n                    &plusmn; 0.0027\n                \n            </td>\n            <td style=\"padding: 0 0.5em 0 0.5em; text-align: left; border: none;\">\n                koi_slogg\n            </td>\n        </tr>\n    \n        <tr style=\"background-color: hsl(120, 100.00%, 96.89%); border: none;\">\n            <td style=\"padding: 0 1em 0 0.5em; text-align: right; border: none;\">\n                0.0094\n                \n                    &plusmn; 0.0021\n                \n            </td>\n            <td style=\"padding: 0 0.5em 0 0.5em; text-align: left; border: none;\">\n                koi_model_snr\n            </td>\n        </tr>\n    \n        <tr style=\"background-color: hsl(120, 100.00%, 97.53%); border: none;\">\n            <td style=\"padding: 0 1em 0 0.5em; text-align: right; border: none;\">\n                0.0068\n                \n                    &plusmn; 0.0009\n                \n            </td>\n            <td style=\"padding: 0 0.5em 0 0.5em; text-align: left; border: none;\">\n                koi_kepmag\n            </td>\n        </tr>\n    \n        <tr style=\"background-color: hsl(120, 100.00%, 97.93%); border: none;\">\n            <td style=\"padding: 0 1em 0 0.5em; text-align: right; border: none;\">\n                0.0053\n                \n                    &plusmn; 0.0012\n                \n            </td>\n            <td style=\"padding: 0 0.5em 0 0.5em; text-align: left; border: none;\">\n                koi_impact\n            </td>\n        </tr>\n    \n        <tr style=\"background-color: hsl(120, 100.00%, 97.93%); border: none;\">\n            <td style=\"padding: 0 1em 0 0.5em; text-align: right; border: none;\">\n                0.0052\n                \n                    &plusmn; 0.0018\n                \n            </td>\n            <td style=\"padding: 0 0.5em 0 0.5em; text-align: left; border: none;\">\n                ra\n            </td>\n        </tr>\n    \n        <tr style=\"background-color: hsl(120, 100.00%, 98.37%); border: none;\">\n            <td style=\"padding: 0 1em 0 0.5em; text-align: right; border: none;\">\n                0.0037\n                \n                    &plusmn; 0.0010\n                \n            </td>\n            <td style=\"padding: 0 0.5em 0 0.5em; text-align: left; border: none;\">\n                dec\n            </td>\n        </tr>\n    \n        <tr style=\"background-color: hsl(120, 100.00%, 98.65%); border: none;\">\n            <td style=\"padding: 0 1em 0 0.5em; text-align: right; border: none;\">\n                0.0029\n                \n                    &plusmn; 0.0011\n                \n            </td>\n            <td style=\"padding: 0 0.5em 0 0.5em; text-align: left; border: none;\">\n                koi_time0bk\n            </td>\n        </tr>\n    \n        <tr style=\"background-color: hsl(120, 100.00%, 99.12%); border: none;\">\n            <td style=\"padding: 0 1em 0 0.5em; text-align: right; border: none;\">\n                0.0016\n                \n                    &plusmn; 0.0012\n                \n            </td>\n            <td style=\"padding: 0 0.5em 0 0.5em; text-align: left; border: none;\">\n                koi_srad\n            </td>\n        </tr>\n    \n        <tr style=\"background-color: hsl(120, 100.00%, 99.40%); border: none;\">\n            <td style=\"padding: 0 1em 0 0.5em; text-align: right; border: none;\">\n                0.0009\n                \n                    &plusmn; 0.0006\n                \n            </td>\n            <td style=\"padding: 0 0.5em 0 0.5em; text-align: left; border: none;\">\n                koi_prad\n            </td>\n        </tr>\n    \n        <tr style=\"background-color: hsl(120, 100.00%, 99.53%); border: none;\">\n            <td style=\"padding: 0 1em 0 0.5em; text-align: right; border: none;\">\n                0.0006\n                \n                    &plusmn; 0.0007\n                \n            </td>\n            <td style=\"padding: 0 0.5em 0 0.5em; text-align: left; border: none;\">\n                koi_insol\n            </td>\n        </tr>\n    \n    \n    </tbody>\n</table>\n    \n\n    \n\n\n    \n\n    \n\n    \n\n    \n\n    \n\n    \n\n\n\n"
     },
     "metadata": {},
     "execution_count": 88
    }
   ],
   "source": [
    "eli5.explain_weights(perm, feature_names = TO_USE)"
   ]
  }
 ],
 "metadata": {
  "accelerator": "GPU",
  "colab": {
   "name": "NN.ipynb",
   "provenance": []
  },
  "kernelspec": {
   "display_name": "Python 3",
   "language": "python",
   "name": "python3"
  },
  "language_info": {
   "codemirror_mode": {
    "name": "ipython",
    "version": 3
   },
   "file_extension": ".py",
   "mimetype": "text/x-python",
   "name": "python",
   "nbconvert_exporter": "python",
   "pygments_lexer": "ipython3",
   "version": "3.7.3-final"
  }
 },
 "nbformat": 4,
 "nbformat_minor": 1
}