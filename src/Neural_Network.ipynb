{
  "nbformat": 4,
  "nbformat_minor": 0,
  "metadata": {
    "kernelspec": {
      "name": "python3",
      "display_name": "Python 3"
    },
    "colab": {
      "name": "NN.ipynb",
      "provenance": []
    },
    "accelerator": "GPU"
  },
  "cells": [
    {
      "cell_type": "code",
      "metadata": {
        "tags": [],
        "id": "Tfhq9Cc2uEfd"
      },
      "source": [
        "import numpy as np\n",
        "import pandas as pd\n",
        "from sklearn.preprocessing import StandardScaler\n",
        "import tensorflow as tf\n",
        "from sklearn.model_selection import train_test_split\n",
        "from sklearn.decomposition import PCA\n",
        "from tensorflow import keras \n",
        "from keras import Sequential\n",
        "from keras.layers import Dense\n",
        "import joblib\n",
        "from sklearn.metrics import confusion_matrix, f1_score, classification_report, balanced_accuracy_score, cohen_kappa_score"
      ],
      "execution_count": 1,
      "outputs": []
    },
    {
      "cell_type": "code",
      "metadata": {
        "id": "wAJIdZ9euEfp"
      },
      "source": [
        "def saveModel(model, filename):\n",
        "    model.save(filename)\n",
        "\n",
        "def loadModel(filename):\n",
        "    model = joblib.load(filename)\n",
        "    return model"
      ],
      "execution_count": 2,
      "outputs": []
    },
    {
      "cell_type": "code",
      "metadata": {
        "tags": [],
        "id": "jOxsJWu6uEgC"
      },
      "source": [
        "df = pd.read_csv(\"[CLEANED]kepler-data.csv\")\n",
        "df.drop(columns = [\"Unnamed: 0\"], inplace=True)"
      ],
      "execution_count": 3,
      "outputs": []
    },
    {
      "cell_type": "code",
      "metadata": {
        "id": "WhX_TnO_uEgJ"
      },
      "source": [
        "ALL_COLUMNS = df.columns\n",
        "ERROR_COLUMNS = [col for col in ALL_COLUMNS if \"err\" in col]\n",
        "EXCLUDE = [\"rowid\", \"kepid\", \"kepoi_name\", \"koi_score\", \"koi_disposition\", \"koi_pdisposition\", \"koi_tce_delivname\", \"koi_tce_plnt_num\"] + ERROR_COLUMNS\n",
        "TO_USE = list(set(ALL_COLUMNS) - set(EXCLUDE))"
      ],
      "execution_count": 4,
      "outputs": []
    },
    {
      "cell_type": "code",
      "metadata": {
        "tags": [],
        "id": "4XOHBGoRuEgP"
      },
      "source": [
        "subset_df = df[df[\"koi_disposition\"] != \"CANDIDATE\"]"
      ],
      "execution_count": 5,
      "outputs": []
    },
    {
      "cell_type": "code",
      "metadata": {
        "id": "Wres19PvuEgW"
      },
      "source": [
        "X = subset_df[TO_USE].values\n",
        "y = subset_df[\"koi_disposition\"].apply(lambda x: x=='CONFIRMED').astype(int).values"
      ],
      "execution_count": 6,
      "outputs": []
    },
    {
      "cell_type": "code",
      "metadata": {
        "id": "qzlI6_9iuEgc"
      },
      "source": [
        "X = StandardScaler().fit_transform(X)\n",
        "X = PCA().fit_transform(X)"
      ],
      "execution_count": 7,
      "outputs": []
    },
    {
      "cell_type": "code",
      "metadata": {
        "id": "O-fgCEufuEgh"
      },
      "source": [
        "X_train, X_test, y_train, y_test = train_test_split(X, y, test_size = 0.33, random_state = 0, stratify=y)"
      ],
      "execution_count": 8,
      "outputs": []
    },
    {
      "cell_type": "code",
      "metadata": {
        "tags": [],
        "id": "q4jU9ktQuEgl"
      },
      "source": [
        "model = Sequential([\n",
        "                    Dense(128, activation = 'relu'),\n",
        "                    Dense(256, activation = 'relu'),\n",
        "                    Dense(128, activation = 'relu'),\n",
        "                    Dense(1, activation = 'sigmoid')\n",
        "                   ])"
      ],
      "execution_count": 9,
      "outputs": []
    },
    {
      "cell_type": "code",
      "metadata": {
        "tags": [],
        "id": "YB2ej2IGuEgr"
      },
      "source": [
        "model.compile(optimizer = 'adam', loss = 'binary_crossentropy', metrics = ['accuracy'])"
      ],
      "execution_count": 10,
      "outputs": []
    },
    {
      "cell_type": "code",
      "metadata": {
        "tags": [],
        "id": "puopkFBfuEgx",
        "outputId": "c0180dd3-87c3-4b12-e489-605199329669",
        "colab": {
          "base_uri": "https://localhost:8080/"
        }
      },
      "source": [
        "model.fit(X_train, y_train, epochs = 20)"
      ],
      "execution_count": 11,
      "outputs": [
        {
          "output_type": "stream",
          "text": [
            "Epoch 1/20\n",
            "146/146 [==============================] - 0s 2ms/step - loss: 0.1252 - accuracy: 0.9527\n",
            "Epoch 2/20\n",
            "146/146 [==============================] - 0s 2ms/step - loss: 0.0664 - accuracy: 0.9843\n",
            "Epoch 3/20\n",
            "146/146 [==============================] - 0s 2ms/step - loss: 0.0568 - accuracy: 0.9860\n",
            "Epoch 4/20\n",
            "146/146 [==============================] - 0s 2ms/step - loss: 0.0514 - accuracy: 0.9873\n",
            "Epoch 5/20\n",
            "146/146 [==============================] - 0s 2ms/step - loss: 0.0494 - accuracy: 0.9871\n",
            "Epoch 6/20\n",
            "146/146 [==============================] - 0s 2ms/step - loss: 0.0434 - accuracy: 0.9877\n",
            "Epoch 7/20\n",
            "146/146 [==============================] - 0s 3ms/step - loss: 0.0396 - accuracy: 0.9877\n",
            "Epoch 8/20\n",
            "146/146 [==============================] - 0s 3ms/step - loss: 0.0394 - accuracy: 0.9886\n",
            "Epoch 9/20\n",
            "146/146 [==============================] - 0s 2ms/step - loss: 0.0334 - accuracy: 0.9903\n",
            "Epoch 10/20\n",
            "146/146 [==============================] - 0s 2ms/step - loss: 0.0353 - accuracy: 0.9897\n",
            "Epoch 11/20\n",
            "146/146 [==============================] - 0s 2ms/step - loss: 0.0289 - accuracy: 0.9908\n",
            "Epoch 12/20\n",
            "146/146 [==============================] - 0s 2ms/step - loss: 0.0251 - accuracy: 0.9923\n",
            "Epoch 13/20\n",
            "146/146 [==============================] - 0s 2ms/step - loss: 0.0228 - accuracy: 0.9925\n",
            "Epoch 14/20\n",
            "146/146 [==============================] - 0s 3ms/step - loss: 0.0223 - accuracy: 0.9912\n",
            "Epoch 15/20\n",
            "146/146 [==============================] - 0s 3ms/step - loss: 0.0181 - accuracy: 0.9940\n",
            "Epoch 16/20\n",
            "146/146 [==============================] - 0s 3ms/step - loss: 0.0237 - accuracy: 0.9929\n",
            "Epoch 17/20\n",
            "146/146 [==============================] - 0s 2ms/step - loss: 0.0174 - accuracy: 0.9946\n",
            "Epoch 18/20\n",
            "146/146 [==============================] - 0s 3ms/step - loss: 0.0165 - accuracy: 0.9946\n",
            "Epoch 19/20\n",
            "146/146 [==============================] - 0s 3ms/step - loss: 0.0131 - accuracy: 0.9959\n",
            "Epoch 20/20\n",
            "146/146 [==============================] - 0s 2ms/step - loss: 0.0173 - accuracy: 0.9925\n"
          ],
          "name": "stdout"
        },
        {
          "output_type": "execute_result",
          "data": {
            "text/plain": [
              "<tensorflow.python.keras.callbacks.History at 0x7f94666377f0>"
            ]
          },
          "metadata": {
            "tags": []
          },
          "execution_count": 11
        }
      ]
    },
    {
      "cell_type": "code",
      "metadata": {
        "id": "qNK9fpCfuEg2"
      },
      "source": [
        "pred = model.predict(X_test)\n",
        "pred = pred >= 0.5"
      ],
      "execution_count": 12,
      "outputs": []
    },
    {
      "cell_type": "code",
      "metadata": {
        "id": "4KBWWHO6uEg7"
      },
      "source": [
        "def performance(test, pred):\n",
        "    conf_matrix = confusion_matrix(test, pred)\n",
        "    f1 = f1_score(test, pred)\n",
        "    report = classification_report(test, pred)\n",
        "    accuracy = balanced_accuracy_score(test, pred)\n",
        "    kappa = cohen_kappa_score(test, pred)\n",
        "    print(f\"F1 Score: {f1}\")\n",
        "    print(f\"Kappa Score: {kappa}\")\n",
        "    print(f\"Accuracy Score: {accuracy}\")\n",
        "    print(f\"Confusion Matrix:\\n{conf_matrix}\")\n",
        "    print(report)"
      ],
      "execution_count": 13,
      "outputs": []
    },
    {
      "cell_type": "code",
      "metadata": {
        "tags": [],
        "id": "5EMl1avnuEhB",
        "outputId": "6bb1a996-92cf-42fc-9626-93bdc7ac36ab",
        "colab": {
          "base_uri": "https://localhost:8080/"
        }
      },
      "source": [
        "performance(y_test, pred)"
      ],
      "execution_count": 14,
      "outputs": [
        {
          "output_type": "stream",
          "text": [
            "F1 Score: 0.9793195463642428\n",
            "Kappa Score: 0.9692590029680067\n",
            "Accuracy Score: 0.9825162282789401\n",
            "Confusion Matrix:\n",
            "[[1525    9]\n",
            " [  22  734]]\n",
            "              precision    recall  f1-score   support\n",
            "\n",
            "           0       0.99      0.99      0.99      1534\n",
            "           1       0.99      0.97      0.98       756\n",
            "\n",
            "    accuracy                           0.99      2290\n",
            "   macro avg       0.99      0.98      0.98      2290\n",
            "weighted avg       0.99      0.99      0.99      2290\n",
            "\n"
          ],
          "name": "stdout"
        }
      ]
    },
    {
      "cell_type": "code",
      "metadata": {
        "id": "n2TFkQXGuEhF"
      },
      "source": [
        "saveModel(model, \"nn-model-error.h5\")"
      ],
      "execution_count": 15,
      "outputs": []
    },
    {
      "cell_type": "code",
      "metadata": {
        "id": "CU_G0BK0vBbU"
      },
      "source": [
        ""
      ],
      "execution_count": 15,
      "outputs": []
    }
  ]
}