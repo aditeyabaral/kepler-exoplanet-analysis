{
 "cells": [
  {
   "cell_type": "markdown",
   "metadata": {
    "colab_type": "text",
    "id": "view-in-github"
   },
   "source": [
    "<a href=\"https://colab.research.google.com/github/aditeyabaral/kepler-exoplanet-analysis/blob/master/src/Prediction_ML.ipynb\" target=\"_parent\"><img src=\"https://colab.research.google.com/assets/colab-badge.svg\" alt=\"Open In Colab\"/></a>"
   ]
  },
  {
   "cell_type": "markdown",
   "metadata": {
    "id": "w2LFieS3KwCk"
   },
   "source": [
    "# Importing Libraries"
   ]
  },
  {
   "cell_type": "code",
   "execution_count": 1,
   "metadata": {
    "id": "xn5hXmyKFst3"
   },
   "outputs": [],
   "source": [
    "import numpy as np\n",
    "import pandas as pd\n",
    "import graphviz\n",
    "import matplotlib.pyplot as plt\n",
    "from sklearn.preprocessing import StandardScaler\n",
    "from sklearn.decomposition import PCA\n",
    "from sklearn.model_selection import train_test_split, GridSearchCV\n",
    "from sklearn.metrics import confusion_matrix, balanced_accuracy_score, classification_report, cohen_kappa_score, f1_score\n",
    "from sklearn import tree\n",
    "from sklearn.tree import DecisionTreeClassifier\n",
    "from sklearn.ensemble import RandomForestClassifier, GradientBoostingClassifier, AdaBoostClassifier\n",
    "from xgboost import XGBClassifier"
   ]
  },
  {
   "cell_type": "markdown",
   "metadata": {
    "id": "b6Z6S7f2KyaQ"
   },
   "source": [
    "# Loading Dataframe"
   ]
  },
  {
   "cell_type": "code",
   "execution_count": 2,
   "metadata": {
    "colab": {
     "base_uri": "https://localhost:8080/",
     "height": 244
    },
    "id": "lpNWf42RFz67",
    "outputId": "1227cf42-9445-4105-edff-43a81a19b749"
   },
   "outputs": [
    {
     "name": "stdout",
     "output_type": "stream",
     "text": [
      "(9110, 47)\n"
     ]
    },
    {
     "data": {
      "text/html": [
       "<div>\n",
       "<style scoped>\n",
       "    .dataframe tbody tr th:only-of-type {\n",
       "        vertical-align: middle;\n",
       "    }\n",
       "\n",
       "    .dataframe tbody tr th {\n",
       "        vertical-align: top;\n",
       "    }\n",
       "\n",
       "    .dataframe thead th {\n",
       "        text-align: right;\n",
       "    }\n",
       "</style>\n",
       "<table border=\"1\" class=\"dataframe\">\n",
       "  <thead>\n",
       "    <tr style=\"text-align: right;\">\n",
       "      <th></th>\n",
       "      <th>rowid</th>\n",
       "      <th>kepid</th>\n",
       "      <th>kepoi_name</th>\n",
       "      <th>koi_disposition</th>\n",
       "      <th>koi_pdisposition</th>\n",
       "      <th>koi_score</th>\n",
       "      <th>koi_fpflag_nt</th>\n",
       "      <th>koi_fpflag_ss</th>\n",
       "      <th>koi_fpflag_co</th>\n",
       "      <th>koi_fpflag_ec</th>\n",
       "      <th>...</th>\n",
       "      <th>koi_steff_err2</th>\n",
       "      <th>koi_slogg</th>\n",
       "      <th>koi_slogg_err1</th>\n",
       "      <th>koi_slogg_err2</th>\n",
       "      <th>koi_srad</th>\n",
       "      <th>koi_srad_err1</th>\n",
       "      <th>koi_srad_err2</th>\n",
       "      <th>ra</th>\n",
       "      <th>dec</th>\n",
       "      <th>koi_kepmag</th>\n",
       "    </tr>\n",
       "  </thead>\n",
       "  <tbody>\n",
       "    <tr>\n",
       "      <th>0</th>\n",
       "      <td>1</td>\n",
       "      <td>10797460</td>\n",
       "      <td>K00752.01</td>\n",
       "      <td>CONFIRMED</td>\n",
       "      <td>CANDIDATE</td>\n",
       "      <td>1.000</td>\n",
       "      <td>0</td>\n",
       "      <td>0</td>\n",
       "      <td>0</td>\n",
       "      <td>0</td>\n",
       "      <td>...</td>\n",
       "      <td>-81.0</td>\n",
       "      <td>4.467</td>\n",
       "      <td>0.064</td>\n",
       "      <td>-0.096</td>\n",
       "      <td>0.927</td>\n",
       "      <td>0.105</td>\n",
       "      <td>-0.061</td>\n",
       "      <td>291.93423</td>\n",
       "      <td>48.141651</td>\n",
       "      <td>15.347</td>\n",
       "    </tr>\n",
       "    <tr>\n",
       "      <th>1</th>\n",
       "      <td>2</td>\n",
       "      <td>10797460</td>\n",
       "      <td>K00752.02</td>\n",
       "      <td>CONFIRMED</td>\n",
       "      <td>CANDIDATE</td>\n",
       "      <td>0.969</td>\n",
       "      <td>0</td>\n",
       "      <td>0</td>\n",
       "      <td>0</td>\n",
       "      <td>0</td>\n",
       "      <td>...</td>\n",
       "      <td>-81.0</td>\n",
       "      <td>4.467</td>\n",
       "      <td>0.064</td>\n",
       "      <td>-0.096</td>\n",
       "      <td>0.927</td>\n",
       "      <td>0.105</td>\n",
       "      <td>-0.061</td>\n",
       "      <td>291.93423</td>\n",
       "      <td>48.141651</td>\n",
       "      <td>15.347</td>\n",
       "    </tr>\n",
       "    <tr>\n",
       "      <th>2</th>\n",
       "      <td>3</td>\n",
       "      <td>10811496</td>\n",
       "      <td>K00753.01</td>\n",
       "      <td>FALSE POSITIVE</td>\n",
       "      <td>FALSE POSITIVE</td>\n",
       "      <td>0.000</td>\n",
       "      <td>0</td>\n",
       "      <td>1</td>\n",
       "      <td>0</td>\n",
       "      <td>0</td>\n",
       "      <td>...</td>\n",
       "      <td>-176.0</td>\n",
       "      <td>4.544</td>\n",
       "      <td>0.044</td>\n",
       "      <td>-0.176</td>\n",
       "      <td>0.868</td>\n",
       "      <td>0.233</td>\n",
       "      <td>-0.078</td>\n",
       "      <td>297.00482</td>\n",
       "      <td>48.134129</td>\n",
       "      <td>15.436</td>\n",
       "    </tr>\n",
       "    <tr>\n",
       "      <th>3</th>\n",
       "      <td>4</td>\n",
       "      <td>10848459</td>\n",
       "      <td>K00754.01</td>\n",
       "      <td>FALSE POSITIVE</td>\n",
       "      <td>FALSE POSITIVE</td>\n",
       "      <td>0.000</td>\n",
       "      <td>0</td>\n",
       "      <td>1</td>\n",
       "      <td>0</td>\n",
       "      <td>0</td>\n",
       "      <td>...</td>\n",
       "      <td>-174.0</td>\n",
       "      <td>4.564</td>\n",
       "      <td>0.053</td>\n",
       "      <td>-0.168</td>\n",
       "      <td>0.791</td>\n",
       "      <td>0.201</td>\n",
       "      <td>-0.067</td>\n",
       "      <td>285.53461</td>\n",
       "      <td>48.285210</td>\n",
       "      <td>15.597</td>\n",
       "    </tr>\n",
       "    <tr>\n",
       "      <th>4</th>\n",
       "      <td>5</td>\n",
       "      <td>10854555</td>\n",
       "      <td>K00755.01</td>\n",
       "      <td>CONFIRMED</td>\n",
       "      <td>CANDIDATE</td>\n",
       "      <td>1.000</td>\n",
       "      <td>0</td>\n",
       "      <td>0</td>\n",
       "      <td>0</td>\n",
       "      <td>0</td>\n",
       "      <td>...</td>\n",
       "      <td>-211.0</td>\n",
       "      <td>4.438</td>\n",
       "      <td>0.070</td>\n",
       "      <td>-0.210</td>\n",
       "      <td>1.046</td>\n",
       "      <td>0.334</td>\n",
       "      <td>-0.133</td>\n",
       "      <td>288.75488</td>\n",
       "      <td>48.226200</td>\n",
       "      <td>15.509</td>\n",
       "    </tr>\n",
       "  </tbody>\n",
       "</table>\n",
       "<p>5 rows × 47 columns</p>\n",
       "</div>"
      ],
      "text/plain": [
       "   rowid     kepid kepoi_name koi_disposition koi_pdisposition  koi_score  \\\n",
       "0      1  10797460  K00752.01       CONFIRMED        CANDIDATE      1.000   \n",
       "1      2  10797460  K00752.02       CONFIRMED        CANDIDATE      0.969   \n",
       "2      3  10811496  K00753.01  FALSE POSITIVE   FALSE POSITIVE      0.000   \n",
       "3      4  10848459  K00754.01  FALSE POSITIVE   FALSE POSITIVE      0.000   \n",
       "4      5  10854555  K00755.01       CONFIRMED        CANDIDATE      1.000   \n",
       "\n",
       "   koi_fpflag_nt  koi_fpflag_ss  koi_fpflag_co  koi_fpflag_ec  ...  \\\n",
       "0              0              0              0              0  ...   \n",
       "1              0              0              0              0  ...   \n",
       "2              0              1              0              0  ...   \n",
       "3              0              1              0              0  ...   \n",
       "4              0              0              0              0  ...   \n",
       "\n",
       "   koi_steff_err2  koi_slogg  koi_slogg_err1  koi_slogg_err2  koi_srad  \\\n",
       "0           -81.0      4.467           0.064          -0.096     0.927   \n",
       "1           -81.0      4.467           0.064          -0.096     0.927   \n",
       "2          -176.0      4.544           0.044          -0.176     0.868   \n",
       "3          -174.0      4.564           0.053          -0.168     0.791   \n",
       "4          -211.0      4.438           0.070          -0.210     1.046   \n",
       "\n",
       "   koi_srad_err1  koi_srad_err2         ra        dec  koi_kepmag  \n",
       "0          0.105         -0.061  291.93423  48.141651      15.347  \n",
       "1          0.105         -0.061  291.93423  48.141651      15.347  \n",
       "2          0.233         -0.078  297.00482  48.134129      15.436  \n",
       "3          0.201         -0.067  285.53461  48.285210      15.597  \n",
       "4          0.334         -0.133  288.75488  48.226200      15.509  \n",
       "\n",
       "[5 rows x 47 columns]"
      ]
     },
     "execution_count": 2,
     "metadata": {},
     "output_type": "execute_result"
    }
   ],
   "source": [
    "df = pd.read_csv(\"../data/[CLEANED]kepler-data.csv\")\n",
    "df.drop(columns = [\"Unnamed: 0\"], inplace=True)\n",
    "print(df.shape)\n",
    "df.head()"
   ]
  },
  {
   "cell_type": "markdown",
   "metadata": {
    "id": "xURWVKqlK0EE"
   },
   "source": [
    "# Selecting Columns for Prediction"
   ]
  },
  {
   "cell_type": "code",
   "execution_count": 3,
   "metadata": {
    "id": "QhMEJHHKGGyf"
   },
   "outputs": [],
   "source": [
    "ALL_COLUMNS = df.columns\n",
    "ERROR_COLUMNS = [col for col in ALL_COLUMNS if \"err\" in col]\n",
    "EXCLUDE = [\"rowid\", \"kepid\", \"kepoi_name\", \"koi_score\", \"koi_disposition\", \"koi_pdisposition\", \"koi_tce_delivname\", \"koi_tce_plnt_num\"] + ERROR_COLUMNS\n",
    "TO_USE = list(set(ALL_COLUMNS) - set(EXCLUDE))"
   ]
  },
  {
   "cell_type": "code",
   "execution_count": 4,
   "metadata": {
    "colab": {
     "base_uri": "https://localhost:8080/",
     "height": 244
    },
    "id": "HE8RuNd1Hq2_",
    "outputId": "517533aa-41c8-459f-aa1b-fe02f5e0a959"
   },
   "outputs": [
    {
     "name": "stdout",
     "output_type": "stream",
     "text": [
      "19\n"
     ]
    },
    {
     "data": {
      "text/html": [
       "<div>\n",
       "<style scoped>\n",
       "    .dataframe tbody tr th:only-of-type {\n",
       "        vertical-align: middle;\n",
       "    }\n",
       "\n",
       "    .dataframe tbody tr th {\n",
       "        vertical-align: top;\n",
       "    }\n",
       "\n",
       "    .dataframe thead th {\n",
       "        text-align: right;\n",
       "    }\n",
       "</style>\n",
       "<table border=\"1\" class=\"dataframe\">\n",
       "  <thead>\n",
       "    <tr style=\"text-align: right;\">\n",
       "      <th></th>\n",
       "      <th>koi_impact</th>\n",
       "      <th>koi_fpflag_ss</th>\n",
       "      <th>koi_kepmag</th>\n",
       "      <th>koi_model_snr</th>\n",
       "      <th>koi_duration</th>\n",
       "      <th>koi_fpflag_ec</th>\n",
       "      <th>koi_prad</th>\n",
       "      <th>koi_insol</th>\n",
       "      <th>ra</th>\n",
       "      <th>koi_slogg</th>\n",
       "      <th>koi_srad</th>\n",
       "      <th>koi_teq</th>\n",
       "      <th>koi_steff</th>\n",
       "      <th>koi_fpflag_co</th>\n",
       "      <th>dec</th>\n",
       "      <th>koi_period</th>\n",
       "      <th>koi_time0bk</th>\n",
       "      <th>koi_fpflag_nt</th>\n",
       "      <th>koi_depth</th>\n",
       "    </tr>\n",
       "  </thead>\n",
       "  <tbody>\n",
       "    <tr>\n",
       "      <th>0</th>\n",
       "      <td>0.146</td>\n",
       "      <td>0</td>\n",
       "      <td>15.347</td>\n",
       "      <td>35.8</td>\n",
       "      <td>2.95750</td>\n",
       "      <td>0</td>\n",
       "      <td>2.26</td>\n",
       "      <td>93.59</td>\n",
       "      <td>291.93423</td>\n",
       "      <td>4.467</td>\n",
       "      <td>0.927</td>\n",
       "      <td>793.0</td>\n",
       "      <td>5455.0</td>\n",
       "      <td>0</td>\n",
       "      <td>48.141651</td>\n",
       "      <td>9.488036</td>\n",
       "      <td>170.538750</td>\n",
       "      <td>0</td>\n",
       "      <td>615.8</td>\n",
       "    </tr>\n",
       "    <tr>\n",
       "      <th>1</th>\n",
       "      <td>0.586</td>\n",
       "      <td>0</td>\n",
       "      <td>15.347</td>\n",
       "      <td>25.8</td>\n",
       "      <td>4.50700</td>\n",
       "      <td>0</td>\n",
       "      <td>2.83</td>\n",
       "      <td>9.11</td>\n",
       "      <td>291.93423</td>\n",
       "      <td>4.467</td>\n",
       "      <td>0.927</td>\n",
       "      <td>443.0</td>\n",
       "      <td>5455.0</td>\n",
       "      <td>0</td>\n",
       "      <td>48.141651</td>\n",
       "      <td>54.418383</td>\n",
       "      <td>162.513840</td>\n",
       "      <td>0</td>\n",
       "      <td>874.8</td>\n",
       "    </tr>\n",
       "    <tr>\n",
       "      <th>2</th>\n",
       "      <td>0.969</td>\n",
       "      <td>1</td>\n",
       "      <td>15.436</td>\n",
       "      <td>76.3</td>\n",
       "      <td>1.78220</td>\n",
       "      <td>0</td>\n",
       "      <td>14.60</td>\n",
       "      <td>39.30</td>\n",
       "      <td>297.00482</td>\n",
       "      <td>4.544</td>\n",
       "      <td>0.868</td>\n",
       "      <td>638.0</td>\n",
       "      <td>5853.0</td>\n",
       "      <td>0</td>\n",
       "      <td>48.134129</td>\n",
       "      <td>19.899140</td>\n",
       "      <td>175.850252</td>\n",
       "      <td>0</td>\n",
       "      <td>10829.0</td>\n",
       "    </tr>\n",
       "    <tr>\n",
       "      <th>3</th>\n",
       "      <td>1.276</td>\n",
       "      <td>1</td>\n",
       "      <td>15.597</td>\n",
       "      <td>505.6</td>\n",
       "      <td>2.40641</td>\n",
       "      <td>0</td>\n",
       "      <td>33.46</td>\n",
       "      <td>891.96</td>\n",
       "      <td>285.53461</td>\n",
       "      <td>4.564</td>\n",
       "      <td>0.791</td>\n",
       "      <td>1395.0</td>\n",
       "      <td>5805.0</td>\n",
       "      <td>0</td>\n",
       "      <td>48.285210</td>\n",
       "      <td>1.736952</td>\n",
       "      <td>170.307565</td>\n",
       "      <td>0</td>\n",
       "      <td>8079.2</td>\n",
       "    </tr>\n",
       "    <tr>\n",
       "      <th>4</th>\n",
       "      <td>0.701</td>\n",
       "      <td>0</td>\n",
       "      <td>15.509</td>\n",
       "      <td>40.9</td>\n",
       "      <td>1.65450</td>\n",
       "      <td>0</td>\n",
       "      <td>2.75</td>\n",
       "      <td>926.16</td>\n",
       "      <td>288.75488</td>\n",
       "      <td>4.438</td>\n",
       "      <td>1.046</td>\n",
       "      <td>1406.0</td>\n",
       "      <td>6031.0</td>\n",
       "      <td>0</td>\n",
       "      <td>48.226200</td>\n",
       "      <td>2.525592</td>\n",
       "      <td>171.595550</td>\n",
       "      <td>0</td>\n",
       "      <td>603.3</td>\n",
       "    </tr>\n",
       "  </tbody>\n",
       "</table>\n",
       "</div>"
      ],
      "text/plain": [
       "   koi_impact  koi_fpflag_ss  koi_kepmag  koi_model_snr  koi_duration  \\\n",
       "0       0.146              0      15.347           35.8       2.95750   \n",
       "1       0.586              0      15.347           25.8       4.50700   \n",
       "2       0.969              1      15.436           76.3       1.78220   \n",
       "3       1.276              1      15.597          505.6       2.40641   \n",
       "4       0.701              0      15.509           40.9       1.65450   \n",
       "\n",
       "   koi_fpflag_ec  koi_prad  koi_insol         ra  koi_slogg  koi_srad  \\\n",
       "0              0      2.26      93.59  291.93423      4.467     0.927   \n",
       "1              0      2.83       9.11  291.93423      4.467     0.927   \n",
       "2              0     14.60      39.30  297.00482      4.544     0.868   \n",
       "3              0     33.46     891.96  285.53461      4.564     0.791   \n",
       "4              0      2.75     926.16  288.75488      4.438     1.046   \n",
       "\n",
       "   koi_teq  koi_steff  koi_fpflag_co        dec  koi_period  koi_time0bk  \\\n",
       "0    793.0     5455.0              0  48.141651    9.488036   170.538750   \n",
       "1    443.0     5455.0              0  48.141651   54.418383   162.513840   \n",
       "2    638.0     5853.0              0  48.134129   19.899140   175.850252   \n",
       "3   1395.0     5805.0              0  48.285210    1.736952   170.307565   \n",
       "4   1406.0     6031.0              0  48.226200    2.525592   171.595550   \n",
       "\n",
       "   koi_fpflag_nt  koi_depth  \n",
       "0              0      615.8  \n",
       "1              0      874.8  \n",
       "2              0    10829.0  \n",
       "3              0     8079.2  \n",
       "4              0      603.3  "
      ]
     },
     "execution_count": 4,
     "metadata": {},
     "output_type": "execute_result"
    }
   ],
   "source": [
    "print(len(TO_USE))\n",
    "df[TO_USE].head()"
   ]
  },
  {
   "cell_type": "markdown",
   "metadata": {
    "id": "WeRowrdgK5KY"
   },
   "source": [
    "# Extracting Dataframe Subset"
   ]
  },
  {
   "cell_type": "markdown",
   "metadata": {
    "id": "Y9WAiguDKvDt"
   },
   "source": [
    "We extract only those rows which are either positive or negative examples i.e. the `disposition value` is *not* `CANDIDATE`"
   ]
  },
  {
   "cell_type": "code",
   "execution_count": 5,
   "metadata": {
    "colab": {
     "base_uri": "https://localhost:8080/",
     "height": 244
    },
    "id": "f9oJkJ8-KKL9",
    "outputId": "b6f16395-f433-4e5b-ece9-7ddb2dab3d37"
   },
   "outputs": [
    {
     "name": "stdout",
     "output_type": "stream",
     "text": [
      "(6939, 47)\n"
     ]
    },
    {
     "data": {
      "text/html": [
       "<div>\n",
       "<style scoped>\n",
       "    .dataframe tbody tr th:only-of-type {\n",
       "        vertical-align: middle;\n",
       "    }\n",
       "\n",
       "    .dataframe tbody tr th {\n",
       "        vertical-align: top;\n",
       "    }\n",
       "\n",
       "    .dataframe thead th {\n",
       "        text-align: right;\n",
       "    }\n",
       "</style>\n",
       "<table border=\"1\" class=\"dataframe\">\n",
       "  <thead>\n",
       "    <tr style=\"text-align: right;\">\n",
       "      <th></th>\n",
       "      <th>rowid</th>\n",
       "      <th>kepid</th>\n",
       "      <th>kepoi_name</th>\n",
       "      <th>koi_disposition</th>\n",
       "      <th>koi_pdisposition</th>\n",
       "      <th>koi_score</th>\n",
       "      <th>koi_fpflag_nt</th>\n",
       "      <th>koi_fpflag_ss</th>\n",
       "      <th>koi_fpflag_co</th>\n",
       "      <th>koi_fpflag_ec</th>\n",
       "      <th>...</th>\n",
       "      <th>koi_steff_err2</th>\n",
       "      <th>koi_slogg</th>\n",
       "      <th>koi_slogg_err1</th>\n",
       "      <th>koi_slogg_err2</th>\n",
       "      <th>koi_srad</th>\n",
       "      <th>koi_srad_err1</th>\n",
       "      <th>koi_srad_err2</th>\n",
       "      <th>ra</th>\n",
       "      <th>dec</th>\n",
       "      <th>koi_kepmag</th>\n",
       "    </tr>\n",
       "  </thead>\n",
       "  <tbody>\n",
       "    <tr>\n",
       "      <th>0</th>\n",
       "      <td>1</td>\n",
       "      <td>10797460</td>\n",
       "      <td>K00752.01</td>\n",
       "      <td>CONFIRMED</td>\n",
       "      <td>CANDIDATE</td>\n",
       "      <td>1.000</td>\n",
       "      <td>0</td>\n",
       "      <td>0</td>\n",
       "      <td>0</td>\n",
       "      <td>0</td>\n",
       "      <td>...</td>\n",
       "      <td>-81.0</td>\n",
       "      <td>4.467</td>\n",
       "      <td>0.064</td>\n",
       "      <td>-0.096</td>\n",
       "      <td>0.927</td>\n",
       "      <td>0.105</td>\n",
       "      <td>-0.061</td>\n",
       "      <td>291.93423</td>\n",
       "      <td>48.141651</td>\n",
       "      <td>15.347</td>\n",
       "    </tr>\n",
       "    <tr>\n",
       "      <th>1</th>\n",
       "      <td>2</td>\n",
       "      <td>10797460</td>\n",
       "      <td>K00752.02</td>\n",
       "      <td>CONFIRMED</td>\n",
       "      <td>CANDIDATE</td>\n",
       "      <td>0.969</td>\n",
       "      <td>0</td>\n",
       "      <td>0</td>\n",
       "      <td>0</td>\n",
       "      <td>0</td>\n",
       "      <td>...</td>\n",
       "      <td>-81.0</td>\n",
       "      <td>4.467</td>\n",
       "      <td>0.064</td>\n",
       "      <td>-0.096</td>\n",
       "      <td>0.927</td>\n",
       "      <td>0.105</td>\n",
       "      <td>-0.061</td>\n",
       "      <td>291.93423</td>\n",
       "      <td>48.141651</td>\n",
       "      <td>15.347</td>\n",
       "    </tr>\n",
       "    <tr>\n",
       "      <th>2</th>\n",
       "      <td>3</td>\n",
       "      <td>10811496</td>\n",
       "      <td>K00753.01</td>\n",
       "      <td>FALSE POSITIVE</td>\n",
       "      <td>FALSE POSITIVE</td>\n",
       "      <td>0.000</td>\n",
       "      <td>0</td>\n",
       "      <td>1</td>\n",
       "      <td>0</td>\n",
       "      <td>0</td>\n",
       "      <td>...</td>\n",
       "      <td>-176.0</td>\n",
       "      <td>4.544</td>\n",
       "      <td>0.044</td>\n",
       "      <td>-0.176</td>\n",
       "      <td>0.868</td>\n",
       "      <td>0.233</td>\n",
       "      <td>-0.078</td>\n",
       "      <td>297.00482</td>\n",
       "      <td>48.134129</td>\n",
       "      <td>15.436</td>\n",
       "    </tr>\n",
       "    <tr>\n",
       "      <th>3</th>\n",
       "      <td>4</td>\n",
       "      <td>10848459</td>\n",
       "      <td>K00754.01</td>\n",
       "      <td>FALSE POSITIVE</td>\n",
       "      <td>FALSE POSITIVE</td>\n",
       "      <td>0.000</td>\n",
       "      <td>0</td>\n",
       "      <td>1</td>\n",
       "      <td>0</td>\n",
       "      <td>0</td>\n",
       "      <td>...</td>\n",
       "      <td>-174.0</td>\n",
       "      <td>4.564</td>\n",
       "      <td>0.053</td>\n",
       "      <td>-0.168</td>\n",
       "      <td>0.791</td>\n",
       "      <td>0.201</td>\n",
       "      <td>-0.067</td>\n",
       "      <td>285.53461</td>\n",
       "      <td>48.285210</td>\n",
       "      <td>15.597</td>\n",
       "    </tr>\n",
       "    <tr>\n",
       "      <th>4</th>\n",
       "      <td>5</td>\n",
       "      <td>10854555</td>\n",
       "      <td>K00755.01</td>\n",
       "      <td>CONFIRMED</td>\n",
       "      <td>CANDIDATE</td>\n",
       "      <td>1.000</td>\n",
       "      <td>0</td>\n",
       "      <td>0</td>\n",
       "      <td>0</td>\n",
       "      <td>0</td>\n",
       "      <td>...</td>\n",
       "      <td>-211.0</td>\n",
       "      <td>4.438</td>\n",
       "      <td>0.070</td>\n",
       "      <td>-0.210</td>\n",
       "      <td>1.046</td>\n",
       "      <td>0.334</td>\n",
       "      <td>-0.133</td>\n",
       "      <td>288.75488</td>\n",
       "      <td>48.226200</td>\n",
       "      <td>15.509</td>\n",
       "    </tr>\n",
       "  </tbody>\n",
       "</table>\n",
       "<p>5 rows × 47 columns</p>\n",
       "</div>"
      ],
      "text/plain": [
       "   rowid     kepid kepoi_name koi_disposition koi_pdisposition  koi_score  \\\n",
       "0      1  10797460  K00752.01       CONFIRMED        CANDIDATE      1.000   \n",
       "1      2  10797460  K00752.02       CONFIRMED        CANDIDATE      0.969   \n",
       "2      3  10811496  K00753.01  FALSE POSITIVE   FALSE POSITIVE      0.000   \n",
       "3      4  10848459  K00754.01  FALSE POSITIVE   FALSE POSITIVE      0.000   \n",
       "4      5  10854555  K00755.01       CONFIRMED        CANDIDATE      1.000   \n",
       "\n",
       "   koi_fpflag_nt  koi_fpflag_ss  koi_fpflag_co  koi_fpflag_ec  ...  \\\n",
       "0              0              0              0              0  ...   \n",
       "1              0              0              0              0  ...   \n",
       "2              0              1              0              0  ...   \n",
       "3              0              1              0              0  ...   \n",
       "4              0              0              0              0  ...   \n",
       "\n",
       "   koi_steff_err2  koi_slogg  koi_slogg_err1  koi_slogg_err2  koi_srad  \\\n",
       "0           -81.0      4.467           0.064          -0.096     0.927   \n",
       "1           -81.0      4.467           0.064          -0.096     0.927   \n",
       "2          -176.0      4.544           0.044          -0.176     0.868   \n",
       "3          -174.0      4.564           0.053          -0.168     0.791   \n",
       "4          -211.0      4.438           0.070          -0.210     1.046   \n",
       "\n",
       "   koi_srad_err1  koi_srad_err2         ra        dec  koi_kepmag  \n",
       "0          0.105         -0.061  291.93423  48.141651      15.347  \n",
       "1          0.105         -0.061  291.93423  48.141651      15.347  \n",
       "2          0.233         -0.078  297.00482  48.134129      15.436  \n",
       "3          0.201         -0.067  285.53461  48.285210      15.597  \n",
       "4          0.334         -0.133  288.75488  48.226200      15.509  \n",
       "\n",
       "[5 rows x 47 columns]"
      ]
     },
     "execution_count": 5,
     "metadata": {},
     "output_type": "execute_result"
    }
   ],
   "source": [
    "subset_df = df[df[\"koi_disposition\"] != \"CANDIDATE\"]\n",
    "print(subset_df.shape)\n",
    "subset_df.head()"
   ]
  },
  {
   "cell_type": "markdown",
   "metadata": {
    "id": "H3J5IFV1LMLe"
   },
   "source": [
    "# Obtaining X and y"
   ]
  },
  {
   "cell_type": "markdown",
   "metadata": {
    "id": "B4wmtdEaLhBB"
   },
   "source": [
    "We also need to encode the categorical labels\n",
    "```\n",
    "CONFIRMED - 1\n",
    "FALSE POSITIVE - 0\n",
    "```"
   ]
  },
  {
   "cell_type": "code",
   "execution_count": 6,
   "metadata": {
    "id": "58FQu6EQI77h"
   },
   "outputs": [],
   "source": [
    "X = subset_df[TO_USE].values\n",
    "y = subset_df[\"koi_disposition\"].apply(lambda x: x=='CONFIRMED').astype(int).values"
   ]
  },
  {
   "cell_type": "code",
   "execution_count": 7,
   "metadata": {
    "colab": {
     "base_uri": "https://localhost:8080/",
     "height": 72
    },
    "id": "8-bTrk-GgGmk",
    "outputId": "e4906013-eefa-4c00-fc87-f1e4ba79b6f8"
   },
   "outputs": [
    {
     "data": {
      "text/plain": [
       "FALSE POSITIVE    4647\n",
       "CONFIRMED         2292\n",
       "Name: koi_disposition, dtype: int64"
      ]
     },
     "execution_count": 7,
     "metadata": {},
     "output_type": "execute_result"
    }
   ],
   "source": [
    "subset_df[\"koi_disposition\"].value_counts()"
   ]
  },
  {
   "cell_type": "markdown",
   "metadata": {
    "id": "V92lgWMJggpY"
   },
   "source": [
    "# PCA Visualisation"
   ]
  },
  {
   "cell_type": "code",
   "execution_count": 8,
   "metadata": {
    "colab": {
     "base_uri": "https://localhost:8080/",
     "height": 523
    },
    "id": "o_UmtwdLeX7y",
    "outputId": "eb44c0cc-286b-4ba3-a727-ee422ab73ce5"
   },
   "outputs": [
    {
     "data": {
      "image/png": "[encoded data removed]",
      "text/plain": [
       "<Figure size 576x576 with 1 Axes>"
      ]
     },
     "metadata": {
      "needs_background": "light"
     },
     "output_type": "display_data"
    }
   ],
   "source": [
    "x = StandardScaler().fit_transform(X)\n",
    "pca = PCA(n_components=2)\n",
    "principalComponents = pca.fit_transform(x)\n",
    "principalDf = pd.DataFrame(data = principalComponents, columns = ['principal component 1', 'principal component 2'])\n",
    "principalDf[\"TARGET\"] = y\n",
    "finalDf = principalDf\n",
    "fig = plt.figure(figsize = (8,8))\n",
    "ax = fig.add_subplot(1,1,1) \n",
    "ax.set_xlabel('Principal Component 1', fontsize = 15)\n",
    "ax.set_ylabel('Principal Component 2', fontsize = 15)\n",
    "ax.set_title('2 component PCA', fontsize = 20)\n",
    "targets = [1, 0]\n",
    "# print(finalDf)\n",
    "\n",
    "colors = ['r', 'g', 'b']\n",
    "for target, color in zip(targets,colors):\n",
    "    indicesToKeep = finalDf['TARGET'] == target\n",
    "    ax.scatter(finalDf.loc[indicesToKeep, 'principal component 1']\n",
    "               , finalDf.loc[indicesToKeep, 'principal component 2']\n",
    "               , c = color\n",
    "               , s = 50)\n",
    "ax.legend(targets)\n",
    "ax.grid()\n",
    "plt.show()"
   ]
  },
  {
   "cell_type": "markdown",
   "metadata": {},
   "source": [
    "# Splitting into Train and Test sets"
   ]
  },
  {
   "cell_type": "code",
   "execution_count": 37,
   "metadata": {},
   "outputs": [],
   "source": [
    "#X = StandardScaler().fit_transform(X)"
   ]
  },
  {
   "cell_type": "code",
   "execution_count": 38,
   "metadata": {},
   "outputs": [],
   "source": [
    "X_train, X_test, y_train, y_test = train_test_split(X, y, test_size=0.33, random_state=0)"
   ]
  },
  {
   "cell_type": "code",
   "execution_count": 39,
   "metadata": {},
   "outputs": [
    {
     "data": {
      "text/plain": [
       "((4649, 19), (2290, 19), (4649,), (2290,))"
      ]
     },
     "execution_count": 39,
     "metadata": {},
     "output_type": "execute_result"
    }
   ],
   "source": [
    "X_train.shape, X_test.shape, y_train.shape, y_test.shape"
   ]
  },
  {
   "cell_type": "markdown",
   "metadata": {},
   "source": [
    "# Defining Evaluation Metric "
   ]
  },
  {
   "cell_type": "markdown",
   "metadata": {},
   "source": [
    "Since the dataset is imbalanced, we cannot use accuracy, hence we opt for either of the following -\n",
    "* Confusion Matrix\n",
    "* F1 Score\n",
    "* Cohen Kappa Score\n",
    "* Balanced Accuracy Score"
   ]
  },
  {
   "cell_type": "code",
   "execution_count": 40,
   "metadata": {},
   "outputs": [],
   "source": [
    "def performance(test, pred):\n",
    "    conf_matrix = confusion_matrix(test, pred)\n",
    "    f1 = f1_score(test, pred)\n",
    "    report = classification_report(test, pred)\n",
    "    accuracy = balanced_accuracy_score(test, pred)\n",
    "    kappa = cohen_kappa_score(test, pred)\n",
    "    print(f\"F1 Score: {f1}\")\n",
    "    print(f\"Kappa Score: {kappa}\")\n",
    "    print(f\"Accuracy Score: {accuracy}\")\n",
    "    print(f\"Confusion Matrix:\\n{conf_matrix}\")\n",
    "    print(report)"
   ]
  },
  {
   "cell_type": "markdown",
   "metadata": {},
   "source": [
    "# To-Do\n",
    "\n",
    "* Cross Validation\n",
    "* Hyperparameter Tuning\n",
    "* Feature Selection"
   ]
  },
  {
   "cell_type": "markdown",
   "metadata": {},
   "source": [
    "# Decision Tree"
   ]
  },
  {
   "cell_type": "code",
   "execution_count": 41,
   "metadata": {
    "id": "Tg9UW139etAE"
   },
   "outputs": [],
   "source": [
    "# baseline model\n",
    "classifier = DecisionTreeClassifier(random_state=0)\n",
    "classifier.fit(X_train, y_train)\n",
    "pred = classifier.predict(X_test)"
   ]
  },
  {
   "cell_type": "code",
   "execution_count": 42,
   "metadata": {},
   "outputs": [
    {
     "name": "stdout",
     "output_type": "stream",
     "text": [
      "F1 Score: 0.9550408719346049\n",
      "Kappa Score: 0.9338328774511693\n",
      "Accuracy Score: 0.9662485661126965\n",
      "Confusion Matrix:\n",
      "[[1523   31]\n",
      " [  35  701]]\n",
      "              precision    recall  f1-score   support\n",
      "\n",
      "           0       0.98      0.98      0.98      1554\n",
      "           1       0.96      0.95      0.96       736\n",
      "\n",
      "    accuracy                           0.97      2290\n",
      "   macro avg       0.97      0.97      0.97      2290\n",
      "weighted avg       0.97      0.97      0.97      2290\n",
      "\n"
     ]
    }
   ],
   "source": [
    "performance(y_test, pred)"
   ]
  },
  {
   "cell_type": "code",
   "execution_count": 43,
   "metadata": {
    "scrolled": false
   },
   "outputs": [
    {
     "data": {
      "text/plain": [
       "'Decision Tree.pdf'"
      ]
     },
     "execution_count": 43,
     "metadata": {},
     "output_type": "execute_result"
    }
   ],
   "source": [
    "#tree.plot_tree(classifier, filled=True)\n",
    "dot_tree = tree.export_graphviz(\n",
    "    classifier,\n",
    "    feature_names=subset_df[TO_USE].columns,  \n",
    "    class_names=np.unique(subset_df[\"koi_disposition\"].values),  \n",
    "    filled=True, rounded=True,  \n",
    "    special_characters=True\n",
    ")\n",
    "graph = graphviz.Source(dot_tree) \n",
    "graph.render(\"Decision Tree\")\n",
    "#graph"
   ]
  },
  {
   "cell_type": "code",
   "execution_count": 44,
   "metadata": {
    "scrolled": true
   },
   "outputs": [
    {
     "data": {
      "text/plain": [
       "'text_graph = tree.export_text(\\n    classifier,\\n    feature_names=subset_df[TO_USE].columns.tolist()\\n)\\nprint(text_graph)'"
      ]
     },
     "execution_count": 44,
     "metadata": {},
     "output_type": "execute_result"
    }
   ],
   "source": [
    "\"\"\"text_graph = tree.export_text(\n",
    "    classifier,\n",
    "    feature_names=subset_df[TO_USE].columns.tolist()\n",
    ")\n",
    "print(text_graph)\"\"\""
   ]
  },
  {
   "cell_type": "markdown",
   "metadata": {},
   "source": [
    "## Hyperparameter Tuning for Decision Tree"
   ]
  },
  {
   "cell_type": "code",
   "execution_count": 45,
   "metadata": {},
   "outputs": [],
   "source": [
    "parameters = {\n",
    "    #\"criterion\":[\"gini\", \"entropy\"],\n",
    "    \"splitter\":[\"best\", \"random\"],\n",
    "    #\"max_depth\":[None] + np.linspace(1, 32, 32, endpoint=True).tolist(),\n",
    "    \"min_samples_split\":np.linspace(0, 1, 11, endpoint=True),\n",
    "    \"min_samples_leaf\":np.linspace(0, 0.5, 6, endpoint=True),\n",
    "    #\"max_features\":[None] + list(range(1,X_train.shape[1])),\n",
    "    \"min_weight_fraction_leaf\":np.linspace(0, 0.5, 6, endpoint=True),\n",
    "    \"random_state\":[0],\n",
    "    \"min_impurity_decrease\":np.linspace(0, 1, 10, endpoint=True),\n",
    "    \"class_weight\":[None, \"balanced\"],\n",
    "    #\"max_leaf_nodes\":[None] + np.linspace(1, 25, 25, endpoint=True).tolist(),\n",
    "    \"ccp_alpha\":np.linspace(0, 10, 11, endpoint=True)\n",
    "}\n",
    "\n",
    "scores = [\"f1\", \"balanced_accuracy\"]"
   ]
  },
  {
   "cell_type": "code",
   "execution_count": 46,
   "metadata": {},
   "outputs": [
    {
     "data": {
      "text/plain": [
       "'classifier = GridSearchCV(\\n    DecisionTreeClassifier(),\\n    param_grid=parameters,\\n    scoring=scores,\\n    refit=False,\\n    verbose=1,\\n    n_jobs=-1\\n)\\n\\nclassifier.fit(X_train, y_train)'"
      ]
     },
     "execution_count": 46,
     "metadata": {},
     "output_type": "execute_result"
    }
   ],
   "source": [
    "\"\"\"classifier = GridSearchCV(\n",
    "    DecisionTreeClassifier(),\n",
    "    param_grid=parameters,\n",
    "    scoring=scores,\n",
    "    refit=False,\n",
    "    verbose=1,\n",
    "    n_jobs=-1\n",
    ")\n",
    "\n",
    "classifier.fit(X_train, y_train)\"\"\""
   ]
  },
  {
   "cell_type": "markdown",
   "metadata": {},
   "source": [
    "# Random Forest"
   ]
  },
  {
   "cell_type": "code",
   "execution_count": 47,
   "metadata": {},
   "outputs": [
    {
     "name": "stderr",
     "output_type": "stream",
     "text": [
      "[Parallel(n_jobs=-1)]: Using backend ThreadingBackend with 8 concurrent workers.\n",
      "[Parallel(n_jobs=-1)]: Done  34 tasks      | elapsed:    0.2s\n",
      "[Parallel(n_jobs=-1)]: Done 100 out of 100 | elapsed:    0.5s finished\n",
      "[Parallel(n_jobs=8)]: Using backend ThreadingBackend with 8 concurrent workers.\n",
      "[Parallel(n_jobs=8)]: Done  34 tasks      | elapsed:    0.0s\n",
      "[Parallel(n_jobs=8)]: Done 100 out of 100 | elapsed:    0.0s finished\n"
     ]
    }
   ],
   "source": [
    "# baseline model\n",
    "classifier = RandomForestClassifier(random_state=0, n_jobs=-1, verbose=1)\n",
    "classifier.fit(X_train, y_train)\n",
    "pred = classifier.predict(X_test)"
   ]
  },
  {
   "cell_type": "code",
   "execution_count": 48,
   "metadata": {},
   "outputs": [
    {
     "name": "stdout",
     "output_type": "stream",
     "text": [
      "F1 Score: 0.9728978457261988\n",
      "Kappa Score: 0.9604909369367934\n",
      "Accuracy Score: 0.9745782272956186\n",
      "Confusion Matrix:\n",
      "[[1551    3]\n",
      " [  36  700]]\n",
      "              precision    recall  f1-score   support\n",
      "\n",
      "           0       0.98      1.00      0.99      1554\n",
      "           1       1.00      0.95      0.97       736\n",
      "\n",
      "    accuracy                           0.98      2290\n",
      "   macro avg       0.99      0.97      0.98      2290\n",
      "weighted avg       0.98      0.98      0.98      2290\n",
      "\n"
     ]
    }
   ],
   "source": [
    "performance(y_test, pred)"
   ]
  },
  {
   "cell_type": "markdown",
   "metadata": {},
   "source": [
    "## Hyperparameter Tuning for Random  Forest"
   ]
  },
  {
   "cell_type": "code",
   "execution_count": 49,
   "metadata": {},
   "outputs": [],
   "source": [
    "parameters = {\n",
    "    \"n_estimators\":np.arange(100,500,20),\n",
    "    #\"criterion\":[\"gini\", \"entropy\"],\n",
    "    #\"max_depth\":[None] + np.linspace(1, 32, 32, endpoint=True).tolist(),\n",
    "    #\"min_samples_split\":np.linspace(0, 1, 11, endpoint=True),\n",
    "    #\"min_samples_leaf\":np.linspace(0, 0.5, 6, endpoint=True),\n",
    "    #\"max_features\":[None] + list(range(1,X_train.shape[1])),\n",
    "    #\"min_weight_fraction_leaf\":np.linspace(0, 0.5, 6, endpoint=True),\n",
    "    \"random_state\":[0],\n",
    "    #\"oob_score\":[True, False],\n",
    "    #\"min_impurity_decrease\":np.linspace(0, 1, 10, endpoint=True),\n",
    "    #\"class_weight\":[None, \"balanced\", \"balanced_subsample\"],\n",
    "    #\"warm_start\":[True, False],\n",
    "    #\"max_leaf_nodes\":[None] + np.linspace(1, 25, 25, endpoint=True).tolist(),\n",
    "    #\"ccp_alpha\":np.linspace(0, 10, 11, endpoint=True)\n",
    "}\n",
    "\n",
    "scores = [\"f1\", \"balanced_accuracy\"]"
   ]
  },
  {
   "cell_type": "code",
   "execution_count": 50,
   "metadata": {},
   "outputs": [
    {
     "data": {
      "text/plain": [
       "'classifier = GridSearchCV(\\n    RandomForestClassifier(),\\n    param_grid=parameters,\\n    scoring=scores,\\n    refit=False,\\n    verbose=1,\\n    n_jobs=-1\\n)\\n\\nclassifier.fit(X_train, y_train)'"
      ]
     },
     "execution_count": 50,
     "metadata": {},
     "output_type": "execute_result"
    }
   ],
   "source": [
    "\"\"\"classifier = GridSearchCV(\n",
    "    RandomForestClassifier(),\n",
    "    param_grid=parameters,\n",
    "    scoring=scores,\n",
    "    refit=False,\n",
    "    verbose=1,\n",
    "    n_jobs=-1\n",
    ")\n",
    "\n",
    "classifier.fit(X_train, y_train)\"\"\""
   ]
  },
  {
   "cell_type": "markdown",
   "metadata": {},
   "source": [
    "# XGBoost"
   ]
  },
  {
   "cell_type": "code",
   "execution_count": 51,
   "metadata": {},
   "outputs": [
    {
     "data": {
      "text/plain": [
       "XGBClassifier(base_score=0.5, booster='gbtree', colsample_bylevel=1,\n",
       "              colsample_bynode=1, colsample_bytree=1, gamma=0, gpu_id=-1,\n",
       "              importance_type='gain', interaction_constraints='',\n",
       "              learning_rate=0.300000012, max_delta_step=0, max_depth=6,\n",
       "              min_child_weight=1, missing=nan, monotone_constraints='()',\n",
       "              n_estimators=100, n_jobs=-1, num_parallel_tree=1,\n",
       "              objective='binary:logistic', random_state=0, reg_alpha=0,\n",
       "              reg_lambda=1, scale_pos_weight=1, subsample=1,\n",
       "              tree_method='exact', validate_parameters=1, verbosity=None)"
      ]
     },
     "execution_count": 51,
     "metadata": {},
     "output_type": "execute_result"
    }
   ],
   "source": [
    "# baseline model\n",
    "classifier = XGBClassifier(random_state=0, n_jobs=-1)\n",
    "classifier.fit(X_train, y_train)"
   ]
  },
  {
   "cell_type": "code",
   "execution_count": 52,
   "metadata": {},
   "outputs": [
    {
     "name": "stdout",
     "output_type": "stream",
     "text": [
      "F1 Score: 0.9730476848652385\n",
      "Kappa Score: 0.9606049832424511\n",
      "Accuracy Score: 0.9760086173129652\n",
      "Confusion Matrix:\n",
      "[[1547    7]\n",
      " [  32  704]]\n",
      "              precision    recall  f1-score   support\n",
      "\n",
      "           0       0.98      1.00      0.99      1554\n",
      "           1       0.99      0.96      0.97       736\n",
      "\n",
      "    accuracy                           0.98      2290\n",
      "   macro avg       0.98      0.98      0.98      2290\n",
      "weighted avg       0.98      0.98      0.98      2290\n",
      "\n"
     ]
    }
   ],
   "source": [
    "pred = classifier.predict(X_test)\n",
    "performance(y_test, pred)"
   ]
  },
  {
   "cell_type": "markdown",
   "metadata": {},
   "source": [
    "## Hyperparameter Tuning for XGBoost"
   ]
  },
  {
   "cell_type": "code",
   "execution_count": 53,
   "metadata": {},
   "outputs": [],
   "source": [
    "parameters = {\n",
    "    \"n_estimators\":np.arange(100,500,20),\n",
    "    #\"criterion\":[\"gini\", \"entropy\"],\n",
    "    #\"max_depth\":[None] + np.linspace(1, 32, 32, endpoint=True).tolist(),\n",
    "    #\"min_samples_split\":np.linspace(0, 1, 11, endpoint=True),\n",
    "    #\"min_samples_leaf\":np.linspace(0, 0.5, 6, endpoint=True),\n",
    "    #\"max_features\":[None] + list(range(1,X_train.shape[1])),\n",
    "    #\"min_weight_fraction_leaf\":np.linspace(0, 0.5, 6, endpoint=True),\n",
    "    \"random_state\":[0],\n",
    "    #\"oob_score\":[True, False],\n",
    "    #\"min_impurity_decrease\":np.linspace(0, 1, 10, endpoint=True),\n",
    "    #\"class_weight\":[None, \"balanced\", \"balanced_subsample\"],\n",
    "    #\"warm_start\":[True, False],\n",
    "    #\"max_leaf_nodes\":[None] + np.linspace(1, 25, 25, endpoint=True).tolist(),\n",
    "    #\"ccp_alpha\":np.linspace(0, 10, 11, endpoint=True)\n",
    "}\n",
    "\n",
    "scores = [\"f1\", \"balanced_accuracy\"]"
   ]
  },
  {
   "cell_type": "code",
   "execution_count": 54,
   "metadata": {},
   "outputs": [
    {
     "data": {
      "text/plain": [
       "'classifier = GridSearchCV(\\n    XGBClassifier(),\\n    param_grid=parameters,\\n    scoring=scores,\\n    refit=False,\\n    verbose=1,\\n    n_jobs=-1\\n)\\n\\nclassifier.fit(X_train, y_train)'"
      ]
     },
     "execution_count": 54,
     "metadata": {},
     "output_type": "execute_result"
    }
   ],
   "source": [
    "\"\"\"classifier = GridSearchCV(\n",
    "    XGBClassifier(),\n",
    "    param_grid=parameters,\n",
    "    scoring=scores,\n",
    "    refit=False,\n",
    "    verbose=1,\n",
    "    n_jobs=-1\n",
    ")\n",
    "\n",
    "classifier.fit(X_train, y_train)\"\"\""
   ]
  },
  {
   "cell_type": "markdown",
   "metadata": {},
   "source": [
    "# Gradient Boosting Classifier"
   ]
  },
  {
   "cell_type": "code",
   "execution_count": 55,
   "metadata": {
    "scrolled": true
   },
   "outputs": [
    {
     "data": {
      "text/plain": [
       "GradientBoostingClassifier(ccp_alpha=0.0, criterion='friedman_mse', init=None,\n",
       "                           learning_rate=0.1, loss='deviance', max_depth=3,\n",
       "                           max_features=None, max_leaf_nodes=None,\n",
       "                           min_impurity_decrease=0.0, min_impurity_split=None,\n",
       "                           min_samples_leaf=1, min_samples_split=2,\n",
       "                           min_weight_fraction_leaf=0.0, n_estimators=100,\n",
       "                           n_iter_no_change=None, presort='deprecated',\n",
       "                           random_state=0, subsample=1.0, tol=0.0001,\n",
       "                           validation_fraction=0.1, verbose=0,\n",
       "                           warm_start=False)"
      ]
     },
     "execution_count": 55,
     "metadata": {},
     "output_type": "execute_result"
    }
   ],
   "source": [
    "# baseline model\n",
    "classifier = GradientBoostingClassifier(random_state=0)\n",
    "classifier.fit(X_train, y_train)"
   ]
  },
  {
   "cell_type": "code",
   "execution_count": 56,
   "metadata": {},
   "outputs": [
    {
     "name": "stdout",
     "output_type": "stream",
     "text": [
      "F1 Score: 0.9751381215469612\n",
      "Kappa Score: 0.9636484856181344\n",
      "Accuracy Score: 0.9776890632868893\n",
      "Confusion Matrix:\n",
      "[[1548    6]\n",
      " [  30  706]]\n",
      "              precision    recall  f1-score   support\n",
      "\n",
      "           0       0.98      1.00      0.99      1554\n",
      "           1       0.99      0.96      0.98       736\n",
      "\n",
      "    accuracy                           0.98      2290\n",
      "   macro avg       0.99      0.98      0.98      2290\n",
      "weighted avg       0.98      0.98      0.98      2290\n",
      "\n"
     ]
    }
   ],
   "source": [
    "pred = classifier.predict(X_test)\n",
    "performance(y_test, pred)"
   ]
  },
  {
   "cell_type": "markdown",
   "metadata": {},
   "source": [
    "## Hyperparameter Tuning for GBC"
   ]
  },
  {
   "cell_type": "code",
   "execution_count": 57,
   "metadata": {},
   "outputs": [],
   "source": [
    "parameters = {\n",
    "    \"n_estimators\":np.arange(100,500,20),\n",
    "    #\"criterion\":[\"gini\", \"entropy\"],\n",
    "    #\"max_depth\":[None] + np.linspace(1, 32, 32, endpoint=True).tolist(),\n",
    "    #\"min_samples_split\":np.linspace(0, 1, 11, endpoint=True),\n",
    "    #\"min_samples_leaf\":np.linspace(0, 0.5, 6, endpoint=True),\n",
    "    #\"max_features\":[None] + list(range(1,X_train.shape[1])),\n",
    "    #\"min_weight_fraction_leaf\":np.linspace(0, 0.5, 6, endpoint=True),\n",
    "    \"random_state\":[0],\n",
    "    #\"oob_score\":[True, False],\n",
    "    #\"min_impurity_decrease\":np.linspace(0, 1, 10, endpoint=True),\n",
    "    #\"class_weight\":[None, \"balanced\", \"balanced_subsample\"],\n",
    "    #\"warm_start\":[True, False],\n",
    "    #\"max_leaf_nodes\":[None] + np.linspace(1, 25, 25, endpoint=True).tolist(),\n",
    "    #\"ccp_alpha\":np.linspace(0, 10, 11, endpoint=True)\n",
    "}\n",
    "\n",
    "scores = [\"f1\", \"balanced_accuracy\"]"
   ]
  },
  {
   "cell_type": "code",
   "execution_count": 58,
   "metadata": {},
   "outputs": [
    {
     "data": {
      "text/plain": [
       "'classifier = GridSearchCV(\\n    GradientBoostingClassifier(),\\n    param_grid=parameters,\\n    scoring=scores,\\n    refit=False,\\n    verbose=1,\\n    n_jobs=-1\\n)\\n\\nclassifier.fit(X_train, y_train)'"
      ]
     },
     "execution_count": 58,
     "metadata": {},
     "output_type": "execute_result"
    }
   ],
   "source": [
    "\"\"\"classifier = GridSearchCV(\n",
    "    GradientBoostingClassifier(),\n",
    "    param_grid=parameters,\n",
    "    scoring=scores,\n",
    "    refit=False,\n",
    "    verbose=1,\n",
    "    n_jobs=-1\n",
    ")\n",
    "\n",
    "classifier.fit(X_train, y_train)\"\"\""
   ]
  },
  {
   "cell_type": "markdown",
   "metadata": {},
   "source": [
    "# Adaboost"
   ]
  },
  {
   "cell_type": "code",
   "execution_count": 59,
   "metadata": {},
   "outputs": [
    {
     "data": {
      "text/plain": [
       "AdaBoostClassifier(algorithm='SAMME.R', base_estimator=None, learning_rate=1.0,\n",
       "                   n_estimators=50, random_state=0)"
      ]
     },
     "execution_count": 59,
     "metadata": {},
     "output_type": "execute_result"
    }
   ],
   "source": [
    "# baseline model\n",
    "classifier = AdaBoostClassifier(random_state=0)\n",
    "classifier.fit(X_train, y_train)"
   ]
  },
  {
   "cell_type": "code",
   "execution_count": 60,
   "metadata": {},
   "outputs": [
    {
     "name": "stdout",
     "output_type": "stream",
     "text": [
      "F1 Score: 0.9717825189263591\n",
      "Kappa Score: 0.9586741938408747\n",
      "Accuracy Score: 0.9760803116781378\n",
      "Confusion Matrix:\n",
      "[[1543   11]\n",
      " [  30  706]]\n",
      "              precision    recall  f1-score   support\n",
      "\n",
      "           0       0.98      0.99      0.99      1554\n",
      "           1       0.98      0.96      0.97       736\n",
      "\n",
      "    accuracy                           0.98      2290\n",
      "   macro avg       0.98      0.98      0.98      2290\n",
      "weighted avg       0.98      0.98      0.98      2290\n",
      "\n"
     ]
    }
   ],
   "source": [
    "pred = classifier.predict(X_test)\n",
    "performance(y_test, pred)"
   ]
  },
  {
   "cell_type": "markdown",
   "metadata": {},
   "source": [
    "## Hyperparameter Tuning for AdaBoost"
   ]
  },
  {
   "cell_type": "code",
   "execution_count": 61,
   "metadata": {},
   "outputs": [],
   "source": [
    "parameters = {\n",
    "    \"n_estimators\":np.arange(100,500,20),\n",
    "    #\"criterion\":[\"gini\", \"entropy\"],\n",
    "    #\"max_depth\":[None] + np.linspace(1, 32, 32, endpoint=True).tolist(),\n",
    "    #\"min_samples_split\":np.linspace(0, 1, 11, endpoint=True),\n",
    "    #\"min_samples_leaf\":np.linspace(0, 0.5, 6, endpoint=True),\n",
    "    #\"max_features\":[None] + list(range(1,X_train.shape[1])),\n",
    "    #\"min_weight_fraction_leaf\":np.linspace(0, 0.5, 6, endpoint=True),\n",
    "    \"random_state\":[0],\n",
    "    #\"oob_score\":[True, False],\n",
    "    #\"min_impurity_decrease\":np.linspace(0, 1, 10, endpoint=True),\n",
    "    #\"class_weight\":[None, \"balanced\", \"balanced_subsample\"],\n",
    "    #\"warm_start\":[True, False],\n",
    "    #\"max_leaf_nodes\":[None] + np.linspace(1, 25, 25, endpoint=True).tolist(),\n",
    "    #\"ccp_alpha\":np.linspace(0, 10, 11, endpoint=True)\n",
    "}\n",
    "\n",
    "scores = [\"f1\", \"balanced_accuracy\"]"
   ]
  },
  {
   "cell_type": "code",
   "execution_count": 62,
   "metadata": {},
   "outputs": [
    {
     "data": {
      "text/plain": [
       "'classifier = GridSearchCV(\\n    AdaBoostClassifier(),\\n    param_grid=parameters,\\n    scoring=scores,\\n    refit=False,\\n    verbose=1,\\n    n_jobs=-1\\n)\\n\\nclassifier.fit(X_train, y_train)'"
      ]
     },
     "execution_count": 62,
     "metadata": {},
     "output_type": "execute_result"
    }
   ],
   "source": [
    "\"\"\"classifier = GridSearchCV(\n",
    "    AdaBoostClassifier(),\n",
    "    param_grid=parameters,\n",
    "    scoring=scores,\n",
    "    refit=False,\n",
    "    verbose=1,\n",
    "    n_jobs=-1\n",
    ")\n",
    "\n",
    "classifier.fit(X_train, y_train)\"\"\""
   ]
  }
 ],
 "metadata": {
  "colab": {
   "authorship_tag": "ABX9TyMbsS5xY6DgufDT++EgW7hD",
   "collapsed_sections": [],
   "include_colab_link": true,
   "name": "Prediction - ML",
   "provenance": []
  },
  "kernelspec": {
   "display_name": "Python 3",
   "language": "python",
   "name": "python3"
  },
  "language_info": {
   "codemirror_mode": {
    "name": "ipython",
    "version": 3
   },
   "file_extension": ".py",
   "mimetype": "text/x-python",
   "name": "python",
   "nbconvert_exporter": "python",
   "pygments_lexer": "ipython3",
   "version": "3.7.6"
  }
 },
 "nbformat": 4,
 "nbformat_minor": 1
}
