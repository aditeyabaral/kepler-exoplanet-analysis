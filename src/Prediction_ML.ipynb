{
 "cells": [
  {
   "cell_type": "markdown",
   "metadata": {
    "colab_type": "text",
    "id": "view-in-github"
   },
   "source": [
    "<a href=\"https://colab.research.google.com/github/aditeyabaral/kepler-exoplanet-analysis/blob/master/src/Prediction_ML.ipynb\" target=\"_parent\"><img src=\"https://colab.research.google.com/assets/colab-badge.svg\" alt=\"Open In Colab\"/></a>"
   ]
  },
  {
   "cell_type": "markdown",
   "metadata": {
    "id": "w2LFieS3KwCk"
   },
   "source": [
    "# Importing Libraries"
   ]
  },
  {
   "cell_type": "code",
   "execution_count": 1,
   "metadata": {
    "id": "xn5hXmyKFst3"
   },
   "outputs": [],
   "source": [
    "import joblib\n",
    "import numpy as np\n",
    "import pandas as pd\n",
    "import matplotlib.cm as cm\n",
    "import matplotlib.pyplot as plt\n",
    "from sklearn.preprocessing import StandardScaler\n",
    "from sklearn.decomposition import PCA\n",
    "from sklearn.svm import SVC\n",
    "from sklearn.model_selection import train_test_split, GridSearchCV, KFold, StratifiedKFold, cross_val_score\n",
    "from sklearn.metrics import confusion_matrix, balanced_accuracy_score, classification_report, cohen_kappa_score, f1_score\n",
    "from sklearn.ensemble import RandomForestClassifier, AdaBoostClassifier"
   ]
  },
  {
   "cell_type": "markdown",
   "metadata": {
    "id": "b6Z6S7f2KyaQ"
   },
   "source": [
    "# Loading Dataframe"
   ]
  },
  {
   "cell_type": "code",
   "execution_count": 2,
   "metadata": {
    "colab": {
     "base_uri": "https://localhost:8080/",
     "height": 244
    },
    "id": "lpNWf42RFz67",
    "outputId": "1227cf42-9445-4105-edff-43a81a19b749"
   },
   "outputs": [
    {
     "name": "stdout",
     "output_type": "stream",
     "text": [
      "(9110, 47)\n"
     ]
    },
    {
     "data": {
      "text/html": [
       "<div>\n",
       "<style scoped>\n",
       "    .dataframe tbody tr th:only-of-type {\n",
       "        vertical-align: middle;\n",
       "    }\n",
       "\n",
       "    .dataframe tbody tr th {\n",
       "        vertical-align: top;\n",
       "    }\n",
       "\n",
       "    .dataframe thead th {\n",
       "        text-align: right;\n",
       "    }\n",
       "</style>\n",
       "<table border=\"1\" class=\"dataframe\">\n",
       "  <thead>\n",
       "    <tr style=\"text-align: right;\">\n",
       "      <th></th>\n",
       "      <th>rowid</th>\n",
       "      <th>kepid</th>\n",
       "      <th>kepoi_name</th>\n",
       "      <th>koi_disposition</th>\n",
       "      <th>koi_pdisposition</th>\n",
       "      <th>koi_score</th>\n",
       "      <th>koi_fpflag_nt</th>\n",
       "      <th>koi_fpflag_ss</th>\n",
       "      <th>koi_fpflag_co</th>\n",
       "      <th>koi_fpflag_ec</th>\n",
       "      <th>...</th>\n",
       "      <th>koi_steff_err2</th>\n",
       "      <th>koi_slogg</th>\n",
       "      <th>koi_slogg_err1</th>\n",
       "      <th>koi_slogg_err2</th>\n",
       "      <th>koi_srad</th>\n",
       "      <th>koi_srad_err1</th>\n",
       "      <th>koi_srad_err2</th>\n",
       "      <th>ra</th>\n",
       "      <th>dec</th>\n",
       "      <th>koi_kepmag</th>\n",
       "    </tr>\n",
       "  </thead>\n",
       "  <tbody>\n",
       "    <tr>\n",
       "      <th>0</th>\n",
       "      <td>1</td>\n",
       "      <td>10797460</td>\n",
       "      <td>K00752.01</td>\n",
       "      <td>CONFIRMED</td>\n",
       "      <td>CANDIDATE</td>\n",
       "      <td>1.000</td>\n",
       "      <td>0</td>\n",
       "      <td>0</td>\n",
       "      <td>0</td>\n",
       "      <td>0</td>\n",
       "      <td>...</td>\n",
       "      <td>-81.0</td>\n",
       "      <td>4.467</td>\n",
       "      <td>0.064</td>\n",
       "      <td>-0.096</td>\n",
       "      <td>0.927</td>\n",
       "      <td>0.105</td>\n",
       "      <td>-0.061</td>\n",
       "      <td>291.93423</td>\n",
       "      <td>48.141651</td>\n",
       "      <td>15.347</td>\n",
       "    </tr>\n",
       "    <tr>\n",
       "      <th>1</th>\n",
       "      <td>2</td>\n",
       "      <td>10797460</td>\n",
       "      <td>K00752.02</td>\n",
       "      <td>CONFIRMED</td>\n",
       "      <td>CANDIDATE</td>\n",
       "      <td>0.969</td>\n",
       "      <td>0</td>\n",
       "      <td>0</td>\n",
       "      <td>0</td>\n",
       "      <td>0</td>\n",
       "      <td>...</td>\n",
       "      <td>-81.0</td>\n",
       "      <td>4.467</td>\n",
       "      <td>0.064</td>\n",
       "      <td>-0.096</td>\n",
       "      <td>0.927</td>\n",
       "      <td>0.105</td>\n",
       "      <td>-0.061</td>\n",
       "      <td>291.93423</td>\n",
       "      <td>48.141651</td>\n",
       "      <td>15.347</td>\n",
       "    </tr>\n",
       "    <tr>\n",
       "      <th>2</th>\n",
       "      <td>3</td>\n",
       "      <td>10811496</td>\n",
       "      <td>K00753.01</td>\n",
       "      <td>FALSE POSITIVE</td>\n",
       "      <td>FALSE POSITIVE</td>\n",
       "      <td>0.000</td>\n",
       "      <td>0</td>\n",
       "      <td>1</td>\n",
       "      <td>0</td>\n",
       "      <td>0</td>\n",
       "      <td>...</td>\n",
       "      <td>-176.0</td>\n",
       "      <td>4.544</td>\n",
       "      <td>0.044</td>\n",
       "      <td>-0.176</td>\n",
       "      <td>0.868</td>\n",
       "      <td>0.233</td>\n",
       "      <td>-0.078</td>\n",
       "      <td>297.00482</td>\n",
       "      <td>48.134129</td>\n",
       "      <td>15.436</td>\n",
       "    </tr>\n",
       "    <tr>\n",
       "      <th>3</th>\n",
       "      <td>4</td>\n",
       "      <td>10848459</td>\n",
       "      <td>K00754.01</td>\n",
       "      <td>FALSE POSITIVE</td>\n",
       "      <td>FALSE POSITIVE</td>\n",
       "      <td>0.000</td>\n",
       "      <td>0</td>\n",
       "      <td>1</td>\n",
       "      <td>0</td>\n",
       "      <td>0</td>\n",
       "      <td>...</td>\n",
       "      <td>-174.0</td>\n",
       "      <td>4.564</td>\n",
       "      <td>0.053</td>\n",
       "      <td>-0.168</td>\n",
       "      <td>0.791</td>\n",
       "      <td>0.201</td>\n",
       "      <td>-0.067</td>\n",
       "      <td>285.53461</td>\n",
       "      <td>48.285210</td>\n",
       "      <td>15.597</td>\n",
       "    </tr>\n",
       "    <tr>\n",
       "      <th>4</th>\n",
       "      <td>5</td>\n",
       "      <td>10854555</td>\n",
       "      <td>K00755.01</td>\n",
       "      <td>CONFIRMED</td>\n",
       "      <td>CANDIDATE</td>\n",
       "      <td>1.000</td>\n",
       "      <td>0</td>\n",
       "      <td>0</td>\n",
       "      <td>0</td>\n",
       "      <td>0</td>\n",
       "      <td>...</td>\n",
       "      <td>-211.0</td>\n",
       "      <td>4.438</td>\n",
       "      <td>0.070</td>\n",
       "      <td>-0.210</td>\n",
       "      <td>1.046</td>\n",
       "      <td>0.334</td>\n",
       "      <td>-0.133</td>\n",
       "      <td>288.75488</td>\n",
       "      <td>48.226200</td>\n",
       "      <td>15.509</td>\n",
       "    </tr>\n",
       "  </tbody>\n",
       "</table>\n",
       "<p>5 rows × 47 columns</p>\n",
       "</div>"
      ],
      "text/plain": [
       "   rowid     kepid kepoi_name koi_disposition koi_pdisposition  koi_score  \\\n",
       "0      1  10797460  K00752.01       CONFIRMED        CANDIDATE      1.000   \n",
       "1      2  10797460  K00752.02       CONFIRMED        CANDIDATE      0.969   \n",
       "2      3  10811496  K00753.01  FALSE POSITIVE   FALSE POSITIVE      0.000   \n",
       "3      4  10848459  K00754.01  FALSE POSITIVE   FALSE POSITIVE      0.000   \n",
       "4      5  10854555  K00755.01       CONFIRMED        CANDIDATE      1.000   \n",
       "\n",
       "   koi_fpflag_nt  koi_fpflag_ss  koi_fpflag_co  koi_fpflag_ec  ...  \\\n",
       "0              0              0              0              0  ...   \n",
       "1              0              0              0              0  ...   \n",
       "2              0              1              0              0  ...   \n",
       "3              0              1              0              0  ...   \n",
       "4              0              0              0              0  ...   \n",
       "\n",
       "   koi_steff_err2  koi_slogg  koi_slogg_err1  koi_slogg_err2  koi_srad  \\\n",
       "0           -81.0      4.467           0.064          -0.096     0.927   \n",
       "1           -81.0      4.467           0.064          -0.096     0.927   \n",
       "2          -176.0      4.544           0.044          -0.176     0.868   \n",
       "3          -174.0      4.564           0.053          -0.168     0.791   \n",
       "4          -211.0      4.438           0.070          -0.210     1.046   \n",
       "\n",
       "   koi_srad_err1  koi_srad_err2         ra        dec  koi_kepmag  \n",
       "0          0.105         -0.061  291.93423  48.141651      15.347  \n",
       "1          0.105         -0.061  291.93423  48.141651      15.347  \n",
       "2          0.233         -0.078  297.00482  48.134129      15.436  \n",
       "3          0.201         -0.067  285.53461  48.285210      15.597  \n",
       "4          0.334         -0.133  288.75488  48.226200      15.509  \n",
       "\n",
       "[5 rows x 47 columns]"
      ]
     },
     "execution_count": 2,
     "metadata": {},
     "output_type": "execute_result"
    }
   ],
   "source": [
    "df = pd.read_csv(\"../data/[CLEANED]kepler-data.csv\")\n",
    "df.drop(columns = [\"Unnamed: 0\"], inplace=True)\n",
    "print(df.shape)\n",
    "df.head()"
   ]
  },
  {
   "cell_type": "markdown",
   "metadata": {
    "id": "xURWVKqlK0EE"
   },
   "source": [
    "# Selecting Columns for Prediction"
   ]
  },
  {
   "cell_type": "markdown",
   "metadata": {},
   "source": [
    "We eliminate all the columns that are either of the following\n",
    "* Assigned after other values are measured from readings\n",
    "* Contain ID or name attributes\n",
    "* Are error attributes"
   ]
  },
  {
   "cell_type": "code",
   "execution_count": 3,
   "metadata": {
    "id": "QhMEJHHKGGyf"
   },
   "outputs": [],
   "source": [
    "ALL_COLUMNS = df.columns\n",
    "ERROR_COLUMNS = [col for col in ALL_COLUMNS if \"err\" in col]\n",
    "EXCLUDE = [\"rowid\", \"kepid\", \"kepoi_name\", \"koi_score\", \"koi_disposition\", \"koi_pdisposition\", \"koi_tce_delivname\", \"koi_tce_plnt_num\"] + ERROR_COLUMNS\n",
    "TO_USE = list(set(ALL_COLUMNS) - set(EXCLUDE))"
   ]
  },
  {
   "cell_type": "code",
   "execution_count": 4,
   "metadata": {
    "colab": {
     "base_uri": "https://localhost:8080/",
     "height": 244
    },
    "id": "HE8RuNd1Hq2_",
    "outputId": "517533aa-41c8-459f-aa1b-fe02f5e0a959"
   },
   "outputs": [
    {
     "name": "stdout",
     "output_type": "stream",
     "text": [
      "19\n"
     ]
    },
    {
     "data": {
      "text/html": [
       "<div>\n",
       "<style scoped>\n",
       "    .dataframe tbody tr th:only-of-type {\n",
       "        vertical-align: middle;\n",
       "    }\n",
       "\n",
       "    .dataframe tbody tr th {\n",
       "        vertical-align: top;\n",
       "    }\n",
       "\n",
       "    .dataframe thead th {\n",
       "        text-align: right;\n",
       "    }\n",
       "</style>\n",
       "<table border=\"1\" class=\"dataframe\">\n",
       "  <thead>\n",
       "    <tr style=\"text-align: right;\">\n",
       "      <th></th>\n",
       "      <th>koi_impact</th>\n",
       "      <th>dec</th>\n",
       "      <th>koi_model_snr</th>\n",
       "      <th>koi_srad</th>\n",
       "      <th>ra</th>\n",
       "      <th>koi_kepmag</th>\n",
       "      <th>koi_depth</th>\n",
       "      <th>koi_steff</th>\n",
       "      <th>koi_fpflag_nt</th>\n",
       "      <th>koi_insol</th>\n",
       "      <th>koi_teq</th>\n",
       "      <th>koi_fpflag_ss</th>\n",
       "      <th>koi_fpflag_ec</th>\n",
       "      <th>koi_fpflag_co</th>\n",
       "      <th>koi_slogg</th>\n",
       "      <th>koi_duration</th>\n",
       "      <th>koi_prad</th>\n",
       "      <th>koi_time0bk</th>\n",
       "      <th>koi_period</th>\n",
       "    </tr>\n",
       "  </thead>\n",
       "  <tbody>\n",
       "    <tr>\n",
       "      <th>0</th>\n",
       "      <td>0.146</td>\n",
       "      <td>48.141651</td>\n",
       "      <td>35.8</td>\n",
       "      <td>0.927</td>\n",
       "      <td>291.93423</td>\n",
       "      <td>15.347</td>\n",
       "      <td>615.8</td>\n",
       "      <td>5455.0</td>\n",
       "      <td>0</td>\n",
       "      <td>93.59</td>\n",
       "      <td>793.0</td>\n",
       "      <td>0</td>\n",
       "      <td>0</td>\n",
       "      <td>0</td>\n",
       "      <td>4.467</td>\n",
       "      <td>2.95750</td>\n",
       "      <td>2.26</td>\n",
       "      <td>170.538750</td>\n",
       "      <td>9.488036</td>\n",
       "    </tr>\n",
       "    <tr>\n",
       "      <th>1</th>\n",
       "      <td>0.586</td>\n",
       "      <td>48.141651</td>\n",
       "      <td>25.8</td>\n",
       "      <td>0.927</td>\n",
       "      <td>291.93423</td>\n",
       "      <td>15.347</td>\n",
       "      <td>874.8</td>\n",
       "      <td>5455.0</td>\n",
       "      <td>0</td>\n",
       "      <td>9.11</td>\n",
       "      <td>443.0</td>\n",
       "      <td>0</td>\n",
       "      <td>0</td>\n",
       "      <td>0</td>\n",
       "      <td>4.467</td>\n",
       "      <td>4.50700</td>\n",
       "      <td>2.83</td>\n",
       "      <td>162.513840</td>\n",
       "      <td>54.418383</td>\n",
       "    </tr>\n",
       "    <tr>\n",
       "      <th>2</th>\n",
       "      <td>0.969</td>\n",
       "      <td>48.134129</td>\n",
       "      <td>76.3</td>\n",
       "      <td>0.868</td>\n",
       "      <td>297.00482</td>\n",
       "      <td>15.436</td>\n",
       "      <td>10829.0</td>\n",
       "      <td>5853.0</td>\n",
       "      <td>0</td>\n",
       "      <td>39.30</td>\n",
       "      <td>638.0</td>\n",
       "      <td>1</td>\n",
       "      <td>0</td>\n",
       "      <td>0</td>\n",
       "      <td>4.544</td>\n",
       "      <td>1.78220</td>\n",
       "      <td>14.60</td>\n",
       "      <td>175.850252</td>\n",
       "      <td>19.899140</td>\n",
       "    </tr>\n",
       "    <tr>\n",
       "      <th>3</th>\n",
       "      <td>1.276</td>\n",
       "      <td>48.285210</td>\n",
       "      <td>505.6</td>\n",
       "      <td>0.791</td>\n",
       "      <td>285.53461</td>\n",
       "      <td>15.597</td>\n",
       "      <td>8079.2</td>\n",
       "      <td>5805.0</td>\n",
       "      <td>0</td>\n",
       "      <td>891.96</td>\n",
       "      <td>1395.0</td>\n",
       "      <td>1</td>\n",
       "      <td>0</td>\n",
       "      <td>0</td>\n",
       "      <td>4.564</td>\n",
       "      <td>2.40641</td>\n",
       "      <td>33.46</td>\n",
       "      <td>170.307565</td>\n",
       "      <td>1.736952</td>\n",
       "    </tr>\n",
       "    <tr>\n",
       "      <th>4</th>\n",
       "      <td>0.701</td>\n",
       "      <td>48.226200</td>\n",
       "      <td>40.9</td>\n",
       "      <td>1.046</td>\n",
       "      <td>288.75488</td>\n",
       "      <td>15.509</td>\n",
       "      <td>603.3</td>\n",
       "      <td>6031.0</td>\n",
       "      <td>0</td>\n",
       "      <td>926.16</td>\n",
       "      <td>1406.0</td>\n",
       "      <td>0</td>\n",
       "      <td>0</td>\n",
       "      <td>0</td>\n",
       "      <td>4.438</td>\n",
       "      <td>1.65450</td>\n",
       "      <td>2.75</td>\n",
       "      <td>171.595550</td>\n",
       "      <td>2.525592</td>\n",
       "    </tr>\n",
       "  </tbody>\n",
       "</table>\n",
       "</div>"
      ],
      "text/plain": [
       "   koi_impact        dec  koi_model_snr  koi_srad         ra  koi_kepmag  \\\n",
       "0       0.146  48.141651           35.8     0.927  291.93423      15.347   \n",
       "1       0.586  48.141651           25.8     0.927  291.93423      15.347   \n",
       "2       0.969  48.134129           76.3     0.868  297.00482      15.436   \n",
       "3       1.276  48.285210          505.6     0.791  285.53461      15.597   \n",
       "4       0.701  48.226200           40.9     1.046  288.75488      15.509   \n",
       "\n",
       "   koi_depth  koi_steff  koi_fpflag_nt  koi_insol  koi_teq  koi_fpflag_ss  \\\n",
       "0      615.8     5455.0              0      93.59    793.0              0   \n",
       "1      874.8     5455.0              0       9.11    443.0              0   \n",
       "2    10829.0     5853.0              0      39.30    638.0              1   \n",
       "3     8079.2     5805.0              0     891.96   1395.0              1   \n",
       "4      603.3     6031.0              0     926.16   1406.0              0   \n",
       "\n",
       "   koi_fpflag_ec  koi_fpflag_co  koi_slogg  koi_duration  koi_prad  \\\n",
       "0              0              0      4.467       2.95750      2.26   \n",
       "1              0              0      4.467       4.50700      2.83   \n",
       "2              0              0      4.544       1.78220     14.60   \n",
       "3              0              0      4.564       2.40641     33.46   \n",
       "4              0              0      4.438       1.65450      2.75   \n",
       "\n",
       "   koi_time0bk  koi_period  \n",
       "0   170.538750    9.488036  \n",
       "1   162.513840   54.418383  \n",
       "2   175.850252   19.899140  \n",
       "3   170.307565    1.736952  \n",
       "4   171.595550    2.525592  "
      ]
     },
     "execution_count": 4,
     "metadata": {},
     "output_type": "execute_result"
    }
   ],
   "source": [
    "print(len(TO_USE))\n",
    "df[TO_USE].head()"
   ]
  },
  {
   "cell_type": "markdown",
   "metadata": {
    "id": "WeRowrdgK5KY"
   },
   "source": [
    "# Extracting Dataframe Subset"
   ]
  },
  {
   "cell_type": "markdown",
   "metadata": {
    "id": "Y9WAiguDKvDt"
   },
   "source": [
    "We extract only those rows which are either positive or negative examples i.e. the `disposition value` is *not* `CANDIDATE`. This is because `CANDIDATE` is the **default value** for all obects of interest picked up by Kepler. The labels `CONFIRMED` and `FALSE POSITIVE` serve as our positive and negative labels"
   ]
  },
  {
   "cell_type": "markdown",
   "metadata": {},
   "source": [
    "#### Difference between disposition and pdisposition?\n",
    "\n",
    "We can use either of the two columns as our target variable, since both of them contain the target labels we desire. While `pdisposition` gives us the **most probable labels based on the physical explanation given by the readings**, `disposition` values are based on **the NASA Exoplanet Archive Data**.  "
   ]
  },
  {
   "cell_type": "code",
   "execution_count": 5,
   "metadata": {},
   "outputs": [
    {
     "data": {
      "text/plain": [
       "array(['CANDIDATE', 'CONFIRMED', 'FALSE POSITIVE'], dtype=object)"
      ]
     },
     "execution_count": 5,
     "metadata": {},
     "output_type": "execute_result"
    }
   ],
   "source": [
    "np.unique(df[\"koi_disposition\"].values)"
   ]
  },
  {
   "cell_type": "code",
   "execution_count": 6,
   "metadata": {
    "colab": {
     "base_uri": "https://localhost:8080/",
     "height": 244
    },
    "id": "f9oJkJ8-KKL9",
    "outputId": "b6f16395-f433-4e5b-ece9-7ddb2dab3d37"
   },
   "outputs": [
    {
     "name": "stdout",
     "output_type": "stream",
     "text": [
      "(6939, 47)\n"
     ]
    },
    {
     "data": {
      "text/html": [
       "<div>\n",
       "<style scoped>\n",
       "    .dataframe tbody tr th:only-of-type {\n",
       "        vertical-align: middle;\n",
       "    }\n",
       "\n",
       "    .dataframe tbody tr th {\n",
       "        vertical-align: top;\n",
       "    }\n",
       "\n",
       "    .dataframe thead th {\n",
       "        text-align: right;\n",
       "    }\n",
       "</style>\n",
       "<table border=\"1\" class=\"dataframe\">\n",
       "  <thead>\n",
       "    <tr style=\"text-align: right;\">\n",
       "      <th></th>\n",
       "      <th>rowid</th>\n",
       "      <th>kepid</th>\n",
       "      <th>kepoi_name</th>\n",
       "      <th>koi_disposition</th>\n",
       "      <th>koi_pdisposition</th>\n",
       "      <th>koi_score</th>\n",
       "      <th>koi_fpflag_nt</th>\n",
       "      <th>koi_fpflag_ss</th>\n",
       "      <th>koi_fpflag_co</th>\n",
       "      <th>koi_fpflag_ec</th>\n",
       "      <th>...</th>\n",
       "      <th>koi_steff_err2</th>\n",
       "      <th>koi_slogg</th>\n",
       "      <th>koi_slogg_err1</th>\n",
       "      <th>koi_slogg_err2</th>\n",
       "      <th>koi_srad</th>\n",
       "      <th>koi_srad_err1</th>\n",
       "      <th>koi_srad_err2</th>\n",
       "      <th>ra</th>\n",
       "      <th>dec</th>\n",
       "      <th>koi_kepmag</th>\n",
       "    </tr>\n",
       "  </thead>\n",
       "  <tbody>\n",
       "    <tr>\n",
       "      <th>0</th>\n",
       "      <td>1</td>\n",
       "      <td>10797460</td>\n",
       "      <td>K00752.01</td>\n",
       "      <td>CONFIRMED</td>\n",
       "      <td>CANDIDATE</td>\n",
       "      <td>1.000</td>\n",
       "      <td>0</td>\n",
       "      <td>0</td>\n",
       "      <td>0</td>\n",
       "      <td>0</td>\n",
       "      <td>...</td>\n",
       "      <td>-81.0</td>\n",
       "      <td>4.467</td>\n",
       "      <td>0.064</td>\n",
       "      <td>-0.096</td>\n",
       "      <td>0.927</td>\n",
       "      <td>0.105</td>\n",
       "      <td>-0.061</td>\n",
       "      <td>291.93423</td>\n",
       "      <td>48.141651</td>\n",
       "      <td>15.347</td>\n",
       "    </tr>\n",
       "    <tr>\n",
       "      <th>1</th>\n",
       "      <td>2</td>\n",
       "      <td>10797460</td>\n",
       "      <td>K00752.02</td>\n",
       "      <td>CONFIRMED</td>\n",
       "      <td>CANDIDATE</td>\n",
       "      <td>0.969</td>\n",
       "      <td>0</td>\n",
       "      <td>0</td>\n",
       "      <td>0</td>\n",
       "      <td>0</td>\n",
       "      <td>...</td>\n",
       "      <td>-81.0</td>\n",
       "      <td>4.467</td>\n",
       "      <td>0.064</td>\n",
       "      <td>-0.096</td>\n",
       "      <td>0.927</td>\n",
       "      <td>0.105</td>\n",
       "      <td>-0.061</td>\n",
       "      <td>291.93423</td>\n",
       "      <td>48.141651</td>\n",
       "      <td>15.347</td>\n",
       "    </tr>\n",
       "    <tr>\n",
       "      <th>2</th>\n",
       "      <td>3</td>\n",
       "      <td>10811496</td>\n",
       "      <td>K00753.01</td>\n",
       "      <td>FALSE POSITIVE</td>\n",
       "      <td>FALSE POSITIVE</td>\n",
       "      <td>0.000</td>\n",
       "      <td>0</td>\n",
       "      <td>1</td>\n",
       "      <td>0</td>\n",
       "      <td>0</td>\n",
       "      <td>...</td>\n",
       "      <td>-176.0</td>\n",
       "      <td>4.544</td>\n",
       "      <td>0.044</td>\n",
       "      <td>-0.176</td>\n",
       "      <td>0.868</td>\n",
       "      <td>0.233</td>\n",
       "      <td>-0.078</td>\n",
       "      <td>297.00482</td>\n",
       "      <td>48.134129</td>\n",
       "      <td>15.436</td>\n",
       "    </tr>\n",
       "    <tr>\n",
       "      <th>3</th>\n",
       "      <td>4</td>\n",
       "      <td>10848459</td>\n",
       "      <td>K00754.01</td>\n",
       "      <td>FALSE POSITIVE</td>\n",
       "      <td>FALSE POSITIVE</td>\n",
       "      <td>0.000</td>\n",
       "      <td>0</td>\n",
       "      <td>1</td>\n",
       "      <td>0</td>\n",
       "      <td>0</td>\n",
       "      <td>...</td>\n",
       "      <td>-174.0</td>\n",
       "      <td>4.564</td>\n",
       "      <td>0.053</td>\n",
       "      <td>-0.168</td>\n",
       "      <td>0.791</td>\n",
       "      <td>0.201</td>\n",
       "      <td>-0.067</td>\n",
       "      <td>285.53461</td>\n",
       "      <td>48.285210</td>\n",
       "      <td>15.597</td>\n",
       "    </tr>\n",
       "    <tr>\n",
       "      <th>4</th>\n",
       "      <td>5</td>\n",
       "      <td>10854555</td>\n",
       "      <td>K00755.01</td>\n",
       "      <td>CONFIRMED</td>\n",
       "      <td>CANDIDATE</td>\n",
       "      <td>1.000</td>\n",
       "      <td>0</td>\n",
       "      <td>0</td>\n",
       "      <td>0</td>\n",
       "      <td>0</td>\n",
       "      <td>...</td>\n",
       "      <td>-211.0</td>\n",
       "      <td>4.438</td>\n",
       "      <td>0.070</td>\n",
       "      <td>-0.210</td>\n",
       "      <td>1.046</td>\n",
       "      <td>0.334</td>\n",
       "      <td>-0.133</td>\n",
       "      <td>288.75488</td>\n",
       "      <td>48.226200</td>\n",
       "      <td>15.509</td>\n",
       "    </tr>\n",
       "  </tbody>\n",
       "</table>\n",
       "<p>5 rows × 47 columns</p>\n",
       "</div>"
      ],
      "text/plain": [
       "   rowid     kepid kepoi_name koi_disposition koi_pdisposition  koi_score  \\\n",
       "0      1  10797460  K00752.01       CONFIRMED        CANDIDATE      1.000   \n",
       "1      2  10797460  K00752.02       CONFIRMED        CANDIDATE      0.969   \n",
       "2      3  10811496  K00753.01  FALSE POSITIVE   FALSE POSITIVE      0.000   \n",
       "3      4  10848459  K00754.01  FALSE POSITIVE   FALSE POSITIVE      0.000   \n",
       "4      5  10854555  K00755.01       CONFIRMED        CANDIDATE      1.000   \n",
       "\n",
       "   koi_fpflag_nt  koi_fpflag_ss  koi_fpflag_co  koi_fpflag_ec  ...  \\\n",
       "0              0              0              0              0  ...   \n",
       "1              0              0              0              0  ...   \n",
       "2              0              1              0              0  ...   \n",
       "3              0              1              0              0  ...   \n",
       "4              0              0              0              0  ...   \n",
       "\n",
       "   koi_steff_err2  koi_slogg  koi_slogg_err1  koi_slogg_err2  koi_srad  \\\n",
       "0           -81.0      4.467           0.064          -0.096     0.927   \n",
       "1           -81.0      4.467           0.064          -0.096     0.927   \n",
       "2          -176.0      4.544           0.044          -0.176     0.868   \n",
       "3          -174.0      4.564           0.053          -0.168     0.791   \n",
       "4          -211.0      4.438           0.070          -0.210     1.046   \n",
       "\n",
       "   koi_srad_err1  koi_srad_err2         ra        dec  koi_kepmag  \n",
       "0          0.105         -0.061  291.93423  48.141651      15.347  \n",
       "1          0.105         -0.061  291.93423  48.141651      15.347  \n",
       "2          0.233         -0.078  297.00482  48.134129      15.436  \n",
       "3          0.201         -0.067  285.53461  48.285210      15.597  \n",
       "4          0.334         -0.133  288.75488  48.226200      15.509  \n",
       "\n",
       "[5 rows x 47 columns]"
      ]
     },
     "execution_count": 6,
     "metadata": {},
     "output_type": "execute_result"
    }
   ],
   "source": [
    "subset_df = df[df[\"koi_disposition\"] != \"CANDIDATE\"]\n",
    "print(subset_df.shape)\n",
    "subset_df.head()"
   ]
  },
  {
   "cell_type": "markdown",
   "metadata": {
    "id": "H3J5IFV1LMLe"
   },
   "source": [
    "# Obtaining X and y"
   ]
  },
  {
   "cell_type": "markdown",
   "metadata": {
    "id": "B4wmtdEaLhBB"
   },
   "source": [
    "We can encode the categorical labels to 1 and 0 for easier comparison\n",
    "```\n",
    "CONFIRMED - 1\n",
    "FALSE POSITIVE - 0\n",
    "```"
   ]
  },
  {
   "cell_type": "code",
   "execution_count": 7,
   "metadata": {
    "id": "58FQu6EQI77h"
   },
   "outputs": [],
   "source": [
    "X = subset_df[TO_USE].values\n",
    "y = subset_df[\"koi_disposition\"].apply(lambda x: x=='CONFIRMED').astype(int).values"
   ]
  },
  {
   "cell_type": "code",
   "execution_count": 8,
   "metadata": {
    "colab": {
     "base_uri": "https://localhost:8080/",
     "height": 72
    },
    "id": "8-bTrk-GgGmk",
    "outputId": "e4906013-eefa-4c00-fc87-f1e4ba79b6f8"
   },
   "outputs": [
    {
     "data": {
      "text/plain": [
       "FALSE POSITIVE    4647\n",
       "CONFIRMED         2292\n",
       "Name: koi_disposition, dtype: int64"
      ]
     },
     "execution_count": 8,
     "metadata": {},
     "output_type": "execute_result"
    }
   ],
   "source": [
    "subset_df[\"koi_disposition\"].value_counts()"
   ]
  },
  {
   "cell_type": "markdown",
   "metadata": {
    "id": "V92lgWMJggpY"
   },
   "source": [
    "# PCA Visualisation"
   ]
  },
  {
   "cell_type": "code",
   "execution_count": 9,
   "metadata": {
    "colab": {
     "base_uri": "https://localhost:8080/",
     "height": 523
    },
    "id": "o_UmtwdLeX7y",
    "outputId": "eb44c0cc-286b-4ba3-a727-ee422ab73ce5"
   },
   "outputs": [],
   "source": [
    "def getVisualisationPCA(X, y):\n",
    "    x = StandardScaler().fit_transform(X)\n",
    "    pca = PCA(n_components=2)\n",
    "    principal_components = pca.fit_transform(x)\n",
    "    \n",
    "    pca_df = pd.DataFrame(\n",
    "        data = principal_components,\n",
    "        columns = ['principal component 1', 'principal component 2']\n",
    "    )\n",
    "    \n",
    "    pca_df[\"TARGET\"] = y\n",
    "    labels = np.unique(y)\n",
    "    \n",
    "    colors = cm.rainbow(np.linspace(0, 1, len(labels)))\n",
    "    for label, color in zip(labels, colors):\n",
    "        indicesToKeep = pca_df['TARGET'] == label\n",
    "        plt.scatter(\n",
    "            pca_df.loc[indicesToKeep, 'principal component 1'],\n",
    "            pca_df.loc[indicesToKeep, 'principal component 2'],\n",
    "            c = color,\n",
    "            label=label\n",
    "        )\n",
    "        \n",
    "    plt.legend()\n",
    "    plt.grid()\n",
    "    \n",
    "def getVarianceContribution(X, y):\n",
    "    cols = X.shape[1]\n",
    "    x = StandardScaler().fit_transform(X)\n",
    "    pca = PCA().fit(x)\n",
    "    variance = pca.explained_variance_ratio_\n",
    "    print(variance)\n",
    "    plt.bar(list(range(1, cols+1)), np.cumsum(variance)*100)\n",
    "    plt.xlabel('number of components')\n",
    "    plt.ylabel('cumulative explained variance')\n",
    "    plt.grid()"
   ]
  },
  {
   "cell_type": "code",
   "execution_count": 10,
   "metadata": {},
   "outputs": [
    {
     "name": "stderr",
     "output_type": "stream",
     "text": [
      "*c* argument looks like a single numeric RGB or RGBA sequence, which should be avoided as value-mapping will have precedence in case its length matches with *x* & *y*.  Please use the *color* keyword-argument or provide a 2-D array with a single row if you intend to specify the same RGB or RGBA value for all points.\n",
      "*c* argument looks like a single numeric RGB or RGBA sequence, which should be avoided as value-mapping will have precedence in case its length matches with *x* & *y*.  Please use the *color* keyword-argument or provide a 2-D array with a single row if you intend to specify the same RGB or RGBA value for all points.\n"
     ]
    },
    {
     "data": {
      "image/png": "[encoded data removed]",
      "text/plain": [
       "<Figure size 432x288 with 1 Axes>"
      ]
     },
     "metadata": {
      "needs_background": "light"
     },
     "output_type": "display_data"
    }
   ],
   "source": [
    "getVisualisationPCA(X, y)"
   ]
  },
  {
   "cell_type": "code",
   "execution_count": 11,
   "metadata": {},
   "outputs": [
    {
     "name": "stdout",
     "output_type": "stream",
     "text": [
      "[0.15227865 0.13162265 0.11055037 0.08775246 0.07790971 0.06672882\n",
      " 0.05227635 0.04761201 0.04297479 0.04151384 0.03565525 0.0297742\n",
      " 0.02441144 0.02352869 0.02012455 0.01763998 0.01562936 0.01253393\n",
      " 0.00948295]\n"
     ]
    },
    {
     "data": {
      "image/png": "[encoded data removed]",
      "text/plain": [
       "<Figure size 432x288 with 1 Axes>"
      ]
     },
     "metadata": {
      "needs_background": "light"
     },
     "output_type": "display_data"
    }
   ],
   "source": [
    "getVarianceContribution(X, y)"
   ]
  },
  {
   "cell_type": "markdown",
   "metadata": {},
   "source": [
    "* We observe that the two classes are **not** linearly separable, hence a simple Logistic Regression classifier will not do well.\n",
    "* Most important, we see there is a **class imbalance** present, hence we cannot go on accuracy scores and will need to compare scores for prediction across both classes - F1 scores and balanced accuracy scores\n",
    "\n",
    "We need to hence using different techniques of non-linear classification, which can handle the non-linearity issue as well as class imbalance. We can employ Bagging or Boosting Techniques such as \n",
    "* SVM\n",
    "* Random Forests\n",
    "* AdaBoost"
   ]
  },
  {
   "cell_type": "markdown",
   "metadata": {},
   "source": [
    "# Splitting into Train and Test sets"
   ]
  },
  {
   "cell_type": "markdown",
   "metadata": {},
   "source": [
    "* Scale the values to make the models less computationally expensive and convert all the values to the same range\n",
    "* Split into train and test sets"
   ]
  },
  {
   "cell_type": "code",
   "execution_count": 12,
   "metadata": {},
   "outputs": [],
   "source": [
    "X = StandardScaler().fit_transform(X)"
   ]
  },
  {
   "cell_type": "code",
   "execution_count": 13,
   "metadata": {},
   "outputs": [],
   "source": [
    "X_train, X_test, y_train, y_test = train_test_split(X, y, test_size=0.33, random_state=0, stratify=y)"
   ]
  },
  {
   "cell_type": "code",
   "execution_count": 14,
   "metadata": {},
   "outputs": [
    {
     "data": {
      "text/plain": [
       "((4649, 19), (2290, 19), (4649,), (2290,))"
      ]
     },
     "execution_count": 14,
     "metadata": {},
     "output_type": "execute_result"
    }
   ],
   "source": [
    "X_train.shape, X_test.shape, y_train.shape, y_test.shape"
   ]
  },
  {
   "cell_type": "markdown",
   "metadata": {},
   "source": [
    "# Defining Evaluation Metric "
   ]
  },
  {
   "cell_type": "markdown",
   "metadata": {},
   "source": [
    "Since the dataset is imbalanced, we cannot use accuracy, hence we opt for either of the following -\n",
    "* Confusion Matrix\n",
    "* F1 Score\n",
    "* Cohen Kappa Score\n",
    "* Balanced Accuracy Score"
   ]
  },
  {
   "cell_type": "code",
   "execution_count": 15,
   "metadata": {},
   "outputs": [],
   "source": [
    "def performance(test, pred):\n",
    "    conf_matrix = confusion_matrix(test, pred)\n",
    "    f1 = f1_score(test, pred)\n",
    "    report = classification_report(test, pred)\n",
    "    accuracy = balanced_accuracy_score(test, pred)\n",
    "    kappa = cohen_kappa_score(test, pred)\n",
    "    print(f\"F1 Score: {f1}\")\n",
    "    print(f\"Kappa Score: {kappa}\")\n",
    "    print(f\"Accuracy Score: {accuracy}\")\n",
    "    print(f\"Confusion Matrix:\\n{conf_matrix}\")\n",
    "    print(report)"
   ]
  },
  {
   "cell_type": "markdown",
   "metadata": {},
   "source": [
    "# Cross Validation Score"
   ]
  },
  {
   "cell_type": "code",
   "execution_count": 16,
   "metadata": {},
   "outputs": [],
   "source": [
    "def crossValidationCheck(classifier, X, y, K=10):\n",
    "    cv = KFold(n_splits=K, random_state=1, shuffle=True)\n",
    "    scores = cross_val_score(classifier, X, y, scoring='f1', cv=cv, n_jobs=-1)\n",
    "    print(f\"Average F1 score over {K}-Folds: {scores.mean()}\")\n",
    "    \n",
    "    cv = StratifiedKFold(n_splits=K, random_state=1, shuffle=True)\n",
    "    scores = cross_val_score(classifier, X, y, scoring='f1', cv=cv, n_jobs=-1)\n",
    "    print(f\"Average F1 score over Stratified {K}-Folds: {scores.mean()}\")"
   ]
  },
  {
   "cell_type": "markdown",
   "metadata": {},
   "source": [
    "# Saving and Loading Trained Models"
   ]
  },
  {
   "cell_type": "code",
   "execution_count": 17,
   "metadata": {},
   "outputs": [],
   "source": [
    "def saveModel(model, filename):\n",
    "    joblib.dump(model, filename)\n",
    "\n",
    "def loadModel(filename):\n",
    "    model = joblib.load(filename)\n",
    "    return model"
   ]
  },
  {
   "cell_type": "markdown",
   "metadata": {},
   "source": [
    "# SVM"
   ]
  },
  {
   "cell_type": "code",
   "execution_count": 18,
   "metadata": {},
   "outputs": [],
   "source": [
    "# baseline model\n",
    "classifier = SVC(kernel='rbf', random_state=0)\n",
    "classifier.fit(X_train, y_train)\n",
    "pred = classifier.predict(X_test)"
   ]
  },
  {
   "cell_type": "code",
   "execution_count": 19,
   "metadata": {},
   "outputs": [
    {
     "name": "stdout",
     "output_type": "stream",
     "text": [
      "F1 Score: 0.9794293297942933\n",
      "Kappa Score: 0.96934163327601\n",
      "Accuracy Score: 0.9838579499596449\n",
      "Confusion Matrix:\n",
      "[[1521   13]\n",
      " [  18  738]]\n",
      "              precision    recall  f1-score   support\n",
      "\n",
      "           0       0.99      0.99      0.99      1534\n",
      "           1       0.98      0.98      0.98       756\n",
      "\n",
      "    accuracy                           0.99      2290\n",
      "   macro avg       0.99      0.98      0.98      2290\n",
      "weighted avg       0.99      0.99      0.99      2290\n",
      "\n"
     ]
    }
   ],
   "source": [
    "performance(y_test, pred)"
   ]
  },
  {
   "cell_type": "markdown",
   "metadata": {},
   "source": [
    "## Checking Cross Validation Score"
   ]
  },
  {
   "cell_type": "code",
   "execution_count": 20,
   "metadata": {},
   "outputs": [
    {
     "name": "stdout",
     "output_type": "stream",
     "text": [
      "Average F1 score over 10-Folds: 0.9766139372147696\n",
      "Average F1 score over Stratified 10-Folds: 0.977206096029063\n"
     ]
    }
   ],
   "source": [
    "crossValidationCheck(classifier, X, y, K=10)"
   ]
  },
  {
   "cell_type": "markdown",
   "metadata": {},
   "source": [
    "## Hyperparameter Tuning for SVM"
   ]
  },
  {
   "cell_type": "code",
   "execution_count": 22,
   "metadata": {},
   "outputs": [],
   "source": [
    "parameters = {\n",
    "    \"C\":np.arange(1, 3.05, 0.05),\n",
    "    \"gamma\":[\"scale\", \"auto\"],\n",
    "    \"shrinking\":[True, False],\n",
    "    \"tol\":[1e-3, 1e-2, 1e-1, 1, 1e1, 1e2, 1e3],\n",
    "    \"class_weight\":[None, \"balanced\"]\n",
    "}\n",
    "\n",
    "scores = [\"f1\", \"balanced_accuracy\"]"
   ]
  },
  {
   "cell_type": "code",
   "execution_count": 23,
   "metadata": {},
   "outputs": [
    {
     "name": "stdout",
     "output_type": "stream",
     "text": [
      "Fitting 5 folds for each of 2296 candidates, totalling 11480 fits\n"
     ]
    },
    {
     "name": "stderr",
     "output_type": "stream",
     "text": [
      "[Parallel(n_jobs=-1)]: Using backend LokyBackend with 8 concurrent workers.\n",
      "[Parallel(n_jobs=-1)]: Done  58 tasks      | elapsed:    0.6s\n",
      "[Parallel(n_jobs=-1)]: Done 656 tasks      | elapsed:    6.8s\n",
      "[Parallel(n_jobs=-1)]: Done 1656 tasks      | elapsed:   20.0s\n",
      "[Parallel(n_jobs=-1)]: Done 3056 tasks      | elapsed:   39.0s\n",
      "[Parallel(n_jobs=-1)]: Done 4596 tasks      | elapsed:  1.2min\n",
      "[Parallel(n_jobs=-1)]: Done 5696 tasks      | elapsed:  1.5min\n",
      "[Parallel(n_jobs=-1)]: Done 6996 tasks      | elapsed:  2.0min\n",
      "[Parallel(n_jobs=-1)]: Done 8496 tasks      | elapsed:  2.4min\n",
      "[Parallel(n_jobs=-1)]: Done 10196 tasks      | elapsed:  2.9min\n",
      "[Parallel(n_jobs=-1)]: Done 11480 out of 11480 | elapsed:  3.3min finished\n"
     ]
    },
    {
     "data": {
      "text/plain": [
       "GridSearchCV(estimator=SVC(random_state=0), n_jobs=-1,\n",
       "             param_grid={'C': array([1.  , 1.05, 1.1 , 1.15, 1.2 , 1.25, 1.3 , 1.35, 1.4 , 1.45, 1.5 ,\n",
       "       1.55, 1.6 , 1.65, 1.7 , 1.75, 1.8 , 1.85, 1.9 , 1.95, 2.  , 2.05,\n",
       "       2.1 , 2.15, 2.2 , 2.25, 2.3 , 2.35, 2.4 , 2.45, 2.5 , 2.55, 2.6 ,\n",
       "       2.65, 2.7 , 2.75, 2.8 , 2.85, 2.9 , 2.95, 3.  ]),\n",
       "                         'class_weight': [None, 'balanced'],\n",
       "                         'gamma': ['scale', 'auto'], 'shrinking': [True, False],\n",
       "                         'tol': [0.001, 0.01, 0.1, 1, 10.0, 100.0, 1000.0]},\n",
       "             refit='f1', scoring=['f1', 'balanced_accuracy'], verbose=1)"
      ]
     },
     "execution_count": 23,
     "metadata": {},
     "output_type": "execute_result"
    }
   ],
   "source": [
    "classifier = GridSearchCV(\n",
    "    SVC(kernel=\"rbf\", random_state=0),\n",
    "    param_grid=parameters,\n",
    "    scoring=scores,\n",
    "    refit=\"f1\",\n",
    "    verbose=1,\n",
    "    n_jobs=-1\n",
    ")\n",
    "\n",
    "classifier.fit(X_train, y_train)"
   ]
  },
  {
   "cell_type": "code",
   "execution_count": 24,
   "metadata": {},
   "outputs": [
    {
     "data": {
      "text/plain": [
       "0.9778117307529073"
      ]
     },
     "execution_count": 24,
     "metadata": {},
     "output_type": "execute_result"
    }
   ],
   "source": [
    "classifier.best_score_"
   ]
  },
  {
   "cell_type": "code",
   "execution_count": 25,
   "metadata": {},
   "outputs": [
    {
     "data": {
      "text/plain": [
       "{'C': 1.8500000000000008,\n",
       " 'class_weight': None,\n",
       " 'gamma': 'scale',\n",
       " 'shrinking': True,\n",
       " 'tol': 1}"
      ]
     },
     "execution_count": 25,
     "metadata": {},
     "output_type": "execute_result"
    }
   ],
   "source": [
    "classifier.best_params_"
   ]
  },
  {
   "cell_type": "code",
   "execution_count": 26,
   "metadata": {},
   "outputs": [
    {
     "name": "stdout",
     "output_type": "stream",
     "text": [
      "Average F1 score over 10-Folds: 0.9766065702445517\n",
      "Average F1 score over Stratified 10-Folds: 0.9772079122086689\n"
     ]
    }
   ],
   "source": [
    "crossValidationCheck(classifier.best_estimator_, X, y, K=10)"
   ]
  },
  {
   "cell_type": "code",
   "execution_count": 27,
   "metadata": {},
   "outputs": [],
   "source": [
    "saveModel(classifier.best_estimator_, \"../model/svm.model\")"
   ]
  },
  {
   "cell_type": "markdown",
   "metadata": {},
   "source": [
    "# Random Forest"
   ]
  },
  {
   "cell_type": "code",
   "execution_count": 28,
   "metadata": {},
   "outputs": [
    {
     "name": "stderr",
     "output_type": "stream",
     "text": [
      "[Parallel(n_jobs=-1)]: Using backend ThreadingBackend with 8 concurrent workers.\n",
      "[Parallel(n_jobs=-1)]: Done  34 tasks      | elapsed:    0.0s\n",
      "[Parallel(n_jobs=-1)]: Done 100 out of 100 | elapsed:    0.1s finished\n",
      "[Parallel(n_jobs=8)]: Using backend ThreadingBackend with 8 concurrent workers.\n",
      "[Parallel(n_jobs=8)]: Done  34 tasks      | elapsed:    0.0s\n",
      "[Parallel(n_jobs=8)]: Done 100 out of 100 | elapsed:    0.0s finished\n"
     ]
    }
   ],
   "source": [
    "# baseline model\n",
    "classifier = RandomForestClassifier(random_state=0, n_jobs=-1, verbose=1)\n",
    "classifier.fit(X_train, y_train)\n",
    "pred = classifier.predict(X_test)"
   ]
  },
  {
   "cell_type": "code",
   "execution_count": 29,
   "metadata": {
    "scrolled": true
   },
   "outputs": [
    {
     "name": "stdout",
     "output_type": "stream",
     "text": [
      "F1 Score: 0.9832775919732442\n",
      "Kappa Score: 0.975175419806416\n",
      "Accuracy Score: 0.9848073301463132\n",
      "Confusion Matrix:\n",
      "[[1530    4]\n",
      " [  21  735]]\n",
      "              precision    recall  f1-score   support\n",
      "\n",
      "           0       0.99      1.00      0.99      1534\n",
      "           1       0.99      0.97      0.98       756\n",
      "\n",
      "    accuracy                           0.99      2290\n",
      "   macro avg       0.99      0.98      0.99      2290\n",
      "weighted avg       0.99      0.99      0.99      2290\n",
      "\n"
     ]
    }
   ],
   "source": [
    "performance(y_test, pred)"
   ]
  },
  {
   "cell_type": "markdown",
   "metadata": {},
   "source": [
    "## Checking Cross Validation Score"
   ]
  },
  {
   "cell_type": "code",
   "execution_count": 30,
   "metadata": {},
   "outputs": [
    {
     "name": "stdout",
     "output_type": "stream",
     "text": [
      "Average F1 score over 10-Folds: 0.9798792125527802\n",
      "Average F1 score over Stratified 10-Folds: 0.9803135141970598\n"
     ]
    }
   ],
   "source": [
    "crossValidationCheck(classifier, X, y, K=10)"
   ]
  },
  {
   "cell_type": "markdown",
   "metadata": {},
   "source": [
    "## Hyperparameter Tuning for Random  Forest"
   ]
  },
  {
   "cell_type": "code",
   "execution_count": 31,
   "metadata": {},
   "outputs": [],
   "source": [
    "parameters = {\n",
    "    \"n_estimators\":np.arange(100,700,100),\n",
    "    #\"criterion\":[\"gini\", \"entropy\"],\n",
    "    \"max_depth\":[None] + np.arange(1, 6, 1).tolist(),\n",
    "    #\"min_samples_split\":np.arange(0, 1.1, 0.1),\n",
    "    \"min_samples_leaf\":np.arange(0, 1.1, 0.1),\n",
    "    \"max_features\":[None ,\"sqrt\", \"log2\"], #+ np.arange(1, 1.1, 0.1).tolist(),\n",
    "    #\"min_weight_fraction_leaf\":np.arange(0, 11, 1),\n",
    "    #\"min_impurity_decrease\":np.arange(1, 11, 1),\n",
    "    \"class_weight\":[None, \"balanced\", \"balanced_subsample\"],\n",
    "    \"warm_start\":[True, False],\n",
    "    #\"max_leaf_nodes\":[None] + np.arange(1, 11, 1).tolist(),\n",
    "    #\"ccp_alpha\":np.arange(0, 1.1, 0.1)\n",
    "}\n",
    "\n",
    "scores = [\"f1\", \"balanced_accuracy\"]"
   ]
  },
  {
   "cell_type": "code",
   "execution_count": null,
   "metadata": {},
   "outputs": [
    {
     "name": "stdout",
     "output_type": "stream",
     "text": [
      "Fitting 5 folds for each of 7128 candidates, totalling 35640 fits\n"
     ]
    },
    {
     "name": "stderr",
     "output_type": "stream",
     "text": [
      "[Parallel(n_jobs=-1)]: Using backend LokyBackend with 8 concurrent workers.\n",
      "[Parallel(n_jobs=-1)]: Done  34 tasks      | elapsed:    2.1s\n",
      "[Parallel(n_jobs=-1)]: Done 184 tasks      | elapsed:  2.1min\n",
      "[Parallel(n_jobs=-1)]: Done 434 tasks      | elapsed:  3.4min\n",
      "[Parallel(n_jobs=-1)]: Done 784 tasks      | elapsed:  4.3min\n",
      "[Parallel(n_jobs=-1)]: Done 1234 tasks      | elapsed:  5.8min\n",
      "[Parallel(n_jobs=-1)]: Done 1784 tasks      | elapsed:  7.9min\n",
      "[Parallel(n_jobs=-1)]: Done 2434 tasks      | elapsed: 10.8min\n",
      "[Parallel(n_jobs=-1)]: Done 3184 tasks      | elapsed: 13.0min\n",
      "[Parallel(n_jobs=-1)]: Done 4034 tasks      | elapsed: 15.4min\n",
      "[Parallel(n_jobs=-1)]: Done 4984 tasks      | elapsed: 20.5min\n",
      "[Parallel(n_jobs=-1)]: Done 6034 tasks      | elapsed: 23.7min\n",
      "[Parallel(n_jobs=-1)]: Done 7184 tasks      | elapsed: 29.5min\n",
      "[Parallel(n_jobs=-1)]: Done 8434 tasks      | elapsed: 35.8min\n"
     ]
    }
   ],
   "source": [
    "classifier = GridSearchCV(\n",
    "    RandomForestClassifier(random_state=0),\n",
    "    param_grid=parameters,\n",
    "    scoring=scores,\n",
    "    refit=\"f1\",\n",
    "    verbose=1,\n",
    "    n_jobs=-1\n",
    ")\n",
    "\n",
    "classifier.fit(X_train, y_train)"
   ]
  },
  {
   "cell_type": "code",
   "execution_count": null,
   "metadata": {},
   "outputs": [],
   "source": [
    "classifier.best_score_"
   ]
  },
  {
   "cell_type": "code",
   "execution_count": null,
   "metadata": {},
   "outputs": [],
   "source": [
    "classifier.best_params_"
   ]
  },
  {
   "cell_type": "code",
   "execution_count": null,
   "metadata": {},
   "outputs": [],
   "source": [
    "crossValidationCheck(classifier.best_estimator_, X, y, K=10)"
   ]
  },
  {
   "cell_type": "code",
   "execution_count": null,
   "metadata": {},
   "outputs": [],
   "source": [
    "saveModel(classifier.best_estimator_, \"../model/random-forest.model\")"
   ]
  },
  {
   "cell_type": "markdown",
   "metadata": {},
   "source": [
    "# Adaboost"
   ]
  },
  {
   "cell_type": "code",
   "execution_count": null,
   "metadata": {},
   "outputs": [],
   "source": [
    "# baseline model\n",
    "classifier = AdaBoostClassifier(random_state=0)\n",
    "classifier.fit(X_train, y_train)"
   ]
  },
  {
   "cell_type": "code",
   "execution_count": null,
   "metadata": {},
   "outputs": [],
   "source": [
    "pred = classifier.predict(X_test)\n",
    "performance(y_test, pred)"
   ]
  },
  {
   "cell_type": "markdown",
   "metadata": {},
   "source": [
    "## Checking Cross Validation Score"
   ]
  },
  {
   "cell_type": "code",
   "execution_count": null,
   "metadata": {},
   "outputs": [],
   "source": [
    "crossValidationCheck(classifier, X, y, K=10)"
   ]
  },
  {
   "cell_type": "markdown",
   "metadata": {},
   "source": [
    "## Hyperparameter Tuning for AdaBoost"
   ]
  },
  {
   "cell_type": "code",
   "execution_count": null,
   "metadata": {},
   "outputs": [],
   "source": [
    "parameters = {\n",
    "    \"n_estimators\":np.arange(70,130,10),\n",
    "    \"learning_rate\":np.arange(0.8,1.2,0.05),\n",
    "    \"algorithm\":[\"SAMME\", \"SAMME.R\"],\n",
    "    \"base_estimator\":[\n",
    "        DecisionTreeClassifier(max_depth=1),\n",
    "        DecisionTreeClassifier(max_depth=2),\n",
    "        DecisionTreeClassifier(max_depth=3),\n",
    "        DecisionTreeClassifier(max_depth=4),\n",
    "        DecisionTreeClassifier(max_depth=5),\n",
    "    ]\n",
    "}\n",
    "\n",
    "scores = [\"f1\", \"balanced_accuracy\"]"
   ]
  },
  {
   "cell_type": "code",
   "execution_count": null,
   "metadata": {},
   "outputs": [],
   "source": [
    "classifier = GridSearchCV(\n",
    "    AdaBoostClassifier(random_state=0),\n",
    "    param_grid=parameters,\n",
    "    scoring=scores,\n",
    "    refit=\"f1\",\n",
    "    verbose=1,\n",
    "    n_jobs=-1\n",
    ")\n",
    "\n",
    "classifier.fit(X_train, y_train)"
   ]
  },
  {
   "cell_type": "code",
   "execution_count": null,
   "metadata": {},
   "outputs": [],
   "source": [
    "classifier.best_score_"
   ]
  },
  {
   "cell_type": "code",
   "execution_count": null,
   "metadata": {},
   "outputs": [],
   "source": [
    "classifier.best_params_"
   ]
  },
  {
   "cell_type": "code",
   "execution_count": null,
   "metadata": {},
   "outputs": [],
   "source": [
    "crossValidationCheck(classifier.best_estimator_, X, y, K=10)"
   ]
  },
  {
   "cell_type": "code",
   "execution_count": null,
   "metadata": {},
   "outputs": [],
   "source": [
    "saveModel(classifier.best_estimator_, \"../model/adaboost.model\")"
   ]
  }
 ],
 "metadata": {
  "colab": {
   "authorship_tag": "ABX9TyMbsS5xY6DgufDT++EgW7hD",
   "collapsed_sections": [],
   "include_colab_link": true,
   "name": "Prediction - ML",
   "provenance": []
  },
  "kernelspec": {
   "display_name": "Python 3",
   "language": "python",
   "name": "python3"
  },
  "language_info": {
   "codemirror_mode": {
    "name": "ipython",
    "version": 3
   },
   "file_extension": ".py",
   "mimetype": "text/x-python",
   "name": "python",
   "nbconvert_exporter": "python",
   "pygments_lexer": "ipython3",
   "version": "3.8.3"
  }
 },
 "nbformat": 4,
 "nbformat_minor": 1
}
