{
 "cells": [
  {
   "cell_type": "code",
   "execution_count": 17,
   "metadata": {
    "tags": []
   },
   "outputs": [],
   "source": [
    "import numpy as np\n",
    "import pandas as pd\n",
    "from sklearn.preprocessing import StandardScaler\n",
    "import tensorflow as tf\n",
    "from sklearn.model_selection import train_test_split\n",
    "from tensorflow import keras \n",
    "from keras import Sequential\n",
    "from keras.layers import Dense\n",
    "import joblib\n",
    "from sklearn.metrics import confusion_matrix, f1_score, classification_report, balanced_accuracy_score, cohen_kappa_score"
   ]
  },
  {
   "cell_type": "code",
   "execution_count": 2,
   "metadata": {},
   "outputs": [],
   "source": [
    "def saveModel(model, filename):\n",
    "    joblib.dump(model, filename)\n",
    "\n",
    "def loadModel(filename):\n",
    "    model = joblib.load(filename)\n",
    "    return model"
   ]
  },
  {
   "cell_type": "code",
   "execution_count": 3,
   "metadata": {
    "tags": []
   },
   "outputs": [],
   "source": [
    "df = pd.read_csv(\"../data/[CLEANED]kepler-data.csv\")\n",
    "df.drop(columns = [\"Unnamed: 0\"], inplace=True)"
   ]
  },
  {
   "cell_type": "code",
   "execution_count": 4,
   "metadata": {},
   "outputs": [],
   "source": [
    "ALL_COLUMNS = df.columns\n",
    "ERROR_COLUMNS = [col for col in ALL_COLUMNS if \"err\" in col]\n",
    "EXCLUDE = [\"rowid\", \"kepid\", \"kepoi_name\", \"koi_score\", \"koi_disposition\", \"koi_pdisposition\", \"koi_tce_delivname\", \"koi_tce_plnt_num\"] + ERROR_COLUMNS\n",
    "TO_USE = list(set(ALL_COLUMNS) - set(EXCLUDE))"
   ]
  },
  {
   "cell_type": "code",
   "execution_count": 5,
   "metadata": {
    "tags": []
   },
   "outputs": [],
   "source": [
    "subset_df = df[df[\"koi_disposition\"] != \"CANDIDATE\"]"
   ]
  },
  {
   "cell_type": "code",
   "execution_count": 6,
   "metadata": {},
   "outputs": [],
   "source": [
    "X = subset_df[TO_USE].values\n",
    "y = subset_df[\"koi_disposition\"].apply(lambda x: x=='CONFIRMED').astype(int).values"
   ]
  },
  {
   "cell_type": "code",
   "execution_count": 7,
   "metadata": {},
   "outputs": [],
   "source": [
    "X = StandardScaler().fit_transform(X)"
   ]
  },
  {
   "cell_type": "code",
   "execution_count": 8,
   "metadata": {},
   "outputs": [],
   "source": [
    "X_train, X_test, y_train, y_test = train_test_split(X, y, test_size = 0.2, random_state = 0)"
   ]
  },
  {
   "cell_type": "code",
   "execution_count": 9,
   "metadata": {
    "tags": []
   },
   "outputs": [
    {
     "name": "stderr",
     "output_type": "stream",
     "text": [
      "WARNING: Logging before flag parsing goes to stderr.\n",
      "W1110 18:40:47.396486 28480 deprecation_wrapper.py:119] From C:\\Users\\91974\\Anaconda3\\lib\\site-packages\\keras\\backend\\tensorflow_backend.py:74: The name tf.get_default_graph is deprecated. Please use tf.compat.v1.get_default_graph instead.\n",
      "\n"
     ]
    }
   ],
   "source": [
    "model = Sequential([\n",
    "                    Dense(128, activation = 'relu'),\n",
    "                    Dense(256, activation = 'relu'),\n",
    "                    Dense(128, activation = 'relu'),\n",
    "                    Dense(1, activation = 'sigmoid')\n",
    "                   ])"
   ]
  },
  {
   "cell_type": "code",
   "execution_count": 10,
   "metadata": {
    "tags": []
   },
   "outputs": [
    {
     "name": "stderr",
     "output_type": "stream",
     "text": [
      "W1110 18:40:47.562713 28480 deprecation_wrapper.py:119] From C:\\Users\\91974\\Anaconda3\\lib\\site-packages\\keras\\optimizers.py:790: The name tf.train.Optimizer is deprecated. Please use tf.compat.v1.train.Optimizer instead.\n",
      "\n"
     ]
    }
   ],
   "source": [
    "model.compile(optimizer = 'adam', loss = 'binary_crossentropy', metrics = ['accuracy'])"
   ]
  },
  {
   "cell_type": "code",
   "execution_count": 11,
   "metadata": {
    "tags": []
   },
   "outputs": [
    {
     "name": "stderr",
     "output_type": "stream",
     "text": [
      "W1110 18:40:48.468733 28480 deprecation_wrapper.py:119] From C:\\Users\\91974\\Anaconda3\\lib\\site-packages\\keras\\backend\\tensorflow_backend.py:517: The name tf.placeholder is deprecated. Please use tf.compat.v1.placeholder instead.\n",
      "\n",
      "W1110 18:40:48.472686 28480 deprecation_wrapper.py:119] From C:\\Users\\91974\\Anaconda3\\lib\\site-packages\\keras\\backend\\tensorflow_backend.py:4138: The name tf.random_uniform is deprecated. Please use tf.random.uniform instead.\n",
      "\n",
      "W1110 18:40:48.591505 28480 deprecation_wrapper.py:119] From C:\\Users\\91974\\Anaconda3\\lib\\site-packages\\keras\\backend\\tensorflow_backend.py:3376: The name tf.log is deprecated. Please use tf.math.log instead.\n",
      "\n",
      "W1110 18:40:48.602428 28480 deprecation.py:323] From C:\\Users\\91974\\Anaconda3\\lib\\site-packages\\tensorflow\\python\\ops\\nn_impl.py:180: add_dispatch_support.<locals>.wrapper (from tensorflow.python.ops.array_ops) is deprecated and will be removed in a future version.\n",
      "Instructions for updating:\n",
      "Use tf.where in 2.0, which has the same broadcast rule as np.where\n",
      "W1110 18:40:48.898865 28480 deprecation_wrapper.py:119] From C:\\Users\\91974\\Anaconda3\\lib\\site-packages\\keras\\backend\\tensorflow_backend.py:986: The name tf.assign_add is deprecated. Please use tf.compat.v1.assign_add instead.\n",
      "\n",
      "Epoch 1/20\n",
      "5551/5551 [==============================] - 1s 171us/step - loss: 0.1096 - acc: 0.9674\n",
      "Epoch 2/20\n",
      "5551/5551 [==============================] - 1s 96us/step - loss: 0.0547 - acc: 0.9861\n",
      "Epoch 3/20\n",
      "5551/5551 [==============================] - 1s 110us/step - loss: 0.0488 - acc: 0.9858\n",
      "Epoch 4/20\n",
      "5551/5551 [==============================] - 1s 100us/step - loss: 0.0446 - acc: 0.9876\n",
      "Epoch 5/20\n",
      "5551/5551 [==============================] - 1s 98us/step - loss: 0.0437 - acc: 0.9877\n",
      "Epoch 6/20\n",
      "5551/5551 [==============================] - 1s 111us/step - loss: 0.0391 - acc: 0.9881\n",
      "Epoch 7/20\n",
      "5551/5551 [==============================] - 1s 107us/step - loss: 0.0350 - acc: 0.9894\n",
      "Epoch 8/20\n",
      "5551/5551 [==============================] - 1s 93us/step - loss: 0.0349 - acc: 0.9883\n",
      "Epoch 9/20\n",
      "5551/5551 [==============================] - 1s 95us/step - loss: 0.0344 - acc: 0.9894\n",
      "Epoch 10/20\n",
      "5551/5551 [==============================] - 1s 91us/step - loss: 0.0288 - acc: 0.9914\n",
      "Epoch 11/20\n",
      "5551/5551 [==============================] - 1s 91us/step - loss: 0.0323 - acc: 0.9897\n",
      "Epoch 12/20\n",
      "5551/5551 [==============================] - 1s 93us/step - loss: 0.0266 - acc: 0.9914\n",
      "Epoch 13/20\n",
      "5551/5551 [==============================] - 1s 127us/step - loss: 0.0230 - acc: 0.9928\n",
      "Epoch 14/20\n",
      "5551/5551 [==============================] - 1s 121us/step - loss: 0.0213 - acc: 0.9917\n",
      "Epoch 15/20\n",
      "5551/5551 [==============================] - 1s 119us/step - loss: 0.0202 - acc: 0.9928\n",
      "Epoch 16/20\n",
      "5551/5551 [==============================] - 0s 87us/step - loss: 0.0166 - acc: 0.9939\n",
      "Epoch 17/20\n",
      "5551/5551 [==============================] - 1s 93us/step - loss: 0.0175 - acc: 0.9930\n",
      "Epoch 18/20\n",
      "5551/5551 [==============================] - 0s 79us/step - loss: 0.0169 - acc: 0.9941\n",
      "Epoch 19/20\n",
      "5551/5551 [==============================] - 0s 80us/step - loss: 0.0183 - acc: 0.9948\n",
      "Epoch 20/20\n",
      "5551/5551 [==============================] - 0s 82us/step - loss: 0.0147 - acc: 0.9948\n"
     ]
    },
    {
     "data": {
      "text/plain": [
       "<keras.callbacks.History at 0x1ce62f16f28>"
      ]
     },
     "execution_count": 11,
     "metadata": {},
     "output_type": "execute_result"
    }
   ],
   "source": [
    "model.fit(X_train, y_train, epochs = 20)"
   ]
  },
  {
   "cell_type": "code",
   "execution_count": 12,
   "metadata": {},
   "outputs": [],
   "source": [
    "pred = model.predict(X_test)\n",
    "pred = pred >= 0.5"
   ]
  },
  {
   "cell_type": "code",
   "execution_count": 19,
   "metadata": {},
   "outputs": [],
   "source": [
    "def performance(test, pred):\n",
    "    conf_matrix = confusion_matrix(test, pred)\n",
    "    f1 = f1_score(test, pred)\n",
    "    report = classification_report(test, pred)\n",
    "    accuracy = balanced_accuracy_score(test, pred)\n",
    "    kappa = cohen_kappa_score(test, pred)\n",
    "    print(f\"F1 Score: {f1}\")\n",
    "    print(f\"Kappa Score: {kappa}\")\n",
    "    print(f\"Accuracy Score: {accuracy}\")\n",
    "    print(f\"Confusion Matrix:\\n{conf_matrix}\")\n",
    "    print(report)"
   ]
  },
  {
   "cell_type": "code",
   "execution_count": 14,
   "metadata": {
    "tags": []
   },
   "outputs": [
    {
     "name": "stdout",
     "output_type": "stream",
     "text": [
      "F1 Score: 0.9703196347031964\n",
      "Kappa Score: 0.9566354241768805\n",
      "Accuracy Score: 0.9783177120884403\n",
      "Confusion Matrix:\n",
      "[[937  13]\n",
      " [ 13 425]]\n",
      "              precision    recall  f1-score   support\n",
      "\n",
      "           0       0.99      0.99      0.99       950\n",
      "           1       0.97      0.97      0.97       438\n",
      "\n",
      "   micro avg       0.98      0.98      0.98      1388\n",
      "   macro avg       0.98      0.98      0.98      1388\n",
      "weighted avg       0.98      0.98      0.98      1388\n",
      "\n"
     ]
    }
   ],
   "source": [
    "performance(y_test, pred)"
   ]
  },
  {
   "cell_type": "code",
   "execution_count": 25,
   "metadata": {},
   "outputs": [],
   "source": [
    "saveModel(model, \"../model/nn.model\")"
   ]
  }
 ],
 "metadata": {
  "kernelspec": {
   "display_name": "Python 3.7.4 32-bit",
   "language": "python",
   "name": "python37432bitf07ff30cf4804982903a7ceee4f9f491"
  },
  "language_info": {
   "codemirror_mode": {
    "name": "ipython",
    "version": 3
   },
   "file_extension": ".py",
   "mimetype": "text/x-python",
   "name": "python",
   "nbconvert_exporter": "python",
   "pygments_lexer": "ipython3",
   "version": "3.7.3-final"
  }
 },
 "nbformat": 4,
 "nbformat_minor": 2
}
