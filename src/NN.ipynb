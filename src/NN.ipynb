{
 "metadata": {
  "language_info": {
   "codemirror_mode": {
    "name": "ipython",
    "version": 3
   },
   "file_extension": ".py",
   "mimetype": "text/x-python",
   "name": "python",
   "nbconvert_exporter": "python",
   "pygments_lexer": "ipython3",
   "version": "3.7.3-final"
  },
  "orig_nbformat": 2,
  "kernelspec": {
   "name": "python37364bitbasecondab4591a0e2637438ba9760fd98edad122",
   "display_name": "Python 3.7.3 64-bit ('base': conda)"
  }
 },
 "nbformat": 4,
 "nbformat_minor": 2,
 "cells": [
  {
   "cell_type": "code",
   "execution_count": 45,
   "metadata": {
    "tags": []
   },
   "outputs": [],
   "source": [
    "import numpy as np\n",
    "import pandas as pd\n",
    "from sklearn.preprocessing import StandardScaler\n",
    "import tensorflow as tf\n",
    "from sklearn.model_selection import train_test_split\n",
    "from tensorflow import keras \n",
    "from keras import Sequential\n",
    "from keras.layers import Dense"
   ]
  },
  {
   "cell_type": "code",
   "execution_count": 46,
   "metadata": {
    "tags": []
   },
   "outputs": [],
   "source": [
    "df = pd.read_csv(\"../data/[CLEANED]kepler-data.csv\")\n",
    "df.drop(columns = [\"Unnamed: 0\"], inplace=True)"
   ]
  },
  {
   "cell_type": "code",
   "execution_count": 47,
   "metadata": {},
   "outputs": [],
   "source": [
    "ALL_COLUMNS = df.columns\n",
    "ERROR_COLUMNS = [col for col in ALL_COLUMNS if \"err\" in col]\n",
    "EXCLUDE = [\"rowid\", \"kepid\", \"kepoi_name\", \"koi_score\", \"koi_disposition\", \"koi_pdisposition\", \"koi_tce_delivname\", \"koi_tce_plnt_num\"] + ERROR_COLUMNS\n",
    "TO_USE = list(set(ALL_COLUMNS) - set(EXCLUDE))"
   ]
  },
  {
   "cell_type": "code",
   "execution_count": 48,
   "metadata": {
    "tags": []
   },
   "outputs": [],
   "source": [
    "subset_df = df[df[\"koi_disposition\"] != \"CANDIDATE\"]"
   ]
  },
  {
   "cell_type": "code",
   "execution_count": 49,
   "metadata": {},
   "outputs": [],
   "source": [
    "X = subset_df[TO_USE].values\n",
    "y = subset_df[\"koi_disposition\"].apply(lambda x: x=='CONFIRMED').astype(int).values"
   ]
  },
  {
   "cell_type": "code",
   "execution_count": 50,
   "metadata": {},
   "outputs": [],
   "source": [
    "X = StandardScaler().fit_transform(X)"
   ]
  },
  {
   "cell_type": "code",
   "execution_count": 51,
   "metadata": {},
   "outputs": [],
   "source": [
    "X_train, X_test, y_train, y_test = train_test_split(X, y, test_size = 0.2, random_state = 0)"
   ]
  },
  {
   "cell_type": "code",
   "execution_count": 52,
   "metadata": {
    "tags": []
   },
   "outputs": [],
   "source": [
    "model = Sequential([\n",
    "                    Dense(128, activation = 'relu'),\n",
    "                    Dense(256, activation = 'relu'),\n",
    "                    Dense(128, activation = 'relu'),\n",
    "                    Dense(1, activation = 'sigmoid')\n",
    "                   ])"
   ]
  },
  {
   "cell_type": "code",
   "execution_count": 53,
   "metadata": {
    "tags": []
   },
   "outputs": [],
   "source": [
    "model.compile(optimizer = 'adam', loss = 'binary_crossentropy', metrics = ['accuracy'])"
   ]
  },
  {
   "cell_type": "code",
   "execution_count": 54,
   "metadata": {
    "tags": []
   },
   "outputs": [
    {
     "output_type": "stream",
     "name": "stdout",
     "text": "Epoch 1/20\n5551/5551 [==============================] - 1s 102us/step - loss: 0.1054 - acc: 0.9647\nEpoch 2/20\n5551/5551 [==============================] - 0s 45us/step - loss: 0.0554 - acc: 0.9861\nEpoch 3/20\n5551/5551 [==============================] - 0s 45us/step - loss: 0.0521 - acc: 0.9856\nEpoch 4/20\n5551/5551 [==============================] - 0s 45us/step - loss: 0.0468 - acc: 0.9852\nEpoch 5/20\n5551/5551 [==============================] - 0s 47us/step - loss: 0.0425 - acc: 0.9872\nEpoch 6/20\n5551/5551 [==============================] - 0s 46us/step - loss: 0.0388 - acc: 0.9885\nEpoch 7/20\n5551/5551 [==============================] - 0s 46us/step - loss: 0.0354 - acc: 0.9897\nEpoch 8/20\n5551/5551 [==============================] - 0s 47us/step - loss: 0.0328 - acc: 0.9897\nEpoch 9/20\n5551/5551 [==============================] - 0s 46us/step - loss: 0.0301 - acc: 0.9912\nEpoch 10/20\n5551/5551 [==============================] - 0s 45us/step - loss: 0.0291 - acc: 0.9908\nEpoch 11/20\n5551/5551 [==============================] - 0s 45us/step - loss: 0.0257 - acc: 0.9919\nEpoch 12/20\n5551/5551 [==============================] - 0s 47us/step - loss: 0.0267 - acc: 0.9921\nEpoch 13/20\n5551/5551 [==============================] - 0s 46us/step - loss: 0.0242 - acc: 0.9917\nEpoch 14/20\n5551/5551 [==============================] - 0s 46us/step - loss: 0.0198 - acc: 0.9932\nEpoch 15/20\n5551/5551 [==============================] - 0s 44us/step - loss: 0.0164 - acc: 0.9942\nEpoch 16/20\n5551/5551 [==============================] - 0s 45us/step - loss: 0.0175 - acc: 0.9944\nEpoch 17/20\n5551/5551 [==============================] - 0s 45us/step - loss: 0.0152 - acc: 0.9946\nEpoch 18/20\n5551/5551 [==============================] - 0s 51us/step - loss: 0.0227 - acc: 0.9937\nEpoch 19/20\n5551/5551 [==============================] - 0s 51us/step - loss: 0.0189 - acc: 0.9948\nEpoch 20/20\n5551/5551 [==============================] - 0s 47us/step - loss: 0.0123 - acc: 0.9957\n"
    },
    {
     "output_type": "execute_result",
     "data": {
      "text/plain": "<keras.callbacks.History at 0x2bf54174be0>"
     },
     "metadata": {},
     "execution_count": 54
    }
   ],
   "source": [
    "model.fit(X_train, y_train, epochs = 20)"
   ]
  },
  {
   "cell_type": "code",
   "execution_count": 55,
   "metadata": {},
   "outputs": [],
   "source": [
    "pred = model.predict(X_test)\n",
    "pred = pred >= 0.5"
   ]
  },
  {
   "cell_type": "code",
   "execution_count": 56,
   "metadata": {},
   "outputs": [],
   "source": [
    "def performance(test, pred):\n",
    "    conf_matrix = confusion_matrix(test, pred)\n",
    "    f1 = f1_score(test, pred)\n",
    "    report = classification_report(test, pred)\n",
    "    accuracy = balanced_accuracy_score(test, pred)\n",
    "    kappa = cohen_kappa_score(test, pred)\n",
    "    print(f\"F1 Score: {f1}\")\n",
    "    print(f\"Kappa Score: {kappa}\")\n",
    "    print(f\"Accuracy Score: {accuracy}\")\n",
    "    print(f\"Confusion Matrix:\\n{conf_matrix}\")\n",
    "    print(report)"
   ]
  },
  {
   "cell_type": "code",
   "execution_count": 57,
   "metadata": {
    "tags": []
   },
   "outputs": [
    {
     "output_type": "stream",
     "name": "stdout",
     "text": "F1 Score: 0.9645714285714286\nKappa Score: 0.9482642529410067\nAccuracy Score: 0.9738404229752463\nConfusion Matrix:\n[[935  15]\n [ 16 422]]\n              precision    recall  f1-score   support\n\n           0       0.98      0.98      0.98       950\n           1       0.97      0.96      0.96       438\n\n   micro avg       0.98      0.98      0.98      1388\n   macro avg       0.97      0.97      0.97      1388\nweighted avg       0.98      0.98      0.98      1388\n\n"
    }
   ],
   "source": [
    "performance(y_test, pred)"
   ]
  },
  {
   "cell_type": "code",
   "execution_count": null,
   "metadata": {},
   "outputs": [],
   "source": []
  }
 ]
}