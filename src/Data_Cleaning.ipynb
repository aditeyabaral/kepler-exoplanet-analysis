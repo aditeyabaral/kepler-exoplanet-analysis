{
  "nbformat": 4,
  "nbformat_minor": 0,
  "metadata": {
    "kernelspec": {
      "display_name": "Python 3",
      "language": "python",
      "name": "python3"
    },
    "language_info": {
      "codemirror_mode": {
        "name": "ipython",
        "version": 3
      },
      "file_extension": ".py",
      "mimetype": "text/x-python",
      "name": "python",
      "nbconvert_exporter": "python",
      "pygments_lexer": "ipython3",
      "version": "3.7.6"
    },
    "colab": {
      "name": "Data Cleaning.ipynb",
      "provenance": [],
      "collapsed_sections": [],
      "include_colab_link": true
    }
  },
  "cells": [
    {
      "cell_type": "markdown",
      "metadata": {
        "id": "view-in-github",
        "colab_type": "text"
      },
      "source": [
        "<a href=\"https://colab.research.google.com/github/aditeyabaral/kepler-exoplanet-analysis/blob/master/src/Data_Cleaning.ipynb\" target=\"_parent\"><img src=\"https://colab.research.google.com/assets/colab-badge.svg\" alt=\"Open In Colab\"/></a>"
      ]
    },
    {
      "cell_type": "markdown",
      "metadata": {
        "id": "UR20VBJPuSj0",
        "colab_type": "text"
      },
      "source": [
        "# Importing Libraries"
      ]
    },
    {
      "cell_type": "code",
      "metadata": {
        "id": "BR3Rp5z1uSj3",
        "colab_type": "code",
        "colab": {}
      },
      "source": [
        "import pandas as pd\n",
        "import numpy as np\n",
        "import matplotlib.pyplot as plt\n",
        "import pprint\n",
        "import re"
      ],
      "execution_count": 1,
      "outputs": []
    },
    {
      "cell_type": "markdown",
      "metadata": {
        "id": "lH2XW_hNuSj_",
        "colab_type": "text"
      },
      "source": [
        "# Initialising libraires"
      ]
    },
    {
      "cell_type": "code",
      "metadata": {
        "id": "r2ybFWuluSkD",
        "colab_type": "code",
        "colab": {}
      },
      "source": [
        "pp = pprint.PrettyPrinter(indent = 3)"
      ],
      "execution_count": 2,
      "outputs": []
    },
    {
      "cell_type": "markdown",
      "metadata": {
        "id": "SENGpu_xuSkK",
        "colab_type": "text"
      },
      "source": [
        "# Loading DataFrame"
      ]
    },
    {
      "cell_type": "markdown",
      "metadata": {
        "id": "fk9GB07CuSkM",
        "colab_type": "text"
      },
      "source": [
        "[Dataset URL](https://www.kaggle.com/nasa/kepler-exoplanet-search-results)<br>\n",
        "[Link to Metadata](https://exoplanetarchive.ipac.caltech.edu/docs/API_kepcandidate_columns.html)<br>\n",
        "[Column Name Metadata](https://exoplanetarchive.ipac.caltech.edu/docs/API_keplerstellar_columns.html)"
      ]
    },
    {
      "cell_type": "code",
      "metadata": {
        "id": "wJzdrqMnuSkN",
        "colab_type": "code",
        "colab": {
          "base_uri": "https://localhost:8080/",
          "height": 244
        },
        "outputId": "1aaed289-7240-4be0-bb05-05469d24bb34"
      },
      "source": [
        "df = pd.read_csv(\"kepler-data.csv\")\n",
        "print(df.shape)\n",
        "df.head()"
      ],
      "execution_count": 3,
      "outputs": [
        {
          "output_type": "stream",
          "text": [
            "(9564, 50)\n"
          ],
          "name": "stdout"
        },
        {
          "output_type": "execute_result",
          "data": {
            "text/html": [
              "<div>\n",
              "<style scoped>\n",
              "    .dataframe tbody tr th:only-of-type {\n",
              "        vertical-align: middle;\n",
              "    }\n",
              "\n",
              "    .dataframe tbody tr th {\n",
              "        vertical-align: top;\n",
              "    }\n",
              "\n",
              "    .dataframe thead th {\n",
              "        text-align: right;\n",
              "    }\n",
              "</style>\n",
              "<table border=\"1\" class=\"dataframe\">\n",
              "  <thead>\n",
              "    <tr style=\"text-align: right;\">\n",
              "      <th></th>\n",
              "      <th>rowid</th>\n",
              "      <th>kepid</th>\n",
              "      <th>kepoi_name</th>\n",
              "      <th>kepler_name</th>\n",
              "      <th>koi_disposition</th>\n",
              "      <th>koi_pdisposition</th>\n",
              "      <th>koi_score</th>\n",
              "      <th>koi_fpflag_nt</th>\n",
              "      <th>koi_fpflag_ss</th>\n",
              "      <th>koi_fpflag_co</th>\n",
              "      <th>koi_fpflag_ec</th>\n",
              "      <th>koi_period</th>\n",
              "      <th>koi_period_err1</th>\n",
              "      <th>koi_period_err2</th>\n",
              "      <th>koi_time0bk</th>\n",
              "      <th>koi_time0bk_err1</th>\n",
              "      <th>koi_time0bk_err2</th>\n",
              "      <th>koi_impact</th>\n",
              "      <th>koi_impact_err1</th>\n",
              "      <th>koi_impact_err2</th>\n",
              "      <th>koi_duration</th>\n",
              "      <th>koi_duration_err1</th>\n",
              "      <th>koi_duration_err2</th>\n",
              "      <th>koi_depth</th>\n",
              "      <th>koi_depth_err1</th>\n",
              "      <th>koi_depth_err2</th>\n",
              "      <th>koi_prad</th>\n",
              "      <th>koi_prad_err1</th>\n",
              "      <th>koi_prad_err2</th>\n",
              "      <th>koi_teq</th>\n",
              "      <th>koi_teq_err1</th>\n",
              "      <th>koi_teq_err2</th>\n",
              "      <th>koi_insol</th>\n",
              "      <th>koi_insol_err1</th>\n",
              "      <th>koi_insol_err2</th>\n",
              "      <th>koi_model_snr</th>\n",
              "      <th>koi_tce_plnt_num</th>\n",
              "      <th>koi_tce_delivname</th>\n",
              "      <th>koi_steff</th>\n",
              "      <th>koi_steff_err1</th>\n",
              "      <th>koi_steff_err2</th>\n",
              "      <th>koi_slogg</th>\n",
              "      <th>koi_slogg_err1</th>\n",
              "      <th>koi_slogg_err2</th>\n",
              "      <th>koi_srad</th>\n",
              "      <th>koi_srad_err1</th>\n",
              "      <th>koi_srad_err2</th>\n",
              "      <th>ra</th>\n",
              "      <th>dec</th>\n",
              "      <th>koi_kepmag</th>\n",
              "    </tr>\n",
              "  </thead>\n",
              "  <tbody>\n",
              "    <tr>\n",
              "      <th>0</th>\n",
              "      <td>1</td>\n",
              "      <td>10797460</td>\n",
              "      <td>K00752.01</td>\n",
              "      <td>Kepler-227 b</td>\n",
              "      <td>CONFIRMED</td>\n",
              "      <td>CANDIDATE</td>\n",
              "      <td>1.000</td>\n",
              "      <td>0</td>\n",
              "      <td>0</td>\n",
              "      <td>0</td>\n",
              "      <td>0</td>\n",
              "      <td>9.488036</td>\n",
              "      <td>2.775000e-05</td>\n",
              "      <td>-2.775000e-05</td>\n",
              "      <td>170.538750</td>\n",
              "      <td>0.002160</td>\n",
              "      <td>-0.002160</td>\n",
              "      <td>0.146</td>\n",
              "      <td>0.318</td>\n",
              "      <td>-0.146</td>\n",
              "      <td>2.95750</td>\n",
              "      <td>0.08190</td>\n",
              "      <td>-0.08190</td>\n",
              "      <td>615.8</td>\n",
              "      <td>19.5</td>\n",
              "      <td>-19.5</td>\n",
              "      <td>2.26</td>\n",
              "      <td>0.26</td>\n",
              "      <td>-0.15</td>\n",
              "      <td>793.0</td>\n",
              "      <td>NaN</td>\n",
              "      <td>NaN</td>\n",
              "      <td>93.59</td>\n",
              "      <td>29.45</td>\n",
              "      <td>-16.65</td>\n",
              "      <td>35.8</td>\n",
              "      <td>1.0</td>\n",
              "      <td>q1_q17_dr25_tce</td>\n",
              "      <td>5455.0</td>\n",
              "      <td>81.0</td>\n",
              "      <td>-81.0</td>\n",
              "      <td>4.467</td>\n",
              "      <td>0.064</td>\n",
              "      <td>-0.096</td>\n",
              "      <td>0.927</td>\n",
              "      <td>0.105</td>\n",
              "      <td>-0.061</td>\n",
              "      <td>291.93423</td>\n",
              "      <td>48.141651</td>\n",
              "      <td>15.347</td>\n",
              "    </tr>\n",
              "    <tr>\n",
              "      <th>1</th>\n",
              "      <td>2</td>\n",
              "      <td>10797460</td>\n",
              "      <td>K00752.02</td>\n",
              "      <td>Kepler-227 c</td>\n",
              "      <td>CONFIRMED</td>\n",
              "      <td>CANDIDATE</td>\n",
              "      <td>0.969</td>\n",
              "      <td>0</td>\n",
              "      <td>0</td>\n",
              "      <td>0</td>\n",
              "      <td>0</td>\n",
              "      <td>54.418383</td>\n",
              "      <td>2.479000e-04</td>\n",
              "      <td>-2.479000e-04</td>\n",
              "      <td>162.513840</td>\n",
              "      <td>0.003520</td>\n",
              "      <td>-0.003520</td>\n",
              "      <td>0.586</td>\n",
              "      <td>0.059</td>\n",
              "      <td>-0.443</td>\n",
              "      <td>4.50700</td>\n",
              "      <td>0.11600</td>\n",
              "      <td>-0.11600</td>\n",
              "      <td>874.8</td>\n",
              "      <td>35.5</td>\n",
              "      <td>-35.5</td>\n",
              "      <td>2.83</td>\n",
              "      <td>0.32</td>\n",
              "      <td>-0.19</td>\n",
              "      <td>443.0</td>\n",
              "      <td>NaN</td>\n",
              "      <td>NaN</td>\n",
              "      <td>9.11</td>\n",
              "      <td>2.87</td>\n",
              "      <td>-1.62</td>\n",
              "      <td>25.8</td>\n",
              "      <td>2.0</td>\n",
              "      <td>q1_q17_dr25_tce</td>\n",
              "      <td>5455.0</td>\n",
              "      <td>81.0</td>\n",
              "      <td>-81.0</td>\n",
              "      <td>4.467</td>\n",
              "      <td>0.064</td>\n",
              "      <td>-0.096</td>\n",
              "      <td>0.927</td>\n",
              "      <td>0.105</td>\n",
              "      <td>-0.061</td>\n",
              "      <td>291.93423</td>\n",
              "      <td>48.141651</td>\n",
              "      <td>15.347</td>\n",
              "    </tr>\n",
              "    <tr>\n",
              "      <th>2</th>\n",
              "      <td>3</td>\n",
              "      <td>10811496</td>\n",
              "      <td>K00753.01</td>\n",
              "      <td>NaN</td>\n",
              "      <td>FALSE POSITIVE</td>\n",
              "      <td>FALSE POSITIVE</td>\n",
              "      <td>0.000</td>\n",
              "      <td>0</td>\n",
              "      <td>1</td>\n",
              "      <td>0</td>\n",
              "      <td>0</td>\n",
              "      <td>19.899140</td>\n",
              "      <td>1.494000e-05</td>\n",
              "      <td>-1.494000e-05</td>\n",
              "      <td>175.850252</td>\n",
              "      <td>0.000581</td>\n",
              "      <td>-0.000581</td>\n",
              "      <td>0.969</td>\n",
              "      <td>5.126</td>\n",
              "      <td>-0.077</td>\n",
              "      <td>1.78220</td>\n",
              "      <td>0.03410</td>\n",
              "      <td>-0.03410</td>\n",
              "      <td>10829.0</td>\n",
              "      <td>171.0</td>\n",
              "      <td>-171.0</td>\n",
              "      <td>14.60</td>\n",
              "      <td>3.92</td>\n",
              "      <td>-1.31</td>\n",
              "      <td>638.0</td>\n",
              "      <td>NaN</td>\n",
              "      <td>NaN</td>\n",
              "      <td>39.30</td>\n",
              "      <td>31.04</td>\n",
              "      <td>-10.49</td>\n",
              "      <td>76.3</td>\n",
              "      <td>1.0</td>\n",
              "      <td>q1_q17_dr25_tce</td>\n",
              "      <td>5853.0</td>\n",
              "      <td>158.0</td>\n",
              "      <td>-176.0</td>\n",
              "      <td>4.544</td>\n",
              "      <td>0.044</td>\n",
              "      <td>-0.176</td>\n",
              "      <td>0.868</td>\n",
              "      <td>0.233</td>\n",
              "      <td>-0.078</td>\n",
              "      <td>297.00482</td>\n",
              "      <td>48.134129</td>\n",
              "      <td>15.436</td>\n",
              "    </tr>\n",
              "    <tr>\n",
              "      <th>3</th>\n",
              "      <td>4</td>\n",
              "      <td>10848459</td>\n",
              "      <td>K00754.01</td>\n",
              "      <td>NaN</td>\n",
              "      <td>FALSE POSITIVE</td>\n",
              "      <td>FALSE POSITIVE</td>\n",
              "      <td>0.000</td>\n",
              "      <td>0</td>\n",
              "      <td>1</td>\n",
              "      <td>0</td>\n",
              "      <td>0</td>\n",
              "      <td>1.736952</td>\n",
              "      <td>2.630000e-07</td>\n",
              "      <td>-2.630000e-07</td>\n",
              "      <td>170.307565</td>\n",
              "      <td>0.000115</td>\n",
              "      <td>-0.000115</td>\n",
              "      <td>1.276</td>\n",
              "      <td>0.115</td>\n",
              "      <td>-0.092</td>\n",
              "      <td>2.40641</td>\n",
              "      <td>0.00537</td>\n",
              "      <td>-0.00537</td>\n",
              "      <td>8079.2</td>\n",
              "      <td>12.8</td>\n",
              "      <td>-12.8</td>\n",
              "      <td>33.46</td>\n",
              "      <td>8.50</td>\n",
              "      <td>-2.83</td>\n",
              "      <td>1395.0</td>\n",
              "      <td>NaN</td>\n",
              "      <td>NaN</td>\n",
              "      <td>891.96</td>\n",
              "      <td>668.95</td>\n",
              "      <td>-230.35</td>\n",
              "      <td>505.6</td>\n",
              "      <td>1.0</td>\n",
              "      <td>q1_q17_dr25_tce</td>\n",
              "      <td>5805.0</td>\n",
              "      <td>157.0</td>\n",
              "      <td>-174.0</td>\n",
              "      <td>4.564</td>\n",
              "      <td>0.053</td>\n",
              "      <td>-0.168</td>\n",
              "      <td>0.791</td>\n",
              "      <td>0.201</td>\n",
              "      <td>-0.067</td>\n",
              "      <td>285.53461</td>\n",
              "      <td>48.285210</td>\n",
              "      <td>15.597</td>\n",
              "    </tr>\n",
              "    <tr>\n",
              "      <th>4</th>\n",
              "      <td>5</td>\n",
              "      <td>10854555</td>\n",
              "      <td>K00755.01</td>\n",
              "      <td>Kepler-664 b</td>\n",
              "      <td>CONFIRMED</td>\n",
              "      <td>CANDIDATE</td>\n",
              "      <td>1.000</td>\n",
              "      <td>0</td>\n",
              "      <td>0</td>\n",
              "      <td>0</td>\n",
              "      <td>0</td>\n",
              "      <td>2.525592</td>\n",
              "      <td>3.761000e-06</td>\n",
              "      <td>-3.761000e-06</td>\n",
              "      <td>171.595550</td>\n",
              "      <td>0.001130</td>\n",
              "      <td>-0.001130</td>\n",
              "      <td>0.701</td>\n",
              "      <td>0.235</td>\n",
              "      <td>-0.478</td>\n",
              "      <td>1.65450</td>\n",
              "      <td>0.04200</td>\n",
              "      <td>-0.04200</td>\n",
              "      <td>603.3</td>\n",
              "      <td>16.9</td>\n",
              "      <td>-16.9</td>\n",
              "      <td>2.75</td>\n",
              "      <td>0.88</td>\n",
              "      <td>-0.35</td>\n",
              "      <td>1406.0</td>\n",
              "      <td>NaN</td>\n",
              "      <td>NaN</td>\n",
              "      <td>926.16</td>\n",
              "      <td>874.33</td>\n",
              "      <td>-314.24</td>\n",
              "      <td>40.9</td>\n",
              "      <td>1.0</td>\n",
              "      <td>q1_q17_dr25_tce</td>\n",
              "      <td>6031.0</td>\n",
              "      <td>169.0</td>\n",
              "      <td>-211.0</td>\n",
              "      <td>4.438</td>\n",
              "      <td>0.070</td>\n",
              "      <td>-0.210</td>\n",
              "      <td>1.046</td>\n",
              "      <td>0.334</td>\n",
              "      <td>-0.133</td>\n",
              "      <td>288.75488</td>\n",
              "      <td>48.226200</td>\n",
              "      <td>15.509</td>\n",
              "    </tr>\n",
              "  </tbody>\n",
              "</table>\n",
              "</div>"
            ],
            "text/plain": [
              "   rowid     kepid kepoi_name  ...         ra        dec koi_kepmag\n",
              "0      1  10797460  K00752.01  ...  291.93423  48.141651     15.347\n",
              "1      2  10797460  K00752.02  ...  291.93423  48.141651     15.347\n",
              "2      3  10811496  K00753.01  ...  297.00482  48.134129     15.436\n",
              "3      4  10848459  K00754.01  ...  285.53461  48.285210     15.597\n",
              "4      5  10854555  K00755.01  ...  288.75488  48.226200     15.509\n",
              "\n",
              "[5 rows x 50 columns]"
            ]
          },
          "metadata": {
            "tags": []
          },
          "execution_count": 3
        }
      ]
    },
    {
      "cell_type": "markdown",
      "metadata": {
        "id": "CU5ewXZWuSkT",
        "colab_type": "text"
      },
      "source": [
        "# Counting NaN Values"
      ]
    },
    {
      "cell_type": "code",
      "metadata": {
        "id": "HN2bBXhguSkV",
        "colab_type": "code",
        "colab": {}
      },
      "source": [
        "nan_columns = df.isnull().sum()\n",
        "nan_columns = {col:count for col, count in nan_columns.items() if count >0}"
      ],
      "execution_count": 4,
      "outputs": []
    },
    {
      "cell_type": "code",
      "metadata": {
        "id": "XfvoG5ZauSka",
        "colab_type": "code",
        "colab": {
          "base_uri": "https://localhost:8080/",
          "height": 672
        },
        "outputId": "ae9aeada-6b45-4b4d-e57d-ee91a69021b1"
      },
      "source": [
        "pp.pprint(nan_columns)"
      ],
      "execution_count": 5,
      "outputs": [
        {
          "output_type": "stream",
          "text": [
            "{  'kepler_name': 7270,\n",
            "   'koi_depth': 363,\n",
            "   'koi_depth_err1': 454,\n",
            "   'koi_depth_err2': 454,\n",
            "   'koi_duration_err1': 454,\n",
            "   'koi_duration_err2': 454,\n",
            "   'koi_impact': 363,\n",
            "   'koi_impact_err1': 454,\n",
            "   'koi_impact_err2': 454,\n",
            "   'koi_insol': 321,\n",
            "   'koi_insol_err1': 321,\n",
            "   'koi_insol_err2': 321,\n",
            "   'koi_kepmag': 1,\n",
            "   'koi_model_snr': 363,\n",
            "   'koi_period_err1': 454,\n",
            "   'koi_period_err2': 454,\n",
            "   'koi_prad': 363,\n",
            "   'koi_prad_err1': 363,\n",
            "   'koi_prad_err2': 363,\n",
            "   'koi_score': 1510,\n",
            "   'koi_slogg': 363,\n",
            "   'koi_slogg_err1': 468,\n",
            "   'koi_slogg_err2': 468,\n",
            "   'koi_srad': 363,\n",
            "   'koi_srad_err1': 468,\n",
            "   'koi_srad_err2': 468,\n",
            "   'koi_steff': 363,\n",
            "   'koi_steff_err1': 468,\n",
            "   'koi_steff_err2': 483,\n",
            "   'koi_tce_delivname': 346,\n",
            "   'koi_tce_plnt_num': 346,\n",
            "   'koi_teq': 363,\n",
            "   'koi_teq_err1': 9564,\n",
            "   'koi_teq_err2': 9564,\n",
            "   'koi_time0bk_err1': 454,\n",
            "   'koi_time0bk_err2': 454}\n"
          ],
          "name": "stdout"
        }
      ]
    },
    {
      "cell_type": "markdown",
      "metadata": {
        "id": "IHqZFTZV9ScH",
        "colab_type": "text"
      },
      "source": [
        "We notice that **all the values** in 2 columns are NaN:\n",
        "* koi_teq_err1\n",
        "* koi_teq_err2\n",
        "\n",
        "These columns are the associated errors in estimating the equilibrium temperatures of a exoplanet, and are assumed to have 0 or no error."
      ]
    },
    {
      "cell_type": "markdown",
      "metadata": {
        "id": "OF2Ka5QH9k4U",
        "colab_type": "text"
      },
      "source": [
        "These attributes correspond to the error in estimating the equilibrium temperature of a planet. Since we cannot approximate their values, we can drop them."
      ]
    },
    {
      "cell_type": "code",
      "metadata": {
        "id": "THKKEzSD9Hum",
        "colab_type": "code",
        "colab": {}
      },
      "source": [
        "df.drop(columns = [\"koi_teq_err1\", \"koi_teq_err2\"], inplace = True)"
      ],
      "execution_count": 6,
      "outputs": []
    },
    {
      "cell_type": "markdown",
      "metadata": {
        "id": "J2Ai03w13U73",
        "colab_type": "text"
      },
      "source": [
        "# Replacing NaN Values"
      ]
    },
    {
      "cell_type": "markdown",
      "metadata": {
        "id": "XaNbcQRAwMNR",
        "colab_type": "text"
      },
      "source": [
        "There are two broad types of NaN values present.\n",
        "* NaN in Error Values - These include the positive and negative error in estimating attributes\n",
        "* NaN in Measurable Attributes - These include missing values in measuring attributes "
      ]
    },
    {
      "cell_type": "markdown",
      "metadata": {
        "id": "oLUUQUoR4IuH",
        "colab_type": "text"
      },
      "source": [
        "## Replacing NaN in Error Values"
      ]
    },
    {
      "cell_type": "markdown",
      "metadata": {
        "id": "7v7T_Pqq4NOI",
        "colab_type": "text"
      },
      "source": [
        "### Finding Error Attributes with NaN"
      ]
    },
    {
      "cell_type": "code",
      "metadata": {
        "id": "Zvkdyc_O407o",
        "colab_type": "code",
        "colab": {
          "base_uri": "https://localhost:8080/",
          "height": 381
        },
        "outputId": "0288889d-b352-463d-8d7d-f9461e555143"
      },
      "source": [
        "missing_error_attribute_names = [attr for attr in df.columns if \"err\" in attr]\n",
        "pp.pprint(missing_error_attribute_names)"
      ],
      "execution_count": 7,
      "outputs": [
        {
          "output_type": "stream",
          "text": [
            "[  'koi_period_err1',\n",
            "   'koi_period_err2',\n",
            "   'koi_time0bk_err1',\n",
            "   'koi_time0bk_err2',\n",
            "   'koi_impact_err1',\n",
            "   'koi_impact_err2',\n",
            "   'koi_duration_err1',\n",
            "   'koi_duration_err2',\n",
            "   'koi_depth_err1',\n",
            "   'koi_depth_err2',\n",
            "   'koi_prad_err1',\n",
            "   'koi_prad_err2',\n",
            "   'koi_insol_err1',\n",
            "   'koi_insol_err2',\n",
            "   'koi_steff_err1',\n",
            "   'koi_steff_err2',\n",
            "   'koi_slogg_err1',\n",
            "   'koi_slogg_err2',\n",
            "   'koi_srad_err1',\n",
            "   'koi_srad_err2']\n"
          ],
          "name": "stdout"
        }
      ]
    },
    {
      "cell_type": "markdown",
      "metadata": {
        "id": "5j3Ffm_I5vbZ",
        "colab_type": "text"
      },
      "source": [
        "Since these are positive and negative error measures for the corresponding attributes, we can do either of the following \n",
        "* Replace with the mean or median of the attribute errors\n",
        "* Replace with a default value = 0"
      ]
    },
    {
      "cell_type": "markdown",
      "metadata": {
        "id": "SK1h-C_MOezW",
        "colab_type": "text"
      },
      "source": [
        "We can also take a look at the percentage error in the column and error associated with the column"
      ]
    },
    {
      "cell_type": "markdown",
      "metadata": {
        "id": "S7omgKUh6K6Q",
        "colab_type": "text"
      },
      "source": [
        "### Finding Error Attribute Means and Medians"
      ]
    },
    {
      "cell_type": "markdown",
      "metadata": {
        "id": "UUpE5HhY9JiW",
        "colab_type": "text"
      },
      "source": [
        "Let us first extract a slice of the dataset that contains the error attributes"
      ]
    },
    {
      "cell_type": "code",
      "metadata": {
        "id": "FtCbsuvs6JhU",
        "colab_type": "code",
        "colab": {
          "base_uri": "https://localhost:8080/",
          "height": 244
        },
        "outputId": "b9dce566-83d9-4e36-f1d1-29a818601976"
      },
      "source": [
        "missing_error_values_df = df[missing_error_attribute_names].copy()\n",
        "print(missing_error_values_df.shape)\n",
        "missing_error_values_df.head()"
      ],
      "execution_count": 8,
      "outputs": [
        {
          "output_type": "stream",
          "text": [
            "(9564, 20)\n"
          ],
          "name": "stdout"
        },
        {
          "output_type": "execute_result",
          "data": {
            "text/html": [
              "<div>\n",
              "<style scoped>\n",
              "    .dataframe tbody tr th:only-of-type {\n",
              "        vertical-align: middle;\n",
              "    }\n",
              "\n",
              "    .dataframe tbody tr th {\n",
              "        vertical-align: top;\n",
              "    }\n",
              "\n",
              "    .dataframe thead th {\n",
              "        text-align: right;\n",
              "    }\n",
              "</style>\n",
              "<table border=\"1\" class=\"dataframe\">\n",
              "  <thead>\n",
              "    <tr style=\"text-align: right;\">\n",
              "      <th></th>\n",
              "      <th>koi_period_err1</th>\n",
              "      <th>koi_period_err2</th>\n",
              "      <th>koi_time0bk_err1</th>\n",
              "      <th>koi_time0bk_err2</th>\n",
              "      <th>koi_impact_err1</th>\n",
              "      <th>koi_impact_err2</th>\n",
              "      <th>koi_duration_err1</th>\n",
              "      <th>koi_duration_err2</th>\n",
              "      <th>koi_depth_err1</th>\n",
              "      <th>koi_depth_err2</th>\n",
              "      <th>koi_prad_err1</th>\n",
              "      <th>koi_prad_err2</th>\n",
              "      <th>koi_insol_err1</th>\n",
              "      <th>koi_insol_err2</th>\n",
              "      <th>koi_steff_err1</th>\n",
              "      <th>koi_steff_err2</th>\n",
              "      <th>koi_slogg_err1</th>\n",
              "      <th>koi_slogg_err2</th>\n",
              "      <th>koi_srad_err1</th>\n",
              "      <th>koi_srad_err2</th>\n",
              "    </tr>\n",
              "  </thead>\n",
              "  <tbody>\n",
              "    <tr>\n",
              "      <th>0</th>\n",
              "      <td>2.775000e-05</td>\n",
              "      <td>-2.775000e-05</td>\n",
              "      <td>0.002160</td>\n",
              "      <td>-0.002160</td>\n",
              "      <td>0.318</td>\n",
              "      <td>-0.146</td>\n",
              "      <td>0.08190</td>\n",
              "      <td>-0.08190</td>\n",
              "      <td>19.5</td>\n",
              "      <td>-19.5</td>\n",
              "      <td>0.26</td>\n",
              "      <td>-0.15</td>\n",
              "      <td>29.45</td>\n",
              "      <td>-16.65</td>\n",
              "      <td>81.0</td>\n",
              "      <td>-81.0</td>\n",
              "      <td>0.064</td>\n",
              "      <td>-0.096</td>\n",
              "      <td>0.105</td>\n",
              "      <td>-0.061</td>\n",
              "    </tr>\n",
              "    <tr>\n",
              "      <th>1</th>\n",
              "      <td>2.479000e-04</td>\n",
              "      <td>-2.479000e-04</td>\n",
              "      <td>0.003520</td>\n",
              "      <td>-0.003520</td>\n",
              "      <td>0.059</td>\n",
              "      <td>-0.443</td>\n",
              "      <td>0.11600</td>\n",
              "      <td>-0.11600</td>\n",
              "      <td>35.5</td>\n",
              "      <td>-35.5</td>\n",
              "      <td>0.32</td>\n",
              "      <td>-0.19</td>\n",
              "      <td>2.87</td>\n",
              "      <td>-1.62</td>\n",
              "      <td>81.0</td>\n",
              "      <td>-81.0</td>\n",
              "      <td>0.064</td>\n",
              "      <td>-0.096</td>\n",
              "      <td>0.105</td>\n",
              "      <td>-0.061</td>\n",
              "    </tr>\n",
              "    <tr>\n",
              "      <th>2</th>\n",
              "      <td>1.494000e-05</td>\n",
              "      <td>-1.494000e-05</td>\n",
              "      <td>0.000581</td>\n",
              "      <td>-0.000581</td>\n",
              "      <td>5.126</td>\n",
              "      <td>-0.077</td>\n",
              "      <td>0.03410</td>\n",
              "      <td>-0.03410</td>\n",
              "      <td>171.0</td>\n",
              "      <td>-171.0</td>\n",
              "      <td>3.92</td>\n",
              "      <td>-1.31</td>\n",
              "      <td>31.04</td>\n",
              "      <td>-10.49</td>\n",
              "      <td>158.0</td>\n",
              "      <td>-176.0</td>\n",
              "      <td>0.044</td>\n",
              "      <td>-0.176</td>\n",
              "      <td>0.233</td>\n",
              "      <td>-0.078</td>\n",
              "    </tr>\n",
              "    <tr>\n",
              "      <th>3</th>\n",
              "      <td>2.630000e-07</td>\n",
              "      <td>-2.630000e-07</td>\n",
              "      <td>0.000115</td>\n",
              "      <td>-0.000115</td>\n",
              "      <td>0.115</td>\n",
              "      <td>-0.092</td>\n",
              "      <td>0.00537</td>\n",
              "      <td>-0.00537</td>\n",
              "      <td>12.8</td>\n",
              "      <td>-12.8</td>\n",
              "      <td>8.50</td>\n",
              "      <td>-2.83</td>\n",
              "      <td>668.95</td>\n",
              "      <td>-230.35</td>\n",
              "      <td>157.0</td>\n",
              "      <td>-174.0</td>\n",
              "      <td>0.053</td>\n",
              "      <td>-0.168</td>\n",
              "      <td>0.201</td>\n",
              "      <td>-0.067</td>\n",
              "    </tr>\n",
              "    <tr>\n",
              "      <th>4</th>\n",
              "      <td>3.761000e-06</td>\n",
              "      <td>-3.761000e-06</td>\n",
              "      <td>0.001130</td>\n",
              "      <td>-0.001130</td>\n",
              "      <td>0.235</td>\n",
              "      <td>-0.478</td>\n",
              "      <td>0.04200</td>\n",
              "      <td>-0.04200</td>\n",
              "      <td>16.9</td>\n",
              "      <td>-16.9</td>\n",
              "      <td>0.88</td>\n",
              "      <td>-0.35</td>\n",
              "      <td>874.33</td>\n",
              "      <td>-314.24</td>\n",
              "      <td>169.0</td>\n",
              "      <td>-211.0</td>\n",
              "      <td>0.070</td>\n",
              "      <td>-0.210</td>\n",
              "      <td>0.334</td>\n",
              "      <td>-0.133</td>\n",
              "    </tr>\n",
              "  </tbody>\n",
              "</table>\n",
              "</div>"
            ],
            "text/plain": [
              "   koi_period_err1  koi_period_err2  ...  koi_srad_err1  koi_srad_err2\n",
              "0     2.775000e-05    -2.775000e-05  ...          0.105         -0.061\n",
              "1     2.479000e-04    -2.479000e-04  ...          0.105         -0.061\n",
              "2     1.494000e-05    -1.494000e-05  ...          0.233         -0.078\n",
              "3     2.630000e-07    -2.630000e-07  ...          0.201         -0.067\n",
              "4     3.761000e-06    -3.761000e-06  ...          0.334         -0.133\n",
              "\n",
              "[5 rows x 20 columns]"
            ]
          },
          "metadata": {
            "tags": []
          },
          "execution_count": 8
        }
      ]
    },
    {
      "cell_type": "markdown",
      "metadata": {
        "id": "i3rP4yOO_1OZ",
        "colab_type": "text"
      },
      "source": [
        "We can now find the mean and median of the remaining columns"
      ]
    },
    {
      "cell_type": "code",
      "metadata": {
        "id": "B4uJvCYz6h6Q",
        "colab_type": "code",
        "colab": {
          "base_uri": "https://localhost:8080/",
          "height": 108
        },
        "outputId": "9558f33e-f435-4d25-d5ea-eaa9523cd3b9"
      },
      "source": [
        "error_attribute_means = np.nanmean(missing_error_values_df.values, axis=0)\n",
        "error_attribute_means"
      ],
      "execution_count": 9,
      "outputs": [
        {
          "output_type": "execute_result",
          "data": {
            "text/plain": [
              "array([ 2.14786371e-03, -2.14786371e-03,  9.93256054e-03, -9.93256054e-03,\n",
              "        1.95986060e+00, -3.32557464e-01,  3.39941514e-01, -3.39941514e-01,\n",
              "        1.23197563e+02, -1.23197563e+02,  1.76576839e+01, -3.30233138e+01,\n",
              "        3.75069791e+03, -4.04352237e+03,  1.44635554e+02, -1.62265059e+02,\n",
              "        1.20737907e-01, -1.43160510e-01,  3.62292216e-01, -3.94805959e-01])"
            ]
          },
          "metadata": {
            "tags": []
          },
          "execution_count": 9
        }
      ]
    },
    {
      "cell_type": "code",
      "metadata": {
        "id": "smHpO24P6h87",
        "colab_type": "code",
        "colab": {
          "base_uri": "https://localhost:8080/",
          "height": 90
        },
        "outputId": "43d43b64-2867-4248-de55-b688236825d5"
      },
      "source": [
        "error_attribute_medians = np.nanmedian(missing_error_values_df.values, axis=0)\n",
        "error_attribute_medians"
      ],
      "execution_count": 10,
      "outputs": [
        {
          "output_type": "execute_result",
          "data": {
            "text/plain": [
              "array([ 3.5205e-05, -3.5205e-05,  4.1300e-03, -4.1300e-03,  1.9300e-01,\n",
              "       -2.0700e-01,  1.4200e-01, -1.4200e-01,  2.0750e+01, -2.0750e+01,\n",
              "        5.2000e-01, -3.0000e-01,  7.2830e+01, -4.0260e+01,  1.5700e+02,\n",
              "       -1.6000e+02,  7.0000e-02, -1.2800e-01,  2.5100e-01, -1.1100e-01])"
            ]
          },
          "metadata": {
            "tags": []
          },
          "execution_count": 10
        }
      ]
    },
    {
      "cell_type": "markdown",
      "metadata": {
        "id": "4tFonlMMDx1s",
        "colab_type": "text"
      },
      "source": [
        "There seems to be some difference in the median and mean values, suggesting skewed data for attributes. We might need to plot each and decide when we can take median and when we can take mean"
      ]
    },
    {
      "cell_type": "markdown",
      "metadata": {
        "id": "WU-h7t8mAFR4",
        "colab_type": "text"
      },
      "source": [
        "## Replacing NaN in Orbital Period"
      ]
    },
    {
      "cell_type": "code",
      "metadata": {
        "id": "IEtLxV1uEIRq",
        "colab_type": "code",
        "colab": {
          "base_uri": "https://localhost:8080/",
          "height": 299
        },
        "outputId": "6aec9382-34d2-48cf-fb65-16421963ffb1"
      },
      "source": [
        "plt.scatter(range(missing_error_values_df.shape[0]), missing_error_values_df[\"koi_period_err1\"].values, label = \"Error 1\")\n",
        "plt.scatter(range(missing_error_values_df.shape[0]), missing_error_values_df[\"koi_period_err2\"].values, label = \"Error 2\")\n",
        "plt.axvline(x = missing_error_values_df[\"koi_period_err1\"].values.mean(), color = \"red\")\n",
        "plt.title(\"Error in Orbital Period\")\n",
        "plt.legend()"
      ],
      "execution_count": 11,
      "outputs": [
        {
          "output_type": "execute_result",
          "data": {
            "text/plain": [
              "<matplotlib.legend.Legend at 0x7fb6700b47f0>"
            ]
          },
          "metadata": {
            "tags": []
          },
          "execution_count": 11
        },
        {
          "output_type": "display_data",
          "data": {
            "image/png": "[encoded data removed]",
            "text/plain": [
              "<Figure size 432x288 with 1 Axes>"
            ]
          },
          "metadata": {
            "tags": [],
            "needs_background": "light"
          }
        }
      ]
    },
    {
      "cell_type": "markdown",
      "metadata": {
        "id": "yQHyEyRTNdUz",
        "colab_type": "text"
      },
      "source": [
        "### Viewing Frequency Distribution"
      ]
    },
    {
      "cell_type": "markdown",
      "metadata": {
        "id": "ZCEZX2TWOyjf",
        "colab_type": "text"
      },
      "source": [
        "#### Positive Error"
      ]
    },
    {
      "cell_type": "code",
      "metadata": {
        "id": "rNIQHWijCUPX",
        "colab_type": "code",
        "colab": {
          "base_uri": "https://localhost:8080/",
          "height": 368
        },
        "outputId": "71884ccd-ff02-433d-c573-7c9416e396ba"
      },
      "source": [
        "plt.hist(missing_error_values_df[\"koi_period_err1\"].values, bins=5, color = \"orange\")\n",
        "plt.axvline(x = np.nanpercentile(missing_error_values_df[\"koi_period_err1\"].values, 0), color = \"green\", label = \"0th\")\n",
        "plt.axvline(x = np.nanpercentile(missing_error_values_df[\"koi_period_err1\"].values, 25), color = \"grey\", label = \"25th\")\n",
        "plt.axvline(x = np.nanpercentile(missing_error_values_df[\"koi_period_err1\"].values, 50), color = \"yellow\", label = \"50th\")\n",
        "plt.axvline(x = np.nanpercentile(missing_error_values_df[\"koi_period_err1\"].values, 75), color = \"blue\", label = \"75th\")\n",
        "plt.axvline(x = np.nanpercentile(missing_error_values_df[\"koi_period_err1\"].values, 96), color = \"red\", label = \"96th\")\n",
        "plt.axvline(x = np.nanpercentile(missing_error_values_df[\"koi_period_err1\"].values, 100), color = \"purple\", label = \"100th\")\n",
        "plt.title(\"Frequency Distribution for Orbital Period Error 1\")\n",
        "plt.xlabel(\"Percentile\")\n",
        "plt.ylabel(\"Frequency\")\n",
        "plt.legend()\n",
        "plt.show()"
      ],
      "execution_count": 12,
      "outputs": [
        {
          "output_type": "stream",
          "text": [
            "/usr/local/lib/python3.6/dist-packages/numpy/lib/histograms.py:839: RuntimeWarning: invalid value encountered in greater_equal\n",
            "  keep = (tmp_a >= first_edge)\n",
            "/usr/local/lib/python3.6/dist-packages/numpy/lib/histograms.py:840: RuntimeWarning: invalid value encountered in less_equal\n",
            "  keep &= (tmp_a <= last_edge)\n"
          ],
          "name": "stderr"
        },
        {
          "output_type": "display_data",
          "data": {
            "image/png": "[encoded data removed]",
            "text/plain": [
              "<Figure size 432x288 with 1 Axes>"
            ]
          },
          "metadata": {
            "tags": [],
            "needs_background": "light"
          }
        }
      ]
    },
    {
      "cell_type": "code",
      "metadata": {
        "id": "UvgKCeRaPPau",
        "colab_type": "code",
        "colab": {}
      },
      "source": [
        "df[\"koi_period_err1\"].fillna(np.nanpercentile(missing_error_values_df[\"koi_period_err1\"].values, 96), inplace = True)"
      ],
      "execution_count": 13,
      "outputs": []
    },
    {
      "cell_type": "markdown",
      "metadata": {
        "id": "TD35d3SjPpPq",
        "colab_type": "text"
      },
      "source": [
        "#### Negative Error"
      ]
    },
    {
      "cell_type": "code",
      "metadata": {
        "id": "a9Fh4dpbIKhX",
        "colab_type": "code",
        "colab": {
          "base_uri": "https://localhost:8080/",
          "height": 368
        },
        "outputId": "0aeab5b0-a991-4fa2-e34a-393386459072"
      },
      "source": [
        "plt.hist(missing_error_values_df[\"koi_period_err2\"].values, bins=5, color=\"orange\")\n",
        "plt.axvline(x = np.nanpercentile(missing_error_values_df[\"koi_period_err2\"].values, 0), color = \"maroon\", label = \"0th\")\n",
        "plt.axvline(x = np.nanpercentile(missing_error_values_df[\"koi_period_err2\"].values, 4), color = \"blue\", label = \"4th\")\n",
        "plt.axvline(x = np.nanpercentile(missing_error_values_df[\"koi_period_err2\"].values, 25), color = \"violet\", label = \"25th\")\n",
        "plt.axvline(x = np.nanpercentile(missing_error_values_df[\"koi_period_err2\"].values, 50), color = \"yellow\", label = \"50th\")\n",
        "plt.axvline(x = np.nanpercentile(missing_error_values_df[\"koi_period_err2\"].values, 75), color = \"black\", label = \"75th\")\n",
        "plt.axvline(x = np.nanpercentile(missing_error_values_df[\"koi_period_err2\"].values, 100), color = \"purple\", label = \"100th\")\n",
        "plt.title(\"Frequency Distribution for Orbital Period Error 1\")\n",
        "plt.xlabel(\"Percentile\")\n",
        "plt.ylabel(\"Frequency\")\n",
        "plt.legend()\n",
        "plt.show()"
      ],
      "execution_count": 14,
      "outputs": [
        {
          "output_type": "stream",
          "text": [
            "/usr/local/lib/python3.6/dist-packages/numpy/lib/histograms.py:839: RuntimeWarning: invalid value encountered in greater_equal\n",
            "  keep = (tmp_a >= first_edge)\n",
            "/usr/local/lib/python3.6/dist-packages/numpy/lib/histograms.py:840: RuntimeWarning: invalid value encountered in less_equal\n",
            "  keep &= (tmp_a <= last_edge)\n"
          ],
          "name": "stderr"
        },
        {
          "output_type": "display_data",
          "data": {
            "image/png": "[encoded data removed]",
            "text/plain": [
              "<Figure size 432x288 with 1 Axes>"
            ]
          },
          "metadata": {
            "tags": [],
            "needs_background": "light"
          }
        }
      ]
    },
    {
      "cell_type": "code",
      "metadata": {
        "id": "Q13KB0NPP6DN",
        "colab_type": "code",
        "colab": {}
      },
      "source": [
        "df[\"koi_period_err2\"].fillna(np.nanpercentile(missing_error_values_df[\"koi_period_err2\"].values, 5), inplace = True)"
      ],
      "execution_count": 15,
      "outputs": []
    },
    {
      "cell_type": "markdown",
      "metadata": {
        "id": "C3Zddz7wJYG9",
        "colab_type": "text"
      },
      "source": [
        "## Replacing NaN in Transit Epoch"
      ]
    },
    {
      "cell_type": "code",
      "metadata": {
        "id": "7-5O0rsvEJAE",
        "colab_type": "code",
        "colab": {
          "base_uri": "https://localhost:8080/",
          "height": 299
        },
        "outputId": "5c7c16ec-9f75-4084-808b-6a6666961545"
      },
      "source": [
        "plt.scatter(range(missing_error_values_df.shape[0]), missing_error_values_df[\"koi_time0bk_err1\"].values, label = \"Error 1\")\n",
        "plt.scatter(range(missing_error_values_df.shape[0]), missing_error_values_df[\"koi_time0bk_err2\"].values, label = \"Error 2\")\n",
        "plt.title(\"Error in Transit Epoch\")\n",
        "plt.legend()"
      ],
      "execution_count": 16,
      "outputs": [
        {
          "output_type": "execute_result",
          "data": {
            "text/plain": [
              "<matplotlib.legend.Legend at 0x7fb66d2e9828>"
            ]
          },
          "metadata": {
            "tags": []
          },
          "execution_count": 16
        },
        {
          "output_type": "display_data",
          "data": {
            "image/png": "[encoded data removed]",
            "text/plain": [
              "<Figure size 432x288 with 1 Axes>"
            ]
          },
          "metadata": {
            "tags": [],
            "needs_background": "light"
          }
        }
      ]
    },
    {
      "cell_type": "markdown",
      "metadata": {
        "id": "m4sE6-7UQTZ6",
        "colab_type": "text"
      },
      "source": [
        "### Viewing Frequency Distribution"
      ]
    },
    {
      "cell_type": "markdown",
      "metadata": {
        "id": "Vlvz4d_VRnrc",
        "colab_type": "text"
      },
      "source": [
        "#### Positive Error"
      ]
    },
    {
      "cell_type": "code",
      "metadata": {
        "id": "HxrbKXppI-8w",
        "colab_type": "code",
        "colab": {
          "base_uri": "https://localhost:8080/",
          "height": 368
        },
        "outputId": "b8057057-339b-404a-e8ee-1a8dbc59a928"
      },
      "source": [
        "plt.hist(missing_error_values_df[\"koi_time0bk_err1\"].values, bins=5, color=\"orange\")\n",
        "plt.axvline(x = np.nanpercentile(missing_error_values_df[\"koi_time0bk_err1\"].values, 75), color = \"blue\", label = \"75th\")\n",
        "plt.axvline(x = np.nanpercentile(missing_error_values_df[\"koi_time0bk_err1\"].values, 97.5), color = \"red\", label = \"97.5th\")\n",
        "plt.axvline(x = np.nanpercentile(missing_error_values_df[\"koi_time0bk_err1\"].values, 100), color = \"purple\", label = \"100th\")\n",
        "plt.title(\"Frequency Distribution for Orbital Period Error 1\")\n",
        "plt.xlabel(\"Percentile\")\n",
        "plt.ylabel(\"Frequency\")\n",
        "plt.legend()\n",
        "plt.show()"
      ],
      "execution_count": 17,
      "outputs": [
        {
          "output_type": "stream",
          "text": [
            "/usr/local/lib/python3.6/dist-packages/numpy/lib/histograms.py:839: RuntimeWarning: invalid value encountered in greater_equal\n",
            "  keep = (tmp_a >= first_edge)\n",
            "/usr/local/lib/python3.6/dist-packages/numpy/lib/histograms.py:840: RuntimeWarning: invalid value encountered in less_equal\n",
            "  keep &= (tmp_a <= last_edge)\n"
          ],
          "name": "stderr"
        },
        {
          "output_type": "display_data",
          "data": {
            "image/png": "[encoded data removed]",
            "text/plain": [
              "<Figure size 432x288 with 1 Axes>"
            ]
          },
          "metadata": {
            "tags": [],
            "needs_background": "light"
          }
        }
      ]
    },
    {
      "cell_type": "code",
      "metadata": {
        "id": "3E9XqXRzQXvj",
        "colab_type": "code",
        "colab": {}
      },
      "source": [
        "df[\"koi_time0bk_err1\"].fillna(np.nanpercentile(missing_error_values_df[\"koi_time0bk_err1\"].values, 97.5), inplace = True)"
      ],
      "execution_count": 18,
      "outputs": []
    },
    {
      "cell_type": "markdown",
      "metadata": {
        "id": "9XFK-oSGR5ds",
        "colab_type": "text"
      },
      "source": [
        "#### Negative Error"
      ]
    },
    {
      "cell_type": "code",
      "metadata": {
        "id": "3PmaIyIUJbnc",
        "colab_type": "code",
        "colab": {
          "base_uri": "https://localhost:8080/",
          "height": 354
        },
        "outputId": "d106b5d8-ff22-4f3b-aa34-fbdb729f1785"
      },
      "source": [
        "plt.hist(missing_error_values_df[\"koi_time0bk_err2\"].values, bins=5, color=\"orange\")\n",
        "plt.axvline(x = np.nanpercentile(missing_error_values_df[\"koi_time0bk_err2\"].values, 0), color = \"blue\", label = \"0th\")\n",
        "plt.axvline(x = np.nanpercentile(missing_error_values_df[\"koi_time0bk_err2\"].values, 2.5), color = \"maroon\", label = \"2.5th\")\n",
        "plt.axvline(x = np.nanpercentile(missing_error_values_df[\"koi_time0bk_err2\"].values, 75), color = \"black\", label = \"75th\")\n",
        "plt.axvline(x = np.nanpercentile(missing_error_values_df[\"koi_time0bk_err2\"].values, 100), color = \"purple\", label = \"100th\")\n",
        "plt.title(\"Frequency Distribution for Orbital Period Error 2\")\n",
        "plt.legend()\n",
        "plt.show()"
      ],
      "execution_count": 19,
      "outputs": [
        {
          "output_type": "stream",
          "text": [
            "/usr/local/lib/python3.6/dist-packages/numpy/lib/histograms.py:839: RuntimeWarning: invalid value encountered in greater_equal\n",
            "  keep = (tmp_a >= first_edge)\n",
            "/usr/local/lib/python3.6/dist-packages/numpy/lib/histograms.py:840: RuntimeWarning: invalid value encountered in less_equal\n",
            "  keep &= (tmp_a <= last_edge)\n"
          ],
          "name": "stderr"
        },
        {
          "output_type": "display_data",
          "data": {
            "image/png": "[encoded data removed]",
            "text/plain": [
              "<Figure size 432x288 with 1 Axes>"
            ]
          },
          "metadata": {
            "tags": [],
            "needs_background": "light"
          }
        }
      ]
    },
    {
      "cell_type": "code",
      "metadata": {
        "id": "BVuHLUnHSPqN",
        "colab_type": "code",
        "colab": {}
      },
      "source": [
        "df[\"koi_time0bk_err2\"].fillna(np.nanpercentile(missing_error_values_df[\"koi_time0bk_err2\"].values, 2.5), inplace = True)"
      ],
      "execution_count": 20,
      "outputs": []
    },
    {
      "cell_type": "markdown",
      "metadata": {
        "id": "Al5WEE3sJliK",
        "colab_type": "text"
      },
      "source": [
        "## Replacing NaN in Impact Parameter"
      ]
    },
    {
      "cell_type": "markdown",
      "metadata": {
        "id": "KguaGB6RSdMn",
        "colab_type": "text"
      },
      "source": [
        "### Viewing Frequency Distribution"
      ]
    },
    {
      "cell_type": "code",
      "metadata": {
        "id": "MXPADvZzEJV1",
        "colab_type": "code",
        "colab": {
          "base_uri": "https://localhost:8080/",
          "height": 299
        },
        "outputId": "60a1b52e-bbaf-4afa-e8c8-593f0137d551"
      },
      "source": [
        "plt.scatter(range(missing_error_values_df.shape[0]), missing_error_values_df[\"koi_impact_err1\"].values, label = \"Error 1\")\n",
        "plt.scatter(range(missing_error_values_df.shape[0]), missing_error_values_df[\"koi_impact_err2\"].values, label = \"Error 2\")\n",
        "plt.title(\"Error in Impact Parameter\")\n",
        "plt.legend()"
      ],
      "execution_count": 21,
      "outputs": [
        {
          "output_type": "execute_result",
          "data": {
            "text/plain": [
              "<matplotlib.legend.Legend at 0x7fb66d148eb8>"
            ]
          },
          "metadata": {
            "tags": []
          },
          "execution_count": 21
        },
        {
          "output_type": "display_data",
          "data": {
            "image/png": "[encoded data removed]",
            "text/plain": [
              "<Figure size 432x288 with 1 Axes>"
            ]
          },
          "metadata": {
            "tags": [],
            "needs_background": "light"
          }
        }
      ]
    },
    {
      "cell_type": "markdown",
      "metadata": {
        "id": "ppiSqDWdSgme",
        "colab_type": "text"
      },
      "source": [
        "#### Positive Error"
      ]
    },
    {
      "cell_type": "code",
      "metadata": {
        "id": "sZOKFFsEJVPt",
        "colab_type": "code",
        "colab": {
          "base_uri": "https://localhost:8080/",
          "height": 354
        },
        "outputId": "f70472b5-d289-4176-84a7-c5f2440d6722"
      },
      "source": [
        "plt.hist(missing_error_values_df[\"koi_impact_err1\"].values, bins=5, color=\"orange\")\n",
        "plt.axvline(x = np.nanpercentile(missing_error_values_df[\"koi_impact_err1\"].values, 0), color = \"grey\", label = \"0th\")\n",
        "plt.axvline(x = np.nanpercentile(missing_error_values_df[\"koi_impact_err1\"].values, 25), color = \"green\", label = \"25th\")\n",
        "plt.axvline(x = np.nanpercentile(missing_error_values_df[\"koi_impact_err1\"].values, 50), color = \"yellow\", label = \"50th\")\n",
        "plt.axvline(x = np.nanpercentile(missing_error_values_df[\"koi_impact_err1\"].values, 75), color = \"blue\", label = \"75th\")\n",
        "plt.axvline(x = np.nanpercentile(missing_error_values_df[\"koi_impact_err1\"].values, 96.5), color = \"maroon\", label = \"96.5th\")\n",
        "plt.axvline(x = np.nanpercentile(missing_error_values_df[\"koi_impact_err1\"].values, 100), color = \"purple\", label = \"100th\")\n",
        "plt.title(\"Frequency Distribution for Orbital Period Error 1\")\n",
        "plt.legend()\n",
        "plt.show()"
      ],
      "execution_count": 22,
      "outputs": [
        {
          "output_type": "stream",
          "text": [
            "/usr/local/lib/python3.6/dist-packages/numpy/lib/histograms.py:839: RuntimeWarning: invalid value encountered in greater_equal\n",
            "  keep = (tmp_a >= first_edge)\n",
            "/usr/local/lib/python3.6/dist-packages/numpy/lib/histograms.py:840: RuntimeWarning: invalid value encountered in less_equal\n",
            "  keep &= (tmp_a <= last_edge)\n"
          ],
          "name": "stderr"
        },
        {
          "output_type": "display_data",
          "data": {
            "image/png": "[encoded data removed]",
            "text/plain": [
              "<Figure size 432x288 with 1 Axes>"
            ]
          },
          "metadata": {
            "tags": [],
            "needs_background": "light"
          }
        }
      ]
    },
    {
      "cell_type": "code",
      "metadata": {
        "id": "eDkf3IboTVid",
        "colab_type": "code",
        "colab": {}
      },
      "source": [
        "df[\"koi_impact_err1\"].fillna(np.nanpercentile(missing_error_values_df[\"koi_impact_err1\"].values, 96.5), inplace = True)"
      ],
      "execution_count": 23,
      "outputs": []
    },
    {
      "cell_type": "markdown",
      "metadata": {
        "id": "i5S8yyjxTpo0",
        "colab_type": "text"
      },
      "source": [
        "#### Negative Error"
      ]
    },
    {
      "cell_type": "code",
      "metadata": {
        "id": "7QOlu-D6KDkL",
        "colab_type": "code",
        "colab": {
          "base_uri": "https://localhost:8080/",
          "height": 354
        },
        "outputId": "26b5d5af-08f3-4cd8-bed6-87b0676da642"
      },
      "source": [
        "plt.hist(missing_error_values_df[\"koi_impact_err2\"].values, bins=5, color=\"orange\")\n",
        "plt.axvline(x = np.nanpercentile(missing_error_values_df[\"koi_impact_err2\"].values, 0), color = \"blue\", label = \"0th\")\n",
        "plt.axvline(x = np.nanpercentile(missing_error_values_df[\"koi_impact_err2\"].values, 0.35), color = \"maroon\", label = \"0.35th\")\n",
        "plt.axvline(x = np.nanpercentile(missing_error_values_df[\"koi_impact_err2\"].values, 25), color = \"brown\", label = \"25th\")\n",
        "plt.axvline(x = np.nanpercentile(missing_error_values_df[\"koi_impact_err2\"].values, 50), color = \"yellow\", label = \"50th\")\n",
        "plt.axvline(x = np.nanpercentile(missing_error_values_df[\"koi_impact_err2\"].values, 75), color = \"black\", label = \"75th\")\n",
        "plt.axvline(x = np.nanpercentile(missing_error_values_df[\"koi_impact_err2\"].values, 100), color = \"purple\", label = \"100th\")\n",
        "plt.title(\"Frequency Distribution for Orbital Period Error 1\")\n",
        "plt.legend()\n",
        "plt.show()"
      ],
      "execution_count": 24,
      "outputs": [
        {
          "output_type": "stream",
          "text": [
            "/usr/local/lib/python3.6/dist-packages/numpy/lib/histograms.py:839: RuntimeWarning: invalid value encountered in greater_equal\n",
            "  keep = (tmp_a >= first_edge)\n",
            "/usr/local/lib/python3.6/dist-packages/numpy/lib/histograms.py:840: RuntimeWarning: invalid value encountered in less_equal\n",
            "  keep &= (tmp_a <= last_edge)\n"
          ],
          "name": "stderr"
        },
        {
          "output_type": "display_data",
          "data": {
            "image/png": "[encoded data removed]",
            "text/plain": [
              "<Figure size 432x288 with 1 Axes>"
            ]
          },
          "metadata": {
            "tags": [],
            "needs_background": "light"
          }
        }
      ]
    },
    {
      "cell_type": "code",
      "metadata": {
        "id": "JL5qfV11UhXH",
        "colab_type": "code",
        "colab": {}
      },
      "source": [
        "df[\"koi_impact_err2\"].fillna(np.nanpercentile(missing_error_values_df[\"koi_impact_err2\"].values, 0.35), inplace = True)"
      ],
      "execution_count": 25,
      "outputs": []
    },
    {
      "cell_type": "markdown",
      "metadata": {
        "id": "VlWyGtYVKMOv",
        "colab_type": "text"
      },
      "source": [
        "## Replacing NaN in Transit Duration"
      ]
    },
    {
      "cell_type": "markdown",
      "metadata": {
        "id": "091acAJRUotg",
        "colab_type": "text"
      },
      "source": [
        "### Viewing Frequency Distribution"
      ]
    },
    {
      "cell_type": "code",
      "metadata": {
        "id": "83lCH5TPEJm5",
        "colab_type": "code",
        "colab": {
          "base_uri": "https://localhost:8080/",
          "height": 299
        },
        "outputId": "0c58bb0c-2abd-4c2c-b0af-7229e5c15f92"
      },
      "source": [
        "plt.scatter(range(missing_error_values_df.shape[0]), missing_error_values_df[\"koi_duration_err1\"].values, label = \"Error 1\")\n",
        "plt.scatter(range(missing_error_values_df.shape[0]), missing_error_values_df[\"koi_duration_err2\"].values, label = \"Error 2\")\n",
        "plt.title(\"Error in Transit Duration\")\n",
        "plt.legend()"
      ],
      "execution_count": 26,
      "outputs": [
        {
          "output_type": "execute_result",
          "data": {
            "text/plain": [
              "<matplotlib.legend.Legend at 0x7fb66cf783c8>"
            ]
          },
          "metadata": {
            "tags": []
          },
          "execution_count": 26
        },
        {
          "output_type": "display_data",
          "data": {
            "image/png": "[encoded data removed]",
            "text/plain": [
              "<Figure size 432x288 with 1 Axes>"
            ]
          },
          "metadata": {
            "tags": [],
            "needs_background": "light"
          }
        }
      ]
    },
    {
      "cell_type": "markdown",
      "metadata": {
        "id": "CntQhKslUr0H",
        "colab_type": "text"
      },
      "source": [
        "#### Positive Error"
      ]
    },
    {
      "cell_type": "code",
      "metadata": {
        "id": "usrejhIdKQ6l",
        "colab_type": "code",
        "colab": {
          "base_uri": "https://localhost:8080/",
          "height": 354
        },
        "outputId": "cb58313d-5cb5-4304-aeee-9aea3c528f00"
      },
      "source": [
        "plt.hist(missing_error_values_df[\"koi_duration_err1\"].values, bins=5, color=\"orange\")\n",
        "plt.axvline(x = np.nanpercentile(missing_error_values_df[\"koi_duration_err1\"].values, 0), color = \"black\", label = \"0th\")\n",
        "plt.axvline(x = np.nanpercentile(missing_error_values_df[\"koi_duration_err1\"].values, 25), color = \"blue\", label = \"25th\")\n",
        "plt.axvline(x = np.nanpercentile(missing_error_values_df[\"koi_duration_err1\"].values, 50), color = \"yellow\", label = \"50th\")\n",
        "plt.axvline(x = np.nanpercentile(missing_error_values_df[\"koi_duration_err1\"].values, 75), color = \"green\", label = \"75th\")\n",
        "plt.axvline(x = np.nanpercentile(missing_error_values_df[\"koi_duration_err1\"].values, 97), color = \"maroon\", label = \"97th\")\n",
        "plt.axvline(x = np.nanpercentile(missing_error_values_df[\"koi_duration_err1\"].values, 100), color = \"purple\", label = \"100th\")\n",
        "plt.title(\"Frequency Distribution for Orbital Period Error 1\")\n",
        "plt.legend()\n",
        "plt.show()"
      ],
      "execution_count": 27,
      "outputs": [
        {
          "output_type": "stream",
          "text": [
            "/usr/local/lib/python3.6/dist-packages/numpy/lib/histograms.py:839: RuntimeWarning: invalid value encountered in greater_equal\n",
            "  keep = (tmp_a >= first_edge)\n",
            "/usr/local/lib/python3.6/dist-packages/numpy/lib/histograms.py:840: RuntimeWarning: invalid value encountered in less_equal\n",
            "  keep &= (tmp_a <= last_edge)\n"
          ],
          "name": "stderr"
        },
        {
          "output_type": "display_data",
          "data": {
            "image/png": "[encoded data removed]",
            "text/plain": [
              "<Figure size 432x288 with 1 Axes>"
            ]
          },
          "metadata": {
            "tags": [],
            "needs_background": "light"
          }
        }
      ]
    },
    {
      "cell_type": "code",
      "metadata": {
        "id": "6XZ3q_cbU9T_",
        "colab_type": "code",
        "colab": {}
      },
      "source": [
        "df[\"koi_duration_err1\"].fillna(np.nanpercentile(missing_error_values_df[\"koi_duration_err1\"].values, 97), inplace = True)"
      ],
      "execution_count": 28,
      "outputs": []
    },
    {
      "cell_type": "markdown",
      "metadata": {
        "id": "I0YfZUPsVMEy",
        "colab_type": "text"
      },
      "source": [
        "#### Negative Error"
      ]
    },
    {
      "cell_type": "code",
      "metadata": {
        "id": "PqfeHJt7KmEE",
        "colab_type": "code",
        "colab": {
          "base_uri": "https://localhost:8080/",
          "height": 354
        },
        "outputId": "badd3574-91a7-4043-fe5b-ed56320b84bd"
      },
      "source": [
        "plt.hist(missing_error_values_df[\"koi_duration_err2\"].values, bins=5, color=\"orange\")\n",
        "plt.axvline(x = np.nanpercentile(missing_error_values_df[\"koi_duration_err2\"].values, 0), color = \"blue\", label = \"0th\")\n",
        "plt.axvline(x = np.nanpercentile(missing_error_values_df[\"koi_duration_err2\"].values, 3), color = \"maroon\", label = \"3rd\")\n",
        "plt.axvline(x = np.nanpercentile(missing_error_values_df[\"koi_duration_err2\"].values, 25), color = \"blue\", label = \"25th\")\n",
        "plt.axvline(x = np.nanpercentile(missing_error_values_df[\"koi_duration_err2\"].values, 50), color = \"yellow\", label = \"50th\")\n",
        "plt.axvline(x = np.nanpercentile(missing_error_values_df[\"koi_duration_err2\"].values, 75), color = \"black\", label = \"75th\")\n",
        "plt.axvline(x = np.nanpercentile(missing_error_values_df[\"koi_duration_err2\"].values, 100), color = \"purple\", label = \"100th\")\n",
        "plt.title(\"Frequency Distribution for Orbital Period Error 1\")\n",
        "plt.legend()\n",
        "plt.show()"
      ],
      "execution_count": 29,
      "outputs": [
        {
          "output_type": "stream",
          "text": [
            "/usr/local/lib/python3.6/dist-packages/numpy/lib/histograms.py:839: RuntimeWarning: invalid value encountered in greater_equal\n",
            "  keep = (tmp_a >= first_edge)\n",
            "/usr/local/lib/python3.6/dist-packages/numpy/lib/histograms.py:840: RuntimeWarning: invalid value encountered in less_equal\n",
            "  keep &= (tmp_a <= last_edge)\n"
          ],
          "name": "stderr"
        },
        {
          "output_type": "display_data",
          "data": {
            "image/png": "[encoded data removed]",
            "text/plain": [
              "<Figure size 432x288 with 1 Axes>"
            ]
          },
          "metadata": {
            "tags": [],
            "needs_background": "light"
          }
        }
      ]
    },
    {
      "cell_type": "code",
      "metadata": {
        "id": "9YUq20dPVYTD",
        "colab_type": "code",
        "colab": {}
      },
      "source": [
        "df[\"koi_duration_err2\"].fillna(np.nanpercentile(missing_error_values_df[\"koi_duration_err2\"].values, 3), inplace = True)"
      ],
      "execution_count": 30,
      "outputs": []
    },
    {
      "cell_type": "markdown",
      "metadata": {
        "id": "0Bb0FgyWKs-Q",
        "colab_type": "text"
      },
      "source": [
        "## Replacing NaN in Transit Depth"
      ]
    },
    {
      "cell_type": "markdown",
      "metadata": {
        "id": "zDL7f9B-Vd4o",
        "colab_type": "text"
      },
      "source": [
        "### Viewing Frequency Distribution"
      ]
    },
    {
      "cell_type": "code",
      "metadata": {
        "id": "Yx_wKOTc6h_F",
        "colab_type": "code",
        "colab": {
          "base_uri": "https://localhost:8080/",
          "height": 299
        },
        "outputId": "86311f4f-1765-42cb-9085-629dbfbf8942"
      },
      "source": [
        "plt.scatter(range(missing_error_values_df.shape[0]), missing_error_values_df[\"koi_depth_err1\"].values, label = \"Error 1\")\n",
        "plt.scatter(range(missing_error_values_df.shape[0]), missing_error_values_df[\"koi_depth_err2\"].values, label = \"Error 2\")\n",
        "plt.title(\"Error in Transit Depth\")\n",
        "plt.legend()"
      ],
      "execution_count": 31,
      "outputs": [
        {
          "output_type": "execute_result",
          "data": {
            "text/plain": [
              "<matplotlib.legend.Legend at 0x7fb66d2d2550>"
            ]
          },
          "metadata": {
            "tags": []
          },
          "execution_count": 31
        },
        {
          "output_type": "display_data",
          "data": {
            "image/png": "[encoded data removed]",
            "text/plain": [
              "<Figure size 432x288 with 1 Axes>"
            ]
          },
          "metadata": {
            "tags": [],
            "needs_background": "light"
          }
        }
      ]
    },
    {
      "cell_type": "markdown",
      "metadata": {
        "id": "dpbzOCVgVi_B",
        "colab_type": "text"
      },
      "source": [
        "#### Positive Error"
      ]
    },
    {
      "cell_type": "code",
      "metadata": {
        "id": "0frA_xxHK2IF",
        "colab_type": "code",
        "colab": {
          "base_uri": "https://localhost:8080/",
          "height": 354
        },
        "outputId": "c0724aa8-bdd8-4b75-b5b9-004dc89afbbc"
      },
      "source": [
        "plt.hist(missing_error_values_df[\"koi_depth_err1\"].values, bins=5, color=\"orange\")\n",
        "plt.axvline(x = np.nanpercentile(missing_error_values_df[\"koi_depth_err1\"].values, 0), color = \"green\", label = \"0th\")\n",
        "plt.axvline(x = np.nanpercentile(missing_error_values_df[\"koi_depth_err1\"].values, 25), color = \"blue\", label = \"25th\")\n",
        "plt.axvline(x = np.nanpercentile(missing_error_values_df[\"koi_depth_err1\"].values, 50), color = \"yellow\", label = \"50th\")\n",
        "plt.axvline(x = np.nanpercentile(missing_error_values_df[\"koi_depth_err1\"].values, 75), color = \"black\", label = \"75th\")\n",
        "plt.axvline(x = np.nanpercentile(missing_error_values_df[\"koi_depth_err1\"].values, 99.985), color = \"maroon\", label = \"99.985th\")\n",
        "plt.axvline(x = np.nanpercentile(missing_error_values_df[\"koi_depth_err1\"].values, 100), color = \"purple\", label = \"100th\")\n",
        "plt.title(\"Frequency Distribution for Orbital Period Error 1\")\n",
        "plt.legend()\n",
        "plt.show()"
      ],
      "execution_count": 32,
      "outputs": [
        {
          "output_type": "stream",
          "text": [
            "/usr/local/lib/python3.6/dist-packages/numpy/lib/histograms.py:839: RuntimeWarning: invalid value encountered in greater_equal\n",
            "  keep = (tmp_a >= first_edge)\n",
            "/usr/local/lib/python3.6/dist-packages/numpy/lib/histograms.py:840: RuntimeWarning: invalid value encountered in less_equal\n",
            "  keep &= (tmp_a <= last_edge)\n"
          ],
          "name": "stderr"
        },
        {
          "output_type": "display_data",
          "data": {
            "image/png": "[encoded data removed]",
            "text/plain": [
              "<Figure size 432x288 with 1 Axes>"
            ]
          },
          "metadata": {
            "tags": [],
            "needs_background": "light"
          }
        }
      ]
    },
    {
      "cell_type": "code",
      "metadata": {
        "id": "SZkvPOYYXdxJ",
        "colab_type": "code",
        "colab": {}
      },
      "source": [
        "df[\"koi_depth_err1\"].fillna(np.nanpercentile(missing_error_values_df[\"koi_depth_err1\"].values, 99.985), inplace = True)"
      ],
      "execution_count": 33,
      "outputs": []
    },
    {
      "cell_type": "markdown",
      "metadata": {
        "id": "Z52pr04TXlVV",
        "colab_type": "text"
      },
      "source": [
        "#### Negative Error"
      ]
    },
    {
      "cell_type": "code",
      "metadata": {
        "id": "WAyfqG80K-jH",
        "colab_type": "code",
        "colab": {
          "base_uri": "https://localhost:8080/",
          "height": 354
        },
        "outputId": "a73f3fa1-4ee1-4cdc-a687-2f862186f6f9"
      },
      "source": [
        "plt.hist(missing_error_values_df[\"koi_depth_err2\"].values, bins=5, color=\"orange\")\n",
        "plt.axvline(x = np.nanpercentile(missing_error_values_df[\"koi_depth_err2\"].values, 0), color = \"blue\", label = \"0th\")\n",
        "plt.axvline(x = np.nanpercentile(missing_error_values_df[\"koi_depth_err2\"].values, 0.015), color = \"maroon\", label = \"0.015th\")\n",
        "plt.axvline(x = np.nanpercentile(missing_error_values_df[\"koi_depth_err2\"].values, 25), color = \"blue\", label = \"25th\")\n",
        "plt.axvline(x = np.nanpercentile(missing_error_values_df[\"koi_depth_err2\"].values, 50), color = \"yellow\", label = \"50th\")\n",
        "plt.axvline(x = np.nanpercentile(missing_error_values_df[\"koi_depth_err2\"].values, 75), color = \"black\", label = \"75th\")\n",
        "plt.axvline(x = np.nanpercentile(missing_error_values_df[\"koi_depth_err2\"].values, 100), color = \"purple\", label = \"100th\")\n",
        "plt.title(\"Frequency Distribution for Orbital Period Error 1\")\n",
        "plt.legend()\n",
        "plt.show()"
      ],
      "execution_count": 34,
      "outputs": [
        {
          "output_type": "stream",
          "text": [
            "/usr/local/lib/python3.6/dist-packages/numpy/lib/histograms.py:839: RuntimeWarning: invalid value encountered in greater_equal\n",
            "  keep = (tmp_a >= first_edge)\n",
            "/usr/local/lib/python3.6/dist-packages/numpy/lib/histograms.py:840: RuntimeWarning: invalid value encountered in less_equal\n",
            "  keep &= (tmp_a <= last_edge)\n"
          ],
          "name": "stderr"
        },
        {
          "output_type": "display_data",
          "data": {
            "image/png": "[encoded data removed]",
            "text/plain": [
              "<Figure size 432x288 with 1 Axes>"
            ]
          },
          "metadata": {
            "tags": [],
            "needs_background": "light"
          }
        }
      ]
    },
    {
      "cell_type": "code",
      "metadata": {
        "id": "yiYEqwbPYb-4",
        "colab_type": "code",
        "colab": {}
      },
      "source": [
        "df[\"koi_depth_err2\"].fillna(np.nanpercentile(missing_error_values_df[\"koi_depth_err2\"].values, 0.015), inplace = True)"
      ],
      "execution_count": 35,
      "outputs": []
    },
    {
      "cell_type": "markdown",
      "metadata": {
        "id": "WH2wHKx2LI7W",
        "colab_type": "text"
      },
      "source": [
        "## Replacing NaN in Planet Radius"
      ]
    },
    {
      "cell_type": "markdown",
      "metadata": {
        "id": "kGaIVv0SYm86",
        "colab_type": "text"
      },
      "source": [
        "### Viewing Frequency Distribution"
      ]
    },
    {
      "cell_type": "code",
      "metadata": {
        "id": "GF0RTN8C6iBk",
        "colab_type": "code",
        "colab": {
          "base_uri": "https://localhost:8080/",
          "height": 299
        },
        "outputId": "ad8020cc-5d1a-4c2f-c0c0-f3bef270b58e"
      },
      "source": [
        "plt.scatter(range(missing_error_values_df.shape[0]), missing_error_values_df[\"koi_prad_err1\"].values, label = \"Error 1\")\n",
        "plt.scatter(range(missing_error_values_df.shape[0]), missing_error_values_df[\"koi_prad_err2\"].values, label = \"Error 2\")\n",
        "plt.title(\"Error in Planet Radius\")\n",
        "plt.legend()"
      ],
      "execution_count": 36,
      "outputs": [
        {
          "output_type": "execute_result",
          "data": {
            "text/plain": [
              "<matplotlib.legend.Legend at 0x7fb66d1e3860>"
            ]
          },
          "metadata": {
            "tags": []
          },
          "execution_count": 36
        },
        {
          "output_type": "display_data",
          "data": {
            "image/png": "[encoded data removed]",
            "text/plain": [
              "<Figure size 432x288 with 1 Axes>"
            ]
          },
          "metadata": {
            "tags": [],
            "needs_background": "light"
          }
        }
      ]
    },
    {
      "cell_type": "markdown",
      "metadata": {
        "id": "hpB5EQT1YqOU",
        "colab_type": "text"
      },
      "source": [
        "#### Positive Error"
      ]
    },
    {
      "cell_type": "code",
      "metadata": {
        "id": "Sd0e_mHvLQ_n",
        "colab_type": "code",
        "colab": {
          "base_uri": "https://localhost:8080/",
          "height": 354
        },
        "outputId": "953750a8-5aaa-443f-c7ca-636ddc759fe9"
      },
      "source": [
        "plt.hist(missing_error_values_df[\"koi_prad_err1\"].values, bins=5, color=\"orange\")\n",
        "plt.axvline(x = np.nanpercentile(missing_error_values_df[\"koi_prad_err1\"].values, 0), color = \"green\", label = \"0th\")\n",
        "plt.axvline(x = np.nanpercentile(missing_error_values_df[\"koi_prad_err1\"].values, 25), color = \"blue\", label = \"25th\")\n",
        "plt.axvline(x = np.nanpercentile(missing_error_values_df[\"koi_prad_err1\"].values, 50), color = \"yellow\", label = \"50th\")\n",
        "plt.axvline(x = np.nanpercentile(missing_error_values_df[\"koi_prad_err1\"].values, 75), color = \"black\", label = \"75th\")\n",
        "plt.axvline(x = np.nanpercentile(missing_error_values_df[\"koi_prad_err1\"].values, 99.85), color = \"maroon\", label = \"99.85th\")\n",
        "plt.axvline(x = np.nanpercentile(missing_error_values_df[\"koi_prad_err1\"].values, 100), color = \"purple\", label = \"100th\")\n",
        "plt.title(\"Frequency Distribution for Orbital Period Error 1\")\n",
        "plt.legend()\n",
        "plt.show()"
      ],
      "execution_count": 37,
      "outputs": [
        {
          "output_type": "stream",
          "text": [
            "/usr/local/lib/python3.6/dist-packages/numpy/lib/histograms.py:839: RuntimeWarning: invalid value encountered in greater_equal\n",
            "  keep = (tmp_a >= first_edge)\n",
            "/usr/local/lib/python3.6/dist-packages/numpy/lib/histograms.py:840: RuntimeWarning: invalid value encountered in less_equal\n",
            "  keep &= (tmp_a <= last_edge)\n"
          ],
          "name": "stderr"
        },
        {
          "output_type": "display_data",
          "data": {
            "image/png": "[encoded data removed]",
            "text/plain": [
              "<Figure size 432x288 with 1 Axes>"
            ]
          },
          "metadata": {
            "tags": [],
            "needs_background": "light"
          }
        }
      ]
    },
    {
      "cell_type": "code",
      "metadata": {
        "id": "_IW9RRo9ZC72",
        "colab_type": "code",
        "colab": {}
      },
      "source": [
        "df[\"koi_prad_err1\"].fillna(np.nanpercentile(missing_error_values_df[\"koi_prad_err1\"].values, 99.85), inplace = True)"
      ],
      "execution_count": 38,
      "outputs": []
    },
    {
      "cell_type": "markdown",
      "metadata": {
        "id": "PNnNeVZQaHAA",
        "colab_type": "text"
      },
      "source": [
        "#### Negative Error"
      ]
    },
    {
      "cell_type": "code",
      "metadata": {
        "id": "s2mefLd7LRKN",
        "colab_type": "code",
        "colab": {
          "base_uri": "https://localhost:8080/",
          "height": 354
        },
        "outputId": "61f475d3-3e74-43f6-a7e3-76891716282b"
      },
      "source": [
        "plt.hist(missing_error_values_df[\"koi_prad_err2\"].values, bins=5, color=\"orange\")\n",
        "plt.axvline(x = np.nanpercentile(missing_error_values_df[\"koi_prad_err2\"].values, 0), color = \"green\", label = \"0th\")\n",
        "plt.axvline(x = np.nanpercentile(missing_error_values_df[\"koi_prad_err2\"].values, 0.07), color = \"maroon\", label = \"0.07th\")\n",
        "plt.axvline(x = np.nanpercentile(missing_error_values_df[\"koi_prad_err2\"].values, 25), color = \"blue\", label = \"25th\")\n",
        "plt.axvline(x = np.nanpercentile(missing_error_values_df[\"koi_prad_err2\"].values, 50), color = \"yellow\", label = \"50th\")\n",
        "plt.axvline(x = np.nanpercentile(missing_error_values_df[\"koi_prad_err2\"].values, 75), color = \"black\", label = \"75th\")\n",
        "plt.axvline(x = np.nanpercentile(missing_error_values_df[\"koi_prad_err2\"].values, 100), color = \"purple\", label = \"100th\")\n",
        "plt.title(\"Frequency Distribution for Orbital Period Error 1\")\n",
        "plt.legend()\n",
        "plt.show()"
      ],
      "execution_count": 39,
      "outputs": [
        {
          "output_type": "stream",
          "text": [
            "/usr/local/lib/python3.6/dist-packages/numpy/lib/histograms.py:839: RuntimeWarning: invalid value encountered in greater_equal\n",
            "  keep = (tmp_a >= first_edge)\n",
            "/usr/local/lib/python3.6/dist-packages/numpy/lib/histograms.py:840: RuntimeWarning: invalid value encountered in less_equal\n",
            "  keep &= (tmp_a <= last_edge)\n"
          ],
          "name": "stderr"
        },
        {
          "output_type": "display_data",
          "data": {
            "image/png": "[encoded data removed]",
            "text/plain": [
              "<Figure size 432x288 with 1 Axes>"
            ]
          },
          "metadata": {
            "tags": [],
            "needs_background": "light"
          }
        }
      ]
    },
    {
      "cell_type": "code",
      "metadata": {
        "id": "u-j1umU5aa4t",
        "colab_type": "code",
        "colab": {}
      },
      "source": [
        "df[\"koi_prad_err2\"].fillna(np.nanpercentile(missing_error_values_df[\"koi_prad_err2\"].values, 0.07), inplace = True)"
      ],
      "execution_count": 40,
      "outputs": []
    },
    {
      "cell_type": "markdown",
      "metadata": {
        "id": "Xqb1JBMpL2Lj",
        "colab_type": "text"
      },
      "source": [
        "## Replacing NaN in  Insolation Flux"
      ]
    },
    {
      "cell_type": "markdown",
      "metadata": {
        "id": "oHNR6hVvaiwd",
        "colab_type": "text"
      },
      "source": [
        "### Viewing Frequency Distribution"
      ]
    },
    {
      "cell_type": "code",
      "metadata": {
        "id": "1zL1sCDQEruZ",
        "colab_type": "code",
        "colab": {
          "base_uri": "https://localhost:8080/",
          "height": 299
        },
        "outputId": "928d5015-38b1-4e4b-9c74-f30ebb2b7eeb"
      },
      "source": [
        "plt.scatter(range(missing_error_values_df.shape[0]), missing_error_values_df[\"koi_insol_err1\"].values, label = \"Error 1\")\n",
        "plt.scatter(range(missing_error_values_df.shape[0]), missing_error_values_df[\"koi_insol_err2\"].values, label = \"Error 2\")\n",
        "plt.title(\"Error in Insolation Flux\")\n",
        "plt.legend()"
      ],
      "execution_count": 41,
      "outputs": [
        {
          "output_type": "execute_result",
          "data": {
            "text/plain": [
              "<matplotlib.legend.Legend at 0x7fb66d0bab00>"
            ]
          },
          "metadata": {
            "tags": []
          },
          "execution_count": 41
        },
        {
          "output_type": "display_data",
          "data": {
            "image/png": "[encoded data removed]",
            "text/plain": [
              "<Figure size 432x288 with 1 Axes>"
            ]
          },
          "metadata": {
            "tags": [],
            "needs_background": "light"
          }
        }
      ]
    },
    {
      "cell_type": "markdown",
      "metadata": {
        "id": "-mSpYcBganB-",
        "colab_type": "text"
      },
      "source": [
        "#### Positive Error"
      ]
    },
    {
      "cell_type": "code",
      "metadata": {
        "id": "_C7-7A1tMCAc",
        "colab_type": "code",
        "colab": {
          "base_uri": "https://localhost:8080/",
          "height": 367
        },
        "outputId": "b9aedd91-1d72-4d4e-9562-bad738cce674"
      },
      "source": [
        "plt.hist(missing_error_values_df[\"koi_insol_err1\"].values, bins=5, color=\"orange\")\n",
        "plt.axvline(x = np.nanpercentile(missing_error_values_df[\"koi_insol_err1\"].values, 0), color = \"green\", label = \"0th\")\n",
        "plt.axvline(x = np.nanpercentile(missing_error_values_df[\"koi_insol_err1\"].values, 25), color = \"blue\", label = \"25th\")\n",
        "plt.axvline(x = np.nanpercentile(missing_error_values_df[\"koi_insol_err1\"].values, 50), color = \"yellow\", label = \"50th\")\n",
        "plt.axvline(x = np.nanpercentile(missing_error_values_df[\"koi_insol_err1\"].values, 75), color = \"black\", label = \"75th\")\n",
        "plt.axvline(x = np.nanpercentile(missing_error_values_df[\"koi_insol_err1\"].values, 99.85), color = \"maroon\", label = \"99.85th\")\n",
        "plt.axvline(x = np.nanpercentile(missing_error_values_df[\"koi_insol_err1\"].values, 100), color = \"purple\", label = \"100th\")\n",
        "plt.title(\"Frequency Distribution for Orbital Period Error 1\")\n",
        "plt.legend()\n",
        "plt.show()"
      ],
      "execution_count": 42,
      "outputs": [
        {
          "output_type": "stream",
          "text": [
            "/usr/local/lib/python3.6/dist-packages/numpy/lib/histograms.py:839: RuntimeWarning: invalid value encountered in greater_equal\n",
            "  keep = (tmp_a >= first_edge)\n",
            "/usr/local/lib/python3.6/dist-packages/numpy/lib/histograms.py:840: RuntimeWarning: invalid value encountered in less_equal\n",
            "  keep &= (tmp_a <= last_edge)\n"
          ],
          "name": "stderr"
        },
        {
          "output_type": "display_data",
          "data": {
            "image/png": "[encoded data removed]",
            "text/plain": [
              "<Figure size 432x288 with 1 Axes>"
            ]
          },
          "metadata": {
            "tags": [],
            "needs_background": "light"
          }
        }
      ]
    },
    {
      "cell_type": "code",
      "metadata": {
        "id": "4xe5YGwsa5Zq",
        "colab_type": "code",
        "colab": {}
      },
      "source": [
        "df[\"koi_insol_err1\"].fillna(np.nanpercentile(missing_error_values_df[\"koi_insol_err1\"].values, 99.85), inplace = True)"
      ],
      "execution_count": 43,
      "outputs": []
    },
    {
      "cell_type": "markdown",
      "metadata": {
        "id": "meNbmqDnb4tx",
        "colab_type": "text"
      },
      "source": [
        "#### Negative Error"
      ]
    },
    {
      "cell_type": "code",
      "metadata": {
        "id": "oMmWcbrGMCzQ",
        "colab_type": "code",
        "colab": {
          "base_uri": "https://localhost:8080/",
          "height": 367
        },
        "outputId": "e70dd763-dd27-4e3c-fecd-bfbd5baa841c"
      },
      "source": [
        "plt.hist(missing_error_values_df[\"koi_insol_err2\"].values, bins=5, color=\"orange\")\n",
        "plt.axvline(x = np.nanpercentile(missing_error_values_df[\"koi_insol_err2\"].values, 0), color = \"green\", label = \"0th\")\n",
        "plt.axvline(x = np.nanpercentile(missing_error_values_df[\"koi_insol_err2\"].values, 0.1), color = \"maroon\", label = \"0.1th\")\n",
        "plt.axvline(x = np.nanpercentile(missing_error_values_df[\"koi_insol_err2\"].values, 50), color = \"blue\", label = \"50th\")\n",
        "plt.axvline(x = np.nanpercentile(missing_error_values_df[\"koi_insol_err2\"].values, 75), color = \"black\", label = \"75th\")\n",
        "plt.axvline(x = np.nanpercentile(missing_error_values_df[\"koi_insol_err2\"].values, 100), color = \"purple\", label = \"100th\")\n",
        "plt.title(\"Frequency Distribution for Orbital Period Error 1\")\n",
        "plt.legend()\n",
        "plt.show()"
      ],
      "execution_count": 44,
      "outputs": [
        {
          "output_type": "stream",
          "text": [
            "/usr/local/lib/python3.6/dist-packages/numpy/lib/histograms.py:839: RuntimeWarning: invalid value encountered in greater_equal\n",
            "  keep = (tmp_a >= first_edge)\n",
            "/usr/local/lib/python3.6/dist-packages/numpy/lib/histograms.py:840: RuntimeWarning: invalid value encountered in less_equal\n",
            "  keep &= (tmp_a <= last_edge)\n"
          ],
          "name": "stderr"
        },
        {
          "output_type": "display_data",
          "data": {
            "image/png": "[encoded data removed]",
            "text/plain": [
              "<Figure size 432x288 with 1 Axes>"
            ]
          },
          "metadata": {
            "tags": [],
            "needs_background": "light"
          }
        }
      ]
    },
    {
      "cell_type": "code",
      "metadata": {
        "id": "Ho2o-BwWcuBU",
        "colab_type": "code",
        "colab": {}
      },
      "source": [
        "df[\"koi_insol_err2\"].fillna(np.nanpercentile(missing_error_values_df[\"koi_insol_err2\"].values, 0.1), inplace = True)"
      ],
      "execution_count": 45,
      "outputs": []
    },
    {
      "cell_type": "markdown",
      "metadata": {
        "id": "gmatLQwgMSAA",
        "colab_type": "text"
      },
      "source": [
        "## Replacing NaN in Stellar Effective Temperature"
      ]
    },
    {
      "cell_type": "markdown",
      "metadata": {
        "id": "4jtuvHHAc1-B",
        "colab_type": "text"
      },
      "source": [
        "### Viewing Frequency Distribution"
      ]
    },
    {
      "cell_type": "code",
      "metadata": {
        "id": "OyAuI1dVErw7",
        "colab_type": "code",
        "colab": {
          "base_uri": "https://localhost:8080/",
          "height": 299
        },
        "outputId": "78e1e15d-7309-4abf-b819-0b5ac73aad35"
      },
      "source": [
        "plt.scatter(range(missing_error_values_df.shape[0]), missing_error_values_df[\"koi_steff_err1\"].values, label = \"Error 1\")\n",
        "plt.scatter(range(missing_error_values_df.shape[0]), missing_error_values_df[\"koi_steff_err2\"].values, label = \"Error 2\")\n",
        "plt.title(\"Error in Stellar Effective Temperature\")\n",
        "plt.legend()"
      ],
      "execution_count": 46,
      "outputs": [
        {
          "output_type": "execute_result",
          "data": {
            "text/plain": [
              "<matplotlib.legend.Legend at 0x7fb66cd69320>"
            ]
          },
          "metadata": {
            "tags": []
          },
          "execution_count": 46
        },
        {
          "output_type": "display_data",
          "data": {
            "image/png": "[encoded data removed]",
            "text/plain": [
              "<Figure size 432x288 with 1 Axes>"
            ]
          },
          "metadata": {
            "tags": [],
            "needs_background": "light"
          }
        }
      ]
    },
    {
      "cell_type": "markdown",
      "metadata": {
        "id": "Lr7huAFic5te",
        "colab_type": "text"
      },
      "source": [
        "### Positive Error"
      ]
    },
    {
      "cell_type": "code",
      "metadata": {
        "id": "zEvz4aQ2MZBW",
        "colab_type": "code",
        "colab": {
          "base_uri": "https://localhost:8080/",
          "height": 354
        },
        "outputId": "6691de68-1d07-4d40-f51b-767f95a0e576"
      },
      "source": [
        "plt.hist(missing_error_values_df[\"koi_steff_err1\"].values, bins=5, color=\"orange\")\n",
        "plt.axvline(x = np.nanpercentile(missing_error_values_df[\"koi_steff_err1\"].values, 0), color = \"black\", label = \"0th\")\n",
        "plt.axvline(x = np.nanpercentile(missing_error_values_df[\"koi_steff_err1\"].values, 25), color = \"lightblue\", label = \"25th\")\n",
        "plt.axvline(x = np.nanpercentile(missing_error_values_df[\"koi_steff_err1\"].values, 50), color = \"purple\", label = \"50th\")\n",
        "plt.axvline(x = np.nanpercentile(missing_error_values_df[\"koi_steff_err1\"].values, 75), color = \"green\", label = \"75th\")\n",
        "plt.axvline(x = np.nanpercentile(missing_error_values_df[\"koi_steff_err1\"].values, 95), color = \"maroon\", label = \"95th\")\n",
        "plt.axvline(x = np.nanpercentile(missing_error_values_df[\"koi_steff_err1\"].values, 100), color = \"darkgrey\", label = \"100th\")\n",
        "plt.title(\"Frequency Distribution for Orbital Period Error 1\")\n",
        "plt.legend()\n",
        "plt.show()"
      ],
      "execution_count": 47,
      "outputs": [
        {
          "output_type": "stream",
          "text": [
            "/usr/local/lib/python3.6/dist-packages/numpy/lib/histograms.py:839: RuntimeWarning: invalid value encountered in greater_equal\n",
            "  keep = (tmp_a >= first_edge)\n",
            "/usr/local/lib/python3.6/dist-packages/numpy/lib/histograms.py:840: RuntimeWarning: invalid value encountered in less_equal\n",
            "  keep &= (tmp_a <= last_edge)\n"
          ],
          "name": "stderr"
        },
        {
          "output_type": "display_data",
          "data": {
            "image/png": "[encoded data removed]",
            "text/plain": [
              "<Figure size 432x288 with 1 Axes>"
            ]
          },
          "metadata": {
            "tags": [],
            "needs_background": "light"
          }
        }
      ]
    },
    {
      "cell_type": "code",
      "metadata": {
        "id": "32UHCyE0dgbH",
        "colab_type": "code",
        "colab": {}
      },
      "source": [
        "df[\"koi_steff_err1\"].fillna(np.nanpercentile(missing_error_values_df[\"koi_steff_err1\"].values, 95), inplace = True)"
      ],
      "execution_count": 48,
      "outputs": []
    },
    {
      "cell_type": "markdown",
      "metadata": {
        "id": "ElDIPDEMdotb",
        "colab_type": "text"
      },
      "source": [
        "### Negative Error"
      ]
    },
    {
      "cell_type": "code",
      "metadata": {
        "id": "yOvmMpjoMjtC",
        "colab_type": "code",
        "colab": {
          "base_uri": "https://localhost:8080/",
          "height": 354
        },
        "outputId": "4bf102bc-4e90-410d-fcd3-b4ca23a35f2e"
      },
      "source": [
        "plt.hist(missing_error_values_df[\"koi_steff_err2\"].values, bins=5, color=\"orange\")\n",
        "plt.axvline(x = np.nanpercentile(missing_error_values_df[\"koi_steff_err2\"].values, 0), color = \"lightblue\", label = \"0th\")\n",
        "plt.axvline(x = np.nanpercentile(missing_error_values_df[\"koi_steff_err2\"].values, 25), color = \"green\", label = \"25th\")\n",
        "plt.axvline(x = np.nanpercentile(missing_error_values_df[\"koi_steff_err2\"].values, 50), color = \"maroon\", label = \"50th\")\n",
        "plt.axvline(x = np.nanpercentile(missing_error_values_df[\"koi_steff_err2\"].values, 75), color = \"black\", label = \"75th\")\n",
        "plt.axvline(x = np.nanpercentile(missing_error_values_df[\"koi_steff_err2\"].values, 100), color = \"purple\", label = \"100th\")\n",
        "plt.title(\"Frequency Distribution for Orbital Period Error 1\")\n",
        "plt.grid()\n",
        "plt.legend()\n",
        "plt.show()"
      ],
      "execution_count": 49,
      "outputs": [
        {
          "output_type": "stream",
          "text": [
            "/usr/local/lib/python3.6/dist-packages/numpy/lib/histograms.py:839: RuntimeWarning: invalid value encountered in greater_equal\n",
            "  keep = (tmp_a >= first_edge)\n",
            "/usr/local/lib/python3.6/dist-packages/numpy/lib/histograms.py:840: RuntimeWarning: invalid value encountered in less_equal\n",
            "  keep &= (tmp_a <= last_edge)\n"
          ],
          "name": "stderr"
        },
        {
          "output_type": "display_data",
          "data": {
            "image/png": "[encoded data removed]",
            "text/plain": [
              "<Figure size 432x288 with 1 Axes>"
            ]
          },
          "metadata": {
            "tags": [],
            "needs_background": "light"
          }
        }
      ]
    },
    {
      "cell_type": "code",
      "metadata": {
        "id": "MKpkZC2dd2R5",
        "colab_type": "code",
        "colab": {}
      },
      "source": [
        "df[\"koi_steff_err2\"].fillna(np.nanpercentile(missing_error_values_df[\"koi_steff_err2\"].values, 50), inplace = True)"
      ],
      "execution_count": 50,
      "outputs": []
    },
    {
      "cell_type": "markdown",
      "metadata": {
        "id": "JEiLmiEQM0U4",
        "colab_type": "text"
      },
      "source": [
        "## Replacing NaN in Surface Gravity"
      ]
    },
    {
      "cell_type": "markdown",
      "metadata": {
        "id": "-RWwglAIeEpe",
        "colab_type": "text"
      },
      "source": [
        "### Viewing Frequency Distribution"
      ]
    },
    {
      "cell_type": "code",
      "metadata": {
        "id": "piUG-Nq5Erz-",
        "colab_type": "code",
        "colab": {
          "base_uri": "https://localhost:8080/",
          "height": 299
        },
        "outputId": "5707835a-3e74-4e2a-cec5-de6fe2d54201"
      },
      "source": [
        "plt.scatter(range(missing_error_values_df.shape[0]), missing_error_values_df[\"koi_slogg_err1\"].values, label = \"Error 1\")\n",
        "plt.scatter(range(missing_error_values_df.shape[0]), missing_error_values_df[\"koi_slogg_err2\"].values, label = \"Error 2\")\n",
        "plt.title(\"Error in Surface Gravity\")\n",
        "plt.legend()"
      ],
      "execution_count": 51,
      "outputs": [
        {
          "output_type": "execute_result",
          "data": {
            "text/plain": [
              "<matplotlib.legend.Legend at 0x7fb66cea92b0>"
            ]
          },
          "metadata": {
            "tags": []
          },
          "execution_count": 51
        },
        {
          "output_type": "display_data",
          "data": {
            "image/png": "[encoded data removed]",
            "text/plain": [
              "<Figure size 432x288 with 1 Axes>"
            ]
          },
          "metadata": {
            "tags": [],
            "needs_background": "light"
          }
        }
      ]
    },
    {
      "cell_type": "markdown",
      "metadata": {
        "id": "lyvYkSi3eHmt",
        "colab_type": "text"
      },
      "source": [
        "#### Positive Error"
      ]
    },
    {
      "cell_type": "code",
      "metadata": {
        "id": "F3_ljNAyM4Zg",
        "colab_type": "code",
        "colab": {
          "base_uri": "https://localhost:8080/",
          "height": 354
        },
        "outputId": "3ba85799-d680-4d4a-8bd5-474c11816b03"
      },
      "source": [
        "plt.hist(missing_error_values_df[\"koi_slogg_err1\"].values, bins=5, color=\"lightblue\")\n",
        "plt.axvline(x = np.nanpercentile(missing_error_values_df[\"koi_slogg_err1\"].values, 0), color = \"green\", label = \"0th\")\n",
        "plt.axvline(x = np.nanpercentile(missing_error_values_df[\"koi_slogg_err1\"].values, 25), color = \"orange\", label = \"25th\")\n",
        "plt.axvline(x = np.nanpercentile(missing_error_values_df[\"koi_slogg_err1\"].values, 50), color = \"blue\", label = \"50th\")\n",
        "plt.axvline(x = np.nanpercentile(missing_error_values_df[\"koi_slogg_err1\"].values, 75), color = \"red\", label = \"75th\")\n",
        "plt.axvline(x = np.nanpercentile(missing_error_values_df[\"koi_slogg_err1\"].values, 100), color = \"purple\", label = \"100th\")\n",
        "plt.title(\"Frequency Distribution for Orbital Period Error 1\")\n",
        "plt.legend()\n",
        "plt.show()"
      ],
      "execution_count": 52,
      "outputs": [
        {
          "output_type": "stream",
          "text": [
            "/usr/local/lib/python3.6/dist-packages/numpy/lib/histograms.py:839: RuntimeWarning: invalid value encountered in greater_equal\n",
            "  keep = (tmp_a >= first_edge)\n",
            "/usr/local/lib/python3.6/dist-packages/numpy/lib/histograms.py:840: RuntimeWarning: invalid value encountered in less_equal\n",
            "  keep &= (tmp_a <= last_edge)\n"
          ],
          "name": "stderr"
        },
        {
          "output_type": "display_data",
          "data": {
            "image/png": "[encoded data removed]",
            "text/plain": [
              "<Figure size 432x288 with 1 Axes>"
            ]
          },
          "metadata": {
            "tags": [],
            "needs_background": "light"
          }
        }
      ]
    },
    {
      "cell_type": "code",
      "metadata": {
        "id": "_FdJSI-7fZGm",
        "colab_type": "code",
        "colab": {}
      },
      "source": [
        "df[\"koi_slogg_err1\"].fillna(np.nanpercentile(missing_error_values_df[\"koi_slogg_err1\"].values, 75), inplace = True)"
      ],
      "execution_count": 53,
      "outputs": []
    },
    {
      "cell_type": "markdown",
      "metadata": {
        "id": "pR-bxJBjffwy",
        "colab_type": "text"
      },
      "source": [
        "#### Negative Error"
      ]
    },
    {
      "cell_type": "code",
      "metadata": {
        "id": "1NKCb7pNM4cT",
        "colab_type": "code",
        "colab": {
          "base_uri": "https://localhost:8080/",
          "height": 354
        },
        "outputId": "f3c5ebe8-7138-4050-ea35-e7bae10c8e92"
      },
      "source": [
        "plt.hist(missing_error_values_df[\"koi_slogg_err2\"].values, bins=5, color = \"lightblue\")\n",
        "plt.axvline(x = np.nanpercentile(missing_error_values_df[\"koi_slogg_err2\"].values, 0), color = \"green\", label = \"0th\")\n",
        "plt.axvline(x = np.nanpercentile(missing_error_values_df[\"koi_slogg_err2\"].values, 25), color = \"blue\", label = \"25th\")\n",
        "plt.axvline(x = np.nanpercentile(missing_error_values_df[\"koi_slogg_err2\"].values, 55), color = \"red\", label = \"55th\")\n",
        "plt.axvline(x = np.nanpercentile(missing_error_values_df[\"koi_slogg_err2\"].values, 75), color = \"black\", label = \"75th\")\n",
        "plt.axvline(x = np.nanpercentile(missing_error_values_df[\"koi_slogg_err2\"].values, 100), color = \"purple\", label = \"100th\")\n",
        "plt.title(\"Frequency Distribution for Orbital Period Error 1\")\n",
        "plt.legend()\n",
        "plt.show()"
      ],
      "execution_count": 54,
      "outputs": [
        {
          "output_type": "stream",
          "text": [
            "/usr/local/lib/python3.6/dist-packages/numpy/lib/histograms.py:839: RuntimeWarning: invalid value encountered in greater_equal\n",
            "  keep = (tmp_a >= first_edge)\n",
            "/usr/local/lib/python3.6/dist-packages/numpy/lib/histograms.py:840: RuntimeWarning: invalid value encountered in less_equal\n",
            "  keep &= (tmp_a <= last_edge)\n"
          ],
          "name": "stderr"
        },
        {
          "output_type": "display_data",
          "data": {
            "image/png": "[encoded data removed]",
            "text/plain": [
              "<Figure size 432x288 with 1 Axes>"
            ]
          },
          "metadata": {
            "tags": [],
            "needs_background": "light"
          }
        }
      ]
    },
    {
      "cell_type": "code",
      "metadata": {
        "id": "lCY3gL_Rf8cz",
        "colab_type": "code",
        "colab": {}
      },
      "source": [
        "df[\"koi_slogg_err2\"].fillna(np.nanpercentile(missing_error_values_df[\"koi_slogg_err2\"].values, 55), inplace = True)"
      ],
      "execution_count": 55,
      "outputs": []
    },
    {
      "cell_type": "markdown",
      "metadata": {
        "id": "Si4PDfOkNFTm",
        "colab_type": "text"
      },
      "source": [
        "## Replacing NaN in Stellar Radius"
      ]
    },
    {
      "cell_type": "markdown",
      "metadata": {
        "id": "lep4JTtfgZ1v",
        "colab_type": "text"
      },
      "source": [
        "### Viewing Frequency Distribution"
      ]
    },
    {
      "cell_type": "code",
      "metadata": {
        "id": "5Z-xWnGtEr2g",
        "colab_type": "code",
        "colab": {
          "base_uri": "https://localhost:8080/",
          "height": 299
        },
        "outputId": "9dcec5af-31c0-4b2f-d937-717d58d6111a"
      },
      "source": [
        "plt.scatter(range(missing_error_values_df.shape[0]), missing_error_values_df[\"koi_srad_err1\"].values, label = \"Error 1\")\n",
        "plt.scatter(range(missing_error_values_df.shape[0]), missing_error_values_df[\"koi_srad_err2\"].values, label = \"Error 2\")\n",
        "plt.title(\"Error in Stellar Radius\")\n",
        "plt.legend()"
      ],
      "execution_count": 56,
      "outputs": [
        {
          "output_type": "execute_result",
          "data": {
            "text/plain": [
              "<matplotlib.legend.Legend at 0x7fb66d7f6e80>"
            ]
          },
          "metadata": {
            "tags": []
          },
          "execution_count": 56
        },
        {
          "output_type": "display_data",
          "data": {
            "image/png": "[encoded data removed]",
            "text/plain": [
              "<Figure size 432x288 with 1 Axes>"
            ]
          },
          "metadata": {
            "tags": [],
            "needs_background": "light"
          }
        }
      ]
    },
    {
      "cell_type": "markdown",
      "metadata": {
        "id": "-l_z1b4IgesX",
        "colab_type": "text"
      },
      "source": [
        "#### Positive Error"
      ]
    },
    {
      "cell_type": "code",
      "metadata": {
        "id": "jkMhFJCpNJS3",
        "colab_type": "code",
        "colab": {
          "base_uri": "https://localhost:8080/",
          "height": 354
        },
        "outputId": "6a5356cb-d1b3-408e-eb2c-3777ffbd468b"
      },
      "source": [
        "plt.hist(missing_error_values_df[\"koi_srad_err1\"].values, bins=5, color=\"lightblue\")\n",
        "plt.axvline(x = np.nanpercentile(missing_error_values_df[\"koi_srad_err1\"].values, 0), color = \"green\", label = \"0th\")\n",
        "plt.axvline(x = np.nanpercentile(missing_error_values_df[\"koi_srad_err1\"].values, 25), color = \"blue\", label = \"25th\")\n",
        "plt.axvline(x = np.nanpercentile(missing_error_values_df[\"koi_srad_err1\"].values, 50), color = \"yellow\", label = \"50th\")\n",
        "plt.axvline(x = np.nanpercentile(missing_error_values_df[\"koi_srad_err1\"].values, 75), color = \"black\", label = \"75th\")\n",
        "plt.axvline(x = np.nanpercentile(missing_error_values_df[\"koi_srad_err1\"].values, 99.5), color = \"red\", label = \"99.5th\")\n",
        "plt.axvline(x = np.nanpercentile(missing_error_values_df[\"koi_srad_err1\"].values, 100), color = \"purple\", label = \"100th\")\n",
        "plt.title(\"Frequency Distribution for Orbital Period Error 1\")\n",
        "plt.legend()\n",
        "plt.show()"
      ],
      "execution_count": 57,
      "outputs": [
        {
          "output_type": "stream",
          "text": [
            "/usr/local/lib/python3.6/dist-packages/numpy/lib/histograms.py:839: RuntimeWarning: invalid value encountered in greater_equal\n",
            "  keep = (tmp_a >= first_edge)\n",
            "/usr/local/lib/python3.6/dist-packages/numpy/lib/histograms.py:840: RuntimeWarning: invalid value encountered in less_equal\n",
            "  keep &= (tmp_a <= last_edge)\n"
          ],
          "name": "stderr"
        },
        {
          "output_type": "display_data",
          "data": {
            "image/png": "[encoded data removed]",
            "text/plain": [
              "<Figure size 432x288 with 1 Axes>"
            ]
          },
          "metadata": {
            "tags": [],
            "needs_background": "light"
          }
        }
      ]
    },
    {
      "cell_type": "code",
      "metadata": {
        "id": "5_QDX33pg3fB",
        "colab_type": "code",
        "colab": {}
      },
      "source": [
        "df[\"koi_srad_err1\"].fillna(np.nanpercentile(missing_error_values_df[\"koi_srad_err1\"].values, 99.5), inplace = True)"
      ],
      "execution_count": 58,
      "outputs": []
    },
    {
      "cell_type": "markdown",
      "metadata": {
        "id": "UBVlqG10hK6N",
        "colab_type": "text"
      },
      "source": [
        "#### Negative Error"
      ]
    },
    {
      "cell_type": "code",
      "metadata": {
        "id": "DDRErRCdE0N2",
        "colab_type": "code",
        "colab": {
          "base_uri": "https://localhost:8080/",
          "height": 354
        },
        "outputId": "8c3aa4d2-7362-40ec-a98d-1fe2ea15ab6b"
      },
      "source": [
        "plt.hist(missing_error_values_df[\"koi_srad_err2\"].values, bins=5, color=\"lightblue\")\n",
        "plt.axvline(x = np.nanpercentile(missing_error_values_df[\"koi_srad_err2\"].values, 0), color = \"blue\", label = \"0th\")\n",
        "plt.axvline(x = np.nanpercentile(missing_error_values_df[\"koi_srad_err2\"].values, 0.3), color = \"red\", label = \"4th\")\n",
        "plt.axvline(x = np.nanpercentile(missing_error_values_df[\"koi_srad_err2\"].values, 50), color = \"yellow\", label = \"50th\")\n",
        "plt.axvline(x = np.nanpercentile(missing_error_values_df[\"koi_srad_err2\"].values, 75), color = \"black\", label = \"75th\")\n",
        "plt.axvline(x = np.nanpercentile(missing_error_values_df[\"koi_srad_err2\"].values, 100), color = \"purple\", label = \"100th\")\n",
        "plt.title(\"Frequency Distribution for Orbital Period Error 1\")\n",
        "plt.legend()\n",
        "plt.show()"
      ],
      "execution_count": 59,
      "outputs": [
        {
          "output_type": "stream",
          "text": [
            "/usr/local/lib/python3.6/dist-packages/numpy/lib/histograms.py:839: RuntimeWarning: invalid value encountered in greater_equal\n",
            "  keep = (tmp_a >= first_edge)\n",
            "/usr/local/lib/python3.6/dist-packages/numpy/lib/histograms.py:840: RuntimeWarning: invalid value encountered in less_equal\n",
            "  keep &= (tmp_a <= last_edge)\n"
          ],
          "name": "stderr"
        },
        {
          "output_type": "display_data",
          "data": {
            "image/png": "[encoded data removed]",
            "text/plain": [
              "<Figure size 432x288 with 1 Axes>"
            ]
          },
          "metadata": {
            "tags": [],
            "needs_background": "light"
          }
        }
      ]
    },
    {
      "cell_type": "code",
      "metadata": {
        "id": "RhsLCLZwiUU1",
        "colab_type": "code",
        "colab": {}
      },
      "source": [
        "df[\"koi_srad_err2\"].fillna(np.nanpercentile(missing_error_values_df[\"koi_srad_err2\"].values, 03.), inplace = True)"
      ],
      "execution_count": 60,
      "outputs": []
    },
    {
      "cell_type": "markdown",
      "metadata": {
        "id": "sjg2TiSgvfqh",
        "colab_type": "text"
      },
      "source": [
        "* kepler_name: Kepler number name in the form \"Kepler-N,\" plus a lower-case letter, identifying the planet. **In general, these numbers are easier to remember than the corresponding KOI or KIC/KepID designations and are intended to clearly indicate a class of objects that have been CONFIRMED or validated as planets**—a step up from the planet candidate designation. Basically, a simpler KEPOI NAME/ID but only for CONFIRMED planets\n",
        "\n",
        "* koi_score: **A value between 0 and 1 that indicates the confidence in the KOI disposition**. For CANDIDATEs, a higher value indicates more confidence in its disposition, while for FALSE POSITIVEs, a higher value indicates less confidence in that disposition. \n",
        "\n",
        "* koi_impact:\tImpact Parameter - The sky-projected distance between the center of the stellar disc and the center of the planet disc at conjunction, normalized by the stellar radius. \n",
        "\n",
        "* koi_depth: **Transit Depth** - The fraction of stellar flux lost at the minimum of the planetary transit.  \n",
        "\n",
        "* koi_prad: The **radius** of the planet.\n",
        "\n",
        "* koi_teq: Approximation for the **equilibrium temperature** of the planet. \n",
        "\n",
        "* koi_insol: **Insolation flux is another way to give the equilibrium temperature**. It depends on the stellar parameters (specifically the stellar radius and temperature), and on the semi-major axis of the planet.\n",
        "\n",
        "* koi_model_snr: **Transit Signal to Noise** - Transit depth normalized by the mean uncertainty in the flux during the transits.\n",
        "\n",
        "* koi_tce_plnt_num: **TCE Planet Number** federated to the KOI\n",
        "\n",
        "* koi_tce_delivname: **TCE Delivery Name** corresponding to the TCE data federated to the KOI.\n",
        "\n",
        "* koi_steff: **Stellar Effective Temperature** - The photospheric temperature of the star.\n",
        "\n",
        "* koi_kepmag: **Kepler-band magnitude**\n",
        "* koi_srad: **Stellar Radius** - The photospheric radius of the star \n",
        "* koi_slogg: **Stellar Surface Gravity** - The base-10 logarithm of the acceleration due to gravity at the surface of the star. "
      ]
    },
    {
      "cell_type": "code",
      "metadata": {
        "id": "bJKGPNt8jalm",
        "colab_type": "code",
        "colab": {
          "base_uri": "https://localhost:8080/",
          "height": 909
        },
        "outputId": "9466aa90-f64f-42e4-b8c6-5166c9a8f8d7"
      },
      "source": [
        "df.isnull().sum()"
      ],
      "execution_count": 61,
      "outputs": [
        {
          "output_type": "execute_result",
          "data": {
            "text/plain": [
              "rowid                   0\n",
              "kepid                   0\n",
              "kepoi_name              0\n",
              "kepler_name          7270\n",
              "koi_disposition         0\n",
              "koi_pdisposition        0\n",
              "koi_score            1510\n",
              "koi_fpflag_nt           0\n",
              "koi_fpflag_ss           0\n",
              "koi_fpflag_co           0\n",
              "koi_fpflag_ec           0\n",
              "koi_period              0\n",
              "koi_period_err1         0\n",
              "koi_period_err2         0\n",
              "koi_time0bk             0\n",
              "koi_time0bk_err1        0\n",
              "koi_time0bk_err2        0\n",
              "koi_impact            363\n",
              "koi_impact_err1         0\n",
              "koi_impact_err2         0\n",
              "koi_duration            0\n",
              "koi_duration_err1       0\n",
              "koi_duration_err2       0\n",
              "koi_depth             363\n",
              "koi_depth_err1          0\n",
              "koi_depth_err2          0\n",
              "koi_prad              363\n",
              "koi_prad_err1           0\n",
              "koi_prad_err2           0\n",
              "koi_teq               363\n",
              "koi_insol             321\n",
              "koi_insol_err1          0\n",
              "koi_insol_err2          0\n",
              "koi_model_snr         363\n",
              "koi_tce_plnt_num      346\n",
              "koi_tce_delivname     346\n",
              "koi_steff             363\n",
              "koi_steff_err1          0\n",
              "koi_steff_err2          0\n",
              "koi_slogg             363\n",
              "koi_slogg_err1          0\n",
              "koi_slogg_err2          0\n",
              "koi_srad              363\n",
              "koi_srad_err1           0\n",
              "koi_srad_err2           0\n",
              "ra                      0\n",
              "dec                     0\n",
              "koi_kepmag              1\n",
              "dtype: int64"
            ]
          },
          "metadata": {
            "tags": []
          },
          "execution_count": 61
        }
      ]
    },
    {
      "cell_type": "code",
      "metadata": {
        "id": "r_H0hHHYja5g",
        "colab_type": "code",
        "colab": {
          "base_uri": "https://localhost:8080/",
          "height": 53
        },
        "outputId": "9f4cbe84-a16d-4f35-eed2-ca2a2f1bf9bf"
      },
      "source": [
        "(df[\"koi_tce_delivname\"].unique())"
      ],
      "execution_count": 65,
      "outputs": [
        {
          "output_type": "execute_result",
          "data": {
            "text/plain": [
              "array(['q1_q17_dr25_tce', 'q1_q16_tce', nan, 'q1_q17_dr24_tce'],\n",
              "      dtype=object)"
            ]
          },
          "metadata": {
            "tags": []
          },
          "execution_count": 65
        }
      ]
    },
    {
      "cell_type": "code",
      "metadata": {
        "id": "CDaFv18akWro",
        "colab_type": "code",
        "colab": {
          "base_uri": "https://localhost:8080/",
          "height": 35
        },
        "outputId": "45c31500-2f30-4637-eaae-c6182a8a9f2e"
      },
      "source": [
        "(df[\"koi_tce_plnt_num\"].unique())"
      ],
      "execution_count": 66,
      "outputs": [
        {
          "output_type": "execute_result",
          "data": {
            "text/plain": [
              "array([ 1.,  2.,  3., nan,  4.,  5.,  6.,  7.,  8.])"
            ]
          },
          "metadata": {
            "tags": []
          },
          "execution_count": 66
        }
      ]
    },
    {
      "cell_type": "code",
      "metadata": {
        "id": "UHvU08DGkqye",
        "colab_type": "code",
        "colab": {}
      },
      "source": [
        ""
      ],
      "execution_count": null,
      "outputs": []
    }
  ]
}