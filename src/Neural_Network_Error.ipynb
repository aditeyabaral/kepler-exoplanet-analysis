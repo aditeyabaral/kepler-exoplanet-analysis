{
 "cells": [
  {
   "cell_type": "code",
   "execution_count": 1,
   "metadata": {
    "id": "Tfhq9Cc2uEfd",
    "tags": []
   },
   "outputs": [],
   "source": [
    "import numpy as np\n",
    "import pandas as pd\n",
    "from sklearn.preprocessing import StandardScaler\n",
    "import tensorflow as tf\n",
    "from sklearn.model_selection import train_test_split\n",
    "from sklearn.decomposition import PCA\n",
    "from tensorflow import keras \n",
    "from keras import Sequential\n",
    "from keras.layers import Dense\n",
    "import joblib\n",
    "from sklearn.metrics import confusion_matrix, f1_score, classification_report, balanced_accuracy_score, cohen_kappa_score"
   ]
  },
  {
   "cell_type": "code",
   "execution_count": 2,
   "metadata": {
    "id": "wAJIdZ9euEfp"
   },
   "outputs": [],
   "source": [
    "def saveModel(model, filename):\n",
    "    model.save(filename)\n",
    "\n",
    "def loadModel(filename):\n",
    "    model = joblib.load(filename)\n",
    "    return model"
   ]
  },
  {
   "cell_type": "code",
   "execution_count": 3,
   "metadata": {
    "id": "jOxsJWu6uEgC",
    "tags": []
   },
   "outputs": [],
   "source": [
    "df = pd.read_csv(\"../[CLEANED]kepler-data.csv\")\n",
    "df.drop(columns = [\"Unnamed: 0\"], inplace=True)"
   ]
  },
  {
   "cell_type": "code",
   "execution_count": 4,
   "metadata": {
    "id": "WhX_TnO_uEgJ"
   },
   "outputs": [],
   "source": [
    "ALL_COLUMNS = df.columns\n",
    "ERROR_COLUMNS = [col for col in ALL_COLUMNS if \"err\" in col]\n",
    "EXCLUDE = [\"rowid\", \"kepid\", \"kepoi_name\", \"koi_score\", \"koi_disposition\", \"koi_pdisposition\", \"koi_tce_delivname\", \"koi_tce_plnt_num\"] #+ ERROR_COLUMNS\n",
    "TO_USE = list(set(ALL_COLUMNS) - set(EXCLUDE))"
   ]
  },
  {
   "cell_type": "code",
   "execution_count": 5,
   "metadata": {
    "id": "4XOHBGoRuEgP",
    "tags": []
   },
   "outputs": [],
   "source": [
    "subset_df = df[df[\"koi_disposition\"] != \"CANDIDATE\"]"
   ]
  },
  {
   "cell_type": "code",
   "execution_count": 6,
   "metadata": {
    "id": "Wres19PvuEgW"
   },
   "outputs": [],
   "source": [
    "X = subset_df[TO_USE].values\n",
    "y = subset_df[\"koi_disposition\"].apply(lambda x: x=='CONFIRMED').astype(int).values"
   ]
  },
  {
   "cell_type": "code",
   "execution_count": 7,
   "metadata": {
    "id": "qzlI6_9iuEgc"
   },
   "outputs": [],
   "source": [
    "X = StandardScaler().fit_transform(X)\n",
    "X = PCA(n_components=30).fit_transform(X)"
   ]
  },
  {
   "cell_type": "code",
   "execution_count": 8,
   "metadata": {
    "id": "O-fgCEufuEgh"
   },
   "outputs": [],
   "source": [
    "X_train, X_test, y_train, y_test = train_test_split(X, y, test_size = 0.33, random_state = 0, stratify=y)"
   ]
  },
  {
   "cell_type": "code",
   "execution_count": 9,
   "metadata": {
    "id": "q4jU9ktQuEgl",
    "tags": []
   },
   "outputs": [],
   "source": [
    "model = Sequential([\n",
    "                    Dense(128, activation = 'relu'),\n",
    "                    Dense(256, activation = 'relu'),\n",
    "                    Dense(128, activation = 'relu'),\n",
    "                    Dense(1, activation = 'sigmoid')\n",
    "                   ])"
   ]
  },
  {
   "cell_type": "code",
   "execution_count": 10,
   "metadata": {
    "id": "YB2ej2IGuEgr",
    "tags": []
   },
   "outputs": [],
   "source": [
    "model.compile(optimizer = 'adam', loss = 'binary_crossentropy', metrics = ['accuracy'])"
   ]
  },
  {
   "cell_type": "code",
   "execution_count": 11,
   "metadata": {
    "colab": {
     "base_uri": "https://localhost:8080/"
    },
    "id": "puopkFBfuEgx",
    "outputId": "d41a0f09-6f66-4048-f401-19f9bf198f16",
    "tags": []
   },
   "outputs": [
    {
     "name": "stdout",
     "output_type": "stream",
     "text": [
      "Epoch 1/20\n",
      "146/146 [==============================] - 0s 2ms/step - loss: 0.1290 - accuracy: 0.9548\n",
      "Epoch 2/20\n",
      "146/146 [==============================] - 0s 2ms/step - loss: 0.0499 - accuracy: 0.9869\n",
      "Epoch 3/20\n",
      "146/146 [==============================] - 0s 2ms/step - loss: 0.0389 - accuracy: 0.9892\n",
      "Epoch 4/20\n",
      "146/146 [==============================] - 0s 2ms/step - loss: 0.0289 - accuracy: 0.9908\n",
      "Epoch 5/20\n",
      "146/146 [==============================] - 0s 2ms/step - loss: 0.0304 - accuracy: 0.9916\n",
      "Epoch 6/20\n",
      "146/146 [==============================] - 0s 2ms/step - loss: 0.0359 - accuracy: 0.9892\n",
      "Epoch 7/20\n",
      "146/146 [==============================] - 0s 3ms/step - loss: 0.0237 - accuracy: 0.9923\n",
      "Epoch 8/20\n",
      "146/146 [==============================] - 0s 3ms/step - loss: 0.0166 - accuracy: 0.9953\n",
      "Epoch 9/20\n",
      "146/146 [==============================] - 0s 3ms/step - loss: 0.0126 - accuracy: 0.9953\n",
      "Epoch 10/20\n",
      "146/146 [==============================] - 0s 2ms/step - loss: 0.0136 - accuracy: 0.9957\n",
      "Epoch 11/20\n",
      "146/146 [==============================] - 0s 2ms/step - loss: 0.0140 - accuracy: 0.9946\n",
      "Epoch 12/20\n",
      "146/146 [==============================] - 0s 2ms/step - loss: 0.0087 - accuracy: 0.9963\n",
      "Epoch 13/20\n",
      "146/146 [==============================] - 0s 2ms/step - loss: 0.0064 - accuracy: 0.9983\n",
      "Epoch 14/20\n",
      "146/146 [==============================] - 0s 2ms/step - loss: 0.0047 - accuracy: 0.9981\n",
      "Epoch 15/20\n",
      "146/146 [==============================] - 0s 2ms/step - loss: 0.0047 - accuracy: 0.9983\n",
      "Epoch 16/20\n",
      "146/146 [==============================] - 0s 3ms/step - loss: 0.0214 - accuracy: 0.9946\n",
      "Epoch 17/20\n",
      "146/146 [==============================] - 0s 3ms/step - loss: 0.0143 - accuracy: 0.9951\n",
      "Epoch 18/20\n",
      "146/146 [==============================] - 0s 3ms/step - loss: 0.0085 - accuracy: 0.9974\n",
      "Epoch 19/20\n",
      "146/146 [==============================] - 0s 3ms/step - loss: 0.0044 - accuracy: 0.9983\n",
      "Epoch 20/20\n",
      "146/146 [==============================] - 0s 3ms/step - loss: 0.0028 - accuracy: 0.9989\n"
     ]
    },
    {
     "data": {
      "text/plain": [
       "<tensorflow.python.keras.callbacks.History at 0x7fd5a045e710>"
      ]
     },
     "execution_count": 11,
     "metadata": {
      "tags": []
     },
     "output_type": "execute_result"
    }
   ],
   "source": [
    "model.fit(X_train, y_train, epochs = 20)"
   ]
  },
  {
   "cell_type": "code",
   "execution_count": 12,
   "metadata": {
    "id": "qNK9fpCfuEg2"
   },
   "outputs": [],
   "source": [
    "pred = model.predict(X_test)\n",
    "pred = pred >= 0.5"
   ]
  },
  {
   "cell_type": "code",
   "execution_count": 13,
   "metadata": {
    "id": "4KBWWHO6uEg7"
   },
   "outputs": [],
   "source": [
    "def performance(test, pred):\n",
    "    conf_matrix = confusion_matrix(test, pred)\n",
    "    f1 = f1_score(test, pred)\n",
    "    report = classification_report(test, pred)\n",
    "    accuracy = balanced_accuracy_score(test, pred)\n",
    "    kappa = cohen_kappa_score(test, pred)\n",
    "    print(f\"F1 Score: {f1}\")\n",
    "    print(f\"Kappa Score: {kappa}\")\n",
    "    print(f\"Accuracy Score: {accuracy}\")\n",
    "    print(f\"Confusion Matrix:\\n{conf_matrix}\")\n",
    "    print(report)"
   ]
  },
  {
   "cell_type": "code",
   "execution_count": 14,
   "metadata": {
    "colab": {
     "base_uri": "https://localhost:8080/"
    },
    "id": "5EMl1avnuEhB",
    "outputId": "fe880c7b-15c2-4744-aaac-0dd80453a053",
    "tags": []
   },
   "outputs": [
    {
     "name": "stdout",
     "output_type": "stream",
     "text": [
      "F1 Score: 0.9873417721518987\n",
      "Kappa Score: 0.9811714304260337\n",
      "Accuracy Score: 0.9887755841145671\n",
      "Confusion Matrix:\n",
      "[[1530    4]\n",
      " [  15  741]]\n",
      "              precision    recall  f1-score   support\n",
      "\n",
      "           0       0.99      1.00      0.99      1534\n",
      "           1       0.99      0.98      0.99       756\n",
      "\n",
      "    accuracy                           0.99      2290\n",
      "   macro avg       0.99      0.99      0.99      2290\n",
      "weighted avg       0.99      0.99      0.99      2290\n",
      "\n"
     ]
    }
   ],
   "source": [
    "performance(y_test, pred)"
   ]
  },
  {
   "cell_type": "code",
   "execution_count": 15,
   "metadata": {
    "id": "n2TFkQXGuEhF"
   },
   "outputs": [],
   "source": [
    "saveModel(model, \"../model/nn-model-error.h5\")"
   ]
  },
  {
   "cell_type": "code",
   "execution_count": 15,
   "metadata": {
    "id": "CU_G0BK0vBbU"
   },
   "outputs": [],
   "source": []
  }
 ],
 "metadata": {
  "accelerator": "GPU",
  "colab": {
   "name": "NN.ipynb",
   "provenance": []
  },
  "kernelspec": {
   "display_name": "Python 3",
   "language": "python",
   "name": "python3"
  },
  "language_info": {
   "codemirror_mode": {
    "name": "ipython",
    "version": 3
   },
   "file_extension": ".py",
   "mimetype": "text/x-python",
   "name": "python",
   "nbconvert_exporter": "python",
   "pygments_lexer": "ipython3",
   "version": "3.8.3"
  }
 },
 "nbformat": 4,
 "nbformat_minor": 1
}
