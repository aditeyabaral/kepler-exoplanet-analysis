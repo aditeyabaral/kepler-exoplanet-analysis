{
  "nbformat": 4,
  "nbformat_minor": 0,
  "metadata": {
    "kernelspec": {
      "display_name": "Python 3",
      "language": "python",
      "name": "python3"
    },
    "language_info": {
      "codemirror_mode": {
        "name": "ipython",
        "version": 3
      },
      "file_extension": ".py",
      "mimetype": "text/x-python",
      "name": "python",
      "nbconvert_exporter": "python",
      "pygments_lexer": "ipython3",
      "version": "3.7.6"
    },
    "colab": {
      "name": "Data Cleaning.ipynb",
      "provenance": [],
      "collapsed_sections": [],
      "include_colab_link": true
    }
  },
  "cells": [
    {
      "cell_type": "markdown",
      "metadata": {
        "id": "view-in-github",
        "colab_type": "text"
      },
      "source": [
        "<a href=\"https://colab.research.google.com/github/aditeyabaral/kepler-exoplanet-analysis/blob/master/Data_Cleaning.ipynb\" target=\"_parent\"><img src=\"https://colab.research.google.com/assets/colab-badge.svg\" alt=\"Open In Colab\"/></a>"
      ]
    },
    {
      "cell_type": "markdown",
      "metadata": {
        "id": "UR20VBJPuSj0",
        "colab_type": "text"
      },
      "source": [
        "# Importing Libraries"
      ]
    },
    {
      "cell_type": "code",
      "metadata": {
        "id": "BR3Rp5z1uSj3",
        "colab_type": "code",
        "colab": {}
      },
      "source": [
        "import pandas as pd\n",
        "import numpy as np\n",
        "import matplotlib.pyplot as plt\n",
        "import pprint\n",
        "import re"
      ],
      "execution_count": 1,
      "outputs": []
    },
    {
      "cell_type": "markdown",
      "metadata": {
        "id": "lH2XW_hNuSj_",
        "colab_type": "text"
      },
      "source": [
        "# Initialising libraires"
      ]
    },
    {
      "cell_type": "code",
      "metadata": {
        "id": "r2ybFWuluSkD",
        "colab_type": "code",
        "colab": {}
      },
      "source": [
        "pp = pprint.PrettyPrinter(indent = 3)"
      ],
      "execution_count": 2,
      "outputs": []
    },
    {
      "cell_type": "markdown",
      "metadata": {
        "id": "SENGpu_xuSkK",
        "colab_type": "text"
      },
      "source": [
        "# Loading DataFrame"
      ]
    },
    {
      "cell_type": "markdown",
      "metadata": {
        "id": "fk9GB07CuSkM",
        "colab_type": "text"
      },
      "source": [
        "[Dataset URL](https://www.kaggle.com/nasa/kepler-exoplanet-search-results)<br>\n",
        "[Link to Metadata](https://exoplanetarchive.ipac.caltech.edu/docs/API_kepcandidate_columns.html)<br>\n",
        "[Column Name Metadata](https://exoplanetarchive.ipac.caltech.edu/docs/API_keplerstellar_columns.html)"
      ]
    },
    {
      "cell_type": "code",
      "metadata": {
        "id": "wJzdrqMnuSkN",
        "colab_type": "code",
        "colab": {
          "base_uri": "https://localhost:8080/",
          "height": 244
        },
        "outputId": "c99b6a82-1f25-423c-88e9-bf338c4b68ee"
      },
      "source": [
        "df = pd.read_csv(\"kepler-data.csv\")\n",
        "print(df.shape)\n",
        "df.head()"
      ],
      "execution_count": 3,
      "outputs": [
        {
          "output_type": "stream",
          "text": [
            "(9564, 50)\n"
          ],
          "name": "stdout"
        },
        {
          "output_type": "execute_result",
          "data": {
            "text/html": [
              "<div>\n",
              "<style scoped>\n",
              "    .dataframe tbody tr th:only-of-type {\n",
              "        vertical-align: middle;\n",
              "    }\n",
              "\n",
              "    .dataframe tbody tr th {\n",
              "        vertical-align: top;\n",
              "    }\n",
              "\n",
              "    .dataframe thead th {\n",
              "        text-align: right;\n",
              "    }\n",
              "</style>\n",
              "<table border=\"1\" class=\"dataframe\">\n",
              "  <thead>\n",
              "    <tr style=\"text-align: right;\">\n",
              "      <th></th>\n",
              "      <th>rowid</th>\n",
              "      <th>kepid</th>\n",
              "      <th>kepoi_name</th>\n",
              "      <th>kepler_name</th>\n",
              "      <th>koi_disposition</th>\n",
              "      <th>koi_pdisposition</th>\n",
              "      <th>koi_score</th>\n",
              "      <th>koi_fpflag_nt</th>\n",
              "      <th>koi_fpflag_ss</th>\n",
              "      <th>koi_fpflag_co</th>\n",
              "      <th>koi_fpflag_ec</th>\n",
              "      <th>koi_period</th>\n",
              "      <th>koi_period_err1</th>\n",
              "      <th>koi_period_err2</th>\n",
              "      <th>koi_time0bk</th>\n",
              "      <th>koi_time0bk_err1</th>\n",
              "      <th>koi_time0bk_err2</th>\n",
              "      <th>koi_impact</th>\n",
              "      <th>koi_impact_err1</th>\n",
              "      <th>koi_impact_err2</th>\n",
              "      <th>koi_duration</th>\n",
              "      <th>koi_duration_err1</th>\n",
              "      <th>koi_duration_err2</th>\n",
              "      <th>koi_depth</th>\n",
              "      <th>koi_depth_err1</th>\n",
              "      <th>koi_depth_err2</th>\n",
              "      <th>koi_prad</th>\n",
              "      <th>koi_prad_err1</th>\n",
              "      <th>koi_prad_err2</th>\n",
              "      <th>koi_teq</th>\n",
              "      <th>koi_teq_err1</th>\n",
              "      <th>koi_teq_err2</th>\n",
              "      <th>koi_insol</th>\n",
              "      <th>koi_insol_err1</th>\n",
              "      <th>koi_insol_err2</th>\n",
              "      <th>koi_model_snr</th>\n",
              "      <th>koi_tce_plnt_num</th>\n",
              "      <th>koi_tce_delivname</th>\n",
              "      <th>koi_steff</th>\n",
              "      <th>koi_steff_err1</th>\n",
              "      <th>koi_steff_err2</th>\n",
              "      <th>koi_slogg</th>\n",
              "      <th>koi_slogg_err1</th>\n",
              "      <th>koi_slogg_err2</th>\n",
              "      <th>koi_srad</th>\n",
              "      <th>koi_srad_err1</th>\n",
              "      <th>koi_srad_err2</th>\n",
              "      <th>ra</th>\n",
              "      <th>dec</th>\n",
              "      <th>koi_kepmag</th>\n",
              "    </tr>\n",
              "  </thead>\n",
              "  <tbody>\n",
              "    <tr>\n",
              "      <th>0</th>\n",
              "      <td>1</td>\n",
              "      <td>10797460</td>\n",
              "      <td>K00752.01</td>\n",
              "      <td>Kepler-227 b</td>\n",
              "      <td>CONFIRMED</td>\n",
              "      <td>CANDIDATE</td>\n",
              "      <td>1.000</td>\n",
              "      <td>0</td>\n",
              "      <td>0</td>\n",
              "      <td>0</td>\n",
              "      <td>0</td>\n",
              "      <td>9.488036</td>\n",
              "      <td>2.775000e-05</td>\n",
              "      <td>-2.775000e-05</td>\n",
              "      <td>170.538750</td>\n",
              "      <td>0.002160</td>\n",
              "      <td>-0.002160</td>\n",
              "      <td>0.146</td>\n",
              "      <td>0.318</td>\n",
              "      <td>-0.146</td>\n",
              "      <td>2.95750</td>\n",
              "      <td>0.08190</td>\n",
              "      <td>-0.08190</td>\n",
              "      <td>615.8</td>\n",
              "      <td>19.5</td>\n",
              "      <td>-19.5</td>\n",
              "      <td>2.26</td>\n",
              "      <td>0.26</td>\n",
              "      <td>-0.15</td>\n",
              "      <td>793.0</td>\n",
              "      <td>NaN</td>\n",
              "      <td>NaN</td>\n",
              "      <td>93.59</td>\n",
              "      <td>29.45</td>\n",
              "      <td>-16.65</td>\n",
              "      <td>35.8</td>\n",
              "      <td>1.0</td>\n",
              "      <td>q1_q17_dr25_tce</td>\n",
              "      <td>5455.0</td>\n",
              "      <td>81.0</td>\n",
              "      <td>-81.0</td>\n",
              "      <td>4.467</td>\n",
              "      <td>0.064</td>\n",
              "      <td>-0.096</td>\n",
              "      <td>0.927</td>\n",
              "      <td>0.105</td>\n",
              "      <td>-0.061</td>\n",
              "      <td>291.93423</td>\n",
              "      <td>48.141651</td>\n",
              "      <td>15.347</td>\n",
              "    </tr>\n",
              "    <tr>\n",
              "      <th>1</th>\n",
              "      <td>2</td>\n",
              "      <td>10797460</td>\n",
              "      <td>K00752.02</td>\n",
              "      <td>Kepler-227 c</td>\n",
              "      <td>CONFIRMED</td>\n",
              "      <td>CANDIDATE</td>\n",
              "      <td>0.969</td>\n",
              "      <td>0</td>\n",
              "      <td>0</td>\n",
              "      <td>0</td>\n",
              "      <td>0</td>\n",
              "      <td>54.418383</td>\n",
              "      <td>2.479000e-04</td>\n",
              "      <td>-2.479000e-04</td>\n",
              "      <td>162.513840</td>\n",
              "      <td>0.003520</td>\n",
              "      <td>-0.003520</td>\n",
              "      <td>0.586</td>\n",
              "      <td>0.059</td>\n",
              "      <td>-0.443</td>\n",
              "      <td>4.50700</td>\n",
              "      <td>0.11600</td>\n",
              "      <td>-0.11600</td>\n",
              "      <td>874.8</td>\n",
              "      <td>35.5</td>\n",
              "      <td>-35.5</td>\n",
              "      <td>2.83</td>\n",
              "      <td>0.32</td>\n",
              "      <td>-0.19</td>\n",
              "      <td>443.0</td>\n",
              "      <td>NaN</td>\n",
              "      <td>NaN</td>\n",
              "      <td>9.11</td>\n",
              "      <td>2.87</td>\n",
              "      <td>-1.62</td>\n",
              "      <td>25.8</td>\n",
              "      <td>2.0</td>\n",
              "      <td>q1_q17_dr25_tce</td>\n",
              "      <td>5455.0</td>\n",
              "      <td>81.0</td>\n",
              "      <td>-81.0</td>\n",
              "      <td>4.467</td>\n",
              "      <td>0.064</td>\n",
              "      <td>-0.096</td>\n",
              "      <td>0.927</td>\n",
              "      <td>0.105</td>\n",
              "      <td>-0.061</td>\n",
              "      <td>291.93423</td>\n",
              "      <td>48.141651</td>\n",
              "      <td>15.347</td>\n",
              "    </tr>\n",
              "    <tr>\n",
              "      <th>2</th>\n",
              "      <td>3</td>\n",
              "      <td>10811496</td>\n",
              "      <td>K00753.01</td>\n",
              "      <td>NaN</td>\n",
              "      <td>FALSE POSITIVE</td>\n",
              "      <td>FALSE POSITIVE</td>\n",
              "      <td>0.000</td>\n",
              "      <td>0</td>\n",
              "      <td>1</td>\n",
              "      <td>0</td>\n",
              "      <td>0</td>\n",
              "      <td>19.899140</td>\n",
              "      <td>1.494000e-05</td>\n",
              "      <td>-1.494000e-05</td>\n",
              "      <td>175.850252</td>\n",
              "      <td>0.000581</td>\n",
              "      <td>-0.000581</td>\n",
              "      <td>0.969</td>\n",
              "      <td>5.126</td>\n",
              "      <td>-0.077</td>\n",
              "      <td>1.78220</td>\n",
              "      <td>0.03410</td>\n",
              "      <td>-0.03410</td>\n",
              "      <td>10829.0</td>\n",
              "      <td>171.0</td>\n",
              "      <td>-171.0</td>\n",
              "      <td>14.60</td>\n",
              "      <td>3.92</td>\n",
              "      <td>-1.31</td>\n",
              "      <td>638.0</td>\n",
              "      <td>NaN</td>\n",
              "      <td>NaN</td>\n",
              "      <td>39.30</td>\n",
              "      <td>31.04</td>\n",
              "      <td>-10.49</td>\n",
              "      <td>76.3</td>\n",
              "      <td>1.0</td>\n",
              "      <td>q1_q17_dr25_tce</td>\n",
              "      <td>5853.0</td>\n",
              "      <td>158.0</td>\n",
              "      <td>-176.0</td>\n",
              "      <td>4.544</td>\n",
              "      <td>0.044</td>\n",
              "      <td>-0.176</td>\n",
              "      <td>0.868</td>\n",
              "      <td>0.233</td>\n",
              "      <td>-0.078</td>\n",
              "      <td>297.00482</td>\n",
              "      <td>48.134129</td>\n",
              "      <td>15.436</td>\n",
              "    </tr>\n",
              "    <tr>\n",
              "      <th>3</th>\n",
              "      <td>4</td>\n",
              "      <td>10848459</td>\n",
              "      <td>K00754.01</td>\n",
              "      <td>NaN</td>\n",
              "      <td>FALSE POSITIVE</td>\n",
              "      <td>FALSE POSITIVE</td>\n",
              "      <td>0.000</td>\n",
              "      <td>0</td>\n",
              "      <td>1</td>\n",
              "      <td>0</td>\n",
              "      <td>0</td>\n",
              "      <td>1.736952</td>\n",
              "      <td>2.630000e-07</td>\n",
              "      <td>-2.630000e-07</td>\n",
              "      <td>170.307565</td>\n",
              "      <td>0.000115</td>\n",
              "      <td>-0.000115</td>\n",
              "      <td>1.276</td>\n",
              "      <td>0.115</td>\n",
              "      <td>-0.092</td>\n",
              "      <td>2.40641</td>\n",
              "      <td>0.00537</td>\n",
              "      <td>-0.00537</td>\n",
              "      <td>8079.2</td>\n",
              "      <td>12.8</td>\n",
              "      <td>-12.8</td>\n",
              "      <td>33.46</td>\n",
              "      <td>8.50</td>\n",
              "      <td>-2.83</td>\n",
              "      <td>1395.0</td>\n",
              "      <td>NaN</td>\n",
              "      <td>NaN</td>\n",
              "      <td>891.96</td>\n",
              "      <td>668.95</td>\n",
              "      <td>-230.35</td>\n",
              "      <td>505.6</td>\n",
              "      <td>1.0</td>\n",
              "      <td>q1_q17_dr25_tce</td>\n",
              "      <td>5805.0</td>\n",
              "      <td>157.0</td>\n",
              "      <td>-174.0</td>\n",
              "      <td>4.564</td>\n",
              "      <td>0.053</td>\n",
              "      <td>-0.168</td>\n",
              "      <td>0.791</td>\n",
              "      <td>0.201</td>\n",
              "      <td>-0.067</td>\n",
              "      <td>285.53461</td>\n",
              "      <td>48.285210</td>\n",
              "      <td>15.597</td>\n",
              "    </tr>\n",
              "    <tr>\n",
              "      <th>4</th>\n",
              "      <td>5</td>\n",
              "      <td>10854555</td>\n",
              "      <td>K00755.01</td>\n",
              "      <td>Kepler-664 b</td>\n",
              "      <td>CONFIRMED</td>\n",
              "      <td>CANDIDATE</td>\n",
              "      <td>1.000</td>\n",
              "      <td>0</td>\n",
              "      <td>0</td>\n",
              "      <td>0</td>\n",
              "      <td>0</td>\n",
              "      <td>2.525592</td>\n",
              "      <td>3.761000e-06</td>\n",
              "      <td>-3.761000e-06</td>\n",
              "      <td>171.595550</td>\n",
              "      <td>0.001130</td>\n",
              "      <td>-0.001130</td>\n",
              "      <td>0.701</td>\n",
              "      <td>0.235</td>\n",
              "      <td>-0.478</td>\n",
              "      <td>1.65450</td>\n",
              "      <td>0.04200</td>\n",
              "      <td>-0.04200</td>\n",
              "      <td>603.3</td>\n",
              "      <td>16.9</td>\n",
              "      <td>-16.9</td>\n",
              "      <td>2.75</td>\n",
              "      <td>0.88</td>\n",
              "      <td>-0.35</td>\n",
              "      <td>1406.0</td>\n",
              "      <td>NaN</td>\n",
              "      <td>NaN</td>\n",
              "      <td>926.16</td>\n",
              "      <td>874.33</td>\n",
              "      <td>-314.24</td>\n",
              "      <td>40.9</td>\n",
              "      <td>1.0</td>\n",
              "      <td>q1_q17_dr25_tce</td>\n",
              "      <td>6031.0</td>\n",
              "      <td>169.0</td>\n",
              "      <td>-211.0</td>\n",
              "      <td>4.438</td>\n",
              "      <td>0.070</td>\n",
              "      <td>-0.210</td>\n",
              "      <td>1.046</td>\n",
              "      <td>0.334</td>\n",
              "      <td>-0.133</td>\n",
              "      <td>288.75488</td>\n",
              "      <td>48.226200</td>\n",
              "      <td>15.509</td>\n",
              "    </tr>\n",
              "  </tbody>\n",
              "</table>\n",
              "</div>"
            ],
            "text/plain": [
              "   rowid     kepid kepoi_name  ...         ra        dec koi_kepmag\n",
              "0      1  10797460  K00752.01  ...  291.93423  48.141651     15.347\n",
              "1      2  10797460  K00752.02  ...  291.93423  48.141651     15.347\n",
              "2      3  10811496  K00753.01  ...  297.00482  48.134129     15.436\n",
              "3      4  10848459  K00754.01  ...  285.53461  48.285210     15.597\n",
              "4      5  10854555  K00755.01  ...  288.75488  48.226200     15.509\n",
              "\n",
              "[5 rows x 50 columns]"
            ]
          },
          "metadata": {
            "tags": []
          },
          "execution_count": 3
        }
      ]
    },
    {
      "cell_type": "markdown",
      "metadata": {
        "id": "CU5ewXZWuSkT",
        "colab_type": "text"
      },
      "source": [
        "# Counting NaN Values"
      ]
    },
    {
      "cell_type": "code",
      "metadata": {
        "id": "HN2bBXhguSkV",
        "colab_type": "code",
        "colab": {}
      },
      "source": [
        "nan_columns = df.isnull().sum()\n",
        "nan_columns = {col:count for col, count in nan_columns.items() if count >0}"
      ],
      "execution_count": 4,
      "outputs": []
    },
    {
      "cell_type": "code",
      "metadata": {
        "id": "XfvoG5ZauSka",
        "colab_type": "code",
        "colab": {
          "base_uri": "https://localhost:8080/",
          "height": 672
        },
        "outputId": "9adea167-990c-4ed3-e22a-0e7ba6545672"
      },
      "source": [
        "pp.pprint(nan_columns)"
      ],
      "execution_count": 5,
      "outputs": [
        {
          "output_type": "stream",
          "text": [
            "{  'kepler_name': 7270,\n",
            "   'koi_depth': 363,\n",
            "   'koi_depth_err1': 454,\n",
            "   'koi_depth_err2': 454,\n",
            "   'koi_duration_err1': 454,\n",
            "   'koi_duration_err2': 454,\n",
            "   'koi_impact': 363,\n",
            "   'koi_impact_err1': 454,\n",
            "   'koi_impact_err2': 454,\n",
            "   'koi_insol': 321,\n",
            "   'koi_insol_err1': 321,\n",
            "   'koi_insol_err2': 321,\n",
            "   'koi_kepmag': 1,\n",
            "   'koi_model_snr': 363,\n",
            "   'koi_period_err1': 454,\n",
            "   'koi_period_err2': 454,\n",
            "   'koi_prad': 363,\n",
            "   'koi_prad_err1': 363,\n",
            "   'koi_prad_err2': 363,\n",
            "   'koi_score': 1510,\n",
            "   'koi_slogg': 363,\n",
            "   'koi_slogg_err1': 468,\n",
            "   'koi_slogg_err2': 468,\n",
            "   'koi_srad': 363,\n",
            "   'koi_srad_err1': 468,\n",
            "   'koi_srad_err2': 468,\n",
            "   'koi_steff': 363,\n",
            "   'koi_steff_err1': 468,\n",
            "   'koi_steff_err2': 483,\n",
            "   'koi_tce_delivname': 346,\n",
            "   'koi_tce_plnt_num': 346,\n",
            "   'koi_teq': 363,\n",
            "   'koi_teq_err1': 9564,\n",
            "   'koi_teq_err2': 9564,\n",
            "   'koi_time0bk_err1': 454,\n",
            "   'koi_time0bk_err2': 454}\n"
          ],
          "name": "stdout"
        }
      ]
    },
    {
      "cell_type": "markdown",
      "metadata": {
        "id": "IHqZFTZV9ScH",
        "colab_type": "text"
      },
      "source": [
        "We notice that **all the values** in 2 columns are NaN:\n",
        "* koi_teq_err1\n",
        "* koi_teq_err2"
      ]
    },
    {
      "cell_type": "markdown",
      "metadata": {
        "id": "OF2Ka5QH9k4U",
        "colab_type": "text"
      },
      "source": [
        "These attributes correspond to the error in estimating the equilibrium temperature of a planet. Since we cannot approximate their values, we can drop them."
      ]
    },
    {
      "cell_type": "code",
      "metadata": {
        "id": "THKKEzSD9Hum",
        "colab_type": "code",
        "colab": {}
      },
      "source": [
        "df.drop(columns = [\"koi_teq_err1\", \"koi_teq_err2\"], inplace = True)"
      ],
      "execution_count": 6,
      "outputs": []
    },
    {
      "cell_type": "markdown",
      "metadata": {
        "id": "J2Ai03w13U73",
        "colab_type": "text"
      },
      "source": [
        "# Replacing NaN Values"
      ]
    },
    {
      "cell_type": "markdown",
      "metadata": {
        "id": "XaNbcQRAwMNR",
        "colab_type": "text"
      },
      "source": [
        "There are two broad types of NaN values present.\n",
        "* NaN in Error Values - These include the positive and negative error in estimating attributes\n",
        "* NaN in Measurable Attributes - These include missing values in measuring attributes "
      ]
    },
    {
      "cell_type": "markdown",
      "metadata": {
        "id": "oLUUQUoR4IuH",
        "colab_type": "text"
      },
      "source": [
        "## Replacing NaN in Error Values"
      ]
    },
    {
      "cell_type": "markdown",
      "metadata": {
        "id": "7v7T_Pqq4NOI",
        "colab_type": "text"
      },
      "source": [
        "### Finding Error Attributes with NaN"
      ]
    },
    {
      "cell_type": "code",
      "metadata": {
        "id": "Zvkdyc_O407o",
        "colab_type": "code",
        "colab": {
          "base_uri": "https://localhost:8080/",
          "height": 381
        },
        "outputId": "df762961-1ec8-4e8c-cb96-21aaedd54e18"
      },
      "source": [
        "missing_error_attribute_names = [attr for attr in df.columns if \"err\" in attr]\n",
        "pp.pprint(missing_error_attribute_names)"
      ],
      "execution_count": 7,
      "outputs": [
        {
          "output_type": "stream",
          "text": [
            "[  'koi_period_err1',\n",
            "   'koi_period_err2',\n",
            "   'koi_time0bk_err1',\n",
            "   'koi_time0bk_err2',\n",
            "   'koi_impact_err1',\n",
            "   'koi_impact_err2',\n",
            "   'koi_duration_err1',\n",
            "   'koi_duration_err2',\n",
            "   'koi_depth_err1',\n",
            "   'koi_depth_err2',\n",
            "   'koi_prad_err1',\n",
            "   'koi_prad_err2',\n",
            "   'koi_insol_err1',\n",
            "   'koi_insol_err2',\n",
            "   'koi_steff_err1',\n",
            "   'koi_steff_err2',\n",
            "   'koi_slogg_err1',\n",
            "   'koi_slogg_err2',\n",
            "   'koi_srad_err1',\n",
            "   'koi_srad_err2']\n"
          ],
          "name": "stdout"
        }
      ]
    },
    {
      "cell_type": "markdown",
      "metadata": {
        "id": "5j3Ffm_I5vbZ",
        "colab_type": "text"
      },
      "source": [
        "Since these are positive and negative error measures for the corresponding attributes, we can do either of the following \n",
        "* Replace with the mean or median of the attribute errors\n",
        "* Replace with a default value = 0"
      ]
    },
    {
      "cell_type": "markdown",
      "metadata": {
        "id": "S7omgKUh6K6Q",
        "colab_type": "text"
      },
      "source": [
        "### Finding Error Attribute Means and Medians"
      ]
    },
    {
      "cell_type": "markdown",
      "metadata": {
        "id": "UUpE5HhY9JiW",
        "colab_type": "text"
      },
      "source": [
        "Let us first extract a slice of the dataset that contains the error attributes"
      ]
    },
    {
      "cell_type": "code",
      "metadata": {
        "id": "FtCbsuvs6JhU",
        "colab_type": "code",
        "colab": {
          "base_uri": "https://localhost:8080/",
          "height": 244
        },
        "outputId": "560137a8-923a-4c3b-a7fa-b1da67456ac6"
      },
      "source": [
        "missing_error_values_df = df[missing_error_attribute_names].copy()\n",
        "print(missing_error_values_df.shape)\n",
        "missing_error_values_df.head()"
      ],
      "execution_count": 8,
      "outputs": [
        {
          "output_type": "stream",
          "text": [
            "(9564, 20)\n"
          ],
          "name": "stdout"
        },
        {
          "output_type": "execute_result",
          "data": {
            "text/html": [
              "<div>\n",
              "<style scoped>\n",
              "    .dataframe tbody tr th:only-of-type {\n",
              "        vertical-align: middle;\n",
              "    }\n",
              "\n",
              "    .dataframe tbody tr th {\n",
              "        vertical-align: top;\n",
              "    }\n",
              "\n",
              "    .dataframe thead th {\n",
              "        text-align: right;\n",
              "    }\n",
              "</style>\n",
              "<table border=\"1\" class=\"dataframe\">\n",
              "  <thead>\n",
              "    <tr style=\"text-align: right;\">\n",
              "      <th></th>\n",
              "      <th>koi_period_err1</th>\n",
              "      <th>koi_period_err2</th>\n",
              "      <th>koi_time0bk_err1</th>\n",
              "      <th>koi_time0bk_err2</th>\n",
              "      <th>koi_impact_err1</th>\n",
              "      <th>koi_impact_err2</th>\n",
              "      <th>koi_duration_err1</th>\n",
              "      <th>koi_duration_err2</th>\n",
              "      <th>koi_depth_err1</th>\n",
              "      <th>koi_depth_err2</th>\n",
              "      <th>koi_prad_err1</th>\n",
              "      <th>koi_prad_err2</th>\n",
              "      <th>koi_insol_err1</th>\n",
              "      <th>koi_insol_err2</th>\n",
              "      <th>koi_steff_err1</th>\n",
              "      <th>koi_steff_err2</th>\n",
              "      <th>koi_slogg_err1</th>\n",
              "      <th>koi_slogg_err2</th>\n",
              "      <th>koi_srad_err1</th>\n",
              "      <th>koi_srad_err2</th>\n",
              "    </tr>\n",
              "  </thead>\n",
              "  <tbody>\n",
              "    <tr>\n",
              "      <th>0</th>\n",
              "      <td>2.775000e-05</td>\n",
              "      <td>-2.775000e-05</td>\n",
              "      <td>0.002160</td>\n",
              "      <td>-0.002160</td>\n",
              "      <td>0.318</td>\n",
              "      <td>-0.146</td>\n",
              "      <td>0.08190</td>\n",
              "      <td>-0.08190</td>\n",
              "      <td>19.5</td>\n",
              "      <td>-19.5</td>\n",
              "      <td>0.26</td>\n",
              "      <td>-0.15</td>\n",
              "      <td>29.45</td>\n",
              "      <td>-16.65</td>\n",
              "      <td>81.0</td>\n",
              "      <td>-81.0</td>\n",
              "      <td>0.064</td>\n",
              "      <td>-0.096</td>\n",
              "      <td>0.105</td>\n",
              "      <td>-0.061</td>\n",
              "    </tr>\n",
              "    <tr>\n",
              "      <th>1</th>\n",
              "      <td>2.479000e-04</td>\n",
              "      <td>-2.479000e-04</td>\n",
              "      <td>0.003520</td>\n",
              "      <td>-0.003520</td>\n",
              "      <td>0.059</td>\n",
              "      <td>-0.443</td>\n",
              "      <td>0.11600</td>\n",
              "      <td>-0.11600</td>\n",
              "      <td>35.5</td>\n",
              "      <td>-35.5</td>\n",
              "      <td>0.32</td>\n",
              "      <td>-0.19</td>\n",
              "      <td>2.87</td>\n",
              "      <td>-1.62</td>\n",
              "      <td>81.0</td>\n",
              "      <td>-81.0</td>\n",
              "      <td>0.064</td>\n",
              "      <td>-0.096</td>\n",
              "      <td>0.105</td>\n",
              "      <td>-0.061</td>\n",
              "    </tr>\n",
              "    <tr>\n",
              "      <th>2</th>\n",
              "      <td>1.494000e-05</td>\n",
              "      <td>-1.494000e-05</td>\n",
              "      <td>0.000581</td>\n",
              "      <td>-0.000581</td>\n",
              "      <td>5.126</td>\n",
              "      <td>-0.077</td>\n",
              "      <td>0.03410</td>\n",
              "      <td>-0.03410</td>\n",
              "      <td>171.0</td>\n",
              "      <td>-171.0</td>\n",
              "      <td>3.92</td>\n",
              "      <td>-1.31</td>\n",
              "      <td>31.04</td>\n",
              "      <td>-10.49</td>\n",
              "      <td>158.0</td>\n",
              "      <td>-176.0</td>\n",
              "      <td>0.044</td>\n",
              "      <td>-0.176</td>\n",
              "      <td>0.233</td>\n",
              "      <td>-0.078</td>\n",
              "    </tr>\n",
              "    <tr>\n",
              "      <th>3</th>\n",
              "      <td>2.630000e-07</td>\n",
              "      <td>-2.630000e-07</td>\n",
              "      <td>0.000115</td>\n",
              "      <td>-0.000115</td>\n",
              "      <td>0.115</td>\n",
              "      <td>-0.092</td>\n",
              "      <td>0.00537</td>\n",
              "      <td>-0.00537</td>\n",
              "      <td>12.8</td>\n",
              "      <td>-12.8</td>\n",
              "      <td>8.50</td>\n",
              "      <td>-2.83</td>\n",
              "      <td>668.95</td>\n",
              "      <td>-230.35</td>\n",
              "      <td>157.0</td>\n",
              "      <td>-174.0</td>\n",
              "      <td>0.053</td>\n",
              "      <td>-0.168</td>\n",
              "      <td>0.201</td>\n",
              "      <td>-0.067</td>\n",
              "    </tr>\n",
              "    <tr>\n",
              "      <th>4</th>\n",
              "      <td>3.761000e-06</td>\n",
              "      <td>-3.761000e-06</td>\n",
              "      <td>0.001130</td>\n",
              "      <td>-0.001130</td>\n",
              "      <td>0.235</td>\n",
              "      <td>-0.478</td>\n",
              "      <td>0.04200</td>\n",
              "      <td>-0.04200</td>\n",
              "      <td>16.9</td>\n",
              "      <td>-16.9</td>\n",
              "      <td>0.88</td>\n",
              "      <td>-0.35</td>\n",
              "      <td>874.33</td>\n",
              "      <td>-314.24</td>\n",
              "      <td>169.0</td>\n",
              "      <td>-211.0</td>\n",
              "      <td>0.070</td>\n",
              "      <td>-0.210</td>\n",
              "      <td>0.334</td>\n",
              "      <td>-0.133</td>\n",
              "    </tr>\n",
              "  </tbody>\n",
              "</table>\n",
              "</div>"
            ],
            "text/plain": [
              "   koi_period_err1  koi_period_err2  ...  koi_srad_err1  koi_srad_err2\n",
              "0     2.775000e-05    -2.775000e-05  ...          0.105         -0.061\n",
              "1     2.479000e-04    -2.479000e-04  ...          0.105         -0.061\n",
              "2     1.494000e-05    -1.494000e-05  ...          0.233         -0.078\n",
              "3     2.630000e-07    -2.630000e-07  ...          0.201         -0.067\n",
              "4     3.761000e-06    -3.761000e-06  ...          0.334         -0.133\n",
              "\n",
              "[5 rows x 20 columns]"
            ]
          },
          "metadata": {
            "tags": []
          },
          "execution_count": 8
        }
      ]
    },
    {
      "cell_type": "markdown",
      "metadata": {
        "id": "i3rP4yOO_1OZ",
        "colab_type": "text"
      },
      "source": [
        "We can now find the means of the remaining columns"
      ]
    },
    {
      "cell_type": "code",
      "metadata": {
        "id": "B4uJvCYz6h6Q",
        "colab_type": "code",
        "colab": {
          "base_uri": "https://localhost:8080/",
          "height": 108
        },
        "outputId": "1d53b83a-695f-4790-8f0d-d3643b0a298a"
      },
      "source": [
        "error_attribute_means = np.nanmean(missing_error_values_df.values, axis=0)\n",
        "error_attribute_means"
      ],
      "execution_count": 9,
      "outputs": [
        {
          "output_type": "execute_result",
          "data": {
            "text/plain": [
              "array([ 2.14786371e-03, -2.14786371e-03,  9.93256054e-03, -9.93256054e-03,\n",
              "        1.95986060e+00, -3.32557464e-01,  3.39941514e-01, -3.39941514e-01,\n",
              "        1.23197563e+02, -1.23197563e+02,  1.76576839e+01, -3.30233138e+01,\n",
              "        3.75069791e+03, -4.04352237e+03,  1.44635554e+02, -1.62265059e+02,\n",
              "        1.20737907e-01, -1.43160510e-01,  3.62292216e-01, -3.94805959e-01])"
            ]
          },
          "metadata": {
            "tags": []
          },
          "execution_count": 9
        }
      ]
    },
    {
      "cell_type": "code",
      "metadata": {
        "id": "smHpO24P6h87",
        "colab_type": "code",
        "colab": {
          "base_uri": "https://localhost:8080/",
          "height": 90
        },
        "outputId": "c7d14f55-2f52-48b7-8a9e-ea916e95caec"
      },
      "source": [
        "error_attribute_medians = np.nanmedian(missing_error_values_df.values, axis=0)\n",
        "error_attribute_medians"
      ],
      "execution_count": 10,
      "outputs": [
        {
          "output_type": "execute_result",
          "data": {
            "text/plain": [
              "array([ 3.5205e-05, -3.5205e-05,  4.1300e-03, -4.1300e-03,  1.9300e-01,\n",
              "       -2.0700e-01,  1.4200e-01, -1.4200e-01,  2.0750e+01, -2.0750e+01,\n",
              "        5.2000e-01, -3.0000e-01,  7.2830e+01, -4.0260e+01,  1.5700e+02,\n",
              "       -1.6000e+02,  7.0000e-02, -1.2800e-01,  2.5100e-01, -1.1100e-01])"
            ]
          },
          "metadata": {
            "tags": []
          },
          "execution_count": 10
        }
      ]
    },
    {
      "cell_type": "markdown",
      "metadata": {
        "id": "4tFonlMMDx1s",
        "colab_type": "text"
      },
      "source": [
        "There seems to be some difference in the median and mean values, suggesting skewed data for attributes. We might need to plot each and decide when we can take median and when we can take mean"
      ]
    },
    {
      "cell_type": "code",
      "metadata": {
        "id": "IEtLxV1uEIRq",
        "colab_type": "code",
        "colab": {
          "base_uri": "https://localhost:8080/",
          "height": 299
        },
        "outputId": "fb3d6eee-e09f-4e82-c920-c8c633235115"
      },
      "source": [
        "plt.scatter(range(missing_error_values_df.shape[0]), missing_error_values_df[\"koi_period_err1\"].values, label = \"Error 1\")\n",
        "plt.scatter(range(missing_error_values_df.shape[0]), missing_error_values_df[\"koi_period_err2\"].values, label = \"Error 2\")\n",
        "plt.title(\"Error in Orbital Period\")\n",
        "plt.legend()"
      ],
      "execution_count": 11,
      "outputs": [
        {
          "output_type": "execute_result",
          "data": {
            "text/plain": [
              "<matplotlib.legend.Legend at 0x7f3ccc6c1198>"
            ]
          },
          "metadata": {
            "tags": []
          },
          "execution_count": 11
        },
        {
          "output_type": "display_data",
          "data": {
            "image/png": "[encoded data removed]",
            "text/plain": [
              "<Figure size 432x288 with 1 Axes>"
            ]
          },
          "metadata": {
            "tags": [],
            "needs_background": "light"
          }
        }
      ]
    },
    {
      "cell_type": "code",
      "metadata": {
        "id": "7-5O0rsvEJAE",
        "colab_type": "code",
        "colab": {
          "base_uri": "https://localhost:8080/",
          "height": 299
        },
        "outputId": "206d9acd-6cca-4cfe-a45c-35135a935381"
      },
      "source": [
        "plt.scatter(range(missing_error_values_df.shape[0]), missing_error_values_df[\"koi_time0bk_err1\"].values, label = \"Error 1\")\n",
        "plt.scatter(range(missing_error_values_df.shape[0]), missing_error_values_df[\"koi_time0bk_err2\"].values, label = \"Error 2\")\n",
        "plt.title(\"Error in Transit Epoch\")\n",
        "plt.legend()"
      ],
      "execution_count": 12,
      "outputs": [
        {
          "output_type": "execute_result",
          "data": {
            "text/plain": [
              "<matplotlib.legend.Legend at 0x7f3ccc6a7518>"
            ]
          },
          "metadata": {
            "tags": []
          },
          "execution_count": 12
        },
        {
          "output_type": "display_data",
          "data": {
            "image/png": "[encoded data removed]",
            "text/plain": [
              "<Figure size 432x288 with 1 Axes>"
            ]
          },
          "metadata": {
            "tags": [],
            "needs_background": "light"
          }
        }
      ]
    },
    {
      "cell_type": "code",
      "metadata": {
        "id": "MXPADvZzEJV1",
        "colab_type": "code",
        "colab": {
          "base_uri": "https://localhost:8080/",
          "height": 299
        },
        "outputId": "2abac01e-61b8-48cf-8a01-03edf569cabe"
      },
      "source": [
        "plt.scatter(range(missing_error_values_df.shape[0]), missing_error_values_df[\"koi_impact_err1\"].values, label = \"Error 1\")\n",
        "plt.scatter(range(missing_error_values_df.shape[0]), missing_error_values_df[\"koi_impact_err2\"].values, label = \"Error 2\")\n",
        "plt.title(\"Error in Impact Parameter\")\n",
        "plt.legend()"
      ],
      "execution_count": 13,
      "outputs": [
        {
          "output_type": "execute_result",
          "data": {
            "text/plain": [
              "<matplotlib.legend.Legend at 0x7f3ccc5b3780>"
            ]
          },
          "metadata": {
            "tags": []
          },
          "execution_count": 13
        },
        {
          "output_type": "display_data",
          "data": {
            "image/png": "[encoded data removed]",
            "text/plain": [
              "<Figure size 432x288 with 1 Axes>"
            ]
          },
          "metadata": {
            "tags": [],
            "needs_background": "light"
          }
        }
      ]
    },
    {
      "cell_type": "code",
      "metadata": {
        "id": "83lCH5TPEJm5",
        "colab_type": "code",
        "colab": {
          "base_uri": "https://localhost:8080/",
          "height": 299
        },
        "outputId": "35f8750a-d084-4474-edea-3d68964c0304"
      },
      "source": [
        "plt.scatter(range(missing_error_values_df.shape[0]), missing_error_values_df[\"koi_duration_err1\"].values, label = \"Error 1\")\n",
        "plt.scatter(range(missing_error_values_df.shape[0]), missing_error_values_df[\"koi_duration_err2\"].values, label = \"Error 2\")\n",
        "plt.title(\"Error in Transit Duration\")\n",
        "plt.legend()"
      ],
      "execution_count": 14,
      "outputs": [
        {
          "output_type": "execute_result",
          "data": {
            "text/plain": [
              "<matplotlib.legend.Legend at 0x7f3ccc5a1710>"
            ]
          },
          "metadata": {
            "tags": []
          },
          "execution_count": 14
        },
        {
          "output_type": "display_data",
          "data": {
            "image/png": "[encoded data removed]",
            "text/plain": [
              "<Figure size 432x288 with 1 Axes>"
            ]
          },
          "metadata": {
            "tags": [],
            "needs_background": "light"
          }
        }
      ]
    },
    {
      "cell_type": "code",
      "metadata": {
        "id": "Yx_wKOTc6h_F",
        "colab_type": "code",
        "colab": {
          "base_uri": "https://localhost:8080/",
          "height": 299
        },
        "outputId": "5ad2e860-ccd7-4ec6-8c26-eeba57a02a41"
      },
      "source": [
        "plt.scatter(range(missing_error_values_df.shape[0]), missing_error_values_df[\"koi_depth_err1\"].values, label = \"Error 1\")\n",
        "plt.scatter(range(missing_error_values_df.shape[0]), missing_error_values_df[\"koi_depth_err2\"].values, label = \"Error 2\")\n",
        "plt.title(\"Error in Transit Depth\")\n",
        "plt.legend()"
      ],
      "execution_count": 15,
      "outputs": [
        {
          "output_type": "execute_result",
          "data": {
            "text/plain": [
              "<matplotlib.legend.Legend at 0x7f3ccc519cc0>"
            ]
          },
          "metadata": {
            "tags": []
          },
          "execution_count": 15
        },
        {
          "output_type": "display_data",
          "data": {
            "image/png": "[encoded data removed]",
            "text/plain": [
              "<Figure size 432x288 with 1 Axes>"
            ]
          },
          "metadata": {
            "tags": [],
            "needs_background": "light"
          }
        }
      ]
    },
    {
      "cell_type": "code",
      "metadata": {
        "id": "GF0RTN8C6iBk",
        "colab_type": "code",
        "colab": {
          "base_uri": "https://localhost:8080/",
          "height": 299
        },
        "outputId": "c9814138-ecca-4de3-929c-d93e4365ef45"
      },
      "source": [
        "plt.scatter(range(missing_error_values_df.shape[0]), missing_error_values_df[\"koi_prad_err1\"].values, label = \"Error 1\")\n",
        "plt.scatter(range(missing_error_values_df.shape[0]), missing_error_values_df[\"koi_prad_err2\"].values, label = \"Error 2\")\n",
        "plt.title(\"Error in Planet Radius\")\n",
        "plt.legend()"
      ],
      "execution_count": 16,
      "outputs": [
        {
          "output_type": "execute_result",
          "data": {
            "text/plain": [
              "<matplotlib.legend.Legend at 0x7f3ccc006320>"
            ]
          },
          "metadata": {
            "tags": []
          },
          "execution_count": 16
        },
        {
          "output_type": "display_data",
          "data": {
            "image/png": "[encoded data removed]",
            "text/plain": [
              "<Figure size 432x288 with 1 Axes>"
            ]
          },
          "metadata": {
            "tags": [],
            "needs_background": "light"
          }
        }
      ]
    },
    {
      "cell_type": "code",
      "metadata": {
        "id": "1zL1sCDQEruZ",
        "colab_type": "code",
        "colab": {
          "base_uri": "https://localhost:8080/",
          "height": 299
        },
        "outputId": "d86b9308-3450-4bb9-db57-0f31470187cb"
      },
      "source": [
        "plt.scatter(range(missing_error_values_df.shape[0]), missing_error_values_df[\"koi_insol_err1\"].values, label = \"Error 1\")\n",
        "plt.scatter(range(missing_error_values_df.shape[0]), missing_error_values_df[\"koi_insol_err2\"].values, label = \"Error 2\")\n",
        "plt.title(\"Error in Insolation Flux\")\n",
        "plt.legend()"
      ],
      "execution_count": 17,
      "outputs": [
        {
          "output_type": "execute_result",
          "data": {
            "text/plain": [
              "<matplotlib.legend.Legend at 0x7f3ccbf735c0>"
            ]
          },
          "metadata": {
            "tags": []
          },
          "execution_count": 17
        },
        {
          "output_type": "display_data",
          "data": {
            "image/png": "[encoded data removed]",
            "text/plain": [
              "<Figure size 432x288 with 1 Axes>"
            ]
          },
          "metadata": {
            "tags": [],
            "needs_background": "light"
          }
        }
      ]
    },
    {
      "cell_type": "code",
      "metadata": {
        "id": "OyAuI1dVErw7",
        "colab_type": "code",
        "colab": {
          "base_uri": "https://localhost:8080/",
          "height": 299
        },
        "outputId": "c3bdcbe8-9607-4c6c-fc5f-5259c2d2bf98"
      },
      "source": [
        "plt.scatter(range(missing_error_values_df.shape[0]), missing_error_values_df[\"koi_steff_err1\"].values, label = \"Error 1\")\n",
        "plt.scatter(range(missing_error_values_df.shape[0]), missing_error_values_df[\"koi_steff_err2\"].values, label = \"Error 2\")\n",
        "plt.title(\"Error in Stellar Effective Temperature\")\n",
        "plt.legend()"
      ],
      "execution_count": 18,
      "outputs": [
        {
          "output_type": "execute_result",
          "data": {
            "text/plain": [
              "<matplotlib.legend.Legend at 0x7f3ccbee08d0>"
            ]
          },
          "metadata": {
            "tags": []
          },
          "execution_count": 18
        },
        {
          "output_type": "display_data",
          "data": {
            "image/png": "[encoded data removed]",
            "text/plain": [
              "<Figure size 432x288 with 1 Axes>"
            ]
          },
          "metadata": {
            "tags": [],
            "needs_background": "light"
          }
        }
      ]
    },
    {
      "cell_type": "code",
      "metadata": {
        "id": "piUG-Nq5Erz-",
        "colab_type": "code",
        "colab": {
          "base_uri": "https://localhost:8080/",
          "height": 299
        },
        "outputId": "1a51acb6-a8be-49e6-b11f-269c7e4142e8"
      },
      "source": [
        "plt.scatter(range(missing_error_values_df.shape[0]), missing_error_values_df[\"koi_slogg_err1\"].values, label = \"Error 1\")\n",
        "plt.scatter(range(missing_error_values_df.shape[0]), missing_error_values_df[\"koi_slogg_err2\"].values, label = \"Error 2\")\n",
        "plt.title(\"Error in Surface Gravity\")\n",
        "plt.legend()"
      ],
      "execution_count": 19,
      "outputs": [
        {
          "output_type": "execute_result",
          "data": {
            "text/plain": [
              "<matplotlib.legend.Legend at 0x7f3ccbecf518>"
            ]
          },
          "metadata": {
            "tags": []
          },
          "execution_count": 19
        },
        {
          "output_type": "display_data",
          "data": {
            "image/png": "[encoded data removed]",
            "text/plain": [
              "<Figure size 432x288 with 1 Axes>"
            ]
          },
          "metadata": {
            "tags": [],
            "needs_background": "light"
          }
        }
      ]
    },
    {
      "cell_type": "code",
      "metadata": {
        "id": "5Z-xWnGtEr2g",
        "colab_type": "code",
        "colab": {
          "base_uri": "https://localhost:8080/",
          "height": 299
        },
        "outputId": "b0a4b881-920b-476c-9208-d78648b3f9e8"
      },
      "source": [
        "plt.scatter(range(missing_error_values_df.shape[0]), missing_error_values_df[\"koi_srad_err1\"].values, label = \"Error 1\")\n",
        "plt.scatter(range(missing_error_values_df.shape[0]), missing_error_values_df[\"koi_srad_err2\"].values, label = \"Error 2\")\n",
        "plt.title(\"Error in Stellar Radius\")\n",
        "plt.legend()"
      ],
      "execution_count": 20,
      "outputs": [
        {
          "output_type": "execute_result",
          "data": {
            "text/plain": [
              "<matplotlib.legend.Legend at 0x7f3ccbe38860>"
            ]
          },
          "metadata": {
            "tags": []
          },
          "execution_count": 20
        },
        {
          "output_type": "display_data",
          "data": {
            "image/png": "[encoded data removed]",
            "text/plain": [
              "<Figure size 432x288 with 1 Axes>"
            ]
          },
          "metadata": {
            "tags": [],
            "needs_background": "light"
          }
        }
      ]
    },
    {
      "cell_type": "code",
      "metadata": {
        "id": "DDRErRCdE0N2",
        "colab_type": "code",
        "colab": {}
      },
      "source": [
        ""
      ],
      "execution_count": 20,
      "outputs": []
    },
    {
      "cell_type": "markdown",
      "metadata": {
        "id": "sjg2TiSgvfqh",
        "colab_type": "text"
      },
      "source": [
        "* kepler_name: Kepler number name in the form \"Kepler-N,\" plus a lower-case letter, identifying the planet. **In general, these numbers are easier to remember than the corresponding KOI or KIC/KepID designations and are intended to clearly indicate a class of objects that have been CONFIRMED or validated as planets**—a step up from the planet candidate designation. Basically, a simpler KEPOI NAME/ID but only for CONFIRMED planets\n",
        "\n",
        "* koi_score: **A value between 0 and 1 that indicates the confidence in the KOI disposition**. For CANDIDATEs, a higher value indicates more confidence in its disposition, while for FALSE POSITIVEs, a higher value indicates less confidence in that disposition. \n",
        "\n",
        "* koi_impact:\tImpact Parameter - The sky-projected distance between the center of the stellar disc and the center of the planet disc at conjunction, normalized by the stellar radius. \n",
        "\n",
        "* koi_depth: **Transit Depth** - The fraction of stellar flux lost at the minimum of the planetary transit.  \n",
        "\n",
        "* koi_prad: The **radius** of the planet.\n",
        "\n",
        "* koi_teq: Approximation for the **equilibrium temperature** of the planet. \n",
        "\n",
        "* koi_insol: **Insolation flux is another way to give the equilibrium temperature**. It depends on the stellar parameters (specifically the stellar radius and temperature), and on the semi-major axis of the planet.\n",
        "\n",
        "* koi_model_snr: **Transit Signal to Noise** - Transit depth normalized by the mean uncertainty in the flux during the transits.\n",
        "\n",
        "* koi_tce_plnt_num: **TCE Planet Number** federated to the KOI\n",
        "\n",
        "* koi_tce_delivname: **TCE Delivery Name** corresponding to the TCE data federated to the KOI.\n",
        "\n",
        "* koi_steff: **Stellar Effective Temperature** - The photospheric temperature of the star.\n",
        "\n",
        "* koi_kepmag: **Kepler-band magnitude**\n",
        "* koi_srad: **Stellar Radius** - The photospheric radius of the star \n",
        "* koi_slogg: **Stellar Surface Gravity** - The base-10 logarithm of the acceleration due to gravity at the surface of the star. "
      ]
    }
  ]
}